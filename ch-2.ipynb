{
 "cells": [
  {
   "cell_type": "markdown",
   "metadata": {
    "toc": "true"
   },
   "source": [
    "# Table of Contents\n",
    " <p><div class=\"lev2 toc-item\"><a href=\"#2.3.1\" data-toc-modified-id=\"2.3.1-01\"><span class=\"toc-item-num\">0.1&nbsp;&nbsp;</span>2.3.1</a></div><div class=\"lev3 toc-item\"><a href=\"#a.\" data-toc-modified-id=\"a.-011\"><span class=\"toc-item-num\">0.1.1&nbsp;&nbsp;</span>a.</a></div><div class=\"lev3 toc-item\"><a href=\"#b.\" data-toc-modified-id=\"b.-012\"><span class=\"toc-item-num\">0.1.2&nbsp;&nbsp;</span>b.</a></div><div class=\"lev3 toc-item\"><a href=\"#c.\" data-toc-modified-id=\"c.-013\"><span class=\"toc-item-num\">0.1.3&nbsp;&nbsp;</span>c.</a></div><div class=\"lev3 toc-item\"><a href=\"#d.\" data-toc-modified-id=\"d.-014\"><span class=\"toc-item-num\">0.1.4&nbsp;&nbsp;</span>d.</a></div><div class=\"lev3 toc-item\"><a href=\"#e.\" data-toc-modified-id=\"e.-015\"><span class=\"toc-item-num\">0.1.5&nbsp;&nbsp;</span>e.</a></div><div class=\"lev3 toc-item\"><a href=\"#f.\" data-toc-modified-id=\"f.-016\"><span class=\"toc-item-num\">0.1.6&nbsp;&nbsp;</span>f.</a></div><div class=\"lev2 toc-item\"><a href=\"#2.4.1\" data-toc-modified-id=\"2.4.1-02\"><span class=\"toc-item-num\">0.2&nbsp;&nbsp;</span>2.4.1</a></div><div class=\"lev3 toc-item\"><a href=\"#a.\" data-toc-modified-id=\"a.-021\"><span class=\"toc-item-num\">0.2.1&nbsp;&nbsp;</span>a.</a></div><div class=\"lev3 toc-item\"><a href=\"#b.\" data-toc-modified-id=\"b.-022\"><span class=\"toc-item-num\">0.2.2&nbsp;&nbsp;</span>b.</a></div><div class=\"lev3 toc-item\"><a href=\"#c.\" data-toc-modified-id=\"c.-023\"><span class=\"toc-item-num\">0.2.3&nbsp;&nbsp;</span>c.</a></div><div class=\"lev3 toc-item\"><a href=\"#d.\" data-toc-modified-id=\"d.-024\"><span class=\"toc-item-num\">0.2.4&nbsp;&nbsp;</span>d.</a></div><div class=\"lev3 toc-item\"><a href=\"#e.\" data-toc-modified-id=\"e.-025\"><span class=\"toc-item-num\">0.2.5&nbsp;&nbsp;</span>e.</a></div><div class=\"lev3 toc-item\"><a href=\"#f.\" data-toc-modified-id=\"f.-026\"><span class=\"toc-item-num\">0.2.6&nbsp;&nbsp;</span>f.</a></div><div class=\"lev3 toc-item\"><a href=\"#g.\" data-toc-modified-id=\"g.-027\"><span class=\"toc-item-num\">0.2.7&nbsp;&nbsp;</span>g.</a></div>"
   ]
  },
  {
   "cell_type": "markdown",
   "metadata": {},
   "source": [
    "## 2.3.1\n",
    "\n",
    "### a.\n",
    "\n",
    "List all pairs of variables in Figure 2.5, that are independent conditional on the set $Z=\\{R,V\\}$"
   ]
  },
  {
   "cell_type": "markdown",
   "metadata": {},
   "source": [
    "| Pair | Status | Reason |\n",
    "|------|--|--|\n",
    "| $U,Y$  | Definitely independent | Only path $U \\leftarrow V \\rightarrow Y$) is blocked by conditioning on $V$. |\n",
    "| $Y,T$  | Definitely independent | Only path $T \\leftarrow U \\leftarrow V \\rightarrow Y$ is blocked by conditioning on $V$. |\n",
    "| $X,T$  | Definitely independent | Only path $X \\rightarrow R \\rightarrow S \\rightarrow T$ is blocked by conditioning on $R$.   |\n",
    "| $X,Y$  | Definitely independent | Only path $X \\rightarrow R \\rightarrow S \\rightarrow T \\leftarrow U \\leftarrow V \\rightarrow Y$ is blocked by NOT conditioning on collider $T$. |\n",
    "| $X,U$  | Definitely independent | Only path $X \\rightarrow R \\rightarrow S \\rightarrow T \\leftarrow U$ is blocked by NOT conditioning on collider $T$. |\n",
    "| $U,S$  | Definitely independent | Only path $S \\rightarrow T \\leftarrow U$ is blocked by NOT conditioning on collider $T$. |\n",
    "| $X,S$  | Definitely independent | Only path $X \\rightarrow R \\rightarrow S$ is blocked by conditioning on $R$.  |\n",
    "| $S,Y$  | Definitely independent | Only path $S \\rightarrow T \\leftarrow U \\leftarrow V \\rightarrow Y$ is blocked by conditioning on $V$.  |"
   ]
  },
  {
   "cell_type": "markdown",
   "metadata": {},
   "source": [
    "### b. \n",
    "\n",
    "For each pair of nonadjacent variables in Figure 2.5, give a set of variables that, when conditioned on, renders that pair independent."
   ]
  },
  {
   "cell_type": "markdown",
   "metadata": {},
   "source": [
    "| Non-adjacent Pair | Set | Reason |\n",
    "|-------------------|------------------|--------|\n",
    "| X, S | \\{R\\} | Only path $X \\rightarrow R \\rightarrow S$ is blocked by conditioning on $R$ |\n",
    "| X, T | \\{R\\} | Only path $X \\rightarrow R \\rightarrow S \\rightarrow T$ is blocked by conditioning on $R$ |\n",
    "| X, U | \\{\\} | Only path $X \\rightarrow R \\rightarrow S \\rightarrow T \\leftarrow U$ is blocked by NOT conditioning on collider $T$. |\n",
    "| X, Y | \\{\\} | Only path $X \\rightarrow R \\rightarrow S \\rightarrow T \\leftarrow U \\leftarrow V \\rightarrow Y$ is blocked by NOT conditioning on collider $T$. |\n",
    "| R, T | \\{S\\} | Only path $R \\rightarrow S \\rightarrow T$ is blocked by NOT conditioning on $T$ |\n",
    "| R, U | \\{\\} | Only path $R \\rightarrow S \\rightarrow T \\leftarrow U$ is blocked by NOT conditioning on $T$ |\n",
    "| R, V | \\{\\} | Only path $R \\rightarrow S \\rightarrow T \\leftarrow U \\leftarrow V$ is blocked by NOT conditioning on $T$ |\n",
    "| R, Y | \\{\\} | Only path $R \\rightarrow S \\rightarrow T \\leftarrow U \\leftarrow V \\rightarrow Y$ is blocked by NOT conditioning on $T$ |\n",
    "| S, U | \\{\\} | Only path $S \\rightarrow T \\leftarrow U$ is blocked by NOT conditioning on collider $T$. |\n",
    "| S, V | \\{\\} | Only path $S \\rightarrow T \\leftarrow U \\leftarrow V$ is blocked by NOT conditioning on collider $T$. |\n",
    "| S, Y | \\{\\} | Only path $S \\rightarrow T \\leftarrow U \\leftarrow V \\rightarrow Y$ is blocked by NOT conditioning on collider $T$. |\n",
    "| T, V | \\{U\\} | Only path $T \\leftarrow U \\leftarrow V$ is blocked by conditioning on $U$. |\n",
    "| T, Y | \\{U\\} | Only path $T \\leftarrow U \\leftarrow V \\rightarrow Y$ is blocked by conditioning on $U$. |\n",
    "| U, Y | \\{V\\} | Only path $U \\leftarrow V \\rightarrow Y$ is blocked by conditioning on $V$. |\n"
   ]
  },
  {
   "cell_type": "markdown",
   "metadata": {},
   "source": [
    "### c.\n",
    "\n",
    "List all pairs of variables in Figure 2.6 that are independent conditional on the set $Z=\\{R,P\\}$."
   ]
  },
  {
   "cell_type": "markdown",
   "metadata": {},
   "source": [
    "| Pair | Reason |\n",
    "|------|--|--|\n",
    "| $X,S$  | Only path $X \\rightarrow R \\rightarrow S$ is blocked by conditioning on $R$. |\n",
    "| $X,T$ | Only path $X \\rightarrow R \\rightarrow S$ is blocked by conditioning on $R$. |\n",
    "| $X,U$  | Only path $X \\rightarrow R \\rightarrow S \\rightarrow T \\leftarrow U$ is blocked by $R$.|\n",
    "| $X,V$  | Only path $X \\rightarrow R \\rightarrow S \\rightarrow T \\leftarrow U \\leftarrow V$ is blocked by $R$.|\n",
    "| $X,Y$  | Only path $X \\rightarrow R \\rightarrow S \\rightarrow T \\leftarrow U \\leftarrow V \\rightarrow Y$ is blocked by $R$.|\n",
    "\n",
    "\n",
    "\n",
    "All the other pairs are dependent on each other, because we are conditioning on $P$, a descendant of a collider $T$, and there's nothing else blocking the dependence that results from that.\n"
   ]
  },
  {
   "cell_type": "markdown",
   "metadata": {},
   "source": [
    "### d.\n",
    "\n",
    "For each pair of nonadjacent variables in Figure 2.6, give a set of variables that, when conditioned on, renders that pair independent."
   ]
  },
  {
   "cell_type": "markdown",
   "metadata": {},
   "source": [
    "| non-adjacent pair | conditioning set | \n",
    "|-------------------|------------------|\n",
    "| X,S | \\{R\\} |\n",
    "| X,T | \\{R\\}, \\{S\\} |\n",
    "| X,P | \\{R\\}, \\{S\\}, \\{T\\} |\n",
    "| X,U | \\{\\} |\n",
    "| X,V | \\{\\} |\n",
    "| X,Y | \\{\\} |\n",
    "| R,T | \\{S\\} |\n",
    "| R,P | \\{S\\}, \\{T\\} |\n",
    "| R,U | \\{\\} |\n",
    "| R,V | \\{\\} |\n",
    "| R,Y | \\{\\} |\n",
    "| S,P | \\{T\\} |\n",
    "| S,U | \\{\\} |\n",
    "| S,V | \\{\\} |\n",
    "| S,Y | \\{\\} |\n",
    "| T,V | \\{U\\} |\n",
    "| T,Y | \\{U\\}, \\{V\\} |\n",
    "| U,P | \\{T\\} |\n",
    "| U,Y | \\{V\\} |\n",
    "| P,V | \\{U\\}, \\{T\\} |\n",
    "| P,Y | \\{U\\}, \\{V\\}, \\{T\\} |\n"
   ]
  },
  {
   "cell_type": "markdown",
   "metadata": {},
   "source": [
    "### e.\n",
    "\n",
    "Suppose we generate data by the model described in Figure 2.5, and we fit them with the linear equation $Y = a + bX + cZ$. Which of the variables in the model may be chosen for $Z$ so as to guarantee that the slope $b$ would be equal to zero? [Hint: Recall, a non zero slope implies that $Y$ and $X$ are dependent given $Z$.]"
   ]
  },
  {
   "cell_type": "markdown",
   "metadata": {},
   "source": [
    "_This question is essentially asking what to condition on such that $X$ and $Y$ become independent. $X$ and $Y$ are already independent, given the presence of collider node $T$, so we don't need to condition on anything. However, if we must, we could condition on $R$, $S$, $U$, $V$, or even $X$. Conditioning on any of them is not necessary, but will guarantee that the slope $b$ would be equal to zero._"
   ]
  },
  {
   "cell_type": "markdown",
   "metadata": {},
   "source": [
    "### f. \n",
    "\n",
    "Continuing question (e), suppose we fit the data with the equation:\n",
    "\n",
    "$$ Y = a + bX + cR + dS + eT + fP $$\n",
    "\n",
    "which of the coefficients would be zero?"
   ]
  },
  {
   "cell_type": "markdown",
   "metadata": {},
   "source": [
    "_Path between $Y$ and $P$ is unblocked when not conditioning on anything. However, after conditioning on $T$, the path is blocked so we can expect the coefficient of $f$ to be 0. Conditioning on $T$ makes $Y$ be dependent on $S$, so $d$ won't be 0. Since we're conditioning on $S$, the path from $R$ to $Y$ is blocked, so $b$ will be 0. Likewise, since we're conditioning on $R$, $S$, the path from $X$ to $Y$ is also blocked. Therefore, $b$ will be 0._"
   ]
  },
  {
   "cell_type": "markdown",
   "metadata": {},
   "source": [
    "## 2.4.1    \n",
    "\n",
    "Figure 2.9 below represents a causal graph from which the error terms have been deleted. Assume that all those errors are mutually independent."
   ]
  },
  {
   "cell_type": "markdown",
   "metadata": {},
   "source": [
    "### a.\n",
    "\n",
    "For each pair of nonadjacent nodes in this graph, find a set of variables that $d$-separates that pair. What does this list tell us about independencies in the data?"
   ]
  },
  {
   "cell_type": "markdown",
   "metadata": {},
   "source": [
    "### b.\n",
    "\n",
    "Repeat question (a) assuming that only variables in the set ${Z_3, W, X, Z_1}$ can be measured."
   ]
  },
  {
   "cell_type": "markdown",
   "metadata": {},
   "source": [
    "### c.\n",
    "\n",
    "For each pair of nonadjacent nodes in the graph, determine whether they are independent conditional on all other variables."
   ]
  },
  {
   "cell_type": "markdown",
   "metadata": {},
   "source": [
    "### d.\n",
    "\n",
    "For every variable $V$ in the graph, find a minimal set of nodes that renders $V$ independent of all other variables in the graph."
   ]
  },
  {
   "cell_type": "markdown",
   "metadata": {},
   "source": [
    "### e.\n",
    "\n",
    "Suppose we wish to estimate the value of $Y$ from measurements taken on all other variables in the model. Find the smallest set of variables that would yield as good an estimate of $Y$ as when we measured all variables."
   ]
  },
  {
   "cell_type": "markdown",
   "metadata": {},
   "source": [
    "### f.\n",
    "\n",
    "Repeat question (e) assuming that we wish to estimate the value of $Z_2$."
   ]
  },
  {
   "cell_type": "markdown",
   "metadata": {},
   "source": [
    "### g.\n",
    "\n",
    "Suppose we wish to predict the value of $Z_2$ from measurements of $Z_3$. Would the quality of our prediction improve if we add measurement of $W$? Explain."
   ]
  },
  {
   "cell_type": "code",
   "execution_count": null,
   "metadata": {},
   "outputs": [],
   "source": []
  }
 ],
 "metadata": {
  "kernelspec": {
   "display_name": "Python 3",
   "language": "python",
   "name": "python3"
  },
  "language_info": {
   "codemirror_mode": {
    "name": "ipython",
    "version": 3
   },
   "file_extension": ".py",
   "mimetype": "text/x-python",
   "name": "python",
   "nbconvert_exporter": "python",
   "pygments_lexer": "ipython3",
   "version": "3.6.0"
  },
  "toc": {
   "colors": {
    "hover_highlight": "#DAA520",
    "navigate_num": "#000000",
    "navigate_text": "#333333",
    "running_highlight": "#FF0000",
    "selected_highlight": "#FFD700",
    "sidebar_border": "#EEEEEE",
    "wrapper_background": "#FFFFFF"
   },
   "moveMenuLeft": true,
   "nav_menu": {
    "height": "162px",
    "width": "254px"
   },
   "navigate_menu": true,
   "number_sections": false,
   "sideBar": true,
   "threshold": "5",
   "toc_cell": true,
   "toc_section_display": "block",
   "toc_window_display": true,
   "widenNotebook": false
  }
 },
 "nbformat": 4,
 "nbformat_minor": 2
}
