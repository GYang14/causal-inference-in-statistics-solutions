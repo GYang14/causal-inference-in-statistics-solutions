{
 "cells": [
  {
   "cell_type": "code",
   "execution_count": 1,
   "metadata": {},
   "outputs": [],
   "source": [
    "from IPython.core.debugger import set_trace\n",
    "import itertools\n",
    "from itertools import chain"
   ]
  },
  {
   "cell_type": "markdown",
   "metadata": {
    "toc": "true"
   },
   "source": [
    "# Table of Contents\n",
    " <p><div class=\"lev2 toc-item\"><a href=\"#2.3.1\" data-toc-modified-id=\"2.3.1-01\"><span class=\"toc-item-num\">0.1&nbsp;&nbsp;</span>2.3.1</a></div><div class=\"lev3 toc-item\"><a href=\"#a.\" data-toc-modified-id=\"a.-011\"><span class=\"toc-item-num\">0.1.1&nbsp;&nbsp;</span>a.</a></div><div class=\"lev3 toc-item\"><a href=\"#b.\" data-toc-modified-id=\"b.-012\"><span class=\"toc-item-num\">0.1.2&nbsp;&nbsp;</span>b.</a></div><div class=\"lev3 toc-item\"><a href=\"#c.\" data-toc-modified-id=\"c.-013\"><span class=\"toc-item-num\">0.1.3&nbsp;&nbsp;</span>c.</a></div><div class=\"lev3 toc-item\"><a href=\"#d.\" data-toc-modified-id=\"d.-014\"><span class=\"toc-item-num\">0.1.4&nbsp;&nbsp;</span>d.</a></div><div class=\"lev3 toc-item\"><a href=\"#e.\" data-toc-modified-id=\"e.-015\"><span class=\"toc-item-num\">0.1.5&nbsp;&nbsp;</span>e.</a></div><div class=\"lev3 toc-item\"><a href=\"#f.\" data-toc-modified-id=\"f.-016\"><span class=\"toc-item-num\">0.1.6&nbsp;&nbsp;</span>f.</a></div><div class=\"lev2 toc-item\"><a href=\"#Python-Code\" data-toc-modified-id=\"Python-Code-02\"><span class=\"toc-item-num\">0.2&nbsp;&nbsp;</span>Python Code</a></div><div class=\"lev3 toc-item\"><a href=\"#Node\" data-toc-modified-id=\"Node-021\"><span class=\"toc-item-num\">0.2.1&nbsp;&nbsp;</span>Node</a></div><div class=\"lev3 toc-item\"><a href=\"#Paths\" data-toc-modified-id=\"Paths-022\"><span class=\"toc-item-num\">0.2.2&nbsp;&nbsp;</span>Paths</a></div><div class=\"lev3 toc-item\"><a href=\"#Nodes\" data-toc-modified-id=\"Nodes-023\"><span class=\"toc-item-num\">0.2.3&nbsp;&nbsp;</span>Nodes</a></div><div class=\"lev3 toc-item\"><a href=\"#NodePair\" data-toc-modified-id=\"NodePair-024\"><span class=\"toc-item-num\">0.2.4&nbsp;&nbsp;</span>NodePair</a></div><div class=\"lev3 toc-item\"><a href=\"#Graph\" data-toc-modified-id=\"Graph-025\"><span class=\"toc-item-num\">0.2.5&nbsp;&nbsp;</span>Graph</a></div><div class=\"lev3 toc-item\"><a href=\"#PathGenerator\" data-toc-modified-id=\"PathGenerator-026\"><span class=\"toc-item-num\">0.2.6&nbsp;&nbsp;</span>PathGenerator</a></div><div class=\"lev3 toc-item\"><a href=\"#PathNode\" data-toc-modified-id=\"PathNode-027\"><span class=\"toc-item-num\">0.2.7&nbsp;&nbsp;</span>PathNode</a></div><div class=\"lev3 toc-item\"><a href=\"#ConditionalIndependence\" data-toc-modified-id=\"ConditionalIndependence-028\"><span class=\"toc-item-num\">0.2.8&nbsp;&nbsp;</span>ConditionalIndependence</a></div><div class=\"lev3 toc-item\"><a href=\"#Path\" data-toc-modified-id=\"Path-029\"><span class=\"toc-item-num\">0.2.9&nbsp;&nbsp;</span>Path</a></div><div class=\"lev3 toc-item\"><a href=\"#Examples\" data-toc-modified-id=\"Examples-0210\"><span class=\"toc-item-num\">0.2.10&nbsp;&nbsp;</span>Examples</a></div><div class=\"lev2 toc-item\"><a href=\"#2.4.1\" data-toc-modified-id=\"2.4.1-03\"><span class=\"toc-item-num\">0.3&nbsp;&nbsp;</span>2.4.1</a></div><div class=\"lev3 toc-item\"><a href=\"#a.\" data-toc-modified-id=\"a.-031\"><span class=\"toc-item-num\">0.3.1&nbsp;&nbsp;</span>a.</a></div><div class=\"lev3 toc-item\"><a href=\"#b.\" data-toc-modified-id=\"b.-032\"><span class=\"toc-item-num\">0.3.2&nbsp;&nbsp;</span>b.</a></div><div class=\"lev3 toc-item\"><a href=\"#c.\" data-toc-modified-id=\"c.-033\"><span class=\"toc-item-num\">0.3.3&nbsp;&nbsp;</span>c.</a></div><div class=\"lev3 toc-item\"><a href=\"#d.\" data-toc-modified-id=\"d.-034\"><span class=\"toc-item-num\">0.3.4&nbsp;&nbsp;</span>d.</a></div><div class=\"lev3 toc-item\"><a href=\"#e.\" data-toc-modified-id=\"e.-035\"><span class=\"toc-item-num\">0.3.5&nbsp;&nbsp;</span>e.</a></div><div class=\"lev3 toc-item\"><a href=\"#f.\" data-toc-modified-id=\"f.-036\"><span class=\"toc-item-num\">0.3.6&nbsp;&nbsp;</span>f.</a></div><div class=\"lev3 toc-item\"><a href=\"#g.\" data-toc-modified-id=\"g.-037\"><span class=\"toc-item-num\">0.3.7&nbsp;&nbsp;</span>g.</a></div>"
   ]
  },
  {
   "cell_type": "markdown",
   "metadata": {},
   "source": [
    "## 2.3.1\n",
    "\n",
    "### a.\n",
    "\n",
    "List all pairs of variables in Figure 2.5, that are independent conditional on the set $Z=\\{R,V\\}$"
   ]
  },
  {
   "cell_type": "markdown",
   "metadata": {},
   "source": [
    "| Pair | Status | Reason |\n",
    "|------|--|--|\n",
    "| $U,Y$  | Definitely independent | Only path $U \\leftarrow V \\rightarrow Y$ is blocked by conditioning on $V$. |\n",
    "| $Y,T$  | Definitely independent | Only path $T \\leftarrow U \\leftarrow V \\rightarrow Y$ is blocked by conditioning on $V$. |\n",
    "| $X,T$  | Definitely independent | Only path $X \\rightarrow R \\rightarrow S \\rightarrow T$ is blocked by conditioning on $R$.   |\n",
    "| $X,Y$  | Definitely independent | Only path $X \\rightarrow R \\rightarrow S \\rightarrow T \\leftarrow U \\leftarrow V \\rightarrow Y$ is blocked by NOT conditioning on collider $T$. |\n",
    "| $X,U$  | Definitely independent | Only path $X \\rightarrow R \\rightarrow S \\rightarrow T \\leftarrow U$ is blocked by NOT conditioning on collider $T$. |\n",
    "| $U,S$  | Definitely independent | Only path $S \\rightarrow T \\leftarrow U$ is blocked by NOT conditioning on collider $T$. |\n",
    "| $X,S$  | Definitely independent | Only path $X \\rightarrow R \\rightarrow S$ is blocked by conditioning on $R$.  |\n",
    "| $S,Y$  | Definitely independent | Only path $S \\rightarrow T \\leftarrow U \\leftarrow V \\rightarrow Y$ is blocked by conditioning on $V$.  |"
   ]
  },
  {
   "cell_type": "markdown",
   "metadata": {},
   "source": [
    "### b. \n",
    "\n",
    "For each pair of nonadjacent variables in Figure 2.5, give a set of variables that, when conditioned on, renders that pair independent."
   ]
  },
  {
   "cell_type": "markdown",
   "metadata": {},
   "source": [
    "| Non-adjacent Pair | Set | Reason |\n",
    "|-------------------|------------------|--------|\n",
    "| X, S | \\{R\\} | Only path $X \\rightarrow R \\rightarrow S$ is blocked by conditioning on $R$ |\n",
    "| X, T | \\{R\\} | Only path $X \\rightarrow R \\rightarrow S \\rightarrow T$ is blocked by conditioning on $R$ |\n",
    "| X, U | \\{\\} | Only path $X \\rightarrow R \\rightarrow S \\rightarrow T \\leftarrow U$ is blocked by NOT conditioning on collider $T$. |\n",
    "| X, Y | \\{\\} | Only path $X \\rightarrow R \\rightarrow S \\rightarrow T \\leftarrow U \\leftarrow V \\rightarrow Y$ is blocked by NOT conditioning on collider $T$. |\n",
    "| R, T | \\{S\\} | Only path $R \\rightarrow S \\rightarrow T$ is blocked by NOT conditioning on $T$ |\n",
    "| R, U | \\{\\} | Only path $R \\rightarrow S \\rightarrow T \\leftarrow U$ is blocked by NOT conditioning on $T$ |\n",
    "| R, V | \\{\\} | Only path $R \\rightarrow S \\rightarrow T \\leftarrow U \\leftarrow V$ is blocked by NOT conditioning on $T$ |\n",
    "| R, Y | \\{\\} | Only path $R \\rightarrow S \\rightarrow T \\leftarrow U \\leftarrow V \\rightarrow Y$ is blocked by NOT conditioning on $T$ |\n",
    "| S, U | \\{\\} | Only path $S \\rightarrow T \\leftarrow U$ is blocked by NOT conditioning on collider $T$. |\n",
    "| S, V | \\{\\} | Only path $S \\rightarrow T \\leftarrow U \\leftarrow V$ is blocked by NOT conditioning on collider $T$. |\n",
    "| S, Y | \\{\\} | Only path $S \\rightarrow T \\leftarrow U \\leftarrow V \\rightarrow Y$ is blocked by NOT conditioning on collider $T$. |\n",
    "| T, V | \\{U\\} | Only path $T \\leftarrow U \\leftarrow V$ is blocked by conditioning on $U$. |\n",
    "| T, Y | \\{U\\} | Only path $T \\leftarrow U \\leftarrow V \\rightarrow Y$ is blocked by conditioning on $U$. |\n",
    "| U, Y | \\{V\\} | Only path $U \\leftarrow V \\rightarrow Y$ is blocked by conditioning on $V$. |\n"
   ]
  },
  {
   "cell_type": "markdown",
   "metadata": {},
   "source": [
    "### c.\n",
    "\n",
    "List all pairs of variables in Figure 2.6 that are independent conditional on the set $Z=\\{R,P\\}$."
   ]
  },
  {
   "cell_type": "markdown",
   "metadata": {},
   "source": [
    "| Pair | Reason |\n",
    "|------|--|--|\n",
    "| $X,S$  | Only path $X \\rightarrow R \\rightarrow S$ is blocked by conditioning on $R$. |\n",
    "| $X,T$ | Only path $X \\rightarrow R \\rightarrow S$ is blocked by conditioning on $R$. |\n",
    "| $X,U$  | Only path $X \\rightarrow R \\rightarrow S \\rightarrow T \\leftarrow U$ is blocked by $R$.|\n",
    "| $X,V$  | Only path $X \\rightarrow R \\rightarrow S \\rightarrow T \\leftarrow U \\leftarrow V$ is blocked by $R$.|\n",
    "| $X,Y$  | Only path $X \\rightarrow R \\rightarrow S \\rightarrow T \\leftarrow U \\leftarrow V \\rightarrow Y$ is blocked by $R$.|\n",
    "\n",
    "\n",
    "\n",
    "All the other pairs are dependent on each other, because we are conditioning on $P$, a descendant of a collider $T$, and there's nothing else blocking the dependence that results from that.\n"
   ]
  },
  {
   "cell_type": "markdown",
   "metadata": {},
   "source": [
    "### d.\n",
    "\n",
    "For each pair of nonadjacent variables in Figure 2.6, give a set of variables that, when conditioned on, renders that pair independent."
   ]
  },
  {
   "cell_type": "markdown",
   "metadata": {},
   "source": [
    "| non-adjacent pair | conditioning set | \n",
    "|-------------------|------------------|\n",
    "| X,S | \\{R\\} |\n",
    "| X,T | \\{R\\}, \\{S\\} |\n",
    "| X,P | \\{R\\}, \\{S\\}, \\{T\\} |\n",
    "| X,U | \\{\\} |\n",
    "| X,V | \\{\\} |\n",
    "| X,Y | \\{\\} |\n",
    "| R,T | \\{S\\} |\n",
    "| R,P | \\{S\\}, \\{T\\} |\n",
    "| R,U | \\{\\} |\n",
    "| R,V | \\{\\} |\n",
    "| R,Y | \\{\\} |\n",
    "| S,P | \\{T\\} |\n",
    "| S,U | \\{\\} |\n",
    "| S,V | \\{\\} |\n",
    "| S,Y | \\{\\} |\n",
    "| T,V | \\{U\\} |\n",
    "| T,Y | \\{U\\}, \\{V\\} |\n",
    "| U,P | \\{T\\} |\n",
    "| U,Y | \\{V\\} |\n",
    "| P,V | \\{U\\}, \\{T\\} |\n",
    "| P,Y | \\{U\\}, \\{V\\}, \\{T\\} |\n"
   ]
  },
  {
   "cell_type": "markdown",
   "metadata": {},
   "source": [
    "### e.\n",
    "\n",
    "Suppose we generate data by the model described in Figure 2.5, and we fit them with the linear equation $Y = a + bX + cZ$. Which of the variables in the model may be chosen for $Z$ so as to guarantee that the slope $b$ would be equal to zero? [Hint: Recall, a non zero slope implies that $Y$ and $X$ are dependent given $Z$.]"
   ]
  },
  {
   "cell_type": "markdown",
   "metadata": {},
   "source": [
    "_This question is essentially asking what to condition on such that $X$ and $Y$ become independent. $X$ and $Y$ are already independent, given the presence of collider node $T$, so we don't need to condition on anything. However, if we must, we could condition on $R$, $S$, $U$, $V$, or even $X$. Conditioning on any of them is not necessary, but will guarantee that the slope $b$ would be equal to zero._"
   ]
  },
  {
   "cell_type": "markdown",
   "metadata": {},
   "source": [
    "### f. \n",
    "\n",
    "Continuing question (e), suppose we fit the data with the equation:\n",
    "\n",
    "$$ Y = a + bX + cR + dS + eT + fP $$\n",
    "\n",
    "which of the coefficients would be zero?"
   ]
  },
  {
   "cell_type": "markdown",
   "metadata": {},
   "source": [
    "_Path between $Y$ and $P$ is unblocked when not conditioning on anything. However, after conditioning on $T$, the path is blocked so we can expect the coefficient of $f$ to be 0. Conditioning on $T$ makes $Y$ be dependent on $S$, so $d$ won't be 0. Since we're conditioning on $S$, the path from $R$ to $Y$ is blocked, so $b$ will be 0. Likewise, since we're conditioning on $R$, $S$, the path from $X$ to $Y$ is also blocked. Therefore, $b$ will be 0._"
   ]
  },
  {
   "cell_type": "markdown",
   "metadata": {},
   "source": [
    "## Python Code\n",
    "\n",
    "I wrote some code to compute implied conditional independencies."
   ]
  },
  {
   "cell_type": "code",
   "execution_count": 472,
   "metadata": {},
   "outputs": [],
   "source": [
    "# Path\n",
    "# - get_start_node\n",
    "# - get_end_node\n",
    "# - blocked\n",
    "# - unblocked\n",
    "# - must have two nodes?\n",
    "# NodePair\n",
    "# - d_separated\n",
    "# Node\n",
    "# - is_conditioned\n",
    "# - is_unconditioned\n",
    "# - has_descendant_conditioned\n",
    "\n",
    "# - is_chain\n",
    "# - is_collider\n",
    "# - is_fork\n",
    "# - get_descendants\n",
    "# - get_ancestors\n",
    "# - get_parents\n",
    "# - get_name\n",
    "# - equals(node=,)\n",
    "# - children\n",
    "#\n",
    "# PathNode\n",
    "# - get_node\n",
    "# - is_chain\n",
    "# - is_collider\n",
    "# - is_not_collider\n",
    "# - is_fork\n",
    "# - get_child\n",
    "# - get_parent"
   ]
  },
  {
   "cell_type": "markdown",
   "metadata": {},
   "source": [
    "### Node"
   ]
  },
  {
   "cell_type": "code",
   "execution_count": 410,
   "metadata": {},
   "outputs": [],
   "source": [
    "class Node(object):\n",
    "    \"\"\"\n",
    "        A node in the graph.\n",
    "    \"\"\"\n",
    "    \n",
    "    def __init__(\n",
    "        self, \n",
    "        name=None, \n",
    "        children=None,\n",
    "        parents=None,\n",
    "        conditioned=False\n",
    "    ):\n",
    "        self.name = name\n",
    "        \n",
    "        if children == None:\n",
    "            self.children = []\n",
    "        else:\n",
    "            self.children = children\n",
    "        \n",
    "        if parents == None:\n",
    "            self.parents = []\n",
    "        else:\n",
    "            self.parents = parents\n",
    "            \n",
    "        \n",
    "        self.conditioned = conditioned\n",
    "        \n",
    "    def __str__(self):\n",
    "        return self.name\n",
    "    \n",
    "    def __repr__(self):\n",
    "#         return \"Node: { name: '\" + \\\n",
    "#             self.name + \\\n",
    "#             \"', conditioned: \" + \\\n",
    "#             repr(self.conditioned) + \\\n",
    "#         \"}\"\n",
    "        \n",
    "        return \"Node: { name: '\" + \\\n",
    "            self.name + \\\n",
    "            \"', conditioned: \" + \\\n",
    "            repr(self.conditioned) + \\\n",
    "            \", parents: \" + \\\n",
    "            str([str(i) for i in self.parents]) + \\\n",
    "            \", children: \" + \\\n",
    "            str([str(i) for i in self.children]) + \\\n",
    "        \"}\"\n",
    "\n",
    "    def set_conditioned(self, conditioned=False):\n",
    "        self.conditioned = conditioned\n",
    "        \n",
    "    def is_not_adjacent_to(self, node=None):\n",
    "        return not self.is_adjacent_to(node)\n",
    "    \n",
    "    def is_adjacent_to(self, node=None):\n",
    "        return node in self.get_children() or node in self.get_parents()\n",
    "    \n",
    "    def is_conditioned(self):\n",
    "        return self.conditioned\n",
    "    \n",
    "    def is_not_conditioned(self):\n",
    "        return not self.is_conditioned()\n",
    "    \n",
    "    def is_chain(self):\n",
    "        return self.has_parents() and self.has_children()\n",
    "    \n",
    "    def is_fork(self):\n",
    "        return len(self.get_children()) > 1\n",
    "    \n",
    "    def is_collider(self):\n",
    "        return len(self.get_parents()) > 1\n",
    "    \n",
    "    def is_not_collider(self):\n",
    "        return not self.is_collider()\n",
    "    \n",
    "    def equals(self, node=None):\n",
    "        return node.get_name() == self.get_name()\n",
    "        \n",
    "    def add_child(self, child=None):\n",
    "        self.children.append(child)\n",
    "        child.parents.append(self)\n",
    "        \n",
    "    def add_parent(self, parent=None):\n",
    "        self.parents.append(parent)\n",
    "        parent.children.append(self)\n",
    "        \n",
    "    def has_parents(self):\n",
    "        return len(self.get_parents()) > 0\n",
    "    \n",
    "    def has_children(self):\n",
    "        return len(self.get_children()) > 0\n",
    "        \n",
    "    def get_name(self):\n",
    "        return self.name\n",
    "    \n",
    "    def get_children(self):\n",
    "        return self.children\n",
    "    \n",
    "    def get_parents(self):\n",
    "        return self.parents\n",
    "    \n",
    "    def get_descendants(self):\n",
    "        descendants = self.get_children()\n",
    "        \n",
    "        for _child in self.children:\n",
    "            descendants = list(set(descendants) | set(_child.get_children()))\n",
    "            \n",
    "        return descendants\n",
    "            \n",
    "    def get_ancestors(self):\n",
    "        ancestors = self.get_parents()\n",
    "        \n",
    "        for _parent in self.parents:\n",
    "            ancestors = list(set(ancestors) | set(_parent.get_parents()))\n",
    "    \n",
    "        return ancestors\n",
    "    \n",
    "    def set_children(self, children):\n",
    "        self.children = children\n",
    "        \n",
    "    def set_parents(self, parents):\n",
    "        self.parents = parents\n",
    "        \n",
    "    def has_conditioned_dependents(self):\n",
    "        for desc in self.get_descendants():\n",
    "            if desc.is_conditioned():\n",
    "                return True\n",
    "        \n",
    "        return False\n",
    "    \n",
    "    def has_no_conditioned_dependents(self):\n",
    "        return not self.has_conditioned_dependents()"
   ]
  },
  {
   "cell_type": "code",
   "execution_count": 411,
   "metadata": {},
   "outputs": [
    {
     "data": {
      "text/plain": [
       "Node: { name: 'hi', conditioned: False, parents: [], children: []}"
      ]
     },
     "execution_count": 411,
     "metadata": {},
     "output_type": "execute_result"
    }
   ],
   "source": [
    "Node(name='hi')"
   ]
  },
  {
   "cell_type": "code",
   "execution_count": 412,
   "metadata": {},
   "outputs": [
    {
     "data": {
      "text/plain": [
       "\"[Node: { name: 'hi', conditioned: False, parents: [], children: []}]\""
      ]
     },
     "execution_count": 412,
     "metadata": {},
     "output_type": "execute_result"
    }
   ],
   "source": [
    "str([Node(name='hi')])"
   ]
  },
  {
   "cell_type": "markdown",
   "metadata": {},
   "source": [
    "###  Paths"
   ]
  },
  {
   "cell_type": "code",
   "execution_count": 551,
   "metadata": {},
   "outputs": [],
   "source": [
    "class Paths(object):\n",
    "    \"\"\" Paths between two nodes \"\"\"\n",
    "    \n",
    "    def __init__(self, paths=None, between_nodes=None):\n",
    "        if len(between_nodes) != 2:\n",
    "            raise Exception(\"between_nodes length should be 2.\")\n",
    "        self.between_nodes = between_nodes\n",
    "        \n",
    "        if paths == None:\n",
    "            self.paths = []\n",
    "        else:\n",
    "            self.paths = paths\n",
    "            \n",
    "    \n",
    "    def _maybe_minimize_independencies_set(\n",
    "        self, \n",
    "        independencies=None,\n",
    "        minimal_set=True\n",
    "    ):\n",
    "        if minimal_set == False:\n",
    "            return independencies\n",
    "        \n",
    "        min_num_cond_nodes = 10000000\n",
    "        \n",
    "        for independence in independencies:\n",
    "            min_num_cond_nodes = min(\n",
    "                min_num_cond_nodes, \n",
    "                len(independence.conditional_nodes)\n",
    "            )\n",
    "        #set_trace()\n",
    "        \n",
    "        return [independence for independence in independencies if len(independence.conditional_nodes) == min_num_cond_nodes]\n",
    "    def implied_conditional_independencies(self, minimal_set=True):\n",
    "        # make all pssible combinations of middle nodes\n",
    "        # for each combo, see if paths are blocked\n",
    "        \n",
    "        implied_conditional_independencies = []\n",
    "        \n",
    "        middle_nodes = self.get_middle_nodes()\n",
    "        \n",
    "        if not middle_nodes and self.path_nodes[0].is_not_adjacent_to(self.path_nodes[-1]):\n",
    "            \n",
    "            implied_conditional_independencies.append(\n",
    "                ConditionalIndependence(\n",
    "                    independent_nodes=[\n",
    "                        self.between_nodes[0], \n",
    "                        self.between_nodes[-1]\n",
    "                    ]\n",
    "                )\n",
    "            )\n",
    "            \n",
    "            return implied_conditional_independencies\n",
    "\n",
    "        \n",
    "        combinations = itertools.product([True, False], repeat=len(middle_nodes))\n",
    "\n",
    "        # See which combinations work\n",
    "        for combo in combinations:\n",
    "            conditioned_nodes = []\n",
    "\n",
    "            # Set combo on nodes\n",
    "            for i in range(len(combo)):\n",
    "                condition = combo[i]\n",
    "                middle_nodes[i].set_conditioned(condition)\n",
    "\n",
    "                if condition == True:\n",
    "                    conditioned_nodes.append(middle_nodes[i])\n",
    "            \n",
    "            \n",
    "            # choose nodes to condition out of the middle nodes\n",
    "            if self.blocked():\n",
    "                \n",
    "                implied_conditional_independencies.append(\n",
    "                    ConditionalIndependence(\n",
    "                        independent_nodes=[self.between_nodes[0], self.between_nodes[-1]],\n",
    "                        conditional_nodes=conditioned_nodes\n",
    "                    )\n",
    "                )\n",
    "            \n",
    "            # reset\n",
    "            for middle_node in middle_nodes:\n",
    "                middle_node.set_conditioned(False)\n",
    "                \n",
    "        \n",
    "        return self._maybe_minimize_independencies_set(\n",
    "            independencies=implied_conditional_independencies,\n",
    "            minimal_set=minimal_set\n",
    "        )\n",
    "    \n",
    "    def blocked(self):\n",
    "        if not self.paths:\n",
    "            return True\n",
    "        \n",
    "        for path in self.paths:\n",
    "            if not path.is_blocked():\n",
    "                return False\n",
    "            \n",
    "        return True\n",
    "    \n",
    "    def __str__(self):\n",
    "        return self.__repr__()\n",
    "        \n",
    "    def __repr__(self):\n",
    "        return \"Paths: { between_nodes: \" + \\\n",
    "            str(self.between_nodes) + \\\n",
    "            \", paths: \" + repr(self.paths) + \\\n",
    "            \"}\"\n",
    "    \n",
    "    def print(self):\n",
    "        for path in self.paths:\n",
    "            path.print()\n",
    "        \n",
    "    def get_middle_nodes(self):\n",
    "        collection = []\n",
    "        \n",
    "        for path in self.paths:\n",
    "            collection = list(set(collection) | set(path.get_middle_nodes()))\n",
    "                              \n",
    "        return collection\n",
    "    \n",
    "    @classmethod\n",
    "    def between(cls, first_node=None, second_node=None):\n",
    "        collection = []\n",
    "        \n",
    "        cls.find_path(\n",
    "            node=first_node,\n",
    "            node_to_find=second_node,\n",
    "            explored_nodes=[first_node],\n",
    "            collection=collection\n",
    "        )\n",
    "        \n",
    "        return Paths(paths=collection, between_nodes=[first_node, second_node])\n",
    "        \n",
    "    @classmethod\n",
    "    def find_path(\n",
    "        cls,\n",
    "        node=None, \n",
    "        node_to_find=None, \n",
    "        explored_nodes=None,\n",
    "        collection=None\n",
    "    ):\n",
    "        \"\"\" \"\"\"\n",
    "        if node_to_find == node:\n",
    "            path = PathGenerator(list(explored_nodes)).perform()\n",
    "            collection.append(path)\n",
    "            return\n",
    "        \n",
    "        \n",
    "        parents = node.get_parents()\n",
    "        children = node.get_children()\n",
    "        \n",
    "        \n",
    "        unexplored_nodes = list(\n",
    "            (set(parents) | set(children)) - set(explored_nodes)\n",
    "        )\n",
    "        \n",
    "        explored_nodes_copy = list(explored_nodes)\n",
    "        \n",
    "        for unexplored_node in unexplored_nodes:\n",
    "            explored_nodes_copy.append(unexplored_node)\n",
    "            \n",
    "            cls.find_path(\n",
    "                node=unexplored_node, \n",
    "                node_to_find=node_to_find, \n",
    "                explored_nodes=explored_nodes_copy,\n",
    "                collection=collection\n",
    "            )\n",
    "            \n",
    "            # prevents showing incorrect parents\n",
    "            del explored_nodes_copy[-1]"
   ]
  },
  {
   "cell_type": "markdown",
   "metadata": {},
   "source": [
    "### Nodes"
   ]
  },
  {
   "cell_type": "code",
   "execution_count": 414,
   "metadata": {},
   "outputs": [],
   "source": [
    "class Nodes(object):\n",
    "    def __init__(self, nodes=None):\n",
    "        self.nodes = nodes\n",
    "        \n",
    "    def __str__(self):\n",
    "        return str(self.nodes)\n",
    "    \n",
    "    def __repr__(self):\n",
    "        return \"Nodes { nodes: \" + str(self.nodes) + \"}\"\n",
    "    \n",
    "    def get_names(self):\n",
    "        return list(map(lambda x: x.get_name(), self.nodes))"
   ]
  },
  {
   "cell_type": "markdown",
   "metadata": {},
   "source": [
    "### NodePair"
   ]
  },
  {
   "cell_type": "code",
   "execution_count": 520,
   "metadata": {},
   "outputs": [],
   "source": [
    "class NodePair(object):\n",
    "    def __init__(self, nodes=None):\n",
    "        if nodes == Node:\n",
    "            self.nodes = []\n",
    "        else:\n",
    "            self.nodes = nodes\n",
    "            \n",
    "        if len(self.nodes) != 2:\n",
    "            raise Exception(\"Need to have two nodes. Given only \" + str(len(self.nodes)))\n",
    "            \n",
    "    def __str__(self):\n",
    "        return str(self.nodes)\n",
    "    \n",
    "    def __repr__(self):\n",
    "        return \"NodePair: { nodes: \" + repr(self.nodes) + \"}\"\n",
    "    \n",
    "    def __eq__(self, other):\n",
    "        return not (list(set(self.nodes) - set(other.nodes)) ) and not (list(set(other.nodes) - set(self.nodes)) )\n",
    "    \n",
    "    def get_paths(self):\n",
    "        return Paths.between(self.nodes[0], self.nodes[1])\n",
    "    \n",
    "    def implied_conditional_independencies(self, minimal_set=True):\n",
    "        return self.get_paths().implied_conditional_independencies(minimal_set=minimal_set)\n",
    "        "
   ]
  },
  {
   "cell_type": "markdown",
   "metadata": {},
   "source": [
    "### Graph"
   ]
  },
  {
   "cell_type": "code",
   "execution_count": 539,
   "metadata": {},
   "outputs": [],
   "source": [
    "class Graph(object):\n",
    "    def __init__(self, nodes=None):\n",
    "        if nodes == None:\n",
    "            self.nodes = []\n",
    "        else:\n",
    "            self.nodes = nodes\n",
    "            \n",
    "    def __repr__(self):\n",
    "        return \"Graph: { nodes: \" + repr(self.nodes) + \"}\"\n",
    "            \n",
    "    def find_paths_between(self, first_node=None, second_node=None):\n",
    "        return Paths.between(\n",
    "            first_node, \n",
    "            second_node\n",
    "        )\n",
    "    \n",
    "    def uncondition_all_nodes(self):\n",
    "        for node in nodes:\n",
    "            node.set_condition(False)\n",
    "            \n",
    "    def get_pairs(self):\n",
    "        return list(itertools.product(self.nodes, self.nodes))\n",
    "    \n",
    "    def find_implied_conditional_independencies(\n",
    "        self,\n",
    "        minimal_set=True\n",
    "    ):\n",
    "        # could be moved to nodepairs\n",
    "        node_pairs = []\n",
    "        implied_conditional_independencies = []\n",
    "        \n",
    "        for node_i, node_j in self.get_pairs():\n",
    "            node_pair = NodePair(nodes=[node_i, node_j])\n",
    "            \n",
    "            if node_i.is_adjacent_to(node_j) or node_i == node_j or node_pair in node_pairs:\n",
    "                continue\n",
    "            \n",
    "            implied_conditional_independencies.append(\n",
    "                node_pair.implied_conditional_independencies(minimal_set=minimal_set)\n",
    "            )\n",
    "            node_pairs.append(node_pair)\n",
    "        \n",
    "        return '\\n'.join([str(i) for i in list(chain.from_iterable(implied_conditional_independencies))])\n",
    "\n",
    "    def print_nodes(self, nodes=None):\n",
    "        return ' '.join(list(map(lambda x: x.get_name(), nodes)))\n",
    "    \n",
    "    "
   ]
  },
  {
   "cell_type": "markdown",
   "metadata": {},
   "source": [
    "###  PathGenerator"
   ]
  },
  {
   "cell_type": "code",
   "execution_count": 417,
   "metadata": {},
   "outputs": [],
   "source": [
    "class PathGenerator(object):\n",
    "    \"\"\"\n",
    "        Convert adjacent nodes into a simple path. Wraps nodes with PathNodes\n",
    "    \"\"\"\n",
    "    \n",
    "    def __init__(self, nodes=None):\n",
    "        if nodes == None:\n",
    "            self.nodes = []\n",
    "        else:\n",
    "            self.nodes = nodes\n",
    "\n",
    "    def perform(self):\n",
    "        path_nodes = [PathNode(node) for node in self.nodes]\n",
    "        \n",
    "        offset = len(self.nodes) - 1\n",
    "        \n",
    "        for i in range(0, offset):\n",
    "            current_node = self.nodes[i]\n",
    "            next_node = self.nodes[i+1]\n",
    "            \n",
    "            current_node_path_node = path_nodes[i]\n",
    "            next_node_path_node = path_nodes[i+1]\n",
    "            \n",
    "            # Assumes Directed Acyclic Graph\n",
    "\n",
    "            if next_node in current_node.get_parents():\n",
    "                current_node_path_node.add_parent(next_node_path_node)\n",
    "            else:\n",
    "                current_node_path_node.add_child(next_node_path_node)\n",
    "            \n",
    "        return Path(path_nodes=path_nodes)"
   ]
  },
  {
   "cell_type": "markdown",
   "metadata": {},
   "source": [
    "### PathNode"
   ]
  },
  {
   "cell_type": "code",
   "execution_count": 418,
   "metadata": {},
   "outputs": [],
   "source": [
    "class PathNode(object):\n",
    "    \"\"\"\n",
    "        Represents a graph node in a path.We want something like this to\n",
    "        make it easier to see if a node is a collider in the context of \n",
    "        a path (which might not be the case in a different path). If it is\n",
    "        a collider, we're also interested to see if descendants of a collider\n",
    "        are conditioned (which is more global), so having access to a node\n",
    "        and its children are useful.\n",
    "    \"\"\"\n",
    "    \n",
    "    def __init__(self, node=None):\n",
    "        self.node = node\n",
    "        \n",
    "        # might make sense to use null obj.\n",
    "        self.parents = []\n",
    "        self.children = []\n",
    "    \n",
    "    def __repr__(self):\n",
    "        return \"PathNode: { collider(): \" + \\\n",
    "            str(self.is_collider()) + \\\n",
    "            \", is_conditioned(): \" + \\\n",
    "            str(self.is_conditioned()) + \\\n",
    "            \", parents: \" + \\\n",
    "            str([str(i) for i in self.parents]) + \\\n",
    "            \", children: \" + \\\n",
    "            str([str(i) for i in self.children]) + \\\n",
    "            \", node: \" + str(self.node) + \"}\"\n",
    "    \n",
    "    def __str__(self):\n",
    "        return str(self.node)\n",
    "    \n",
    "    def get_name(self):\n",
    "        return self.node.get_name()\n",
    "    \n",
    "    def get_children(self):\n",
    "        return self.children\n",
    "    \n",
    "    def get_parents(self):\n",
    "        return self.parents\n",
    "    \n",
    "    def is_adjacent_to(self, other):\n",
    "        return self.node.is_adjacent_to(other)\n",
    "    \n",
    "    def is_not_adjacent_to(self, other):\n",
    "        return self.is_adjacent_to(other)\n",
    "    \n",
    "    def add_child(self, child=None):\n",
    "        self.children.append(child)\n",
    "        child.parents.append(self)\n",
    "        \n",
    "    def add_parent(self, parent=None):\n",
    "        self.parents.append(parent)\n",
    "        parent.children.append(self)\n",
    "        \n",
    "    def is_collider(self):\n",
    "        return len(self.parents) == 2\n",
    "    \n",
    "    def is_not_collider(self):\n",
    "        return not self.is_collider()\n",
    "    \n",
    "    def is_conditioned(self):\n",
    "        return self.node.is_conditioned()\n",
    "    \n",
    "    def is_not_conditioned(self):\n",
    "        return self.node.is_not_conditioned()\n",
    "    \n",
    "    def has_conditioned_dependents(self):\n",
    "        return self.node.has_conditioned_dependents()\n",
    "    \n",
    "    def has_no_conditioned_dependents(self):\n",
    "        return self.node.has_no_conditioned_dependents()\n",
    "    \n",
    "    def set_conditioned(self, condition):\n",
    "        self.node.set_conditioned(condition)"
   ]
  },
  {
   "cell_type": "markdown",
   "metadata": {},
   "source": [
    "### ConditionalIndependence"
   ]
  },
  {
   "cell_type": "code",
   "execution_count": 419,
   "metadata": {},
   "outputs": [],
   "source": [
    "class ConditionalIndependence(object):\n",
    "    \"\"\" \n",
    "        Helper class to make it easier to keep list of conditional independencies unique\n",
    "        in other classes.\n",
    "    \"\"\"\n",
    "    \n",
    "    def __init__(\n",
    "        self,\n",
    "        independent_nodes=None,\n",
    "        conditional_nodes=None\n",
    "    ):\n",
    "        if len(independent_nodes) != 2:\n",
    "            raise Exception('independent_nodes must have length 2')\n",
    "        self.independent_nodes = independent_nodes    \n",
    "        \n",
    "        if not conditional_nodes:\n",
    "            self.conditional_nodes = []\n",
    "        else:\n",
    "            self.conditional_nodes = conditional_nodes\n",
    "    \n",
    "    def unconditionally_independent(self):\n",
    "        return not self.conditional_nodes\n",
    "    \n",
    "    def conditionally_independent(self):\n",
    "        return not self.uncoditionally_independent()\n",
    "    \n",
    "    def __eq__(self, other):\n",
    "        return len(\n",
    "            set(self.independent_nodes) & set(other.independent_nodes)\n",
    "        ) == len(self.independent_nodes) and \\\n",
    "        len(\n",
    "            set(self.conditional_nodes) & set(other.conditional_nodes)\n",
    "        ) == len(self.conditional_nodes)\n",
    "        \n",
    "    def __repr__(self):\n",
    "        return \"ConditionalIndependence: { __str__: \" + \\\n",
    "            self.__str__() + \\\n",
    "            \", independent_nodes: \" + \\\n",
    "            repr(self.independent_nodes) + \\\n",
    "            \", conditional_nodes: \" + \\\n",
    "            repr(self.conditional_nodes)\n",
    "        \"}\"\n",
    "    \n",
    "    def __str__(self):\n",
    "        if self.unconditionally_independent():\n",
    "            return self.independent_nodes[0].get_name() + \\\n",
    "                ' _||_ ' + \\\n",
    "                self.independent_nodes[1].get_name() \n",
    "        else:\n",
    "            return self.independent_nodes[0].get_name() + \\\n",
    "                ' _||_ ' + \\\n",
    "                self.independent_nodes[1].get_name() + \\\n",
    "                ' | ' + \\\n",
    "                ', '.join(list(map(lambda x: x.get_name(), self.conditional_nodes)))"
   ]
  },
  {
   "cell_type": "markdown",
   "metadata": {},
   "source": [
    "### Path"
   ]
  },
  {
   "cell_type": "code",
   "execution_count": 505,
   "metadata": {},
   "outputs": [],
   "source": [
    "class Path(object):\n",
    "    \"\"\" \n",
    "        Simple paths from the first path_node to the last path_node\n",
    "    \"\"\" \n",
    "    \n",
    "    def __init__(\n",
    "        self,\n",
    "        path_nodes=None\n",
    "    ):\n",
    "        \n",
    "        if len(path_nodes) < 2:\n",
    "            raise Exception(\"Need at least two nodes\")\n",
    "        else:\n",
    "            self.path_nodes = path_nodes\n",
    "        \n",
    "    def implied_conditional_independencies(self):\n",
    "        implied_conditional_independencies = []\n",
    "        \n",
    "        middle_nodes = self.get_middle_path_nodes()\n",
    "        \n",
    "        if not middle_nodes and self.path_nodes[0].is_not_adjacent_to(self.path_nodes[-1]):\n",
    "            implied_conditional_independencies.append(\n",
    "                ConditionalIndependence(\n",
    "                    independent_nodes=[\n",
    "                        path_nodes[0], \n",
    "                        path_nodes[-1]\n",
    "                    ]\n",
    "                )\n",
    "            )\n",
    "            \n",
    "            return implied_conditional_independencies\n",
    "\n",
    "        \n",
    "        combinations = itertools.product([True, False], repeat=len(middle_nodes))\n",
    "\n",
    "        # See which combinations work\n",
    "        for combo in combinations:\n",
    "            conditioned_nodes = []\n",
    "\n",
    "            for i in range(len(combo)):\n",
    "                condition = combo[i]\n",
    "                middle_nodes[i].set_conditioned(condition)\n",
    "\n",
    "                if condition == True:\n",
    "                    conditioned_nodes.append(middle_nodes[i])\n",
    "\n",
    "            # choose nodes to condition out of the middle nodes\n",
    "            if self.is_blocked():\n",
    "                implied_conditional_independencies.append(\n",
    "                    ConditionalIndependence(\n",
    "                        independent_nodes=[self.path_nodes[0], self.path_nodes[-1]],\n",
    "                        conditional_nodes=conditioned_nodes\n",
    "                    )\n",
    "                )\n",
    "            \n",
    "            # reset\n",
    "            for middle_node in middle_nodes:\n",
    "                middle_node.set_conditioned(False)\n",
    "        \n",
    "        return implied_conditional_independencies\n",
    "            \n",
    "    def get_middle_nodes(self):\n",
    "        if len(self.path_nodes) < 3:\n",
    "            return []\n",
    "        \n",
    "        to_return = [path.node for path in self.path_nodes[1:-1]]\n",
    "\n",
    "        return to_return\n",
    "    \n",
    "    def get_middle_path_nodes(self):\n",
    "        if len(self.path_nodes) < 3:\n",
    "            return []\n",
    "        \n",
    "        return self.path_nodes[1:-1]\n",
    "    \n",
    "    def get_blockers(self):\n",
    "        blockers = []\n",
    "        \n",
    "        #set_trace()\n",
    "        for middle_node in self.get_middle_nodes():\n",
    "            if middle_node.is_not_collider() and middle_node.is_conditioned():\n",
    "                blockers.append(middle_node)\n",
    "            elif middle_node.is_collider() \\\n",
    "                and middle_node.is_not_conditioned() \\\n",
    "                and middle_node.has_no_conditioned_dependents():\n",
    "                blockers.append(middle_node)\n",
    "                    \n",
    "        return Nodes(blockers)\n",
    "        \n",
    "                \n",
    "    def is_blocked(self):\n",
    "        # absence of middle_nodes does not mean it is blocked.\n",
    "        # we want to ensure that the two nodes are not adjacent as well.\n",
    "        # and we aren't doing an intervention.\n",
    "        \n",
    "        if not self.get_middle_nodes():\n",
    "            return True\n",
    "        \n",
    "        # Assumes there are at least three nodes in the path?\n",
    "        for middle_node in self.get_middle_path_nodes():\n",
    "            if middle_node.is_not_collider() and middle_node.is_conditioned():\n",
    "                return True\n",
    "            elif middle_node.is_collider() \\\n",
    "                and middle_node.is_not_conditioned() \\\n",
    "                and middle_node.has_no_conditioned_dependents():\n",
    "                return True\n",
    "                \n",
    "        return False\n",
    "    \n",
    "    def __repr__(self):\n",
    "        return \"Path: \" + \\\n",
    "            \"{ __str__: \" + self.__str__() + \\\n",
    "            \", is_blocked: \" + \\\n",
    "            str(self.is_blocked()) + \\\n",
    "            \", blockers: \" + str(self.get_blockers().get_names()) + \\\n",
    "        \" }\"\n",
    "    \n",
    "    def __str__(self):\n",
    "        return self._readable()\n",
    "        \n",
    "    def _readable(self):\n",
    "        collection = []\n",
    "        \n",
    "        if len(self.path_nodes) == 1:\n",
    "            return self.path_nodes.get_name(0)\n",
    "        \n",
    "        for i in range(0, len(self.path_nodes) - 1):\n",
    "            current_path_node = self.path_nodes[i]\n",
    "            next_path_node = self.path_nodes[i+1]\n",
    "            \n",
    "            collection.append(current_path_node.get_name())\n",
    "            collection.append(self.print_arrow(\n",
    "                current_path_node=current_path_node,\n",
    "                next_path_node=next_path_node\n",
    "            ))\n",
    "            \n",
    "        collection.append(self.path_nodes[-1].get_name())\n",
    "        return ' '.join(collection)\n",
    "    \n",
    "            \n",
    "\n",
    "    def print_arrow(self, current_path_node=None, next_path_node=None):\n",
    "        if current_path_node in next_path_node.get_children():\n",
    "            return '<-'\n",
    "        else:\n",
    "            return '->'\n",
    "            "
   ]
  },
  {
   "cell_type": "markdown",
   "metadata": {},
   "source": [
    "### Examples"
   ]
  },
  {
   "cell_type": "code",
   "execution_count": 449,
   "metadata": {
    "scrolled": false
   },
   "outputs": [],
   "source": [
    "a = Node(name='A')\n",
    "b = Node(name='B')\n",
    "c = Node(name='C')\n",
    "d = Node(name='D')\n",
    "\n",
    "a.add_child(child=b)\n",
    "b.add_child(child=c)\n",
    "a.add_child(child=d)\n",
    "d.add_child(child=c)\n",
    "\n",
    "# might make sense for the graph to take in a string to build the graph\n",
    "graph = Graph(\n",
    "    nodes=[a,b,c,d]\n",
    ")\n",
    "paths = graph.find_paths_between(a, c)"
   ]
  },
  {
   "cell_type": "code",
   "execution_count": 450,
   "metadata": {},
   "outputs": [
    {
     "data": {
      "text/plain": [
       "Paths: { between_nodes: [Node: { name: 'A', conditioned: False, parents: [], children: ['B', 'D']}, Node: { name: 'C', conditioned: False, parents: ['B', 'D'], children: []}], paths: [Path: { __str__: A -> D -> C, is_blocked: False, blockers: [] }, Path: { __str__: A -> B -> C, is_blocked: False, blockers: [] }]}"
      ]
     },
     "execution_count": 450,
     "metadata": {},
     "output_type": "execute_result"
    }
   ],
   "source": [
    "paths"
   ]
  },
  {
   "cell_type": "code",
   "execution_count": 451,
   "metadata": {},
   "outputs": [
    {
     "name": "stdout",
     "output_type": "stream",
     "text": [
      "A _||_ C | D, B\n",
      "B _||_ D | A\n"
     ]
    }
   ],
   "source": [
    "graph.find_implied_conditional_independencies()"
   ]
  },
  {
   "cell_type": "code",
   "execution_count": 452,
   "metadata": {},
   "outputs": [
    {
     "data": {
      "text/plain": [
       "False"
      ]
     },
     "execution_count": 452,
     "metadata": {},
     "output_type": "execute_result"
    }
   ],
   "source": [
    "paths.blocked()"
   ]
  },
  {
   "cell_type": "code",
   "execution_count": 453,
   "metadata": {},
   "outputs": [
    {
     "data": {
      "text/plain": [
       "True"
      ]
     },
     "execution_count": 453,
     "metadata": {},
     "output_type": "execute_result"
    }
   ],
   "source": [
    "d.set_conditioned(True)\n",
    "b.set_conditioned(True)\n",
    "\n",
    "paths.blocked()"
   ]
  },
  {
   "cell_type": "code",
   "execution_count": 467,
   "metadata": {},
   "outputs": [],
   "source": [
    "beauty_node = Node(name='Beauty')\n",
    "talent_node = Node(name='Talent')\n",
    "celebrity_node = Node(name='Celebrity')\n",
    "\n",
    "# conditioning on descendant of collider should unblock\n",
    "income_node = Node(name='Income', conditioned=True)\n",
    "\n",
    "beauty_node.add_child(child=celebrity_node)\n",
    "talent_node.add_child(child=celebrity_node)\n",
    "celebrity_node.add_child(child=income_node)\n",
    "\n",
    "beauty_path_node = PathNode(node=beauty_node)\n",
    "talent_path_node = PathNode(node=talent_node)\n",
    "celebrity_path_node = PathNode(node=celebrity_node)\n",
    "\n",
    "path_with_collider = PathGenerator(nodes=[beauty_node, celebrity_node, talent_node]).perform()"
   ]
  },
  {
   "cell_type": "code",
   "execution_count": 468,
   "metadata": {},
   "outputs": [
    {
     "data": {
      "text/plain": [
       "Path: { __str__: Beauty -> Celebrity <- Talent, is_blocked: False, blockers: [] }"
      ]
     },
     "execution_count": 468,
     "metadata": {},
     "output_type": "execute_result"
    }
   ],
   "source": [
    "path_with_collider"
   ]
  },
  {
   "cell_type": "code",
   "execution_count": 471,
   "metadata": {},
   "outputs": [
    {
     "data": {
      "text/plain": [
       "Path: { __str__: Beauty -> Celebrity <- Talent, is_blocked: True, blockers: ['Celebrity'] }"
      ]
     },
     "execution_count": 471,
     "metadata": {},
     "output_type": "execute_result"
    }
   ],
   "source": [
    "beauty_node = Node(name='Beauty')\n",
    "talent_node = Node(name='Talent')\n",
    "celebrity_node = Node(name='Celebrity')\n",
    "# Not conditioning on collider or any of its descendants should block\n",
    "income_node = Node(name='Income', conditioned=False)\n",
    "\n",
    "beauty_node.add_child(child=celebrity_node)\n",
    "talent_node.add_child(child=celebrity_node)\n",
    "celebrity_node.add_child(child=income_node)\n",
    "\n",
    "beauty_path_node = PathNode(node=beauty_node)\n",
    "talent_path_node = PathNode(node=talent_node)\n",
    "celebrity_path_node = PathNode(node=celebrity_node)\n",
    "\n",
    "path_with_collider = PathGenerator(\n",
    "    nodes=[beauty_node, celebrity_node, talent_node]\n",
    ").perform()\n",
    "path_with_collider"
   ]
  },
  {
   "cell_type": "markdown",
   "metadata": {},
   "source": [
    "## 2.4.1    \n",
    "\n",
    "Figure 2.9 below represents a causal graph from which the error terms have been deleted. Assume that all those errors are mutually independent."
   ]
  },
  {
   "cell_type": "markdown",
   "metadata": {},
   "source": [
    "### a.\n",
    "\n",
    "For each pair of nonadjacent nodes in this graph, find a set of variables that $d$-separates that pair. What does this list tell us about independencies in the data?"
   ]
  },
  {
   "cell_type": "code",
   "execution_count": 552,
   "metadata": {
    "scrolled": true
   },
   "outputs": [],
   "source": [
    "node_z_1 = Node(name='Z_1')\n",
    "node_z_2 = Node(name='Z_2')\n",
    "node_z_3 = Node(name='Z_3')\n",
    "node_x = Node(name='X')\n",
    "node_w = Node(name='W')\n",
    "node_y = Node(name='Y')\n",
    "\n",
    "node_z_1.add_child(node_z_3)\n",
    "node_z_1.add_child(node_x)\n",
    "node_z_3.add_child(node_y)\n",
    "node_z_3.add_child(node_x)\n",
    "node_z_2.add_child(node_z_3)\n",
    "node_z_2.add_child(node_y)\n",
    "node_x.add_child(node_w)\n",
    "node_w.add_child(node_y)\n",
    "\n",
    "fig_2_9 = Graph(nodes=[\n",
    "    node_z_1, node_z_2, node_z_3, node_x, node_w, node_y\n",
    "])"
   ]
  },
  {
   "cell_type": "code",
   "execution_count": 555,
   "metadata": {},
   "outputs": [
    {
     "name": "stdout",
     "output_type": "stream",
     "text": [
      "Z_1 _||_ Z_2\n",
      "Z_1 _||_ W | X\n",
      "Z_1 _||_ Y | Z_2, W, Z_3\n",
      "Z_1 _||_ Y | Z_2, X, Z_3\n",
      "Z_2 _||_ X | Z_3, Z_1\n",
      "Z_2 _||_ W | X\n",
      "Z_3 _||_ W | X\n",
      "X _||_ Y | Z_2, W, Z_3\n",
      "X _||_ Y | W, Z_3, Z_1\n"
     ]
    }
   ],
   "source": [
    "print(fig_2_9.find_implied_conditional_independencies())"
   ]
  },
  {
   "cell_type": "markdown",
   "metadata": {},
   "source": [
    "### b.\n",
    "\n",
    "Repeat question (a) assuming that only variables in the set ${Z_3, W, X, Z_1}$ can be measured."
   ]
  },
  {
   "cell_type": "markdown",
   "metadata": {},
   "source": [
    "_For here, we could toggle nodes as being unobserved. If unobserved, they cannot be used in the conditioning set. So we just calculate (a), but remove Conditiona"
   ]
  },
  {
   "cell_type": "markdown",
   "metadata": {},
   "source": [
    "### c.\n",
    "\n",
    "For each pair of nonadjacent nodes in the graph, determine whether they are independent conditional on all other variables."
   ]
  },
  {
   "cell_type": "markdown",
   "metadata": {},
   "source": [
    "### d.\n",
    "\n",
    "For every variable $V$ in the graph, find a minimal set of nodes that renders $V$ independent of all other variables in the graph."
   ]
  },
  {
   "cell_type": "markdown",
   "metadata": {},
   "source": [
    "### e.\n",
    "\n",
    "Suppose we wish to estimate the value of $Y$ from measurements taken on all other variables in the model. Find the smallest set of variables that would yield as good an estimate of $Y$ as when we measured all variables."
   ]
  },
  {
   "cell_type": "markdown",
   "metadata": {},
   "source": [
    "### f.\n",
    "\n",
    "Repeat question (e) assuming that we wish to estimate the value of $Z_2$."
   ]
  },
  {
   "cell_type": "markdown",
   "metadata": {},
   "source": [
    "### g.\n",
    "\n",
    "Suppose we wish to predict the value of $Z_2$ from measurements of $Z_3$. Would the quality of our prediction improve if we add measurement of $W$? Explain."
   ]
  },
  {
   "cell_type": "code",
   "execution_count": null,
   "metadata": {},
   "outputs": [],
   "source": []
  }
 ],
 "metadata": {
  "kernelspec": {
   "display_name": "Python 3",
   "language": "python",
   "name": "python3"
  },
  "language_info": {
   "codemirror_mode": {
    "name": "ipython",
    "version": 3
   },
   "file_extension": ".py",
   "mimetype": "text/x-python",
   "name": "python",
   "nbconvert_exporter": "python",
   "pygments_lexer": "ipython3",
   "version": "3.6.0"
  },
  "toc": {
   "colors": {
    "hover_highlight": "#DAA520",
    "navigate_num": "#000000",
    "navigate_text": "#333333",
    "running_highlight": "#FF0000",
    "selected_highlight": "#FFD700",
    "sidebar_border": "#EEEEEE",
    "wrapper_background": "#FFFFFF"
   },
   "moveMenuLeft": true,
   "nav_menu": {
    "height": "162px",
    "width": "254px"
   },
   "navigate_menu": true,
   "number_sections": false,
   "sideBar": true,
   "threshold": "5",
   "toc_cell": true,
   "toc_position": {
    "height": "844px",
    "left": "0px",
    "right": "974.8px",
    "top": "43.5667px",
    "width": "212px"
   },
   "toc_section_display": "block",
   "toc_window_display": true,
   "widenNotebook": false
  }
 },
 "nbformat": 4,
 "nbformat_minor": 2
}
