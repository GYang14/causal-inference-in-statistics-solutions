{
 "cells": [
  {
   "cell_type": "markdown",
   "metadata": {
    "toc": "true"
   },
   "source": [
    "# Table of Contents\n",
    " <p><div class=\"lev2 toc-item\"><a href=\"#2.3.1\" data-toc-modified-id=\"2.3.1-01\"><span class=\"toc-item-num\">0.1&nbsp;&nbsp;</span>2.3.1</a></div><div class=\"lev3 toc-item\"><a href=\"#a.\" data-toc-modified-id=\"a.-011\"><span class=\"toc-item-num\">0.1.1&nbsp;&nbsp;</span>a.</a></div><div class=\"lev3 toc-item\"><a href=\"#b.\" data-toc-modified-id=\"b.-012\"><span class=\"toc-item-num\">0.1.2&nbsp;&nbsp;</span>b.</a></div><div class=\"lev3 toc-item\"><a href=\"#c.\" data-toc-modified-id=\"c.-013\"><span class=\"toc-item-num\">0.1.3&nbsp;&nbsp;</span>c.</a></div><div class=\"lev3 toc-item\"><a href=\"#d.\" data-toc-modified-id=\"d.-014\"><span class=\"toc-item-num\">0.1.4&nbsp;&nbsp;</span>d.</a></div><div class=\"lev3 toc-item\"><a href=\"#e.\" data-toc-modified-id=\"e.-015\"><span class=\"toc-item-num\">0.1.5&nbsp;&nbsp;</span>e.</a></div><div class=\"lev3 toc-item\"><a href=\"#f.\" data-toc-modified-id=\"f.-016\"><span class=\"toc-item-num\">0.1.6&nbsp;&nbsp;</span>f.</a></div><div class=\"lev2 toc-item\"><a href=\"#2.4.1\" data-toc-modified-id=\"2.4.1-02\"><span class=\"toc-item-num\">0.2&nbsp;&nbsp;</span>2.4.1</a></div><div class=\"lev3 toc-item\"><a href=\"#a.\" data-toc-modified-id=\"a.-021\"><span class=\"toc-item-num\">0.2.1&nbsp;&nbsp;</span>a.</a></div><div class=\"lev3 toc-item\"><a href=\"#b.\" data-toc-modified-id=\"b.-022\"><span class=\"toc-item-num\">0.2.2&nbsp;&nbsp;</span>b.</a></div><div class=\"lev3 toc-item\"><a href=\"#c.\" data-toc-modified-id=\"c.-023\"><span class=\"toc-item-num\">0.2.3&nbsp;&nbsp;</span>c.</a></div><div class=\"lev3 toc-item\"><a href=\"#d.\" data-toc-modified-id=\"d.-024\"><span class=\"toc-item-num\">0.2.4&nbsp;&nbsp;</span>d.</a></div><div class=\"lev3 toc-item\"><a href=\"#e.\" data-toc-modified-id=\"e.-025\"><span class=\"toc-item-num\">0.2.5&nbsp;&nbsp;</span>e.</a></div><div class=\"lev3 toc-item\"><a href=\"#f.\" data-toc-modified-id=\"f.-026\"><span class=\"toc-item-num\">0.2.6&nbsp;&nbsp;</span>f.</a></div><div class=\"lev3 toc-item\"><a href=\"#g.\" data-toc-modified-id=\"g.-027\"><span class=\"toc-item-num\">0.2.7&nbsp;&nbsp;</span>g.</a></div>"
   ]
  },
  {
   "cell_type": "markdown",
   "metadata": {},
   "source": [
    "## 2.3.1\n",
    "\n",
    "### a.\n",
    "\n",
    "List all pairs of variables in Figure 2.5, that are independent conditional on the set $Z=\\{R,V\\}$"
   ]
  },
  {
   "cell_type": "markdown",
   "metadata": {},
   "source": [
    "| Pair | Status | Reason |\n",
    "|------|--|--|\n",
    "| $U,Y$  | Definitely independent | Only path $U \\leftarrow V \\rightarrow Y$ is blocked by conditioning on $V$. |\n",
    "| $Y,T$  | Definitely independent | Only path $T \\leftarrow U \\leftarrow V \\rightarrow Y$ is blocked by conditioning on $V$. |\n",
    "| $X,T$  | Definitely independent | Only path $X \\rightarrow R \\rightarrow S \\rightarrow T$ is blocked by conditioning on $R$.   |\n",
    "| $X,Y$  | Definitely independent | Only path $X \\rightarrow R \\rightarrow S \\rightarrow T \\leftarrow U \\leftarrow V \\rightarrow Y$ is blocked by NOT conditioning on collider $T$. |\n",
    "| $X,U$  | Definitely independent | Only path $X \\rightarrow R \\rightarrow S \\rightarrow T \\leftarrow U$ is blocked by NOT conditioning on collider $T$. |\n",
    "| $U,S$  | Definitely independent | Only path $S \\rightarrow T \\leftarrow U$ is blocked by NOT conditioning on collider $T$. |\n",
    "| $X,S$  | Definitely independent | Only path $X \\rightarrow R \\rightarrow S$ is blocked by conditioning on $R$.  |\n",
    "| $S,Y$  | Definitely independent | Only path $S \\rightarrow T \\leftarrow U \\leftarrow V \\rightarrow Y$ is blocked by conditioning on $V$.  |"
   ]
  },
  {
   "cell_type": "markdown",
   "metadata": {},
   "source": [
    "### b. \n",
    "\n",
    "For each pair of nonadjacent variables in Figure 2.5, give a set of variables that, when conditioned on, renders that pair independent."
   ]
  },
  {
   "cell_type": "markdown",
   "metadata": {},
   "source": [
    "| Non-adjacent Pair | Set | Reason |\n",
    "|-------------------|------------------|--------|\n",
    "| X, S | \\{R\\} | Only path $X \\rightarrow R \\rightarrow S$ is blocked by conditioning on $R$ |\n",
    "| X, T | \\{R\\} | Only path $X \\rightarrow R \\rightarrow S \\rightarrow T$ is blocked by conditioning on $R$ |\n",
    "| X, U | \\{\\} | Only path $X \\rightarrow R \\rightarrow S \\rightarrow T \\leftarrow U$ is blocked by NOT conditioning on collider $T$. |\n",
    "| X, Y | \\{\\} | Only path $X \\rightarrow R \\rightarrow S \\rightarrow T \\leftarrow U \\leftarrow V \\rightarrow Y$ is blocked by NOT conditioning on collider $T$. |\n",
    "| R, T | \\{S\\} | Only path $R \\rightarrow S \\rightarrow T$ is blocked by NOT conditioning on $T$ |\n",
    "| R, U | \\{\\} | Only path $R \\rightarrow S \\rightarrow T \\leftarrow U$ is blocked by NOT conditioning on $T$ |\n",
    "| R, V | \\{\\} | Only path $R \\rightarrow S \\rightarrow T \\leftarrow U \\leftarrow V$ is blocked by NOT conditioning on $T$ |\n",
    "| R, Y | \\{\\} | Only path $R \\rightarrow S \\rightarrow T \\leftarrow U \\leftarrow V \\rightarrow Y$ is blocked by NOT conditioning on $T$ |\n",
    "| S, U | \\{\\} | Only path $S \\rightarrow T \\leftarrow U$ is blocked by NOT conditioning on collider $T$. |\n",
    "| S, V | \\{\\} | Only path $S \\rightarrow T \\leftarrow U \\leftarrow V$ is blocked by NOT conditioning on collider $T$. |\n",
    "| S, Y | \\{\\} | Only path $S \\rightarrow T \\leftarrow U \\leftarrow V \\rightarrow Y$ is blocked by NOT conditioning on collider $T$. |\n",
    "| T, V | \\{U\\} | Only path $T \\leftarrow U \\leftarrow V$ is blocked by conditioning on $U$. |\n",
    "| T, Y | \\{U\\} | Only path $T \\leftarrow U \\leftarrow V \\rightarrow Y$ is blocked by conditioning on $U$. |\n",
    "| U, Y | \\{V\\} | Only path $U \\leftarrow V \\rightarrow Y$ is blocked by conditioning on $V$. |\n"
   ]
  },
  {
   "cell_type": "markdown",
   "metadata": {},
   "source": [
    "### c.\n",
    "\n",
    "List all pairs of variables in Figure 2.6 that are independent conditional on the set $Z=\\{R,P\\}$."
   ]
  },
  {
   "cell_type": "markdown",
   "metadata": {},
   "source": [
    "| Pair | Reason |\n",
    "|------|--|--|\n",
    "| $X,S$  | Only path $X \\rightarrow R \\rightarrow S$ is blocked by conditioning on $R$. |\n",
    "| $X,T$ | Only path $X \\rightarrow R \\rightarrow S$ is blocked by conditioning on $R$. |\n",
    "| $X,U$  | Only path $X \\rightarrow R \\rightarrow S \\rightarrow T \\leftarrow U$ is blocked by $R$.|\n",
    "| $X,V$  | Only path $X \\rightarrow R \\rightarrow S \\rightarrow T \\leftarrow U \\leftarrow V$ is blocked by $R$.|\n",
    "| $X,Y$  | Only path $X \\rightarrow R \\rightarrow S \\rightarrow T \\leftarrow U \\leftarrow V \\rightarrow Y$ is blocked by $R$.|\n",
    "\n",
    "\n",
    "\n",
    "All the other pairs are dependent on each other, because we are conditioning on $P$, a descendant of a collider $T$, and there's nothing else blocking the dependence that results from that.\n"
   ]
  },
  {
   "cell_type": "markdown",
   "metadata": {},
   "source": [
    "### d.\n",
    "\n",
    "For each pair of nonadjacent variables in Figure 2.6, give a set of variables that, when conditioned on, renders that pair independent."
   ]
  },
  {
   "cell_type": "markdown",
   "metadata": {},
   "source": [
    "| non-adjacent pair | conditioning set | \n",
    "|-------------------|------------------|\n",
    "| X,S | \\{R\\} |\n",
    "| X,T | \\{R\\}, \\{S\\} |\n",
    "| X,P | \\{R\\}, \\{S\\}, \\{T\\} |\n",
    "| X,U | \\{\\} |\n",
    "| X,V | \\{\\} |\n",
    "| X,Y | \\{\\} |\n",
    "| R,T | \\{S\\} |\n",
    "| R,P | \\{S\\}, \\{T\\} |\n",
    "| R,U | \\{\\} |\n",
    "| R,V | \\{\\} |\n",
    "| R,Y | \\{\\} |\n",
    "| S,P | \\{T\\} |\n",
    "| S,U | \\{\\} |\n",
    "| S,V | \\{\\} |\n",
    "| S,Y | \\{\\} |\n",
    "| T,V | \\{U\\} |\n",
    "| T,Y | \\{U\\}, \\{V\\} |\n",
    "| U,P | \\{T\\} |\n",
    "| U,Y | \\{V\\} |\n",
    "| P,V | \\{U\\}, \\{T\\} |\n",
    "| P,Y | \\{U\\}, \\{V\\}, \\{T\\} |\n"
   ]
  },
  {
   "cell_type": "markdown",
   "metadata": {},
   "source": [
    "### e.\n",
    "\n",
    "Suppose we generate data by the model described in Figure 2.5, and we fit them with the linear equation $Y = a + bX + cZ$. Which of the variables in the model may be chosen for $Z$ so as to guarantee that the slope $b$ would be equal to zero? [Hint: Recall, a non zero slope implies that $Y$ and $X$ are dependent given $Z$.]"
   ]
  },
  {
   "cell_type": "markdown",
   "metadata": {},
   "source": [
    "_This question is essentially asking what to condition on such that $X$ and $Y$ become independent. $X$ and $Y$ are already independent, given the presence of collider node $T$, so we don't need to condition on anything. However, if we must, we could condition on $R$, $S$, $U$, $V$, or even $X$. Conditioning on any of them is not necessary, but will guarantee that the slope $b$ would be equal to zero._"
   ]
  },
  {
   "cell_type": "markdown",
   "metadata": {},
   "source": [
    "### f. \n",
    "\n",
    "Continuing question (e), suppose we fit the data with the equation:\n",
    "\n",
    "$$ Y = a + bX + cR + dS + eT + fP $$\n",
    "\n",
    "which of the coefficients would be zero?"
   ]
  },
  {
   "cell_type": "markdown",
   "metadata": {},
   "source": [
    "_Path between $Y$ and $P$ is unblocked when not conditioning on anything. However, after conditioning on $T$, the path is blocked so we can expect the coefficient of $f$ to be 0. Conditioning on $T$ makes $Y$ be dependent on $S$, so $d$ won't be 0. Since we're conditioning on $S$, the path from $R$ to $Y$ is blocked, so $b$ will be 0. Likewise, since we're conditioning on $R$, $S$, the path from $X$ to $Y$ is also blocked. Therefore, $b$ will be 0._"
   ]
  },
  {
   "cell_type": "code",
   "execution_count": 140,
   "metadata": {},
   "outputs": [],
   "source": [
    "# Path\n",
    "# - get_start_node\n",
    "# - get_end_node\n",
    "# - blocked\n",
    "# - unblocked\n",
    "# - must have two nodes?\n",
    "# NodePair\n",
    "# - d_separated\n",
    "# Node\n",
    "# - is_conditioned\n",
    "# - is_unconditioned\n",
    "# - has_descendant_conditioned\n",
    "\n",
    "# - is_chain\n",
    "# - is_collider\n",
    "# - is_fork\n",
    "# - get_descendants\n",
    "# - get_ancestors\n",
    "# - get_parents\n",
    "# - get_name\n",
    "# - equals(node=,)\n",
    "# - children\n",
    "#\n",
    "# PathNode\n",
    "# - get_node\n",
    "# - is_chain\n",
    "# - is_collider\n",
    "# - is_not_collider\n",
    "# - is_fork\n",
    "# - get_child\n",
    "# - get_parent"
   ]
  },
  {
   "cell_type": "code",
   "execution_count": 157,
   "metadata": {},
   "outputs": [],
   "source": [
    "class Node(object):\n",
    "    def __init__(\n",
    "        self, \n",
    "        name=None, \n",
    "        children=None,\n",
    "        parents=None,\n",
    "        conditioned=False\n",
    "    ):\n",
    "        self.name = name\n",
    "        \n",
    "        if children == None:\n",
    "            self.children = []\n",
    "        else:\n",
    "            self.children = children\n",
    "        \n",
    "        if parents == None:\n",
    "            self.parents = []\n",
    "        else:\n",
    "            self.parents = parents\n",
    "            \n",
    "        \n",
    "        self.conditioned = conditioned\n",
    "    \n",
    "    def set_conditioned(self, conditioned=False):\n",
    "        self.conditioned = conditioned\n",
    "        \n",
    "    def is_conditioned(self):\n",
    "        return self.conditioned\n",
    "    \n",
    "    def is_not_conditioned(self):\n",
    "        return not self.is_conditioned()\n",
    "    \n",
    "    def is_chain(self):\n",
    "        return self.has_parents() and self.has_children()\n",
    "    \n",
    "    def is_fork(self):\n",
    "        return len(self.get_children()) > 1\n",
    "    \n",
    "    def is_collider(self):\n",
    "        return len(self.get_parents()) > 1\n",
    "    \n",
    "    def is_not_collider(self):\n",
    "        return not self.is_collider()\n",
    "    \n",
    "    def equals(self, node=None):\n",
    "        return node.get_name() == self.get_name()\n",
    "        \n",
    "    def add_child(self, child=None):\n",
    "        self.children.append(child)\n",
    "        child.parents.append(self)\n",
    "        \n",
    "    def add_parent(self, parent=None):\n",
    "        self.parents.append(parent)\n",
    "        parent.children.append(self)\n",
    "        \n",
    "    def has_parents(self):\n",
    "        return len(self.get_parents()) > 0\n",
    "    \n",
    "    def has_children(self):\n",
    "        return len(self.get_children()) > 0\n",
    "        \n",
    "    def get_name(self):\n",
    "        return self.name\n",
    "    \n",
    "    def get_children(self):\n",
    "        return self.children\n",
    "    \n",
    "    def get_parents(self):\n",
    "        return self.parents\n",
    "    \n",
    "    def get_descendants(self):\n",
    "        descendants = self.get_children()\n",
    "        \n",
    "        for _child in self.children:\n",
    "            descendants = list(set(descendants) | set(_child.get_children()))\n",
    "            \n",
    "        return descendants\n",
    "            \n",
    "    def get_ancestors(self):\n",
    "        ancestors = self.get_parents()\n",
    "        \n",
    "        for _parent in self.parents:\n",
    "            ancestors = list(set(ancestors) | set(_parent.get_parents()))\n",
    "    \n",
    "        return ancestors\n",
    "    \n",
    "    def set_children(self, children):\n",
    "        self.children = children\n",
    "        \n",
    "    def set_parents(self, parents):\n",
    "        self.parents = parents\n",
    "        \n",
    "    def has_conditioned_dependents(self):\n",
    "        for desc in self.get_descendants():\n",
    "            if desc.is_conditioned():\n",
    "                return True\n",
    "        \n",
    "        return False\n",
    "    \n",
    "    def has_no_conditioned_dependents(self):\n",
    "        return not self.has_conditioned_dependents()"
   ]
  },
  {
   "cell_type": "code",
   "execution_count": 209,
   "metadata": {},
   "outputs": [
    {
     "data": {
      "text/plain": [
       "{1, 2, 3}"
      ]
     },
     "execution_count": 209,
     "metadata": {},
     "output_type": "execute_result"
    }
   ],
   "source": [
    "set([3,2]) | set([1,2])"
   ]
  },
  {
   "cell_type": "code",
   "execution_count": 237,
   "metadata": {},
   "outputs": [],
   "source": [
    "class Graph(object):\n",
    "    def __init__(nodes=None):\n",
    "        if nodes == None:\n",
    "            self.nodes = []\n",
    "            \n",
    "    def find_paths_between(self, first_node=None, second_node=None):\n",
    "        collection = []\n",
    "        \n",
    "        self.find_path(\n",
    "            node=first_node,\n",
    "            node_to_find=second_node,\n",
    "            explored_nodes=[first_node],\n",
    "            collection=collection\n",
    "        )\n",
    "        \n",
    "        return collection\n",
    "    \n",
    "    # returns a list of nodes\n",
    "    def find_path(\n",
    "        self, \n",
    "        node=None, \n",
    "        node_to_find=None, \n",
    "        explored_nodes=None,\n",
    "        collection=None\n",
    "    ):\n",
    "        print('node.get_name()', node.get_name())\n",
    "        if node_to_find == node:\n",
    "            collection.append(explored_nodes)\n",
    "            return\n",
    "        \n",
    "        parents = node.get_parents()\n",
    "        children = node.get_children()\n",
    "        \n",
    "        unexplored_nodes = list(\n",
    "            (set(parents) | set(children)) - set(explored_nodes)\n",
    "        )\n",
    "        \n",
    "        explored_nodes_copy = list(explored_nodes)\n",
    "        \n",
    "        for unexplored_node in unexplored_nodes:\n",
    "            explored_nodes_copy.append(unexplored_node)\n",
    "            \n",
    "            self.find_path(\n",
    "                node=unexplored_node, \n",
    "                node_to_find=node_to_find, \n",
    "                explored_nodes=explored_nodes_copy,\n",
    "                collection=collection\n",
    "            )"
   ]
  },
  {
   "cell_type": "markdown",
   "metadata": {},
   "source": [
    "once a simple path has been found, convert it to a path object, which can then  be asked if it's blocked or not. Conversion would entail finding the relationship between subsequent nodes.\n",
    "\n",
    "The relationship between subsequent nodes can already be calculated in one pass, if you'd like"
   ]
  },
  {
   "cell_type": "code",
   "execution_count": 238,
   "metadata": {},
   "outputs": [
    {
     "name": "stdout",
     "output_type": "stream",
     "text": [
      "node.get_name() A\n",
      "node.get_name() D\n",
      "node.get_name() C\n",
      "node.get_name() B\n",
      "node.get_name() C\n"
     ]
    }
   ],
   "source": [
    "a = Node(name='A')\n",
    "b = Node(name='B')\n",
    "c = Node(name='C')\n",
    "d = Node(name='D')\n",
    "\n",
    "a.add_child(child=b)\n",
    "b.add_child(child=c)\n",
    "a.add_child(child=d)\n",
    "d.add_child(child=c)\n",
    "\n",
    "graph = Graph()\n",
    "paths = graph.find_paths_between(a, c)"
   ]
  },
  {
   "cell_type": "code",
   "execution_count": 233,
   "metadata": {},
   "outputs": [
    {
     "data": {
      "text/plain": [
       "2"
      ]
     },
     "execution_count": 233,
     "metadata": {},
     "output_type": "execute_result"
    }
   ],
   "source": [
    "len(paths)"
   ]
  },
  {
   "cell_type": "code",
   "execution_count": 234,
   "metadata": {},
   "outputs": [
    {
     "name": "stdout",
     "output_type": "stream",
     "text": [
      "A\n",
      "B\n",
      "C\n"
     ]
    },
    {
     "data": {
      "text/plain": [
       "[None, None, None]"
      ]
     },
     "execution_count": 234,
     "metadata": {},
     "output_type": "execute_result"
    }
   ],
   "source": [
    "[print(i.get_name()) for i in paths[0]]"
   ]
  },
  {
   "cell_type": "code",
   "execution_count": 235,
   "metadata": {},
   "outputs": [
    {
     "name": "stdout",
     "output_type": "stream",
     "text": [
      "A\n",
      "B\n",
      "D\n",
      "C\n"
     ]
    },
    {
     "data": {
      "text/plain": [
       "[None, None, None, None]"
      ]
     },
     "execution_count": 235,
     "metadata": {},
     "output_type": "execute_result"
    }
   ],
   "source": [
    "[print(i.get_name()) for i in paths[1]]"
   ]
  },
  {
   "cell_type": "code",
   "execution_count": 236,
   "metadata": {
    "scrolled": true
   },
   "outputs": [
    {
     "name": "stdout",
     "output_type": "stream",
     "text": [
      "A\n",
      "B\n",
      "D\n",
      "C\n"
     ]
    },
    {
     "data": {
      "text/plain": [
       "[None, None, None, None]"
      ]
     },
     "execution_count": 236,
     "metadata": {},
     "output_type": "execute_result"
    }
   ],
   "source": [
    "[print(i.get_name()) for i in paths[1]]"
   ]
  },
  {
   "cell_type": "code",
   "execution_count": 226,
   "metadata": {},
   "outputs": [
    {
     "data": {
      "text/plain": [
       "[[<__main__.Node at 0x10c33f9b0>,\n",
       "  <__main__.Node at 0x10c33f128>,\n",
       "  <__main__.Node at 0x10c33fbe0>]]"
      ]
     },
     "execution_count": 226,
     "metadata": {},
     "output_type": "execute_result"
    }
   ],
   "source": [
    "paths"
   ]
  },
  {
   "cell_type": "code",
   "execution_count": 213,
   "metadata": {},
   "outputs": [
    {
     "name": "stdout",
     "output_type": "stream",
     "text": [
      "A\n",
      "B\n",
      "C\n"
     ]
    },
    {
     "data": {
      "text/plain": [
       "[None, None, None]"
      ]
     },
     "execution_count": 213,
     "metadata": {},
     "output_type": "execute_result"
    }
   ],
   "source": [
    "[print(i.get_name()) for i in paths[0]]"
   ]
  },
  {
   "cell_type": "code",
   "execution_count": 228,
   "metadata": {},
   "outputs": [
    {
     "data": {
      "text/plain": [
       "[[<__main__.Node at 0x10c33fbe0>,\n",
       "  <__main__.Node at 0x10c33f128>,\n",
       "  <__main__.Node at 0x10c33f9b0>]]"
      ]
     },
     "execution_count": 228,
     "metadata": {},
     "output_type": "execute_result"
    }
   ],
   "source": [
    "graph.find_paths_between(c,a)"
   ]
  },
  {
   "cell_type": "code",
   "execution_count": 207,
   "metadata": {},
   "outputs": [
    {
     "data": {
      "text/plain": [
       "2"
      ]
     },
     "execution_count": 207,
     "metadata": {},
     "output_type": "execute_result"
    }
   ],
   "source": [
    "len(paths)"
   ]
  },
  {
   "cell_type": "code",
   "execution_count": 208,
   "metadata": {
    "scrolled": true
   },
   "outputs": [
    {
     "ename": "AttributeError",
     "evalue": "'list' object has no attribute 'get_name'",
     "output_type": "error",
     "traceback": [
      "\u001b[0;31m--------------------------------------------------\u001b[0m",
      "\u001b[0;31mAttributeError\u001b[0m   Traceback (most recent call last)",
      "\u001b[0;32m<ipython-input-208-a9bb97481b1f>\u001b[0m in \u001b[0;36m<module>\u001b[0;34m()\u001b[0m\n\u001b[0;32m----> 1\u001b[0;31m \u001b[0;34m[\u001b[0m\u001b[0mprint\u001b[0m\u001b[0;34m(\u001b[0m\u001b[0mi\u001b[0m\u001b[0;34m.\u001b[0m\u001b[0mget_name\u001b[0m\u001b[0;34m(\u001b[0m\u001b[0;34m)\u001b[0m\u001b[0;34m)\u001b[0m \u001b[0;32mfor\u001b[0m \u001b[0mi\u001b[0m \u001b[0;32min\u001b[0m \u001b[0mpaths\u001b[0m\u001b[0;34m[\u001b[0m\u001b[0;36m1\u001b[0m\u001b[0;34m]\u001b[0m\u001b[0;34m]\u001b[0m\u001b[0;34m\u001b[0m\u001b[0m\n\u001b[0m",
      "\u001b[0;32m<ipython-input-208-a9bb97481b1f>\u001b[0m in \u001b[0;36m<listcomp>\u001b[0;34m(.0)\u001b[0m\n\u001b[0;32m----> 1\u001b[0;31m \u001b[0;34m[\u001b[0m\u001b[0mprint\u001b[0m\u001b[0;34m(\u001b[0m\u001b[0mi\u001b[0m\u001b[0;34m.\u001b[0m\u001b[0mget_name\u001b[0m\u001b[0;34m(\u001b[0m\u001b[0;34m)\u001b[0m\u001b[0;34m)\u001b[0m \u001b[0;32mfor\u001b[0m \u001b[0mi\u001b[0m \u001b[0;32min\u001b[0m \u001b[0mpaths\u001b[0m\u001b[0;34m[\u001b[0m\u001b[0;36m1\u001b[0m\u001b[0;34m]\u001b[0m\u001b[0;34m]\u001b[0m\u001b[0;34m\u001b[0m\u001b[0m\n\u001b[0m",
      "\u001b[0;31mAttributeError\u001b[0m: 'list' object has no attribute 'get_name'"
     ]
    }
   ],
   "source": [
    "[print(i.get_name()) for i in paths[1]]"
   ]
  },
  {
   "cell_type": "code",
   "execution_count": 181,
   "metadata": {},
   "outputs": [
    {
     "data": {
      "text/plain": [
       "[1, 2, 3]"
      ]
     },
     "execution_count": 181,
     "metadata": {},
     "output_type": "execute_result"
    }
   ],
   "source": [
    "list((set([1,2,3]) | set([3,4])) - set([4]))"
   ]
  },
  {
   "cell_type": "code",
   "execution_count": 178,
   "metadata": {
    "scrolled": true
   },
   "outputs": [
    {
     "data": {
      "text/plain": [
       "[1]"
      ]
     },
     "execution_count": 178,
     "metadata": {},
     "output_type": "execute_result"
    }
   ],
   "source": [
    "list(set([1,2,3]) - set([3]) - set([2]))"
   ]
  },
  {
   "cell_type": "code",
   "execution_count": 167,
   "metadata": {},
   "outputs": [],
   "source": [
    "class PathNode(object):\n",
    "    # Points to a node in the graph\n",
    "    # We do so because when we encounter a collider, \n",
    "    # we can ask whether on not a child has been conditioned\n",
    "    \n",
    "    def __init__(self, node=None):\n",
    "        self.node = node\n",
    "        \n",
    "        # might make sense to use null obj.\n",
    "        self.parents = []\n",
    "        self.children = []\n",
    "        \n",
    "    def is_collider(self):\n",
    "        return len(self.parents) == 2\n",
    "    \n",
    "    def is_not_collider(self):\n",
    "        return not self.is_collider()\n",
    "    \n",
    "    def is_conditioned(self):\n",
    "        return self.node.is_conditioned()\n",
    "    \n",
    "    def is_not_conditioned(self):\n",
    "        return self.node.is_not_conditioned()\n",
    "    \n",
    "    def has_conditioned_dependents(self):\n",
    "        return self.node.has_conditioned_dependents()\n",
    "    \n",
    "    def has_no_conditioned_dependents(self):\n",
    "        return self.node.has_no_conditioned_dependents()"
   ]
  },
  {
   "cell_type": "code",
   "execution_count": 168,
   "metadata": {},
   "outputs": [],
   "source": [
    "class Path(object):\n",
    "    def __init__(\n",
    "        self,\n",
    "        path_nodes=None\n",
    "    ):\n",
    "        \n",
    "        self.path_nodes = path_nodes\n",
    "    \n",
    "    def middle_nodes(self):\n",
    "        if len(self.path_nodes) < 3:\n",
    "            return []\n",
    "        \n",
    "        return self.path_nodes[1:-1]\n",
    "    \n",
    "    def is_blocked(self):        \n",
    "        # X -> Y -> Z\n",
    "        # Y <- A\n",
    "        # All paths between X,A:\n",
    "        # X -> Y <- A\n",
    "        # Y is a collider unconditioned\n",
    "        # Z is a descendant of Y\n",
    "        # If Z is conditioned on, that tells us something about Y\n",
    "        \n",
    "        for middle_node in self.middle_nodes():\n",
    "            if middle_node.is_not_collider() and middle_node.is_conditioned():\n",
    "                return True\n",
    "            elif middle_node.is_collider() \\\n",
    "                and middle_node.is_not_conditioned() \\\n",
    "                and middle_node.has_no_conditioned_dependents():\n",
    "                return True\n",
    "                \n",
    "        return False\n",
    "            \n",
    "        \n",
    "    def print(self):\n",
    "        return"
   ]
  },
  {
   "cell_type": "code",
   "execution_count": 169,
   "metadata": {},
   "outputs": [],
   "source": [
    "beauty_node = Node(name='Beauty')\n",
    "talent_node = Node(name='Talent')\n",
    "celebrity_node = Node(name='Celebrity')\n",
    "\n",
    "# conditioning on descendant of collider should unblock\n",
    "income_node = Node(name='Income', conditioned=True)\n",
    "\n",
    "beauty_node.add_child(child=celebrity_node)\n",
    "talent_node.add_child(child=celebrity_node)\n",
    "celebrity_node.add_child(child=income_node)\n",
    "\n",
    "beauty_path_node = PathNode(node=beauty_node)\n",
    "talent_path_node = PathNode(node=talent_node)\n",
    "celebrity_path_node = PathNode(node=celebrity_node)\n",
    "\n",
    "path_with_collider = Path(\n",
    "    path_nodes=[beauty_node, celebrity_node, talent_path_node]\n",
    ")"
   ]
  },
  {
   "cell_type": "code",
   "execution_count": 174,
   "metadata": {},
   "outputs": [
    {
     "data": {
      "text/plain": [
       "True"
      ]
     },
     "execution_count": 174,
     "metadata": {},
     "output_type": "execute_result"
    }
   ],
   "source": [
    "path_with_collider.is_blocked()"
   ]
  },
  {
   "cell_type": "code",
   "execution_count": 175,
   "metadata": {},
   "outputs": [
    {
     "data": {
      "text/plain": [
       "True"
      ]
     },
     "execution_count": 175,
     "metadata": {},
     "output_type": "execute_result"
    }
   ],
   "source": [
    "beauty_node = Node(name='Beauty')\n",
    "talent_node = Node(name='Talent')\n",
    "celebrity_node = Node(name='Celebrity')\n",
    "# Not conditioning on collider or any of its descendants should block\n",
    "income_node = Node(name='Income', conditioned=False)\n",
    "\n",
    "beauty_node.add_child(child=celebrity_node)\n",
    "talent_node.add_child(child=celebrity_node)\n",
    "celebrity_node.add_child(child=income_node)\n",
    "\n",
    "beauty_path_node = PathNode(node=beauty_node)\n",
    "talent_path_node = PathNode(node=talent_node)\n",
    "celebrity_path_node = PathNode(node=celebrity_node)\n",
    "\n",
    "path_with_collider = Path(\n",
    "    path_nodes=[beauty_node, celebrity_node, talent_path_node]\n",
    ")\n",
    "\n",
    "path_with_collider.is_blocked()"
   ]
  },
  {
   "cell_type": "code",
   "execution_count": 172,
   "metadata": {},
   "outputs": [
    {
     "data": {
      "text/plain": [
       "False"
      ]
     },
     "execution_count": 172,
     "metadata": {},
     "output_type": "execute_result"
    }
   ],
   "source": [
    "fire_node = Node(name='Fire')\n",
    "smoke_node = Node(name='Smoke')\n",
    "alarm_node = Node(name='Alarm')\n",
    "\n",
    "fire_node.add_child(smoke_node)\n",
    "smoke_node.add_child(alarm_node)\n",
    "\n",
    "path_with_chain = Path(\n",
    "    path_nodes=[\n",
    "        PathNode(node=fire_node),\n",
    "        PathNode(node=smoke_node),\n",
    "        PathNode(node=alarm_node)\n",
    "    ]\n",
    ")\n",
    "\n",
    "path_with_chain.is_blocked()"
   ]
  },
  {
   "cell_type": "code",
   "execution_count": 173,
   "metadata": {},
   "outputs": [
    {
     "data": {
      "text/plain": [
       "True"
      ]
     },
     "execution_count": 173,
     "metadata": {},
     "output_type": "execute_result"
    }
   ],
   "source": [
    "fire_node = Node(name='Fire')\n",
    "# conditioned on non-collider middle node\n",
    "smoke_node = Node(name='Smoke', conditioned=True)\n",
    "alarm_node = Node(name='Alarm')\n",
    "\n",
    "fire_node.add_child(smoke_node)\n",
    "smoke_node.add_child(alarm_node)\n",
    "\n",
    "path_with_chain = Path(\n",
    "    path_nodes=[\n",
    "        PathNode(node=fire_node),\n",
    "        PathNode(node=smoke_node),\n",
    "        PathNode(node=alarm_node)\n",
    "    ]\n",
    ")\n",
    "\n",
    "path_with_chain.is_blocked()"
   ]
  },
  {
   "cell_type": "markdown",
   "metadata": {},
   "source": [
    "## 2.4.1    \n",
    "\n",
    "Figure 2.9 below represents a causal graph from which the error terms have been deleted. Assume that all those errors are mutually independent."
   ]
  },
  {
   "cell_type": "markdown",
   "metadata": {},
   "source": [
    "### a.\n",
    "\n",
    "For each pair of nonadjacent nodes in this graph, find a set of variables that $d$-separates that pair. What does this list tell us about independencies in the data?"
   ]
  },
  {
   "cell_type": "markdown",
   "metadata": {},
   "source": [
    "| Pair | Conditioning Set | Reason |\n",
    "| Z_1, W | {X}"
   ]
  },
  {
   "cell_type": "markdown",
   "metadata": {},
   "source": [
    "### b.\n",
    "\n",
    "Repeat question (a) assuming that only variables in the set ${Z_3, W, X, Z_1}$ can be measured."
   ]
  },
  {
   "cell_type": "markdown",
   "metadata": {},
   "source": [
    "### c.\n",
    "\n",
    "For each pair of nonadjacent nodes in the graph, determine whether they are independent conditional on all other variables."
   ]
  },
  {
   "cell_type": "markdown",
   "metadata": {},
   "source": [
    "### d.\n",
    "\n",
    "For every variable $V$ in the graph, find a minimal set of nodes that renders $V$ independent of all other variables in the graph."
   ]
  },
  {
   "cell_type": "markdown",
   "metadata": {},
   "source": [
    "### e.\n",
    "\n",
    "Suppose we wish to estimate the value of $Y$ from measurements taken on all other variables in the model. Find the smallest set of variables that would yield as good an estimate of $Y$ as when we measured all variables."
   ]
  },
  {
   "cell_type": "markdown",
   "metadata": {},
   "source": [
    "### f.\n",
    "\n",
    "Repeat question (e) assuming that we wish to estimate the value of $Z_2$."
   ]
  },
  {
   "cell_type": "markdown",
   "metadata": {},
   "source": [
    "### g.\n",
    "\n",
    "Suppose we wish to predict the value of $Z_2$ from measurements of $Z_3$. Would the quality of our prediction improve if we add measurement of $W$? Explain."
   ]
  },
  {
   "cell_type": "code",
   "execution_count": null,
   "metadata": {},
   "outputs": [],
   "source": []
  }
 ],
 "metadata": {
  "kernelspec": {
   "display_name": "Python 3",
   "language": "python",
   "name": "python3"
  },
  "language_info": {
   "codemirror_mode": {
    "name": "ipython",
    "version": 3
   },
   "file_extension": ".py",
   "mimetype": "text/x-python",
   "name": "python",
   "nbconvert_exporter": "python",
   "pygments_lexer": "ipython3",
   "version": "3.6.0"
  },
  "toc": {
   "colors": {
    "hover_highlight": "#DAA520",
    "navigate_num": "#000000",
    "navigate_text": "#333333",
    "running_highlight": "#FF0000",
    "selected_highlight": "#FFD700",
    "sidebar_border": "#EEEEEE",
    "wrapper_background": "#FFFFFF"
   },
   "moveMenuLeft": true,
   "nav_menu": {
    "height": "162px",
    "width": "254px"
   },
   "navigate_menu": true,
   "number_sections": false,
   "sideBar": true,
   "threshold": "5",
   "toc_cell": true,
   "toc_section_display": "block",
   "toc_window_display": true,
   "widenNotebook": false
  }
 },
 "nbformat": 4,
 "nbformat_minor": 2
}
