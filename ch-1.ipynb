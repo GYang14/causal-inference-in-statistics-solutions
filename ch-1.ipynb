{
 "cells": [
  {
   "cell_type": "markdown",
   "metadata": {
    "toc": "true"
   },
   "source": [
    "# Table of Contents\n",
    " <p><div class=\"lev1 toc-item\"><a href=\"#Chapter-1-Study-Questions\" data-toc-modified-id=\"Chapter-1-Study-Questions-1\"><span class=\"toc-item-num\">1&nbsp;&nbsp;</span>Chapter 1 Study Questions</a></div><div class=\"lev2 toc-item\"><a href=\"#Import-statements\" data-toc-modified-id=\"Import-statements-11\"><span class=\"toc-item-num\">1.1&nbsp;&nbsp;</span>Import statements</a></div><div class=\"lev2 toc-item\"><a href=\"#1.2.1\" data-toc-modified-id=\"1.2.1-12\"><span class=\"toc-item-num\">1.2&nbsp;&nbsp;</span>1.2.1</a></div><div class=\"lev3 toc-item\"><a href=\"#a.\" data-toc-modified-id=\"a.-121\"><span class=\"toc-item-num\">1.2.1&nbsp;&nbsp;</span>a.</a></div><div class=\"lev3 toc-item\"><a href=\"#b.\" data-toc-modified-id=\"b.-122\"><span class=\"toc-item-num\">1.2.2&nbsp;&nbsp;</span>b.</a></div><div class=\"lev3 toc-item\"><a href=\"#c.\" data-toc-modified-id=\"c.-123\"><span class=\"toc-item-num\">1.2.3&nbsp;&nbsp;</span>c.</a></div><div class=\"lev2 toc-item\"><a href=\"#1.2.2\" data-toc-modified-id=\"1.2.2-13\"><span class=\"toc-item-num\">1.3&nbsp;&nbsp;</span>1.2.2</a></div><div class=\"lev2 toc-item\"><a href=\"#1.2.3\" data-toc-modified-id=\"1.2.3-14\"><span class=\"toc-item-num\">1.4&nbsp;&nbsp;</span>1.2.3</a></div><div class=\"lev3 toc-item\"><a href=\"#a.\" data-toc-modified-id=\"a.-141\"><span class=\"toc-item-num\">1.4.1&nbsp;&nbsp;</span>a.</a></div><div class=\"lev3 toc-item\"><a href=\"#b.\" data-toc-modified-id=\"b.-142\"><span class=\"toc-item-num\">1.4.2&nbsp;&nbsp;</span>b.</a></div><div class=\"lev2 toc-item\"><a href=\"#1.2.4\" data-toc-modified-id=\"1.2.4-15\"><span class=\"toc-item-num\">1.5&nbsp;&nbsp;</span>1.2.4</a></div><div class=\"lev3 toc-item\"><a href=\"#a.\" data-toc-modified-id=\"a.-151\"><span class=\"toc-item-num\">1.5.1&nbsp;&nbsp;</span>a.</a></div><div class=\"lev3 toc-item\"><a href=\"#b.\" data-toc-modified-id=\"b.-152\"><span class=\"toc-item-num\">1.5.2&nbsp;&nbsp;</span>b.</a></div><div class=\"lev3 toc-item\"><a href=\"#c.\" data-toc-modified-id=\"c.-153\"><span class=\"toc-item-num\">1.5.3&nbsp;&nbsp;</span>c.</a></div><div class=\"lev3 toc-item\"><a href=\"#d.\" data-toc-modified-id=\"d.-154\"><span class=\"toc-item-num\">1.5.4&nbsp;&nbsp;</span>d.</a></div><div class=\"lev3 toc-item\"><a href=\"#e.\" data-toc-modified-id=\"e.-155\"><span class=\"toc-item-num\">1.5.5&nbsp;&nbsp;</span>e.</a></div><div class=\"lev2 toc-item\"><a href=\"#1.3.1\" data-toc-modified-id=\"1.3.1-16\"><span class=\"toc-item-num\">1.6&nbsp;&nbsp;</span>1.3.1</a></div><div class=\"lev2 toc-item\"><a href=\"#1.3.2\" data-toc-modified-id=\"1.3.2-17\"><span class=\"toc-item-num\">1.7&nbsp;&nbsp;</span>1.3.2</a></div><div class=\"lev3 toc-item\"><a href=\"#a.\" data-toc-modified-id=\"a.-171\"><span class=\"toc-item-num\">1.7.1&nbsp;&nbsp;</span>a.</a></div><div class=\"lev3 toc-item\"><a href=\"#b.\" data-toc-modified-id=\"b.-172\"><span class=\"toc-item-num\">1.7.2&nbsp;&nbsp;</span>b.</a></div><div class=\"lev3 toc-item\"><a href=\"#c.\" data-toc-modified-id=\"c.-173\"><span class=\"toc-item-num\">1.7.3&nbsp;&nbsp;</span>c.</a></div><div class=\"lev3 toc-item\"><a href=\"#d.\" data-toc-modified-id=\"d.-174\"><span class=\"toc-item-num\">1.7.4&nbsp;&nbsp;</span>d.</a></div><div class=\"lev2 toc-item\"><a href=\"#1.3.3\" data-toc-modified-id=\"1.3.3-18\"><span class=\"toc-item-num\">1.8&nbsp;&nbsp;</span>1.3.3</a></div><div class=\"lev3 toc-item\"><a href=\"#a.\" data-toc-modified-id=\"a.-181\"><span class=\"toc-item-num\">1.8.1&nbsp;&nbsp;</span>a.</a></div><div class=\"lev3 toc-item\"><a href=\"#b.\" data-toc-modified-id=\"b.-182\"><span class=\"toc-item-num\">1.8.2&nbsp;&nbsp;</span>b.</a></div><div class=\"lev2 toc-item\"><a href=\"#1.3.4\" data-toc-modified-id=\"1.3.4-19\"><span class=\"toc-item-num\">1.9&nbsp;&nbsp;</span>1.3.4</a></div><div class=\"lev3 toc-item\"><a href=\"#a.\" data-toc-modified-id=\"a.-191\"><span class=\"toc-item-num\">1.9.1&nbsp;&nbsp;</span>a.</a></div><div class=\"lev3 toc-item\"><a href=\"#b.\" data-toc-modified-id=\"b.-192\"><span class=\"toc-item-num\">1.9.2&nbsp;&nbsp;</span>b.</a></div><div class=\"lev2 toc-item\"><a href=\"#1.3.5\" data-toc-modified-id=\"1.3.5-110\"><span class=\"toc-item-num\">1.10&nbsp;&nbsp;</span>1.3.5</a></div><div class=\"lev2 toc-item\"><a href=\"#1.3.6\" data-toc-modified-id=\"1.3.6-111\"><span class=\"toc-item-num\">1.11&nbsp;&nbsp;</span>1.3.6</a></div><div class=\"lev3 toc-item\"><a href=\"#a.\" data-toc-modified-id=\"a.-1111\"><span class=\"toc-item-num\">1.11.1&nbsp;&nbsp;</span>a.</a></div><div class=\"lev3 toc-item\"><a href=\"#b.\" data-toc-modified-id=\"b.-1112\"><span class=\"toc-item-num\">1.11.2&nbsp;&nbsp;</span>b.</a></div><div class=\"lev2 toc-item\"><a href=\"#1.3.7\" data-toc-modified-id=\"1.3.7-112\"><span class=\"toc-item-num\">1.12&nbsp;&nbsp;</span>1.3.7</a></div><div class=\"lev3 toc-item\"><a href=\"#a.\" data-toc-modified-id=\"a.-1121\"><span class=\"toc-item-num\">1.12.1&nbsp;&nbsp;</span>a.</a></div><div class=\"lev3 toc-item\"><a href=\"#b.\" data-toc-modified-id=\"b.-1122\"><span class=\"toc-item-num\">1.12.2&nbsp;&nbsp;</span>b.</a></div><div class=\"lev3 toc-item\"><a href=\"#c.\" data-toc-modified-id=\"c.-1123\"><span class=\"toc-item-num\">1.12.3&nbsp;&nbsp;</span>c.</a></div><div class=\"lev3 toc-item\"><a href=\"#d.\" data-toc-modified-id=\"d.-1124\"><span class=\"toc-item-num\">1.12.4&nbsp;&nbsp;</span>d.</a></div><div class=\"lev3 toc-item\"><a href=\"#e.\" data-toc-modified-id=\"e.-1125\"><span class=\"toc-item-num\">1.12.5&nbsp;&nbsp;</span>e.</a></div><div class=\"lev2 toc-item\"><a href=\"#1.3.8\" data-toc-modified-id=\"1.3.8-113\"><span class=\"toc-item-num\">1.13&nbsp;&nbsp;</span>1.3.8</a></div><div class=\"lev3 toc-item\"><a href=\"#a.\" data-toc-modified-id=\"a.-1131\"><span class=\"toc-item-num\">1.13.1&nbsp;&nbsp;</span>a.</a></div><div class=\"lev3 toc-item\"><a href=\"#b.\" data-toc-modified-id=\"b.-1132\"><span class=\"toc-item-num\">1.13.2&nbsp;&nbsp;</span>b.</a></div><div class=\"lev3 toc-item\"><a href=\"#c.\" data-toc-modified-id=\"c.-1133\"><span class=\"toc-item-num\">1.13.3&nbsp;&nbsp;</span>c.</a></div><div class=\"lev3 toc-item\"><a href=\"#d.\" data-toc-modified-id=\"d.-1134\"><span class=\"toc-item-num\">1.13.4&nbsp;&nbsp;</span>d.</a></div><div class=\"lev3 toc-item\"><a href=\"#e.\" data-toc-modified-id=\"e.-1135\"><span class=\"toc-item-num\">1.13.5&nbsp;&nbsp;</span>e.</a></div><div class=\"lev2 toc-item\"><a href=\"#1.3.9\" data-toc-modified-id=\"1.3.9-114\"><span class=\"toc-item-num\">1.14&nbsp;&nbsp;</span>1.3.9</a></div><div class=\"lev4 toc-item\"><a href=\"#a.\" data-toc-modified-id=\"a.-11401\"><span class=\"toc-item-num\">1.14.0.1&nbsp;&nbsp;</span>a.</a></div><div class=\"lev4 toc-item\"><a href=\"#b.\" data-toc-modified-id=\"b.-11402\"><span class=\"toc-item-num\">1.14.0.2&nbsp;&nbsp;</span>b.</a></div><div class=\"lev2 toc-item\"><a href=\"#1.4.1\" data-toc-modified-id=\"1.4.1-115\"><span class=\"toc-item-num\">1.15&nbsp;&nbsp;</span>1.4.1</a></div><div class=\"lev4 toc-item\"><a href=\"#a.-Name-all-of-the-parents-of-Z.\" data-toc-modified-id=\"a.-Name-all-of-the-parents-of-Z.-11501\"><span class=\"toc-item-num\">1.15.0.1&nbsp;&nbsp;</span>a. Name all of the parents of $Z$.</a></div><div class=\"lev4 toc-item\"><a href=\"#b.-Name-all-the-ancestors-of-Z.\" data-toc-modified-id=\"b.-Name-all-the-ancestors-of-Z.-11502\"><span class=\"toc-item-num\">1.15.0.2&nbsp;&nbsp;</span>b. Name all the ancestors of $Z$.</a></div><div class=\"lev4 toc-item\"><a href=\"#c.-Name-all-the-children-of-W.\" data-toc-modified-id=\"c.-Name-all-the-children-of-W.-11503\"><span class=\"toc-item-num\">1.15.0.3&nbsp;&nbsp;</span>c. Name all the children of $W$.</a></div><div class=\"lev4 toc-item\"><a href=\"#d.-Name-all-the-descendants-of-W.\" data-toc-modified-id=\"d.-Name-all-the-descendants-of-W.-11504\"><span class=\"toc-item-num\">1.15.0.4&nbsp;&nbsp;</span>d. Name all the descendants of $W$.</a></div><div class=\"lev4 toc-item\"><a href=\"#e.-Draw-all-(simple)-paths-between-X-and-T-(i.e.-no-node-should-appear-more-than-once).\" data-toc-modified-id=\"e.-Draw-all-(simple)-paths-between-X-and-T-(i.e.-no-node-should-appear-more-than-once).-11505\"><span class=\"toc-item-num\">1.15.0.5&nbsp;&nbsp;</span>e. Draw all (simple) paths between $X$ and $T$ (i.e. no node should appear more than once).</a></div><div class=\"lev4 toc-item\"><a href=\"#f.-Draw-all-the-directed-paths-between-X-and-T.\" data-toc-modified-id=\"f.-Draw-all-the-directed-paths-between-X-and-T.-11506\"><span class=\"toc-item-num\">1.15.0.6&nbsp;&nbsp;</span>f. Draw all the directed paths between $X$ and $T$.</a></div><div class=\"lev2 toc-item\"><a href=\"#1.5.1\" data-toc-modified-id=\"1.5.1-116\"><span class=\"toc-item-num\">1.16&nbsp;&nbsp;</span>1.5.1</a></div><div class=\"lev3 toc-item\"><a href=\"#a.\" data-toc-modified-id=\"a.-1161\"><span class=\"toc-item-num\">1.16.1&nbsp;&nbsp;</span>a.</a></div><div class=\"lev3 toc-item\"><a href=\"#b.\" data-toc-modified-id=\"b.-1162\"><span class=\"toc-item-num\">1.16.2&nbsp;&nbsp;</span>b.</a></div><div class=\"lev3 toc-item\"><a href=\"#c.\" data-toc-modified-id=\"c.-1163\"><span class=\"toc-item-num\">1.16.3&nbsp;&nbsp;</span>c.</a></div><div class=\"lev3 toc-item\"><a href=\"#d.\" data-toc-modified-id=\"d.-1164\"><span class=\"toc-item-num\">1.16.4&nbsp;&nbsp;</span>d.</a></div><div class=\"lev3 toc-item\"><a href=\"#e.\" data-toc-modified-id=\"e.-1165\"><span class=\"toc-item-num\">1.16.5&nbsp;&nbsp;</span>e.</a></div><div class=\"lev4 toc-item\"><a href=\"#i.\" data-toc-modified-id=\"i.-11651\"><span class=\"toc-item-num\">1.16.5.1&nbsp;&nbsp;</span>i.</a></div><div class=\"lev4 toc-item\"><a href=\"#ii.\" data-toc-modified-id=\"ii.-11652\"><span class=\"toc-item-num\">1.16.5.2&nbsp;&nbsp;</span>ii.</a></div><div class=\"lev3 toc-item\"><a href=\"#f.\" data-toc-modified-id=\"f.-1166\"><span class=\"toc-item-num\">1.16.6&nbsp;&nbsp;</span>f.</a></div><div class=\"lev2 toc-item\"><a href=\"#1.5.2\" data-toc-modified-id=\"1.5.2-117\"><span class=\"toc-item-num\">1.17&nbsp;&nbsp;</span>1.5.2</a></div><div class=\"lev3 toc-item\"><a href=\"#a.\" data-toc-modified-id=\"a.-1171\"><span class=\"toc-item-num\">1.17.1&nbsp;&nbsp;</span>a.</a></div><div class=\"lev3 toc-item\"><a href=\"#b.\" data-toc-modified-id=\"b.-1172\"><span class=\"toc-item-num\">1.17.2&nbsp;&nbsp;</span>b.</a></div><div class=\"lev4 toc-item\"><a href=\"#(1)\" data-toc-modified-id=\"(1)-11721\"><span class=\"toc-item-num\">1.17.2.1&nbsp;&nbsp;</span>(1)</a></div><div class=\"lev4 toc-item\"><a href=\"#(2)\" data-toc-modified-id=\"(2)-11722\"><span class=\"toc-item-num\">1.17.2.2&nbsp;&nbsp;</span>(2)</a></div><div class=\"lev4 toc-item\"><a href=\"#(3)\" data-toc-modified-id=\"(3)-11723\"><span class=\"toc-item-num\">1.17.2.3&nbsp;&nbsp;</span>(3)</a></div><div class=\"lev3 toc-item\"><a href=\"#c.\" data-toc-modified-id=\"c.-1173\"><span class=\"toc-item-num\">1.17.3&nbsp;&nbsp;</span>c.</a></div><div class=\"lev4 toc-item\"><a href=\"#(3)\" data-toc-modified-id=\"(3)-11731\"><span class=\"toc-item-num\">1.17.3.1&nbsp;&nbsp;</span>(3)</a></div><div class=\"lev2 toc-item\"><a href=\"#1.5.3\" data-toc-modified-id=\"1.5.3-118\"><span class=\"toc-item-num\">1.18&nbsp;&nbsp;</span>1.5.3</a></div><div class=\"lev2 toc-item\"><a href=\"#1.5.4\" data-toc-modified-id=\"1.5.4-119\"><span class=\"toc-item-num\">1.19&nbsp;&nbsp;</span>1.5.4</a></div>"
   ]
  },
  {
   "cell_type": "markdown",
   "metadata": {},
   "source": [
    "# Chapter 1 Study Questions"
   ]
  },
  {
   "cell_type": "markdown",
   "metadata": {},
   "source": [
    "## Import statements"
   ]
  },
  {
   "cell_type": "code",
   "execution_count": 2,
   "metadata": {},
   "outputs": [
    {
     "name": "stderr",
     "output_type": "stream",
     "text": [
      "/Users/eddericugaddan/anaconda3/lib/python3.6/site-packages/statsmodels/compat/pandas.py:56: FutureWarning: The pandas.core.datetools module is deprecated and will be removed in a future version. Please use the pandas.tseries module instead.\n",
      "  from pandas.core import datetools\n"
     ]
    }
   ],
   "source": [
    "import numpy as np\n",
    "import pandas as pd\n",
    "import pymc3 as pm\n",
    "import statsmodels.api as sm\n",
    "\n",
    "%matplotlib inline"
   ]
  },
  {
   "cell_type": "markdown",
   "metadata": {},
   "source": [
    "## 1.2.1\n",
    "\n",
    "What is wrong with the following questions?\n",
    "\n",
    "### a. \n",
    "\n",
    "\"Data show that income and marriage have a high positive correlation. Therefore, your earnings will increase if you get married.\"\n",
    "\n",
    "_Correlation does not mean causation. Higher income causes marriage, not the other way around. People prefer mates with high enough incomes, probably because of stability that higher income provides._\n",
    "\n",
    "### b. \n",
    "\n",
    "\"Data show that as the number of fires increase, so does the number of fire fighters. Therefore, to cut down on fires, you should reduce the number of fire fighters.\"\n",
    "\n",
    "_The number of firefighters fluctuates as a result of the number of fires (demand). Changing the number of firefighters would not decrease the number of fires. Decreasing it would probably lead to more damage as a result of lower supply of firefighters._ \n",
    "\n",
    "### c. \n",
    "\n",
    "\"Data show that people who hurry tend to be late to their meetings. Don't hurry, or you'll be late.\"\n",
    "\n",
    "_Lateness causes hurrying, not the other way around. Changing whether or not you're hurrying would not affect lateness._"
   ]
  },
  {
   "cell_type": "markdown",
   "metadata": {},
   "source": [
    "##  1.2.2\n",
    "\n",
    "A baseball batter Tim has a better batting average than his teammate Frank. However, someone notices that Frank has a better batting average than Tim against both right-handed and left-handed pitchers. How can this happen? (Present your answer in a table).\n",
    "\n",
    "|Against | Tim | Frank |\n",
    "|--------|-----|-------|\n",
    "|left    |98/100|979/1000|\n",
    "|right   |5/7   |  4/7   |\n",
    "|total   | 103/107 = 0.962 | 983/1007 = 0.976 |\n"
   ]
  },
  {
   "cell_type": "markdown",
   "metadata": {},
   "source": [
    "## 1.2.3\n",
    "\n",
    "Determine, for each of the following causal stories, whether you should use the aggregate or the segregated data to determine the true effect.\n",
    "\n",
    "### a. \n",
    "\n",
    "There are two treatments used on kidney stones: Treatment $A$ and Treatment $B$. Doctors are more likely to use Treatment $B$ on small stones. Should a patient who doesn't know the size of his or her stone examine the general population data, or the stone size-specific data when determining which treatment will be more effective?\n",
    "\n",
    "_Treatment and effectiveness is confounded by severity (size of kidney stone). In other words, severity impacts both treatment and effectiveness. To decide which treatment is most effective, one should figure out what kidney stone size has before figuring out which treatment to take. Therefore, one should find out the size of one's kidney stone, and then use the segregated data. Using the incorrect operation could be very costly (i.e. loss of human life), so it makes sense to personalize predictions as much as possible (which will use segregated data)._\n",
    "\n",
    "### b. \n",
    "\n",
    "There are two doctors in a small town. Each has performed 100 surgeries in his career, which are of two types: one very difficult surgery and one very easy surgery. The first doctor performs the easy surgery much more often than the difficult surgery and the second doctor performs the difficult surgery more often than the easy surgery. You need surgery, but you do not know whether your case is easy or difficult. Should you consult the success rate of each doctor over all cases, or should you consult their success rates for the easy and difficult cases separately, to maximize the chance of a successful surgery?\n",
    "\n",
    "_I would consult the success rate of each doctor for easy and difficult cases separately. I would probably prefer the doctor who's done more of the difficult cases, even though it might be slightly lower than that of the other doctor who's done more of the easy cases. Easy cases, by definition, are easy, and would probably take a lot less practice to get good at. If possible, I would also look into how recent the doctors' operations have been. If Doctor $A$ had performed the difficult surgery at a higher rate, had a slightly higher rate than Doctor $B$,  but Doctor $A$'s last difficult operation was 20 years ago vs. 2 years ago, I would prefer Doctor $B$. I think using segregated data is useful in this case._"
   ]
  },
  {
   "cell_type": "markdown",
   "metadata": {},
   "source": [
    "## 1.2.4\n",
    "\n",
    "In an attempt to estimate the effectiveness of a new drug, a randomized experiment is conducted. In all, 50% of the patients are assigned to receive the new drug and 50% a placebo. A day before the actual experiment, a nurse hands out lollipos to some patients who show signs of depression, mostly among those who have been assigned to treatment the next day (i.e., the nurse's round happened to take her through the treatment-bound ward). Strangely, the experimental data revealed a Simpson's reversal: Although the drug proved benificial to the population as a whole, drug takers were less likely to recover than non-takers, among both lollipop receivers and lollipop nonreceivers. Assuming that lollipop sucking in itself has no effect whatsover on recovery, answer the following questions:\n",
    "\n",
    "### a. \n",
    "\n",
    "Is the drug beneficial to the population as a whole or harmful?\n",
    "\n",
    "_The drug is beneficial to the population as a whole. Using segregated data would not inform us about the drug's effectiveness on the population as a whole. It only tells us that the drug is less effective on people with depression._\n",
    " \n",
    "### b. \n",
    "\n",
    "Does your answer contradict our gender example, where sex-specific data was deemed more appropriate?\n",
    "\n",
    "_In the gender example, the aggregate success rate was misleading, because more women were more likely to take the drug than men, and women have higher estrogen levels, which we know have an effect on recovery, so the aggregate data is not representative of the population, where, ratio of men and women are more likely to be equal. Thus it made sense to use segregated data to ensure that recovery was due to the drug, and not due to estrogen levels. In this case, we have the opposite problem: we're looking at the sub-population of depressed people; depression is known to have negative effects on recovery, and masks the effectiveness of the drug. Depression generally afflicts a small percentage of the population, and thus is not representative of the population. In this case, it makes sense to use aggregated data instead of segregated data._\n",
    "\n",
    "### c. \n",
    "\n",
    "Draw a graph (informally) that more or less captures the story. (Look ahead to Section 1.4 if you wish.)\n",
    "\n",
    "![Image](./img/lollipop.png)\n",
    "\n",
    "### d. \n",
    "\n",
    "How would you explain the emergence of Simpson's reversal in this story?\n",
    "\n",
    "_Those who got lollipops are depressed and will be treated. We expect that people in the lollipop group would be worse on the drug than those in the non-lollipop group because of depression. However, rate of depression in the population in general is small, so the aggregate would show high success rate._\n",
    "\n",
    "### e. \n",
    "\n",
    "Would your answer change if the lollipops were handed out (by the same criterion) a day after the study?\n",
    "\n",
    "_If taking the drug influences depression rate, then yes._"
   ]
  },
  {
   "cell_type": "markdown",
   "metadata": {},
   "source": [
    " ## 1.3.1\n",
    " \n",
    " Identify the variables and events invoked in the lollipop story of Study question 1.2.4\n",
    " \n",
    " | variables | events |\n",
    " |-----------|----------|\n",
    " | Random    | {T, F}   |\n",
    " | Receive   | {T, F}   |\n",
    " | Take   | {T, F}   |\n",
    " | Recovery   | {T, F}   |\n",
    " | Lollipop   | {T, F}   |\n",
    " | Depression | {T, F}   |\n",
    " "
   ]
  },
  {
   "cell_type": "markdown",
   "metadata": {},
   "source": [
    "## 1.3.2\n",
    "\n",
    "Consider Table 1.5 showing the relationship between gender and education level in the U.S. adult population.\n",
    "\n"
   ]
  },
  {
   "cell_type": "code",
   "execution_count": 2,
   "metadata": {},
   "outputs": [
    {
     "data": {
      "text/html": [
       "<div>\n",
       "<style scoped>\n",
       "    .dataframe tbody tr th:only-of-type {\n",
       "        vertical-align: middle;\n",
       "    }\n",
       "\n",
       "    .dataframe tbody tr th {\n",
       "        vertical-align: top;\n",
       "    }\n",
       "\n",
       "    .dataframe thead th {\n",
       "        text-align: right;\n",
       "    }\n",
       "</style>\n",
       "<table border=\"1\" class=\"dataframe\">\n",
       "  <thead>\n",
       "    <tr style=\"text-align: right;\">\n",
       "      <th></th>\n",
       "      <th>Gender</th>\n",
       "      <th>Highest education achieved</th>\n",
       "      <th>Occurrence</th>\n",
       "    </tr>\n",
       "  </thead>\n",
       "  <tbody>\n",
       "    <tr>\n",
       "      <th>0</th>\n",
       "      <td>Male</td>\n",
       "      <td>0</td>\n",
       "      <td>112</td>\n",
       "    </tr>\n",
       "    <tr>\n",
       "      <th>1</th>\n",
       "      <td>Male</td>\n",
       "      <td>1</td>\n",
       "      <td>231</td>\n",
       "    </tr>\n",
       "    <tr>\n",
       "      <th>2</th>\n",
       "      <td>Male</td>\n",
       "      <td>2</td>\n",
       "      <td>595</td>\n",
       "    </tr>\n",
       "    <tr>\n",
       "      <th>3</th>\n",
       "      <td>Male</td>\n",
       "      <td>3</td>\n",
       "      <td>242</td>\n",
       "    </tr>\n",
       "    <tr>\n",
       "      <th>4</th>\n",
       "      <td>Female</td>\n",
       "      <td>0</td>\n",
       "      <td>136</td>\n",
       "    </tr>\n",
       "    <tr>\n",
       "      <th>5</th>\n",
       "      <td>Female</td>\n",
       "      <td>1</td>\n",
       "      <td>189</td>\n",
       "    </tr>\n",
       "    <tr>\n",
       "      <th>6</th>\n",
       "      <td>Female</td>\n",
       "      <td>2</td>\n",
       "      <td>763</td>\n",
       "    </tr>\n",
       "    <tr>\n",
       "      <th>7</th>\n",
       "      <td>Female</td>\n",
       "      <td>3</td>\n",
       "      <td>172</td>\n",
       "    </tr>\n",
       "  </tbody>\n",
       "</table>\n",
       "</div>"
      ],
      "text/plain": [
       "   Gender  Highest education achieved  Occurrence\n",
       "0    Male                           0         112\n",
       "1    Male                           1         231\n",
       "2    Male                           2         595\n",
       "3    Male                           3         242\n",
       "4  Female                           0         136\n",
       "5  Female                           1         189\n",
       "6  Female                           2         763\n",
       "7  Female                           3         172"
      ]
     },
     "execution_count": 2,
     "metadata": {},
     "output_type": "execute_result"
    }
   ],
   "source": [
    "table_1_point_5_df = pd.DataFrame({\n",
    "    'Gender': ['Male','Male','Male','Male','Female','Female','Female','Female'],\n",
    "    'Highest education achieved': [\n",
    "        0, 1, 2 ,3, 0, 1, 2, 3\n",
    "    ],\n",
    "    'Occurrence': [\n",
    "        112, 231, 595, 242, 136, 189, 763, 172\n",
    "    ]\n",
    "})\n",
    "\n",
    "table_1_point_5_df"
   ]
  },
  {
   "cell_type": "markdown",
   "metadata": {},
   "source": [
    "### a. \n",
    "\n",
    "Estimate $P(\\text{High School})$."
   ]
  },
  {
   "cell_type": "code",
   "execution_count": 3,
   "metadata": {},
   "outputs": [
    {
     "data": {
      "text/plain": [
       "0.1721311475409836"
      ]
     },
     "execution_count": 3,
     "metadata": {},
     "output_type": "execute_result"
    }
   ],
   "source": [
    "table_1_point_5_df[\n",
    "    table_1_point_5_df['Highest education achieved'] == 1\n",
    "]['Occurrence'].sum() / table_1_point_5_df['Occurrence'].sum()"
   ]
  },
  {
   "cell_type": "markdown",
   "metadata": {},
   "source": [
    "### b.\n",
    "\n",
    "Estimate $P(\\text{High School OR Female})$."
   ]
  },
  {
   "cell_type": "code",
   "execution_count": 4,
   "metadata": {},
   "outputs": [
    {
     "data": {
      "text/plain": [
       "0.61106557377049175"
      ]
     },
     "execution_count": 4,
     "metadata": {},
     "output_type": "execute_result"
    }
   ],
   "source": [
    "table_1_point_5_df[\n",
    "    (table_1_point_5_df['Highest education achieved'] == 1) |\n",
    "    (table_1_point_5_df['Gender'] == 'Female')\n",
    "]['Occurrence'].sum() / table_1_point_5_df['Occurrence'].sum()"
   ]
  },
  {
   "cell_type": "markdown",
   "metadata": {},
   "source": [
    "### c. \n",
    "\n",
    "Estimate $P(\\text{High School} \\mid \\text{Female})$."
   ]
  },
  {
   "cell_type": "code",
   "execution_count": 5,
   "metadata": {},
   "outputs": [
    {
     "data": {
      "text/plain": [
       "0.14999999999999999"
      ]
     },
     "execution_count": 5,
     "metadata": {},
     "output_type": "execute_result"
    }
   ],
   "source": [
    "table_1_point_5_df[\n",
    "    (table_1_point_5_df['Highest education achieved'] == 1) &\n",
    "    (table_1_point_5_df['Gender'] == 'Female')\n",
    "]['Occurrence'].sum() / table_1_point_5_df[\n",
    "    (table_1_point_5_df['Gender'] == 'Female')\n",
    "]['Occurrence'].sum()"
   ]
  },
  {
   "cell_type": "markdown",
   "metadata": {},
   "source": [
    "### d. \n",
    "\n",
    "Estimate $P(\\text{Female} \\mid \\text{High School})$."
   ]
  },
  {
   "cell_type": "code",
   "execution_count": 6,
   "metadata": {},
   "outputs": [
    {
     "data": {
      "text/plain": [
       "0.45000000000000001"
      ]
     },
     "execution_count": 6,
     "metadata": {},
     "output_type": "execute_result"
    }
   ],
   "source": [
    "table_1_point_5_df[\n",
    "    (table_1_point_5_df['Highest education achieved'] == 1) &\n",
    "    (table_1_point_5_df['Gender'] == 'Female')\n",
    "]['Occurrence'].sum() / table_1_point_5_df[\n",
    "    (table_1_point_5_df['Highest education achieved'] == 1) \n",
    "]['Occurrence'].sum()"
   ]
  },
  {
   "cell_type": "markdown",
   "metadata": {},
   "source": [
    "## 1.3.3"
   ]
  },
  {
   "cell_type": "markdown",
   "metadata": {},
   "source": [
    "Consider the casino problem described in Section 1.3.6\n",
    "\n",
    "### a. \n",
    "\n",
    "Compute $P(\\text{\"craps\"} \\mid \\text{\"11\"})$ assuming that there are twice as many roulette tables as crap games at the casino."
   ]
  },
  {
   "cell_type": "markdown",
   "metadata": {},
   "source": [
    "$$\n",
    "\\begin{equation}\n",
    "\\begin{aligned}\n",
    "    P(\\text{\"roulette\"}) &= 2P(\\text{\"craps\"}) \\\\\n",
    "    P(\\text{\"roulette\"}) + P(\\text{\"craps\"}) &= 1 \\\\\n",
    "    3P(\\text{\"craps\"}) &= 1 \\\\\n",
    "    P(\\text{\"craps\"}) &= \\frac{1}{3} \\\\\n",
    "    P(\\text{\"roulette\"}) &= \\frac{2}{3} \\\\\n",
    "\\end{aligned}\n",
    "\\end{equation}\n",
    "$$\n",
    "\n",
    "$$\n",
    "\\begin{equation}\n",
    "\\begin{aligned}\n",
    "    P(\\text{\"11\" | \"craps\"}) &= \\frac{2}{36} \\\\\n",
    "    P(\\text{\"11\" | \"roulette\"}) &= \\frac{1}{38} \\\\\n",
    "\\end{aligned}\n",
    "\\end{equation}\n",
    "$$\n",
    "\n",
    "$$\n",
    "\\begin{equation}\n",
    "\\begin{aligned}\n",
    "    P(\\text{\"11\"}) &= P(\\text{\"11\"} \\mid \\text{\"craps\"})P(\\text{\"craps\"}) + P(\\text{\"11\"} \\mid \\text{\"roulette\"})P(\\text{\"roulette\"}) \\\\\n",
    "    &= \\frac{2}{36} \\times \\frac{1}{3} + \\frac{1}{38} \\times \\frac{2}{3} \\\\\n",
    "    &\\approx 0.036062378167641324\n",
    "\\end{aligned}\n",
    "\\end{equation}\n",
    "$$\n",
    "\n",
    "$$\n",
    "\\begin{equation}\n",
    "\\begin{aligned}\n",
    "    P(\\text{\"craps\"} \\mid \\text{\"11\"}) &= \\frac{P(\\text{\"11\"} \\mid \\text{\"craps\"}) P(\\text{\"craps\"})}{P(\\text{\"11\"})} \\\\\n",
    "    &= \\frac{\\frac{2}{36} \\times \\frac{1}{3}}{0.036062378167641324} \\\\\n",
    "    &= 51.3\\%\n",
    "\\end{aligned}\n",
    "\\end{equation}\n",
    "$$"
   ]
  },
  {
   "cell_type": "code",
   "execution_count": 7,
   "metadata": {},
   "outputs": [
    {
     "data": {
      "text/plain": [
       "0.036062378167641324"
      ]
     },
     "execution_count": 7,
     "metadata": {},
     "output_type": "execute_result"
    }
   ],
   "source": [
    "(2.0/36 * 1/3.0 + 1/38.0 * 2/3.0)"
   ]
  },
  {
   "cell_type": "code",
   "execution_count": 8,
   "metadata": {},
   "outputs": [
    {
     "data": {
      "text/plain": [
       "0.5135135135135135"
      ]
     },
     "execution_count": 8,
     "metadata": {},
     "output_type": "execute_result"
    }
   ],
   "source": [
    "2.0/36 * 1/3.0 / (2.0/36 * 1/3.0 + 1/38.0 * 2/3.0)"
   ]
  },
  {
   "cell_type": "markdown",
   "metadata": {},
   "source": [
    "### b. \n",
    "\n",
    "Compute $P(\\text{\"roulette\"} \\mid \\text{\"10\"})$ assuming that there are twice as many craps games as roulette tables at the casino."
   ]
  },
  {
   "cell_type": "markdown",
   "metadata": {},
   "source": [
    "$$\n",
    "\\begin{equation}\n",
    "\\begin{aligned}\n",
    "    2P(\\text{\"roulette\"}) &= P(\\text{\"craps\"}) \\\\\n",
    "    P(\\text{\"roulette\"}) + P(\\text{\"craps\"}) &= 1 \\\\\n",
    "    P(\\text{\"roulette\"}) &= \\frac{1}{3} \\\\\n",
    "    P(\\text{\"craps\"}) &= \\frac{2}{3} \\\\\n",
    "\\end{aligned}\n",
    "\\end{equation}\n",
    "$$\n"
   ]
  },
  {
   "cell_type": "markdown",
   "metadata": {},
   "source": [
    "$$\n",
    "\\begin{equation}\n",
    "\\begin{aligned}\n",
    "    P(\\text{\"10\" | \"craps\"}) &= \\frac{3}{36} \\\\\n",
    "    P(\\text{\"10\" | \"roulette\"}) &= \\frac{1}{38} \\\\\n",
    "\\end{aligned}\n",
    "\\end{equation}\n",
    "$$"
   ]
  },
  {
   "cell_type": "markdown",
   "metadata": {},
   "source": [
    "$$\n",
    "\\begin{equation}\n",
    "\\begin{aligned}\n",
    "    P(\\text{\"10\"}) &= P(\\text{\"10\"} \\mid \\text{\"craps\"})P(\\text{\"craps\"}) + P(\\text{\"10\"} \\mid \\text{\"roulette\"})P(\\text{\"roulette\"}) \\\\\n",
    "    &= \\frac{3}{36} \\times \\frac{2}{3} + \\frac{1}{38} \\times \\frac{1}{3} \\\\\n",
    "    &\\approx 0.06432748538011696\n",
    "\\end{aligned}\n",
    "\\end{equation}\n",
    "$$"
   ]
  },
  {
   "cell_type": "code",
   "execution_count": 9,
   "metadata": {},
   "outputs": [
    {
     "data": {
      "text/plain": [
       "0.06432748538011696"
      ]
     },
     "execution_count": 9,
     "metadata": {},
     "output_type": "execute_result"
    }
   ],
   "source": [
    "3.0/36 * 2.0/3 + 1.0/38 * 1.0/3"
   ]
  },
  {
   "cell_type": "markdown",
   "metadata": {},
   "source": [
    "$$\n",
    "\\begin{equation}\n",
    "\\begin{aligned}\n",
    "    P(\\text{\"roulette\"} \\mid \\text{\"10\"}) &= \\frac{P(\\text{\"10\"} \\mid \\text{\"roulette\"}) P(\\text{\"roulette\"})}{P(\\text{\"10\"})} \\\\\n",
    "    &= \\frac{\\frac{1}{38} \\times \\frac{1}{3}}{0.0004873294346978557} \\\\\n",
    "    &= 13.6\\%\n",
    "\\end{aligned}\n",
    "\\end{equation}\n",
    "$$"
   ]
  },
  {
   "cell_type": "code",
   "execution_count": 10,
   "metadata": {},
   "outputs": [
    {
     "data": {
      "text/plain": [
       "0.13636363636363635"
      ]
     },
     "execution_count": 10,
     "metadata": {},
     "output_type": "execute_result"
    }
   ],
   "source": [
    "(1/38.0*1/3.0) / 0.06432748538011696"
   ]
  },
  {
   "cell_type": "markdown",
   "metadata": {},
   "source": [
    "## 1.3.4\n",
    "\n",
    "Suppose we have three cards. Card 1 has two black faces, one on each side; Card 2 has two white faces; and Card 3 has one white face and one black face. You select a card at random and place it on the table. You find that it is black on the face-up side. What is the probability that the face-down side of the card is also black?"
   ]
  },
  {
   "cell_type": "markdown",
   "metadata": {},
   "source": [
    "### a. \n",
    "\n",
    "Use your intuition to argue that the probability that the face-down side of the card is also black is $\\frac{1}{2}$. Why might it be greater than $\\frac{1}{2}$?"
   ]
  },
  {
   "cell_type": "markdown",
   "metadata": {},
   "source": [
    "_Given you know that one side is black, that limits us to $I=1$ and $I=3$. Out of those, half has other side as black, so intuitively, one could think that the face-down side of the card is also black is $\\frac{1}{2}$. However, it might be greater than $\\frac{1}{2}$ in the case that we are allowed to flip cards when shuffling._"
   ]
  },
  {
   "cell_type": "markdown",
   "metadata": {},
   "source": [
    "### b.\n",
    "\n",
    "Express the probabilities and conditional probabilties that you find easy to estimate (for example, $P(C_D = \\text{Black})$), in terms of the following variables:\n",
    "\n",
    "$$\n",
    "\\begin{equation}\n",
    "\\begin{aligned}\n",
    "    I &= \\text{Identity of the card selected (Card 1, Card 2, or Card 3)} \\\\\n",
    "    C_D &= \\text{Color of the face-down side (Black, White)} \\\\\n",
    "    C_U &= \\text{Color of the face-up side (Black, White)} \\\\\n",
    "\\end{aligned}\n",
    "\\end{equation}\n",
    "$$\n",
    "\n",
    "Find the probability that the face-down side of the selected card is black, using your estimates above."
   ]
  },
  {
   "cell_type": "markdown",
   "metadata": {},
   "source": [
    "* $P(I=1) = \\frac{1}{3}$\n",
    "* $P(I=2) = \\frac{1}{3}$\n",
    "* $P(I=3) = \\frac{1}{3}$\n",
    "* $P(C_D=\\text{Black} \\mid C_U=\\text{Black}, I=1) = 1$\n",
    "* $P(C_D=\\text{Black} \\mid C_U=\\text{Black}, I=2) = 0$\n",
    "* $P(C_D=\\text{Black} \\mid C_U=\\text{Black}, I=3) = 0$"
   ]
  },
  {
   "cell_type": "code",
   "execution_count": 11,
   "metadata": {},
   "outputs": [
    {
     "data": {
      "text/plain": [
       "1"
      ]
     },
     "execution_count": 11,
     "metadata": {},
     "output_type": "execute_result"
    }
   ],
   "source": [
    "np.random.binomial(1, 0.5)"
   ]
  },
  {
   "cell_type": "code",
   "execution_count": 12,
   "metadata": {},
   "outputs": [],
   "source": [
    "class Card():\n",
    "    def __init__(self, side_1=None, side_2=None):\n",
    "        self.side_1 = side_1\n",
    "        self.side_2 = side_2\n",
    "        self.up = self.side_1\n",
    "        self.down = self.side_2\n",
    "        \n",
    "    def flip(self):\n",
    "        if np.random.binomial(1, 0.5):\n",
    "            self.up = self.side_2\n",
    "            self.down = self.side_1\n",
    "        else:\n",
    "            self.up = self.side_1\n",
    "            self.down = self.side_2\n",
    "            \n",
    "    def up(self):\n",
    "        return self.up\n",
    "    \n",
    "    def down(self):\n",
    "        return self.down"
   ]
  },
  {
   "cell_type": "code",
   "execution_count": 13,
   "metadata": {},
   "outputs": [],
   "source": [
    "card = Card(side_1='B', side_2='W')"
   ]
  },
  {
   "cell_type": "code",
   "execution_count": 14,
   "metadata": {},
   "outputs": [],
   "source": [
    "card.flip()"
   ]
  },
  {
   "cell_type": "code",
   "execution_count": 15,
   "metadata": {},
   "outputs": [
    {
     "name": "stdout",
     "output_type": "stream",
     "text": [
      "up B down W\n"
     ]
    }
   ],
   "source": [
    "\n",
    "print('up', card.up, 'down', card.down)"
   ]
  },
  {
   "cell_type": "code",
   "execution_count": 16,
   "metadata": {},
   "outputs": [],
   "source": [
    "card_1 = Card(side_1='B', side_2='B')\n",
    "card_2 = Card(side_1='W', side_2='W')\n",
    "card_3 = Card(side_1='W', side_2='B')\n",
    "\n",
    "cards = [card_1, card_2, card_3]\n",
    "\n",
    "ups = []\n",
    "downs = []\n",
    "\n",
    "for i in range(10000):\n",
    "    card = np.random.choice(cards)\n",
    "    card.flip()\n",
    "    ups.append(card.up)\n",
    "    downs.append(card.down)\n",
    "    "
   ]
  },
  {
   "cell_type": "code",
   "execution_count": 17,
   "metadata": {},
   "outputs": [
    {
     "data": {
      "text/html": [
       "<div>\n",
       "<style scoped>\n",
       "    .dataframe tbody tr th:only-of-type {\n",
       "        vertical-align: middle;\n",
       "    }\n",
       "\n",
       "    .dataframe tbody tr th {\n",
       "        vertical-align: top;\n",
       "    }\n",
       "\n",
       "    .dataframe thead th {\n",
       "        text-align: right;\n",
       "    }\n",
       "</style>\n",
       "<table border=\"1\" class=\"dataframe\">\n",
       "  <thead>\n",
       "    <tr style=\"text-align: right;\">\n",
       "      <th></th>\n",
       "      <th>down</th>\n",
       "      <th>up</th>\n",
       "    </tr>\n",
       "  </thead>\n",
       "  <tbody>\n",
       "    <tr>\n",
       "      <th>0</th>\n",
       "      <td>W</td>\n",
       "      <td>W</td>\n",
       "    </tr>\n",
       "    <tr>\n",
       "      <th>1</th>\n",
       "      <td>B</td>\n",
       "      <td>B</td>\n",
       "    </tr>\n",
       "    <tr>\n",
       "      <th>2</th>\n",
       "      <td>B</td>\n",
       "      <td>W</td>\n",
       "    </tr>\n",
       "    <tr>\n",
       "      <th>3</th>\n",
       "      <td>B</td>\n",
       "      <td>B</td>\n",
       "    </tr>\n",
       "    <tr>\n",
       "      <th>4</th>\n",
       "      <td>W</td>\n",
       "      <td>W</td>\n",
       "    </tr>\n",
       "    <tr>\n",
       "      <th>5</th>\n",
       "      <td>B</td>\n",
       "      <td>B</td>\n",
       "    </tr>\n",
       "    <tr>\n",
       "      <th>6</th>\n",
       "      <td>B</td>\n",
       "      <td>B</td>\n",
       "    </tr>\n",
       "    <tr>\n",
       "      <th>7</th>\n",
       "      <td>B</td>\n",
       "      <td>W</td>\n",
       "    </tr>\n",
       "    <tr>\n",
       "      <th>8</th>\n",
       "      <td>B</td>\n",
       "      <td>B</td>\n",
       "    </tr>\n",
       "    <tr>\n",
       "      <th>9</th>\n",
       "      <td>W</td>\n",
       "      <td>W</td>\n",
       "    </tr>\n",
       "    <tr>\n",
       "      <th>10</th>\n",
       "      <td>W</td>\n",
       "      <td>B</td>\n",
       "    </tr>\n",
       "    <tr>\n",
       "      <th>11</th>\n",
       "      <td>W</td>\n",
       "      <td>B</td>\n",
       "    </tr>\n",
       "    <tr>\n",
       "      <th>12</th>\n",
       "      <td>W</td>\n",
       "      <td>B</td>\n",
       "    </tr>\n",
       "    <tr>\n",
       "      <th>13</th>\n",
       "      <td>W</td>\n",
       "      <td>W</td>\n",
       "    </tr>\n",
       "    <tr>\n",
       "      <th>14</th>\n",
       "      <td>B</td>\n",
       "      <td>B</td>\n",
       "    </tr>\n",
       "    <tr>\n",
       "      <th>15</th>\n",
       "      <td>W</td>\n",
       "      <td>W</td>\n",
       "    </tr>\n",
       "    <tr>\n",
       "      <th>16</th>\n",
       "      <td>W</td>\n",
       "      <td>W</td>\n",
       "    </tr>\n",
       "    <tr>\n",
       "      <th>17</th>\n",
       "      <td>B</td>\n",
       "      <td>W</td>\n",
       "    </tr>\n",
       "    <tr>\n",
       "      <th>18</th>\n",
       "      <td>B</td>\n",
       "      <td>B</td>\n",
       "    </tr>\n",
       "    <tr>\n",
       "      <th>19</th>\n",
       "      <td>B</td>\n",
       "      <td>B</td>\n",
       "    </tr>\n",
       "    <tr>\n",
       "      <th>20</th>\n",
       "      <td>W</td>\n",
       "      <td>W</td>\n",
       "    </tr>\n",
       "    <tr>\n",
       "      <th>21</th>\n",
       "      <td>W</td>\n",
       "      <td>W</td>\n",
       "    </tr>\n",
       "    <tr>\n",
       "      <th>22</th>\n",
       "      <td>B</td>\n",
       "      <td>W</td>\n",
       "    </tr>\n",
       "    <tr>\n",
       "      <th>23</th>\n",
       "      <td>W</td>\n",
       "      <td>W</td>\n",
       "    </tr>\n",
       "    <tr>\n",
       "      <th>24</th>\n",
       "      <td>W</td>\n",
       "      <td>W</td>\n",
       "    </tr>\n",
       "    <tr>\n",
       "      <th>25</th>\n",
       "      <td>B</td>\n",
       "      <td>W</td>\n",
       "    </tr>\n",
       "    <tr>\n",
       "      <th>26</th>\n",
       "      <td>B</td>\n",
       "      <td>B</td>\n",
       "    </tr>\n",
       "    <tr>\n",
       "      <th>27</th>\n",
       "      <td>W</td>\n",
       "      <td>W</td>\n",
       "    </tr>\n",
       "    <tr>\n",
       "      <th>28</th>\n",
       "      <td>B</td>\n",
       "      <td>W</td>\n",
       "    </tr>\n",
       "    <tr>\n",
       "      <th>29</th>\n",
       "      <td>B</td>\n",
       "      <td>W</td>\n",
       "    </tr>\n",
       "    <tr>\n",
       "      <th>...</th>\n",
       "      <td>...</td>\n",
       "      <td>...</td>\n",
       "    </tr>\n",
       "    <tr>\n",
       "      <th>9970</th>\n",
       "      <td>B</td>\n",
       "      <td>B</td>\n",
       "    </tr>\n",
       "    <tr>\n",
       "      <th>9971</th>\n",
       "      <td>W</td>\n",
       "      <td>W</td>\n",
       "    </tr>\n",
       "    <tr>\n",
       "      <th>9972</th>\n",
       "      <td>W</td>\n",
       "      <td>B</td>\n",
       "    </tr>\n",
       "    <tr>\n",
       "      <th>9973</th>\n",
       "      <td>W</td>\n",
       "      <td>B</td>\n",
       "    </tr>\n",
       "    <tr>\n",
       "      <th>9974</th>\n",
       "      <td>W</td>\n",
       "      <td>W</td>\n",
       "    </tr>\n",
       "    <tr>\n",
       "      <th>9975</th>\n",
       "      <td>B</td>\n",
       "      <td>B</td>\n",
       "    </tr>\n",
       "    <tr>\n",
       "      <th>9976</th>\n",
       "      <td>W</td>\n",
       "      <td>W</td>\n",
       "    </tr>\n",
       "    <tr>\n",
       "      <th>9977</th>\n",
       "      <td>W</td>\n",
       "      <td>W</td>\n",
       "    </tr>\n",
       "    <tr>\n",
       "      <th>9978</th>\n",
       "      <td>W</td>\n",
       "      <td>B</td>\n",
       "    </tr>\n",
       "    <tr>\n",
       "      <th>9979</th>\n",
       "      <td>B</td>\n",
       "      <td>B</td>\n",
       "    </tr>\n",
       "    <tr>\n",
       "      <th>9980</th>\n",
       "      <td>W</td>\n",
       "      <td>W</td>\n",
       "    </tr>\n",
       "    <tr>\n",
       "      <th>9981</th>\n",
       "      <td>B</td>\n",
       "      <td>B</td>\n",
       "    </tr>\n",
       "    <tr>\n",
       "      <th>9982</th>\n",
       "      <td>B</td>\n",
       "      <td>W</td>\n",
       "    </tr>\n",
       "    <tr>\n",
       "      <th>9983</th>\n",
       "      <td>W</td>\n",
       "      <td>B</td>\n",
       "    </tr>\n",
       "    <tr>\n",
       "      <th>9984</th>\n",
       "      <td>B</td>\n",
       "      <td>B</td>\n",
       "    </tr>\n",
       "    <tr>\n",
       "      <th>9985</th>\n",
       "      <td>W</td>\n",
       "      <td>W</td>\n",
       "    </tr>\n",
       "    <tr>\n",
       "      <th>9986</th>\n",
       "      <td>W</td>\n",
       "      <td>B</td>\n",
       "    </tr>\n",
       "    <tr>\n",
       "      <th>9987</th>\n",
       "      <td>W</td>\n",
       "      <td>W</td>\n",
       "    </tr>\n",
       "    <tr>\n",
       "      <th>9988</th>\n",
       "      <td>B</td>\n",
       "      <td>B</td>\n",
       "    </tr>\n",
       "    <tr>\n",
       "      <th>9989</th>\n",
       "      <td>B</td>\n",
       "      <td>W</td>\n",
       "    </tr>\n",
       "    <tr>\n",
       "      <th>9990</th>\n",
       "      <td>B</td>\n",
       "      <td>B</td>\n",
       "    </tr>\n",
       "    <tr>\n",
       "      <th>9991</th>\n",
       "      <td>B</td>\n",
       "      <td>B</td>\n",
       "    </tr>\n",
       "    <tr>\n",
       "      <th>9992</th>\n",
       "      <td>B</td>\n",
       "      <td>W</td>\n",
       "    </tr>\n",
       "    <tr>\n",
       "      <th>9993</th>\n",
       "      <td>W</td>\n",
       "      <td>W</td>\n",
       "    </tr>\n",
       "    <tr>\n",
       "      <th>9994</th>\n",
       "      <td>B</td>\n",
       "      <td>W</td>\n",
       "    </tr>\n",
       "    <tr>\n",
       "      <th>9995</th>\n",
       "      <td>W</td>\n",
       "      <td>W</td>\n",
       "    </tr>\n",
       "    <tr>\n",
       "      <th>9996</th>\n",
       "      <td>W</td>\n",
       "      <td>W</td>\n",
       "    </tr>\n",
       "    <tr>\n",
       "      <th>9997</th>\n",
       "      <td>W</td>\n",
       "      <td>W</td>\n",
       "    </tr>\n",
       "    <tr>\n",
       "      <th>9998</th>\n",
       "      <td>B</td>\n",
       "      <td>W</td>\n",
       "    </tr>\n",
       "    <tr>\n",
       "      <th>9999</th>\n",
       "      <td>B</td>\n",
       "      <td>B</td>\n",
       "    </tr>\n",
       "  </tbody>\n",
       "</table>\n",
       "<p>10000 rows × 2 columns</p>\n",
       "</div>"
      ],
      "text/plain": [
       "     down up\n",
       "0       W  W\n",
       "1       B  B\n",
       "2       B  W\n",
       "3       B  B\n",
       "4       W  W\n",
       "5       B  B\n",
       "6       B  B\n",
       "7       B  W\n",
       "8       B  B\n",
       "9       W  W\n",
       "10      W  B\n",
       "11      W  B\n",
       "12      W  B\n",
       "13      W  W\n",
       "14      B  B\n",
       "15      W  W\n",
       "16      W  W\n",
       "17      B  W\n",
       "18      B  B\n",
       "19      B  B\n",
       "20      W  W\n",
       "21      W  W\n",
       "22      B  W\n",
       "23      W  W\n",
       "24      W  W\n",
       "25      B  W\n",
       "26      B  B\n",
       "27      W  W\n",
       "28      B  W\n",
       "29      B  W\n",
       "...   ... ..\n",
       "9970    B  B\n",
       "9971    W  W\n",
       "9972    W  B\n",
       "9973    W  B\n",
       "9974    W  W\n",
       "9975    B  B\n",
       "9976    W  W\n",
       "9977    W  W\n",
       "9978    W  B\n",
       "9979    B  B\n",
       "9980    W  W\n",
       "9981    B  B\n",
       "9982    B  W\n",
       "9983    W  B\n",
       "9984    B  B\n",
       "9985    W  W\n",
       "9986    W  B\n",
       "9987    W  W\n",
       "9988    B  B\n",
       "9989    B  W\n",
       "9990    B  B\n",
       "9991    B  B\n",
       "9992    B  W\n",
       "9993    W  W\n",
       "9994    B  W\n",
       "9995    W  W\n",
       "9996    W  W\n",
       "9997    W  W\n",
       "9998    B  W\n",
       "9999    B  B\n",
       "\n",
       "[10000 rows x 2 columns]"
      ]
     },
     "execution_count": 17,
     "metadata": {},
     "output_type": "execute_result"
    }
   ],
   "source": [
    "card_picks = pd.DataFrame({\n",
    "    'up': ups,\n",
    "    'down': downs\n",
    "})\n",
    "\n",
    "card_picks"
   ]
  },
  {
   "cell_type": "code",
   "execution_count": 18,
   "metadata": {},
   "outputs": [
    {
     "data": {
      "text/plain": [
       "3371"
      ]
     },
     "execution_count": 18,
     "metadata": {},
     "output_type": "execute_result"
    }
   ],
   "source": [
    "card_picks[\n",
    "    (card_picks['up'] == 'B') & \\\n",
    "    (card_picks['down'] == 'B')\n",
    "].shape[0]"
   ]
  },
  {
   "cell_type": "code",
   "execution_count": 19,
   "metadata": {},
   "outputs": [
    {
     "data": {
      "text/plain": [
       "5006"
      ]
     },
     "execution_count": 19,
     "metadata": {},
     "output_type": "execute_result"
    }
   ],
   "source": [
    "card_picks[card_picks['up'] == 'B'].shape[0]"
   ]
  },
  {
   "cell_type": "code",
   "execution_count": 20,
   "metadata": {},
   "outputs": [
    {
     "data": {
      "text/plain": [
       "0.6733919296843788"
      ]
     },
     "execution_count": 20,
     "metadata": {},
     "output_type": "execute_result"
    }
   ],
   "source": [
    "card_picks[\n",
    "    (card_picks['up'] == 'B') & \\\n",
    "    (card_picks['down'] == 'B')\n",
    "].shape[0] / card_picks[card_picks['up'] == 'B'].shape[0]"
   ]
  },
  {
   "cell_type": "markdown",
   "metadata": {},
   "source": [
    "$$\n",
    "\\begin{equation}\n",
    "\\begin{aligned}\n",
    "    P(C_D = \\text{Black} \\mid C_U = \\text{Black}) &= \\frac{P(C_D=\\text{Black}, C_U=\\text{Black})}{P(C_U=\\text{Black})} \\\\\n",
    "    &= \\frac{\\sum_i P(C_D=\\text{Black}, C_U=\\text{Black} \\mid I=i) \\times P(I=i) }{P(C_U=\\text{Black})} \\\\\n",
    "    &= \\frac{1 \\times \\frac{1}{3} + 0 \\times \\frac{1}{3} + 0 \\times \\frac{1}{3}} {P(C_U=\\text{Black})} \\\\\n",
    "    &= \\frac{\\frac{1}{3}}{P(C_U=\\text{Black})} \\\\\n",
    "    &= \\frac{\\frac{1}{3}}{\\sum_i P(C_U=\\text{Black} \\mid I=i) \\times P(I=i)} \\\\\n",
    "    &= \\frac{\\frac{1}{3}}{1\\times\\frac{1}{3} + 0 \\times \\frac{1}{3} + \\frac{1}{2} \\times \\frac{1}{3}} \\\\\n",
    "    &= \\frac{\\frac{1}{3}}{\\frac{1}{2}} \\\\\n",
    "    &= \\frac{2}{3}\n",
    "\\end{aligned}\n",
    "\\end{equation}\n",
    "$$"
   ]
  },
  {
   "cell_type": "markdown",
   "metadata": {},
   "source": [
    "c. Use Bayes' theorem to find the correct probability of a randomly selected card's back being black if you observe that its front is black?\n",
    "\n",
    "_Bayes' Theorem simplifies to the right hand side of the top row above, so I don't think there's any use in calculating it._"
   ]
  },
  {
   "cell_type": "markdown",
   "metadata": {},
   "source": [
    "## 1.3.5\n",
    "\n",
    "Prove, using Bayes' theorem, that switching doors improves your chances of winning the car in the Monty Hall problem."
   ]
  },
  {
   "cell_type": "markdown",
   "metadata": {},
   "source": [
    "_Let $H$ stand for host's choice, $Y$ for your choice, and $L$ for car location. Each variable can take values in the set ${1,2,3}$. We are interested in calculating the probability $P(L=2 \\mid Y=1, H=3)$_.\n",
    "\n",
    "$$\n",
    "\\begin{equation}\n",
    "\\begin{aligned}\n",
    "    P(H=3 \\mid Y=1, L=2) = 1 && \\text{Host will choose the door that has a goat, and hasn't been picked by you}\n",
    "\\end{aligned}\n",
    "\\end{equation}\n",
    "$$\n",
    "\n",
    "$$\n",
    "\\begin{equation}\n",
    "\\begin{aligned}\n",
    "    P(L=2 \\mid Y=1, H=3) &= \\frac{P(H=3, Y=1, L=2)}{P(H=3, Y=1)} \\\\\n",
    "    &= \\frac{P(H=3 \\mid Y=1, L=2) \\times P(Y=1, L=2)}{P(H=3, Y=1)} \\\\\n",
    "    &= \\frac{1.0 \\times P(Y=1)P(L=2)}{P(H=3, Y=1)} \\\\\n",
    "    &= \\frac{\\frac{1}{9}}{P(H=3, Y=1)} \\\\\n",
    "    &= \\frac{\\frac{1}{9}}{\\sum_l P(H=3, Y=1, L=l)} \\\\\n",
    "    &= \\frac{\\frac{1}{9}}{\\sum_l P(H=3 \\mid Y=1, L=l)P(Y=1, L=l)} \\\\\n",
    "    &= \\frac{\\frac{1}{9}}{1 \\times \\frac{1}{9} + \\frac{1}{2} \\times \\frac{1}{9} + 0 \\times \\frac{1}{9}} \\\\\n",
    "    &= \\frac{\\frac{1}{9}}{\\frac{1}{6}} \\\\\n",
    "    &= \\frac{2}{3}\n",
    "\\end{aligned}\n",
    "\\end{equation}\n",
    "$$\n",
    "\n",
    "Thus, switching doors is better than staying with your choice."
   ]
  },
  {
   "cell_type": "markdown",
   "metadata": {},
   "source": [
    "## 1.3.6\n",
    "\n",
    "### a. \n",
    "\n",
    "Prove that, in general, both $\\sigma_{XY}$ and $\\rho_{XY}$ vanish when $X$ and $Y$ are independent. Hint: Use Eqs. (1.16) and (1.17).\n",
    "\n",
    "$$\n",
    "\\begin{equation}\n",
    "\\begin{aligned}\n",
    "    E(XY) &= \\sum_X \\sum_Y xy P(X=x, Y=y) && \\text{Definition}\\\\ \n",
    "    &= \\sum_X \\sum_Y xy P(X=x)P(Y=y) && \\text{Independence assumption}\\\\ \n",
    "    &= \\sum_X xP(X=x) \\sum_Y y P(Y=y) \\\\\n",
    "    &= E(X)E(Y) \\\\\n",
    "\\end{aligned}\n",
    "\\end{equation}\n",
    "$$\n",
    "\n",
    "$$\n",
    "\\begin{equation}\n",
    "\\begin{aligned}\n",
    "    \\sigma_{X,Y} &= E(XY) - E(X)E(Y) \\\\\n",
    "    &= 0 && \\text{Substitution}\n",
    "\\end{aligned}\n",
    "\\end{equation}\n",
    "$$\n",
    "\n",
    "$$\n",
    "\\begin{equation}\n",
    "\\begin{aligned}\n",
    "    \\rho_{X,Y} &= \\frac{\\sigma_{X,Y}}{\\sqrt{Var(X)}\\sqrt{Var(Y)}} \\\\\n",
    "    &= 0 && \\text{Substitution}\n",
    "\\end{aligned}\n",
    "\\end{equation}\n",
    "$$"
   ]
  },
  {
   "cell_type": "markdown",
   "metadata": {},
   "source": [
    "### b.\n",
    "\n",
    "Give an example of two variables that are highly dependent and, yet, their correlation coefficient vanishes. \n",
    "\n",
    "_Ex: $f(x) = x$ and $f(y) = x^2$_."
   ]
  },
  {
   "cell_type": "code",
   "execution_count": 21,
   "metadata": {},
   "outputs": [
    {
     "data": {
      "text/plain": [
       "array([[ 1.        ,  0.01095212],\n",
       "       [ 0.01095212,  1.        ]])"
      ]
     },
     "execution_count": 21,
     "metadata": {},
     "output_type": "execute_result"
    }
   ],
   "source": [
    "x = np.random.uniform(low=-1,high=1, size=10000)\n",
    "x_squared = x**2\n",
    "\n",
    "np.corrcoef(x, x_squared)"
   ]
  },
  {
   "cell_type": "markdown",
   "metadata": {},
   "source": [
    "## 1.3.7"
   ]
  },
  {
   "cell_type": "markdown",
   "metadata": {},
   "source": [
    "Two fair coins are flipped simultaneously to determine the payoffs of two players in the town's casino. Player 1 wins a dollar if and only if at least one coin lands on head. Player 2 receives a dollar if and only if the two coins land on the same face. Let $X$ stand for the payoff of Player 1 and $Y$ for the payoff of Player 2.\n",
    "\n",
    "### a. \n",
    "\n",
    "Find and describe the probability distributions\n",
    "$$\n",
    "\\begin{equation}\n",
    "\\begin{aligned}\n",
    "    P(x), P(y), P(x,y), P(y \\mid x) \\text{ and } P(x \\mid y)\n",
    "\\end{aligned}\n",
    "\\end{equation}\n",
    "$$\n",
    "\n",
    "$$\n",
    "\\begin{equation}\n",
    "\\begin{aligned}\n",
    "    P(x) &= P(C_1=h, C_2=t) + P(C_1=t, C_2=h) + P(C_1=h, C_1=h) \\\\ \n",
    "    &= 3 \\cdot 0.5^2 \\\\ \n",
    "    &= 0.75\n",
    "\\end{aligned}\n",
    "\\end{equation}\n",
    "$$\n",
    "\n",
    "$$\n",
    "\\begin{equation}\n",
    "\\begin{aligned}\n",
    "    P(y) &= P(C_1=h, C_1=h) + P(C_1=t, C_1=t) \\\\\n",
    "    &= 0.5\n",
    "\\end{aligned}\n",
    "\\end{equation}\n",
    "$$\n",
    "\n",
    "| $C_1$ | $C_2$ | $X$ | $Y$ | $X,Y$ |\n",
    "|-------|-------|-----|-----|-------|\n",
    "| H | T | True | False | False |\n",
    "| T | H | True | False | False |\n",
    "| T | T | False | True | False |\n",
    "| H | H | True | True | True |\n",
    "\n",
    "\n",
    "$$\n",
    "\\begin{equation}\n",
    "\\begin{aligned}\n",
    "    P(x,y) &= P(C_1=h) \\cdot P(C_2=h) \\\\\n",
    "    &= 0.25\n",
    "\\end{aligned}\n",
    "\\end{equation}\n",
    "$$\n",
    "\n",
    "$$\n",
    "\\begin{equation}\n",
    "\\begin{aligned}\n",
    "    P(x \\mid y) &= \\frac{P(x,y)}{P(y)} \\\\\n",
    "    &= \\frac{0.25}{0.5} \\\\\n",
    "    &= 0.5\n",
    "\\end{aligned}\n",
    "\\end{equation}\n",
    "$$\n",
    "\n",
    "$$\n",
    "\\begin{equation}\n",
    "\\begin{aligned}\n",
    "    P(y \\mid x) &= \\frac{P(x,y)}{P(x)} \\\\\n",
    "    &= \\frac{0.25}{0.75} \\\\\n",
    "    &= \\frac{1}{3} \\\\\n",
    "\\end{aligned}\n",
    "\\end{equation}\n",
    "$$"
   ]
  },
  {
   "cell_type": "markdown",
   "metadata": {},
   "source": [
    "### b.\n",
    "\n",
    "Using the descriptions in (a), compute the following measures:\n",
    "\n",
    "$$\n",
    "\\begin{equation}\n",
    "\\begin{aligned}\n",
    "    E[X&], E[Y], E[Y \\mid X=x], E[X \\mid Y = y] \\\\\n",
    "    &Var(X), Var(Y), Cov(X,Y), \\rho_{XY}\n",
    "\\end{aligned}\n",
    "\\end{equation}\n",
    "$$\n",
    "\n",
    "$$\n",
    "\\begin{equation}\n",
    "\\begin{aligned}\n",
    "    E[X] &= \\sum_{x=0}^1 xP(X=x) \\\\\n",
    "    &= 0.75\n",
    "\\end{aligned}\n",
    "\\end{equation}\n",
    "$$\n",
    "\n",
    "$$\n",
    "\\begin{equation}\n",
    "\\begin{aligned}\n",
    "    E[Y] &= \\sum_{y=0}^1 yP(Y=y) \\\\\n",
    "    &= 0.5\n",
    "\\end{aligned}\n",
    "\\end{equation}\n",
    "$$\n",
    "\n",
    "$$\n",
    "\\begin{equation}\n",
    "\\begin{aligned}\n",
    "    E[Y \\mid X=x] &= \\sum_{y=0}^1 yP(Y=y \\mid X=x) \\\\\n",
    "    &= \\frac{1}{3}\n",
    "\\end{aligned}\n",
    "\\end{equation}\n",
    "$$\n",
    "\n",
    "$$\n",
    "\\begin{equation}\n",
    "\\begin{aligned}\n",
    "    E[X \\mid Y=y] &= \\sum_{x=0}^1 xP(X=x \\mid Y=y) \\\\\n",
    "    &= 0.5\n",
    "\\end{aligned}\n",
    "\\end{equation}\n",
    "$$\n",
    "\n",
    "$$\n",
    "\\begin{equation}\n",
    "\\begin{aligned}\n",
    "    Var(X) &= E((X-E(X))^2) \\\\\n",
    "    &= E(X^2) - E(X)^2 \\\\\n",
    "    &= \\sum_{x} x^2 P(X=x) - 0.75^2\\\\\n",
    "    &= 0.75 - 0.75^2 \\\\\n",
    "    &= 0.1875\n",
    "\\end{aligned}\n",
    "\\end{equation}\n",
    "$$\n",
    "\n",
    "$$\n",
    "\\begin{equation}\n",
    "\\begin{aligned}\n",
    "    Var(Y) &= E((Y-E(Y))^2) \\\\\n",
    "    &= E(Y^2) - E(Y)^2 \\\\\n",
    "    &= \\sum_{y} y^2 P(Y=y) - 0.5^2\\\\\n",
    "    &= 0.5  - 0.5 ^2 \\\\\n",
    "    &= 0.25\n",
    "\\end{aligned}\n",
    "\\end{equation}\n",
    "$$\n",
    "\n",
    "$$\n",
    "\\begin{equation}\n",
    "\\begin{aligned}\n",
    "    Cov(X,Y) &= E[XY] - E[X] \\cdot E[Y] \\\\\n",
    "    &= \\sum_{x=0}^1 \\sum_{y=0}^1 xy \\cdot P(X=x, Y=y) - 0.75 \\cdot 0.5\n",
    "    &= 0.25 - 0.375 \\\\\n",
    "    &= -0.125\n",
    "\\end{aligned}\n",
    "\\end{equation}\n",
    "$$\n",
    "\n",
    "$$\n",
    "\\begin{equation}\n",
    "\\begin{aligned}\n",
    "    \\rho(XY) &= \\frac{\n",
    "        Cov(X,Y)\n",
    "    }{\n",
    "        \\sqrt{Var(X)} \\cdot \\sqrt{Var(Y)}\n",
    "    } \\\\\n",
    "    &= \\frac{-0.125}{\n",
    "        \\sqrt{0.1875} \\cdot \\sqrt{0.25}\n",
    "    } \\\\\n",
    "    &\\approx -0.577\n",
    "\\end{aligned}\n",
    "\\end{equation}\n",
    "$$"
   ]
  },
  {
   "cell_type": "code",
   "execution_count": 3,
   "metadata": {},
   "outputs": [
    {
     "data": {
      "text/plain": [
       "-0.57735026918962584"
      ]
     },
     "execution_count": 3,
     "metadata": {},
     "output_type": "execute_result"
    }
   ],
   "source": [
    "-0.125 / ( np.sqrt(0.1875) * np.sqrt(0.25) )"
   ]
  },
  {
   "cell_type": "markdown",
   "metadata": {},
   "source": [
    "### c.\n",
    "\n",
    "Given that Player 2 won a dollar, what is your best guess of Player 1's payoff?\n",
    "\n",
    "\n",
    "$$\n",
    "\\begin{equation}\n",
    "\\begin{aligned}\n",
    "    E[X \\mid Y=y] &= \\sum_{x=0}^1 xP(X=x \\mid Y=y) \\\\\n",
    "    &= 0.5\n",
    "\\end{aligned}\n",
    "\\end{equation}\n",
    "$$"
   ]
  },
  {
   "cell_type": "markdown",
   "metadata": {},
   "source": [
    "### d.\n",
    "\n",
    "Given that Player 1 won a dollar, what is your best guess of Player 2's payoff?\n",
    "\n",
    "\n",
    "$$\n",
    "\\begin{equation}\n",
    "\\begin{aligned}\n",
    "    E[Y \\mid X=x] &= \\sum_{y=0}^1 yP(Y=y \\mid X=x) \\\\\n",
    "    &= \\frac{1}{3}\n",
    "\\end{aligned}\n",
    "\\end{equation}\n",
    "$$"
   ]
  },
  {
   "cell_type": "markdown",
   "metadata": {},
   "source": [
    "### e.\n",
    "\n",
    "Are there two events, $X=x$ and $Y=y$, that are mutually independent? \n",
    "\n",
    "_No. $X=x$ implies $Y\\neq y$, and vice versa._"
   ]
  },
  {
   "cell_type": "code",
   "execution_count": 4,
   "metadata": {},
   "outputs": [],
   "source": [
    "coin_1_results = np.random.binomial(n=1, p=0.5, size=10000)\n",
    "coin_2_results = np.random.binomial(n=1, p=0.5, size=10000)"
   ]
  },
  {
   "cell_type": "code",
   "execution_count": 11,
   "metadata": {},
   "outputs": [],
   "source": [
    "def simulate_coin_tosses():\n",
    "    coin_1_results = np.random.binomial(n=1, p=0.5, size=10000)\n",
    "    coin_2_results = np.random.binomial(n=1, p=0.5, size=10000)\n",
    "    \n",
    "    df = pd.DataFrame({\n",
    "        'C_1': coin_1_results,\n",
    "        'C_2': coin_2_results\n",
    "    })\n",
    "    \n",
    "    df['X'] = (df['C_1'] == 1) | (df['C_2'] == 1)\n",
    "    df['Y'] = (df['C_1'] == df['C_2'])\n",
    "    \n",
    "    return df"
   ]
  },
  {
   "cell_type": "code",
   "execution_count": 12,
   "metadata": {},
   "outputs": [],
   "source": [
    "df_coin_tosses = simulate_coin_tosses()"
   ]
  },
  {
   "cell_type": "code",
   "execution_count": 13,
   "metadata": {},
   "outputs": [
    {
     "data": {
      "text/plain": [
       "0.75549999999999995"
      ]
     },
     "execution_count": 13,
     "metadata": {},
     "output_type": "execute_result"
    }
   ],
   "source": [
    "df_coin_tosses['X'].mean()"
   ]
  },
  {
   "cell_type": "code",
   "execution_count": 14,
   "metadata": {},
   "outputs": [
    {
     "name": "stdout",
     "output_type": "stream",
     "text": [
      "P(x):  0.7555\n",
      "P(y):  0.4914\n",
      "P(x, y):  0.2469\n",
      "P(x | y):  0.502442002442\n",
      "P(y | x):  0.32680344143\n",
      "Var(X):  0.184738223822\n",
      "Var(Y):  0.249951035104\n",
      "Cov(X,Y):  -0.124365136514\n",
      "Corr(X,Y):  -0.578752392345\n"
     ]
    }
   ],
   "source": [
    "print('P(x): ', df_coin_tosses['X'].mean())\n",
    "print('P(y): ', df_coin_tosses['Y'].mean())\n",
    "print('P(x, y): ', (df_coin_tosses['X'] & df_coin_tosses['Y']).mean())\n",
    "print('P(x | y): ', (df_coin_tosses['X'] & df_coin_tosses['Y']).mean() / df_coin_tosses['Y'].mean())\n",
    "print('P(y | x): ', (df_coin_tosses['X'] & df_coin_tosses['Y']).mean() / df_coin_tosses['X'].mean())\n",
    "print('Var(X): ', df_coin_tosses['X'].var())\n",
    "print('Var(Y): ', df_coin_tosses['Y'].var())\n",
    "print('Cov(X,Y): ', np.cov(df_coin_tosses['Y'], df_coin_tosses['X'])[0][1])\n",
    "print('Corr(X,Y): ', np.cov(df_coin_tosses['Y'], df_coin_tosses['X'])[0][1] /\\\n",
    "      (np.sqrt(df_coin_tosses['X'].var()) * np.sqrt(df_coin_tosses['Y'].var())) )"
   ]
  },
  {
   "cell_type": "markdown",
   "metadata": {},
   "source": [
    "## 1.3.8\n",
    "\n",
    "Compute the following theoretical measures of the outcome fo a single game of craps (one roll of two independent dice), where $X$ stands for the outcome of Die 1, $Z$ for the outcome of Die 2, and $Y$ for their sum.\n",
    "\n",
    "### a. \n",
    "\n",
    "$$\n",
    "\\begin{equation}\n",
    "\\begin{aligned}\n",
    "    E[X], E[Y], E[&Y \\mid X=x], E[X \\mid Y = y], \\text{ for each value of x and y, and } \\\\\n",
    "    &Var(X), Var(Y), Cov(X,Y), \\rho_{XY}, Cov(X,Z)\n",
    "\\end{aligned}\n",
    "\\end{equation}\n",
    "$$"
   ]
  },
  {
   "cell_type": "markdown",
   "metadata": {},
   "source": [
    "$$\n",
    "\\begin{equation}\n",
    "\\begin{aligned}\n",
    "    E[X] &= 3.5\n",
    "\\end{aligned}\n",
    "\\end{equation}\n",
    "$$"
   ]
  },
  {
   "cell_type": "code",
   "execution_count": 22,
   "metadata": {},
   "outputs": [
    {
     "data": {
      "text/plain": [
       "3.5"
      ]
     },
     "execution_count": 22,
     "metadata": {},
     "output_type": "execute_result"
    }
   ],
   "source": [
    "np.arange(1,7).mean()"
   ]
  },
  {
   "cell_type": "markdown",
   "metadata": {},
   "source": [
    "$$\n",
    "\\begin{equation}\n",
    "\\begin{aligned}\n",
    "    E[Y] &= E[X + Z] \\\\\n",
    "    &= E[X] + E[Z] \\\\\n",
    "    &= 2 \\cdot 3.5 \\\\\n",
    "    &= 7.0\n",
    "\\end{aligned}\n",
    "\\end{equation}\n",
    "$$"
   ]
  },
  {
   "cell_type": "code",
   "execution_count": 23,
   "metadata": {},
   "outputs": [
    {
     "data": {
      "text/plain": [
       "6.9999999999999982"
      ]
     },
     "execution_count": 23,
     "metadata": {},
     "output_type": "execute_result"
    }
   ],
   "source": [
    "(np.array([1, 2, 3, 4, 5, 6, 5, 4, 3, 2, 1]) / 36 * np.arange(2,13)).sum()"
   ]
  },
  {
   "cell_type": "markdown",
   "metadata": {},
   "source": [
    "$$\n",
    "\\begin{equation}\n",
    "\\begin{aligned}\n",
    "    E[Y \\mid X=x] &= E[Z + x \\mid X=x] \\\\\n",
    "    &= E[Z \\mid X=x] + E[x \\mid X=x] \\\\\n",
    "    &= E[Z \\mid X=x] + x && \\text{Expected value of a constant is itself} \\\\\n",
    "    &= \\sum_z z \\cdot P(Z=z \\mid X=x) + x && \\text{Defn.} \\\\\n",
    "    &= \\sum_z z \\cdot P(Z=z) + x && \\text{Unconditionally independent} \\\\\n",
    "    &= 3.5 + x\n",
    "\\end{aligned}\n",
    "\\end{equation}\n",
    "$$"
   ]
  },
  {
   "cell_type": "markdown",
   "metadata": {},
   "source": [
    "$$\n",
    "\\begin{equation}\n",
    "\\begin{aligned}\n",
    "    E[X \\mid Y=y] &= E[y-Z \\mid Y=y] \\\\\n",
    "    &= E[y \\mid Y=y] - E[Z \\mid Y=y] \\\\\n",
    "    &= E[y \\mid Y=y] - E[X \\mid Y=y] \\\\\n",
    "    &= \\frac{E[y \\mid Y=y]}{2} \\\\\n",
    "    &= \\frac{y}{2}\n",
    "\\end{aligned}\n",
    "\\end{equation}\n",
    "$$"
   ]
  },
  {
   "cell_type": "markdown",
   "metadata": {},
   "source": [
    "$$\n",
    "\\begin{equation}\n",
    "\\begin{aligned}\n",
    "    Var(X) &= E(X^2)- E(X)^2 \\\\\n",
    "    &= \\sum_{x=1}^6 x^2 P(X=x) - 3.5^2 \\\\\n",
    "    &= 2.91\\bar{6}\n",
    "\\end{aligned}\n",
    "\\end{equation}\n",
    "$$"
   ]
  },
  {
   "cell_type": "markdown",
   "metadata": {},
   "source": [
    "$$\n",
    "\\begin{equation}\n",
    "\\begin{aligned}\n",
    "    Var(Y) &= E(Y^2)- E(Y)^2 \\\\\n",
    "    &= \\sum_{y=2}^{12} y^2 \\cdot P(Y=y) - 7.0^2 \\\\\n",
    "    &= 54.8\\bar{3} - 49 \\\\\n",
    "    &= 5.8\\bar{3}\n",
    "\\end{aligned}\n",
    "\\end{equation}\n",
    "$$"
   ]
  },
  {
   "cell_type": "code",
   "execution_count": 24,
   "metadata": {},
   "outputs": [
    {
     "data": {
      "text/plain": [
       "5.8333333333333357"
      ]
     },
     "execution_count": 24,
     "metadata": {},
     "output_type": "execute_result"
    }
   ],
   "source": [
    "(np.arange(2,13)**2 * (np.array([1,2,3,4,5,6,5,4,3,2,1]) / 36)).sum() - 49"
   ]
  },
  {
   "cell_type": "code",
   "execution_count": 25,
   "metadata": {},
   "outputs": [
    {
     "data": {
      "text/plain": [
       "2.9166666666666665"
      ]
     },
     "execution_count": 25,
     "metadata": {},
     "output_type": "execute_result"
    }
   ],
   "source": [
    "np.arange(1,7).var()"
   ]
  },
  {
   "cell_type": "code",
   "execution_count": 26,
   "metadata": {},
   "outputs": [
    {
     "data": {
      "text/plain": [
       "2.9166666666666679"
      ]
     },
     "execution_count": 26,
     "metadata": {},
     "output_type": "execute_result"
    }
   ],
   "source": [
    "(np.arange(1,7)**2 / 6).sum() - 3.5**2"
   ]
  },
  {
   "cell_type": "markdown",
   "metadata": {},
   "source": [
    "$$\n",
    "\\begin{equation}\n",
    "\\begin{aligned}\n",
    "    Cov(X,Y) &= E(XY) - E(X)E(Y) \\\\\n",
    "    &= E(X\\cdot(X+Z)) - E(X)E(X+Z) \\\\ \n",
    "    &= E(X\\cdot(X+Z)) - E(X)\\cdot 2 \\cdot E(X) \\\\ \n",
    "    &= E(X\\cdot(X+Z)) - 2 \\cdot 3.5^2 \\\\\n",
    "    &= E(X\\cdot(X+Z)) - 24.5 \\\\\n",
    "    &= E(X^2 + XZ) - 24.5 \\\\\n",
    "    &= E(X^2) + E(XZ) - 24.5 \\\\\n",
    "    &= E(X^2) + E(X)E(Z) - 24.5  && \\text{X is independent of Z} \\\\\n",
    "    &= E(X^2) + 3.5^2 - 24.5 \\\\\n",
    "    &= E(X^2) - 12.25 \\\\\n",
    "    &= \\sum_x x^2 \\cdot P(X=x) - 12.25 \\\\\n",
    "    &= 15.1\\bar{6} - 12.25 \\\\\n",
    "    &= 2.91\\bar{6}\n",
    "\\end{aligned}\n",
    "\\end{equation}\n",
    "$$"
   ]
  },
  {
   "cell_type": "code",
   "execution_count": 27,
   "metadata": {},
   "outputs": [
    {
     "data": {
      "text/plain": [
       "15.166666666666668"
      ]
     },
     "execution_count": 27,
     "metadata": {},
     "output_type": "execute_result"
    }
   ],
   "source": [
    "(np.arange(1,7)**2 / 6).sum()"
   ]
  },
  {
   "cell_type": "code",
   "execution_count": 28,
   "metadata": {},
   "outputs": [
    {
     "data": {
      "text/plain": [
       "array([[ 2.92170406,  2.92593578],\n",
       "       [ 2.92593578,  5.84274798]])"
      ]
     },
     "execution_count": 28,
     "metadata": {},
     "output_type": "execute_result"
    }
   ],
   "source": [
    "x = np.random.choice(np.arange(1,7),size=100000)\n",
    "z = np.random.choice(np.arange(1,7),size=100000)\n",
    "y = x+z\n",
    "\n",
    "np.cov(x, y)"
   ]
  },
  {
   "cell_type": "code",
   "execution_count": 29,
   "metadata": {},
   "outputs": [
    {
     "data": {
      "text/plain": [
       "array([[ 2.92170406,  0.00423172],\n",
       "       [ 0.00423172,  2.91258048]])"
      ]
     },
     "execution_count": 29,
     "metadata": {},
     "output_type": "execute_result"
    }
   ],
   "source": [
    "np.cov(x,z)"
   ]
  },
  {
   "cell_type": "markdown",
   "metadata": {},
   "source": [
    "$$\n",
    "\\begin{equation}\n",
    "\\begin{aligned}\n",
    "    \\rho(X,Y) &= \\frac{Cov(X,Y)}{\\sqrt{Var(X)} \\cdot \\sqrt{Var(Y)}} \\\\\n",
    "    &= \\frac{ 2.91\\bar{6} }{ \\sqrt{2.91\\bar{6}} \\cdot \\sqrt{5.8\\bar{3}}} \\\\\n",
    "    &= \\frac{ \\sqrt{2.91\\bar{6}} }{ \\sqrt{5.8\\bar{3}}} \\\\\n",
    "    &\\approx 0.707\n",
    "\\end{aligned}\n",
    "\\end{equation}\n",
    "$$"
   ]
  },
  {
   "cell_type": "code",
   "execution_count": 30,
   "metadata": {
    "scrolled": true
   },
   "outputs": [
    {
     "data": {
      "text/plain": [
       "0.70710678117866832"
      ]
     },
     "execution_count": 30,
     "metadata": {},
     "output_type": "execute_result"
    }
   ],
   "source": [
    "np.sqrt(2.9166666666) / np.sqrt(5.83333333333)"
   ]
  },
  {
   "cell_type": "code",
   "execution_count": 31,
   "metadata": {},
   "outputs": [
    {
     "data": {
      "text/plain": [
       "array([[ 1.        ,  0.70817094],\n",
       "       [ 0.70817094,  1.        ]])"
      ]
     },
     "execution_count": 31,
     "metadata": {},
     "output_type": "execute_result"
    }
   ],
   "source": [
    "np.corrcoef(x,y)"
   ]
  },
  {
   "cell_type": "markdown",
   "metadata": {},
   "source": [
    "$$\n",
    "\\begin{equation}\n",
    "\\begin{aligned}\n",
    "    Cov(X,Z) &= 0 && \\text{X and Z are independent}\n",
    "\\end{aligned}\n",
    "\\end{equation}\n",
    "$$"
   ]
  },
  {
   "cell_type": "markdown",
   "metadata": {},
   "source": [
    "### b.\n",
    "\n",
    "Find the sample estimates of the measures computed in (a), based on the data from Table 1.6 [Hint: Many software packages are available for doing this computation for you.]"
   ]
  },
  {
   "cell_type": "code",
   "execution_count": 32,
   "metadata": {},
   "outputs": [
    {
     "data": {
      "text/html": [
       "<div>\n",
       "<style scoped>\n",
       "    .dataframe tbody tr th:only-of-type {\n",
       "        vertical-align: middle;\n",
       "    }\n",
       "\n",
       "    .dataframe tbody tr th {\n",
       "        vertical-align: top;\n",
       "    }\n",
       "\n",
       "    .dataframe thead th {\n",
       "        text-align: right;\n",
       "    }\n",
       "</style>\n",
       "<table border=\"1\" class=\"dataframe\">\n",
       "  <thead>\n",
       "    <tr style=\"text-align: right;\">\n",
       "      <th></th>\n",
       "      <th>X</th>\n",
       "      <th>Y</th>\n",
       "      <th>Z</th>\n",
       "    </tr>\n",
       "  </thead>\n",
       "  <tbody>\n",
       "    <tr>\n",
       "      <th>0</th>\n",
       "      <td>3</td>\n",
       "      <td>9</td>\n",
       "      <td>6</td>\n",
       "    </tr>\n",
       "    <tr>\n",
       "      <th>1</th>\n",
       "      <td>4</td>\n",
       "      <td>7</td>\n",
       "      <td>3</td>\n",
       "    </tr>\n",
       "    <tr>\n",
       "      <th>2</th>\n",
       "      <td>6</td>\n",
       "      <td>10</td>\n",
       "      <td>4</td>\n",
       "    </tr>\n",
       "    <tr>\n",
       "      <th>3</th>\n",
       "      <td>2</td>\n",
       "      <td>8</td>\n",
       "      <td>6</td>\n",
       "    </tr>\n",
       "    <tr>\n",
       "      <th>4</th>\n",
       "      <td>4</td>\n",
       "      <td>10</td>\n",
       "      <td>6</td>\n",
       "    </tr>\n",
       "    <tr>\n",
       "      <th>5</th>\n",
       "      <td>3</td>\n",
       "      <td>8</td>\n",
       "      <td>5</td>\n",
       "    </tr>\n",
       "    <tr>\n",
       "      <th>6</th>\n",
       "      <td>5</td>\n",
       "      <td>6</td>\n",
       "      <td>1</td>\n",
       "    </tr>\n",
       "    <tr>\n",
       "      <th>7</th>\n",
       "      <td>5</td>\n",
       "      <td>8</td>\n",
       "      <td>3</td>\n",
       "    </tr>\n",
       "    <tr>\n",
       "      <th>8</th>\n",
       "      <td>5</td>\n",
       "      <td>11</td>\n",
       "      <td>6</td>\n",
       "    </tr>\n",
       "    <tr>\n",
       "      <th>9</th>\n",
       "      <td>5</td>\n",
       "      <td>8</td>\n",
       "      <td>3</td>\n",
       "    </tr>\n",
       "    <tr>\n",
       "      <th>10</th>\n",
       "      <td>3</td>\n",
       "      <td>8</td>\n",
       "      <td>5</td>\n",
       "    </tr>\n",
       "    <tr>\n",
       "      <th>11</th>\n",
       "      <td>5</td>\n",
       "      <td>9</td>\n",
       "      <td>4</td>\n",
       "    </tr>\n",
       "  </tbody>\n",
       "</table>\n",
       "</div>"
      ],
      "text/plain": [
       "    X   Y  Z\n",
       "0   3   9  6\n",
       "1   4   7  3\n",
       "2   6  10  4\n",
       "3   2   8  6\n",
       "4   4  10  6\n",
       "5   3   8  5\n",
       "6   5   6  1\n",
       "7   5   8  3\n",
       "8   5  11  6\n",
       "9   5   8  3\n",
       "10  3   8  5\n",
       "11  5   9  4"
      ]
     },
     "execution_count": 32,
     "metadata": {},
     "output_type": "execute_result"
    }
   ],
   "source": [
    "table_1_point_6 = pd.DataFrame({\n",
    "    'Z': [6,3,4,6,6,5,1,3,6,3,5,4],\n",
    "    'X': [3,4,6,2,4,3,5,5,5,5,3,5],\n",
    "    'Y': [9,7,10,8,10,8,6,8,11,8,8,9]\n",
    "})\n",
    "table_1_point_6"
   ]
  },
  {
   "cell_type": "code",
   "execution_count": 33,
   "metadata": {},
   "outputs": [
    {
     "name": "stdout",
     "output_type": "stream",
     "text": [
      "E(Y|X=1): nan\n",
      "E(Y|X=2): 8.0\n",
      "E(Y|X=3): 8.333333333333334\n",
      "E(Y|X=4): 8.5\n",
      "E(Y|X=5): 8.4\n",
      "E(Y|X=6): 10.0\n"
     ]
    }
   ],
   "source": [
    "for i in range(1,7):\n",
    "    print('E(Y|X=' + str(i) + '):', table_1_point_6[table_1_point_6['X'] == i]['Y'].mean())"
   ]
  },
  {
   "cell_type": "code",
   "execution_count": 34,
   "metadata": {
    "scrolled": true
   },
   "outputs": [
    {
     "name": "stdout",
     "output_type": "stream",
     "text": [
      "sample estimates: \n",
      "E(X):  4.166666666666667\n",
      "E(Y):  8.5\n",
      "E(Y|X=1): nan\n",
      "E(Y|X=2): 8.0\n",
      "E(Y|X=3): 8.333333333333334\n",
      "E(Y|X=4): 8.5\n",
      "E(Y|X=5): 8.4\n",
      "E(Y|X=6): 10.0\n",
      "E(X|Y=2): nan\n",
      "E(X|Y=3): nan\n",
      "E(X|Y=4): nan\n",
      "E(X|Y=5): nan\n",
      "E(X|Y=6): 5.0\n",
      "E(X|Y=7): 4.0\n",
      "E(X|Y=8): 3.6\n",
      "E(X|Y=9): 4.0\n",
      "E(X|Y=10): 5.0\n",
      "E(X|Y=11): 5.0\n",
      "E(X|Y=12): nan\n",
      "Var(X):  1.4242424242424248\n",
      "Var(Y):  1.9090909090909092\n",
      "Cov(X,Y) Matrix:  [[ 1.42424242  0.36363636]\n",
      " [ 0.36363636  1.90909091]]\n",
      "Corr coeff Matrix:  [[ 1.          0.22052714]\n",
      " [ 0.22052714  1.        ]]\n",
      "Cov(X,Z) Matrix:  [[ 1.42424242 -1.06060606]\n",
      " [-1.06060606  2.60606061]]\n"
     ]
    }
   ],
   "source": [
    "print('sample estimates: ')\n",
    "print('E(X): ', table_1_point_6['X'].mean())\n",
    "print('E(Y): ', table_1_point_6['Y'].mean())\n",
    "\n",
    "for i in range(1,7):\n",
    "    print('E(Y|X=' + str(i) + '):', table_1_point_6[table_1_point_6['X'] == i]['Y'].mean())\n",
    "\n",
    "for i in range(2,13):\n",
    "    print('E(X|Y=' + str(i) + '):', table_1_point_6[table_1_point_6['Y'] == i]['X'].mean())\n",
    "    \n",
    "print('Var(X): ', table_1_point_6['X'].var())\n",
    "print('Var(Y): ', table_1_point_6['Y'].var())\n",
    "print('Cov(X,Y) Matrix: ', np.cov(table_1_point_6['X'], table_1_point_6['Y']))\n",
    "print('Corr coeff Matrix: ', np.corrcoef(table_1_point_6['X'], table_1_point_6['Y']))\n",
    "print('Cov(X,Z) Matrix: ', np.cov(table_1_point_6['X'], table_1_point_6['Z']))"
   ]
  },
  {
   "cell_type": "markdown",
   "metadata": {},
   "source": [
    "### c.\n",
    "\n",
    "Use the results in (a) to determine the best estimate of the sum, $Y$, given that we measured X=3.\n",
    "\n",
    "$$\n",
    "\\begin{equation}\n",
    "\\begin{aligned}\n",
    "    E[Y \\mid X=x] &= 3.5 + x \\\\\n",
    "    &= 3.5 + 3 \\\\\n",
    "    &= 6.5\n",
    "\\end{aligned}\n",
    "\\end{equation}\n",
    "$$"
   ]
  },
  {
   "cell_type": "markdown",
   "metadata": {},
   "source": [
    "### d.\n",
    "\n",
    "What is the best estimate of $X$, given that we measured $Y=4$?\n",
    "\n",
    "$$\n",
    "\\begin{equation}\n",
    "\\begin{aligned}\n",
    "    E[X \\mid Y=y] &= \\frac{y}{2} \\\\\n",
    "    &= 2\n",
    "\\end{aligned}\n",
    "\\end{equation}\n",
    "$$"
   ]
  },
  {
   "cell_type": "markdown",
   "metadata": {},
   "source": [
    "### e.\n",
    "\n",
    "What is the best estimate of $X$, given that we measured $Y=4$ and $Z=1$? Explain why it is not the same as in (d).\n",
    "\n",
    "_If we know $Y$ and $Z$, then we can fully determine the value of $X$. In that case, $X$ must be $3$_."
   ]
  },
  {
   "cell_type": "markdown",
   "metadata": {},
   "source": [
    "## 1.3.9\n",
    "\n",
    "#### a.\n",
    "\n",
    "Prove Eq. (1.22) using the orthogonality principle. [Hint: Follow the treatment of Eq. (1.26).]\n",
    "\n",
    "$$\n",
    "\\begin{equation}\n",
    "\\begin{aligned}\n",
    "    Y &= \\alpha + bX + \\epsilon \\\\\n",
    "    E[Y] &= E[\\alpha] + E[bX] && E[\\epsilon] \\text{ is 0 via orthog. princ.}\\\\\n",
    "    &= \\alpha + bE[X] \\\\\n",
    "    E[Y] - bE[X] &= \\alpha\n",
    "\\end{aligned}\n",
    "\\end{equation}\n",
    "$$\n",
    "\n",
    "$$\n",
    "\\begin{equation}\n",
    "\\begin{aligned}\n",
    "    Y &= \\alpha + bX + \\epsilon \\\\\n",
    "    XY &= \\alpha \\cdot X + bX^2 + \\epsilon \\\\\n",
    "    E[XY] &= \\alpha \\cdot E[X] + b\\cdot E[X^2] && E[\\epsilon] \\text{ is 0 via orthog. princ.} \\\\\n",
    "    &= ( E[Y] - bE[X]) \\cdot E[X] + b\\cdot E[X^2] && \\text{Substitute } \\alpha  \\\\\n",
    "    &= E[Y]E[X] - b\\cdot E[X]^2 + b\\cdot E[X^2] \\\\\n",
    "    \\sigma_{XY} &= b\\cdot \\sigma_{X}^2 \\\\\n",
    "    \\frac{ \\sigma_{XY} }{ \\sigma_{X}^2 } &= b \\\\\n",
    "\\end{aligned}\n",
    "\\end{equation}\n",
    "$$"
   ]
  },
  {
   "cell_type": "markdown",
   "metadata": {},
   "source": [
    "#### b.\n",
    "\n",
    "Find all partial regression coefficients\n",
    "\n",
    "$$\n",
    "\\begin{equation}\n",
    "\\begin{aligned}\n",
    "    R_{YX \\cdot Z}, R_{XY \\cdot Z}, R_{YZ \\cdot X}, R_{ZY \\cdot X}, R_{XZ \\cdot Y}, R_{ZX \\cdot Y}\n",
    "\\end{aligned}\n",
    "\\end{equation}\n",
    "$$\n",
    "\n",
    "for the craps game described in Study question 1.3.7. [Hint: Apply Eq. (1.27) and use the variances and covariances computed for part (a) of this question.]"
   ]
  },
  {
   "cell_type": "markdown",
   "metadata": {},
   "source": [
    "$$\n",
    "\\begin{equation}\n",
    "\\begin{aligned}\n",
    "    Y &= aX + bZ + \\alpha + \\epsilon \\\\\n",
    "    E[Y] &= a \\cdot E[X] + b\\cdot E[Z] + \\alpha \\\\\n",
    "    \\alpha &= E[Y] - a \\cdot E[X] - b\\cdot E[Z]\n",
    "\\end{aligned}\n",
    "\\end{equation}\n",
    "$$\n",
    "\n"
   ]
  },
  {
   "cell_type": "markdown",
   "metadata": {},
   "source": [
    "\n",
    "$$\n",
    "\\begin{equation}\n",
    "\\begin{aligned}\n",
    "    Y &= aX + bZ + \\alpha + \\epsilon \\\\\n",
    "    XY &= aX^2 + bZX + \\alpha \\cdot X + \\epsilon \\cdot X \\\\\n",
    "    E[XY] &= aE[X^2] + bE[ZX] + \\alpha \\cdot E[X] \\\\\n",
    "    &= aE[X^2] + bE[ZX] + (E[Y] - a \\cdot E[X] - b\\cdot E[Z]) \\cdot E[X] \\\\\n",
    "    &= aE[X^2] + bE[ZX] + E[Y] \\cdot E[X] - a \\cdot E[X]^2 - b \\cdot E[Z] \\cdot E[X] \\\\\n",
    "    E[XY] - E[Y] \\cdot E[X] &= aE[X^2] + bE[ZX] - a \\cdot E[X]^2 - b \\cdot E[Z] \\cdot E[X] \\\\\n",
    "    \\sigma_{XY} &= aE[X^2] + bE[ZX] - a \\cdot E[X]^2 - b \\cdot E[Z] \\cdot E[X] \\\\\n",
    "    &= a \\cdot \\sigma_{X}^2 + b \\cdot \\sigma_{ZX} \\\\\n",
    "    b &= \\frac{ \\sigma_{XY} - a \\cdot \\sigma_{X}^2 } { \\sigma_{ZX} } \\\\\n",
    "    a &= \\frac{ \\sigma_{XY} - b \\cdot \\sigma_{ZX} } { \\sigma_{X}^2 }\n",
    "\\end{aligned}\n",
    "\\end{equation}\n",
    "$$\n",
    "\n"
   ]
  },
  {
   "cell_type": "markdown",
   "metadata": {},
   "source": [
    "\n",
    "$$\n",
    "\\begin{equation}\n",
    "\\begin{aligned}\n",
    "    Y &= aX + bZ + \\alpha + \\epsilon \\\\\n",
    "    Y^2 &= aXY + bZY + \\alpha \\cdot Y + \\epsilon \\cdot Y \\\\\n",
    "    E[Y^2] &= aE[XY] + bE[ZY] + \\alpha \\cdot E[Y] \\\\\n",
    "    &= aE[XY] + bE[ZY] + (E[Y] - a \\cdot E[X] - b\\cdot E[Z]) \\cdot E[Y] \\\\\n",
    "    &= aE[XY] + bE[ZY] + E[Y]^2 - a \\cdot E[X]E[Y] - b \\cdot E[Z]E[Y] \\\\\n",
    "    E[Y^2] -  E[Y]^2 &= aE[XY] + bE[ZY] - a \\cdot E[X]E[Y] - b \\cdot E[Z]E[Y] \\\\\n",
    "    \\sigma_{Y}^2 &= aE[XY] + bE[ZY] - a \\cdot E[X]E[Y] - b \\cdot E[Z]E[Y] \\\\\n",
    "    &= a\\cdot \\sigma_{XY} + b\\cdot \\sigma_{ZY} \\\\\n",
    "    b &= \\frac{ \\sigma_{Y}^2  - a\\cdot \\sigma_{XY} }{ \\sigma_{ZY} } \\\\\n",
    "    a &= \\frac{ \\sigma_{Y}^2  - b\\cdot \\sigma_{ZY} }{ \\sigma_{XY} } \\\\\n",
    "\\end{aligned}\n",
    "\\end{equation}\n",
    "$$"
   ]
  },
  {
   "cell_type": "markdown",
   "metadata": {},
   "source": [
    "\n",
    "$$\n",
    "\\begin{equation}\n",
    "\\begin{aligned}\n",
    "    \\frac{ \\sigma_{XY} - a \\cdot \\sigma_{X}^2 } { \\sigma_{ZX} } &= \\frac{ \\sigma_{Y}^2  - a\\cdot \\sigma_{XY} }{ \\sigma_{ZY} } \\\\\n",
    "    \\sigma_{ZY} \\cdot \\sigma_{XY} - a \\cdot \\sigma_{ZY} \\cdot \\sigma_{X}^2 &= \\sigma_{ZX} \\cdot \\sigma_{Y}^2  - a\\cdot \\sigma_{XY} \\cdot \\sigma_{ZX} \\\\\n",
    "    \\sigma_{ZY} \\cdot \\sigma_{XY} - a \\cdot \\sigma_{ZY} \\cdot \\sigma_{X}^2 + a\\cdot \\sigma_{XY} \\cdot \\sigma_{ZX} &= \\sigma_{ZX} \\cdot \\sigma_{Y}^2 \\\\\n",
    "    - a \\cdot \\sigma_{ZY} \\cdot \\sigma_{X}^2 + a\\cdot \\sigma_{XY} \\cdot \\sigma_{ZX} &= \\sigma_{ZX} \\cdot \\sigma_{Y}^2 - \\sigma_{ZY} \\cdot \\sigma_{XY} \\\\\n",
    "    a \\cdot (\\sigma_{XY} \\cdot \\sigma_{ZX} - \\sigma_{ZY} \\cdot \\sigma_{X}^2) &= \\sigma_{ZX} \\cdot \\sigma_{Y}^2 - \\sigma_{ZY} \\cdot \\sigma_{XY} \\\\\n",
    "    a &= \\frac{ \\sigma_{ZX} \\cdot \\sigma_{Y}^2 - \\sigma_{ZY} \\cdot \\sigma_{XY} }{ \\sigma_{XY} \\cdot \\sigma_{ZX} - \\sigma_{ZY} \\cdot \\sigma_{X}^2 } \\\\\n",
    "    &= R_{YX \\cdot Z}\n",
    "\\end{aligned}\n",
    "\\end{equation}\n",
    "$$"
   ]
  },
  {
   "cell_type": "code",
   "execution_count": 35,
   "metadata": {},
   "outputs": [
    {
     "data": {
      "text/plain": [
       "1.75"
      ]
     },
     "execution_count": 35,
     "metadata": {},
     "output_type": "execute_result"
    }
   ],
   "source": [
    "np.var(table_1_point_6['Y'])"
   ]
  },
  {
   "cell_type": "code",
   "execution_count": 36,
   "metadata": {},
   "outputs": [],
   "source": [
    "def cov(var_name_1, var_name_2):\n",
    "    return np.cov(\n",
    "        table_1_point_6[var_name_1],\n",
    "        table_1_point_6[var_name_2]\n",
    "    )[0][1]\n",
    "\n",
    "def var(var_name_1):\n",
    "    return np.var(table_1_point_6[var_name_1])"
   ]
  },
  {
   "cell_type": "code",
   "execution_count": null,
   "metadata": {},
   "outputs": [],
   "source": []
  },
  {
   "cell_type": "code",
   "execution_count": 37,
   "metadata": {},
   "outputs": [
    {
     "data": {
      "text/plain": [
       "1.0061132868468809"
      ]
     },
     "execution_count": 37,
     "metadata": {},
     "output_type": "execute_result"
    }
   ],
   "source": [
    "(\n",
    "    cov('Z', 'X') * var('Y') - cov('Z', 'Y') * cov('X', 'Y')\n",
    ") / (\n",
    "    cov('X', 'Y') * cov('Z', 'X') - cov('Z', 'Y') * var('X')\n",
    ")"
   ]
  },
  {
   "cell_type": "markdown",
   "metadata": {},
   "source": [
    "\n",
    "$$\n",
    "\\begin{equation}\n",
    "\\begin{aligned}\n",
    "    \\frac{ \\sigma_{Y}^2  - b\\cdot \\sigma_{ZY} }{ \\sigma_{XY} } &= \\frac{ \\sigma_{XY} - b \\cdot \\sigma_{ZX} } { \\sigma_{X}^2 } \\\\\n",
    "    \\sigma_{X}^2 \\cdot \\sigma_{Y}^2  - b\\cdot \\sigma_{ZY} \\cdot \\sigma_{X}^2  &= \\sigma_{XY}^2 - b \\cdot \\sigma_{ZX} \\cdot \\sigma_{XY}   \\\\\n",
    "    - b\\cdot \\sigma_{ZY} \\cdot \\sigma_{X}^2 + b \\cdot \\sigma_{ZX} \\cdot \\sigma_{XY} &= \\sigma_{XY}^2 - \\sigma_{X}^2 \\cdot \\sigma_{Y}^2  \\\\\n",
    "    b \\cdot (\\sigma_{ZX} \\cdot \\sigma_{XY} - \\sigma_{ZY} \\cdot \\sigma_{X}^2 ) &= \\sigma_{XY}^2 - \\sigma_{X}^2 \\cdot \\sigma_{Y}^2  \\\\\n",
    "    b &= \\frac {\\sigma_{XY}^2 - \\sigma_{X}^2 \\cdot \\sigma_{Y}^2} {\\sigma_{ZX} \\cdot \\sigma_{XY} - \\sigma_{ZY} \\cdot \\sigma_{X}^2 } \\\\\n",
    "    &= R_{YZ \\cdot X}\n",
    "\\end{aligned}\n",
    "\\end{equation}\n",
    "$$"
   ]
  },
  {
   "cell_type": "code",
   "execution_count": 38,
   "metadata": {},
   "outputs": [
    {
     "data": {
      "text/plain": [
       "0.89562040309485169"
      ]
     },
     "execution_count": 38,
     "metadata": {},
     "output_type": "execute_result"
    }
   ],
   "source": [
    "(\n",
    "    cov('X', 'Y')**2 - var('X') * var('Y')\n",
    ") / (\n",
    "    cov('Z', 'X') * cov('X', 'Y') - cov('Z', 'Y') * var('X')\n",
    ")"
   ]
  },
  {
   "cell_type": "markdown",
   "metadata": {},
   "source": [
    "$$\n",
    "\\begin{equation}\n",
    "\\begin{aligned}\n",
    "    X &= aY + bZ + \\alpha + \\epsilon \\\\\n",
    "    E[X] &= a \\cdot E[Y] + b\\cdot E[Z] + \\alpha \\\\\n",
    "    \\alpha &= E[X] - a \\cdot E[Y] - b\\cdot E[Z]\n",
    "\\end{aligned}\n",
    "\\end{equation}\n",
    "$$\n",
    "\n"
   ]
  },
  {
   "cell_type": "markdown",
   "metadata": {},
   "source": [
    "\n",
    "$$\n",
    "\\begin{equation}\n",
    "\\begin{aligned}\n",
    "    X &= aY + bZ + \\alpha + \\epsilon \\\\\n",
    "    XY &= aY^2 + bZY + \\alpha \\cdot Y + \\epsilon \\cdot Y \\\\\n",
    "    E[XY] &= aE[Y^2] + bE[ZY] + \\alpha \\cdot E[Y] \\\\\n",
    "    &= aE[Y^2] + bE[ZY] + (E[X] - a \\cdot E[Y] - b\\cdot E[Z]) \\cdot E[Y] \\\\\n",
    "    &= aE[Y^2] + bE[ZY] + E[X] \\cdot E[Y] - a \\cdot E[Y]^2 - b \\cdot E[Z] \\cdot E[Y] \\\\\n",
    "    E[XY] - E[X] \\cdot E[Y] &= aE[Y^2] + bE[ZY] - a \\cdot E[Y]^2 - b \\cdot E[Z] \\cdot E[X] \\\\\n",
    "    \\sigma_{XY} &= aE[Y^2] + bE[ZY] - a \\cdot E[Y]^2 - b \\cdot E[Z] \\cdot E[Y] \\\\\n",
    "    &= a \\cdot \\sigma_{Y}^2 + b \\cdot \\sigma_{ZY} \\\\\n",
    "    b &= \\frac{ \\sigma_{XY} - a \\cdot \\sigma_{Y}^2 } { \\sigma_{ZY} } \\\\\n",
    "    a &= \\frac{ \\sigma_{XY} - b \\cdot \\sigma_{ZY} } { \\sigma_{Y}^2 }\n",
    "\\end{aligned}\n",
    "\\end{equation}\n",
    "$$\n",
    "\n"
   ]
  },
  {
   "cell_type": "markdown",
   "metadata": {},
   "source": [
    "\n",
    "$$\n",
    "\\begin{equation}\n",
    "\\begin{aligned}\n",
    "    X &= aY + bZ + \\alpha + \\epsilon \\\\\n",
    "    X^2 &= aXY + bZX + \\alpha \\cdot X + \\epsilon \\cdot X \\\\\n",
    "    E[X^2] &= aE[XY] + bE[ZX] + \\alpha \\cdot E[X] \\\\\n",
    "    &= aE[XY] + bE[ZX] + (E[X] - a \\cdot E[Y] - b\\cdot E[Z]) \\cdot E[X] \\\\\n",
    "    &= aE[XY] + bE[ZX] + E[X]^2 - a \\cdot E[X]E[Y] - b \\cdot E[Z]E[X] \\\\\n",
    "    E[X^2] -  E[X]^2 &= aE[XY] + bE[ZX] - a \\cdot E[X]E[Y] - b \\cdot E[Z]E[X] \\\\\n",
    "    \\sigma_{X}^2 &= aE[XY] + bE[ZX] - a \\cdot E[X]E[Y] - b \\cdot E[Z]E[X] \\\\\n",
    "    &= a\\cdot \\sigma_{XY} + b\\cdot \\sigma_{ZX} \\\\\n",
    "    b &= \\frac{ \\sigma_{X}^2  - a\\cdot \\sigma_{XY} }{ \\sigma_{ZX} } \\\\\n",
    "    a &= \\frac{ \\sigma_{X}^2  - b\\cdot \\sigma_{ZX} }{ \\sigma_{XY} } \\\\\n",
    "\\end{aligned}\n",
    "\\end{equation}\n",
    "$$"
   ]
  },
  {
   "cell_type": "markdown",
   "metadata": {},
   "source": [
    "\n",
    "\n",
    "$$\n",
    "\\begin{equation}\n",
    "\\begin{aligned}\n",
    "    \\frac{ \\sigma_{X}^2  - a\\cdot \\sigma_{XY} }{ \\sigma_{ZX} } &= \\frac{ \\sigma_{XY} - a \\cdot \\sigma_{Y}^2 } { \\sigma_{ZY} } \\\\\n",
    "    \\sigma_{X}^2 \\cdot \\sigma_{ZY}  - a\\cdot \\sigma_{XY} \\cdot \\sigma_{ZY} &= \\sigma_{XY}  \\cdot \\sigma_{ZX}- a \\cdot \\sigma_{Y}^2 \\cdot \\sigma_{ZX} \\\\\n",
    "    \\sigma_{X}^2 \\cdot \\sigma_{ZY} - \\sigma_{XY} \\cdot \\sigma_{ZX} &= a\\cdot \\sigma_{XY} \\cdot \\sigma_{ZY}- a \\cdot \\sigma_{Y}^2 \\cdot \\sigma_{ZX} \\\\\n",
    "    \\frac{ \\sigma_{X}^2 \\cdot \\sigma_{ZY} - \\sigma_{XY} \\cdot \\sigma_{ZX} }{ \\sigma_{XY} \\cdot \\sigma_{ZY}- \\cdot \\sigma_{Y}^2 \\cdot \\sigma_{ZX} } &= a \\\\\n",
    "    &= R_{XY \\cdot Z} \n",
    "\\end{aligned}\n",
    "\\end{equation}\n",
    "$$"
   ]
  },
  {
   "cell_type": "code",
   "execution_count": 39,
   "metadata": {},
   "outputs": [
    {
     "data": {
      "text/plain": [
       "0.99392385834994801"
      ]
     },
     "execution_count": 39,
     "metadata": {},
     "output_type": "execute_result"
    }
   ],
   "source": [
    "(\n",
    "    var('X') * cov('Z', 'Y') - cov('X', 'Y') * cov('Z', 'X')\n",
    ") / (\n",
    "    cov('X', 'Y') * cov('Z', 'Y') - var('Y') * cov('Z', 'X')\n",
    ")"
   ]
  },
  {
   "cell_type": "markdown",
   "metadata": {},
   "source": [
    "\n",
    "$$\n",
    "\\begin{equation}\n",
    "\\begin{aligned}\n",
    "    \\frac{ \\sigma_{XY} - b \\cdot \\sigma_{ZY} } { \\sigma_{Y}^2 } &= \\frac{ \\sigma_{X}^2  - b\\cdot \\sigma_{ZX} }{ \\sigma_{XY} } \\\\\n",
    "     \\sigma_{XY}^2 - b \\cdot \\sigma_{ZY} \\cdot \\sigma_{XY} &= \\sigma_{X}^2 \\cdot \\sigma_{Y}^2 - b\\cdot \\sigma_{ZX} \\cdot \\sigma_{Y}^2 \\\\\n",
    "     \\sigma_{XY}^2 - \\sigma_{X}^2 \\cdot \\sigma_{Y}^2 &= b \\cdot \\sigma_{ZY} \\cdot \\sigma_{XY} - b\\cdot \\sigma_{ZX} \\cdot \\sigma_{Y}^2 \\\\\n",
    "     \\frac{ \\sigma_{XY}^2 - \\sigma_{X}^2 \\cdot \\sigma_{Y}^2 }{\\sigma_{ZY} \\cdot \\sigma_{XY} - \\sigma_{ZX} \\cdot \\sigma_{Y}^2 } &= b \\\\\n",
    "     &= R_{XZ \\cdot Y}\n",
    "\\end{aligned}\n",
    "\\end{equation}\n",
    "$$"
   ]
  },
  {
   "cell_type": "code",
   "execution_count": 40,
   "metadata": {},
   "outputs": [
    {
     "data": {
      "text/plain": [
       "-0.89017848666097077"
      ]
     },
     "execution_count": 40,
     "metadata": {},
     "output_type": "execute_result"
    }
   ],
   "source": [
    "(\n",
    "    cov('X', 'Y')**2 - var('X') * var('Y')\n",
    ") / (\n",
    "    cov('Z', 'Y') * cov('X', 'Y') - cov('Z', 'X') * var('Y')\n",
    ")"
   ]
  },
  {
   "cell_type": "markdown",
   "metadata": {},
   "source": [
    "$$\n",
    "\\begin{equation}\n",
    "\\begin{aligned}\n",
    "    Z &= aX + bY + \\alpha + \\epsilon \\\\\n",
    "    E[Z] &= a\\cdot E[X] + b \\cdot E[Y] + \\alpha \\\\\n",
    "    E[Z] - a\\cdot E[X] - b \\cdot E[Y] &= \\alpha \\\\\n",
    "\\end{aligned}\n",
    "\\end{equation}\n",
    "$$"
   ]
  },
  {
   "cell_type": "markdown",
   "metadata": {},
   "source": [
    "\n",
    "\n",
    "$$\n",
    "\\begin{equation}\n",
    "\\begin{aligned}\n",
    "    Z &= aX + bY + \\alpha + \\epsilon \\\\\n",
    "    ZX &= aX^2 + bXY + \\alpha \\cdot X + \\epsilon \\cdot X \\\\\n",
    "    E[ZX] &= a \\cdot E[X^2] + b \\cdot E[XY] + \\alpha E[X] \\\\\n",
    "    &= a \\cdot E[X^2] + b \\cdot E[XY] + E[X][Z] - a\\cdot E[X]^2 - b \\cdot E[X]E[Y] \\\\\n",
    "    \\sigma_{ZX} &= a \\cdot \\sigma_{X}^2 + b \\sigma_{XY} \\\\\n",
    "    \\frac{ \\sigma_{ZX} - a \\cdot \\sigma_{X}^2 }{ \\sigma_{XY} } &= b \\\\\n",
    "    \\frac{ \\sigma_{ZX} - b \\cdot \\sigma_{XY} }{ \\sigma_{X}^2  } &= a    \n",
    "\\end{aligned}\n",
    "\\end{equation}\n",
    "$$"
   ]
  },
  {
   "cell_type": "markdown",
   "metadata": {},
   "source": [
    "$$\n",
    "\\begin{equation}\n",
    "\\begin{aligned}\n",
    "    Z &= aX + bY + \\alpha + \\epsilon \\\\\n",
    "    Z^2 &= aXZ + bYZ + \\alpha \\cdot Z + \\epsilon \\cdot Z \\\\\n",
    "    E[Z^2] &= a\\cdot E[XZ] + b \\cdot E[YZ] + \\alpha \\cdot E[Z] \\\\\n",
    "    &= a\\cdot E[XZ] + b \\cdot E[YZ] + (E[Z] - a\\cdot E[X] - b \\cdot E[Y]) \\cdot E[Z] \\\\\n",
    "    \\sigma_{Z}^2 &= a \\cdot \\sigma_{XZ}  + b \\cdot \\sigma_{YZ} \\\\\n",
    "    \\frac{ \\sigma_{Z}^2 - a \\cdot \\sigma_{XZ} }{ \\sigma_{YZ} } &= b \\\\\n",
    "    \\frac{ \\sigma_{Z}^2 - b \\cdot \\sigma_{YZ}}{ \\sigma_{XZ} } &= a \\\\\n",
    "\\end{aligned}\n",
    "\\end{equation}\n",
    "$$"
   ]
  },
  {
   "cell_type": "markdown",
   "metadata": {},
   "source": [
    "$$\n",
    "\\begin{equation}\n",
    "\\begin{aligned}\n",
    "    \\frac{ \\sigma_{ZX} - a \\cdot \\sigma_{X}^2 }{ \\sigma_{XY} } &= \\frac{ \\sigma_{Z}^2 - a \\cdot \\sigma_{XZ} }{ \\sigma_{YZ} } \\\\\n",
    "    \\sigma_{ZX} \\cdot \\sigma_{YZ} - a \\cdot \\sigma_{X}^2 \\cdot \\sigma_{YZ} &= \\sigma_{Z}^2 \\cdot \\sigma_{XY} - a \\cdot \\sigma_{XZ}  \\cdot \\sigma_{XY} \\\\\n",
    "\\sigma_{ZX} \\cdot \\sigma_{YZ} - \\sigma_{Z}^2 \\cdot \\sigma_{XY} &= a \\cdot \\sigma_{X}^2 \\cdot \\sigma_{YZ}- a \\cdot \\sigma_{XZ}  \\cdot \\sigma_{XY} \\\\ \n",
    "\\frac { \\sigma_{ZX} \\cdot \\sigma_{YZ} - \\sigma_{Z}^2 \\cdot \\sigma_{XY}  } {\\sigma_{X}^2 \\cdot \\sigma_{YZ}- \\sigma_{XZ}  \\cdot \\sigma_{XY}} &= a \\\\\n",
    "&= R_{ZX \\cdot Y }\n",
    "\\end{aligned}\n",
    "\\end{equation}\n",
    "$$"
   ]
  },
  {
   "cell_type": "code",
   "execution_count": 41,
   "metadata": {},
   "outputs": [
    {
     "data": {
      "text/plain": [
       "-1.0434616486770463"
      ]
     },
     "execution_count": 41,
     "metadata": {},
     "output_type": "execute_result"
    }
   ],
   "source": [
    "(\n",
    "    cov('Z', 'X') * cov('Y', 'Z') - var('Z') * cov('X', 'Y')\n",
    ") / (\n",
    "    var('X') * cov('Y', 'Z') - cov('X', 'Z') * cov('X', 'Y')\n",
    ")"
   ]
  },
  {
   "cell_type": "code",
   "execution_count": null,
   "metadata": {},
   "outputs": [],
   "source": []
  },
  {
   "cell_type": "markdown",
   "metadata": {},
   "source": [
    "$$\n",
    "\\begin{equation}\n",
    "\\begin{aligned}\n",
    "    \\frac{ \\sigma_{Z}^2 - b \\cdot \\sigma_{YZ}}{ \\sigma_{XZ} } &= \\frac{ \\sigma_{ZX} - b \\cdot \\sigma_{XY} }{ \\sigma_{X}^2  } \\\\\n",
    "    \\sigma_{Z}^2 \\cdot \\sigma_{X}^2 - b \\cdot \\sigma_{YZ} \\cdot \\sigma_{X}^2 &= \\sigma_{ZX} \\cdot \\sigma_{XZ} - b \\cdot \\sigma_{XY} \\cdot \\sigma_{XZ} \\\\\n",
    "    \\sigma_{Z}^2 \\cdot \\sigma_{X}^2 - \\sigma_{ZX} \\cdot \\sigma_{XZ} &= b \\cdot \\sigma_{YZ} \\cdot \\sigma_{X}^2 - b \\cdot \\sigma_{XY} \\cdot \\sigma_{XZ} \\\\\n",
    "    \\frac {\\sigma_{Z}^2 \\cdot \\sigma_{X}^2 - \\sigma_{ZX} \\cdot \\sigma_{XZ} }{ \\sigma_{YZ} \\cdot \\sigma_{X}^2 - \\sigma_{XY} \\cdot \\sigma_{XZ} } &= b  \\\\\n",
    "    &= R_{ZY \\cdot X} \n",
    "\\end{aligned}\n",
    "\\end{equation}\n",
    "$$"
   ]
  },
  {
   "cell_type": "code",
   "execution_count": 42,
   "metadata": {},
   "outputs": [
    {
     "data": {
      "text/plain": [
       "0.82965050254189687"
      ]
     },
     "execution_count": 42,
     "metadata": {},
     "output_type": "execute_result"
    }
   ],
   "source": [
    "(\n",
    "    var('Z') * var('X') - cov('Z', 'X') * cov('X', 'Z')\n",
    ") / (\n",
    "    cov('Y', 'Z') * var('X') - cov('X', 'Y') * cov('X', 'Z')\n",
    ")"
   ]
  },
  {
   "cell_type": "markdown",
   "metadata": {},
   "source": [
    "## 1.4.1"
   ]
  },
  {
   "cell_type": "markdown",
   "metadata": {},
   "source": [
    "#### a. Name all of the parents of $Z$.\n",
    "\n",
    "$Y, W$"
   ]
  },
  {
   "cell_type": "markdown",
   "metadata": {},
   "source": [
    "#### b. Name all the ancestors of $Z$.\n",
    "\n",
    "$ X,W,Y $"
   ]
  },
  {
   "cell_type": "markdown",
   "metadata": {},
   "source": [
    "#### c. Name all the children of $W$.\n",
    "\n",
    "$Y, Z$"
   ]
  },
  {
   "cell_type": "markdown",
   "metadata": {},
   "source": [
    "#### d. Name all the descendants of $W$.\n",
    "\n",
    "$Y,Z,T$"
   ]
  },
  {
   "cell_type": "markdown",
   "metadata": {},
   "source": [
    "#### e. Draw all (simple) paths between $X$ and $T$ (i.e. no node should appear more than once).\n",
    "\n",
    "$$X \\rightarrow Y \\rightarrow T$$\n",
    "$$X \\rightarrow W \\rightarrow Z \\rightarrow T$$\n",
    "$$X \\rightarrow W \\rightarrow Y \\rightarrow T$$\n",
    "$$X \\rightarrow W \\rightarrow Y \\rightarrow Z \\rightarrow T$$\n",
    "$$X \\rightarrow W \\rightarrow Z \\leftarrow Y \\leftarrow T$$\n",
    "$$X \\rightarrow Y \\leftarrow W  \\rightarrow Z  \\rightarrow T$$\n",
    "$$X \\rightarrow Y \\rightarrow Z \\rightarrow T$$"
   ]
  },
  {
   "cell_type": "markdown",
   "metadata": {},
   "source": [
    "#### f. Draw all the directed paths between $X$ and $T$."
   ]
  },
  {
   "cell_type": "markdown",
   "metadata": {},
   "source": [
    "$$X \\rightarrow W\\rightarrow Z\\rightarrow T$$\n",
    "$$X \\rightarrow W\\rightarrow Y \\rightarrow T$$\n",
    "$$X \\rightarrow W\\rightarrow Y \\rightarrow Z \\rightarrow T$$\n",
    "$$X \\rightarrow Y \\rightarrow T$$\n",
    "$$X \\rightarrow Y \\rightarrow Z \\rightarrow T$$"
   ]
  },
  {
   "cell_type": "markdown",
   "metadata": {},
   "source": [
    "## 1.5.1\n",
    "\n",
    "Suppose we have the following SCM. Assume all exogenous variables are independent and that the expected value of each is 0.\n",
    "\n",
    "$$ V=\\{X,Y,Z\\}, U=\\{U_X, U_Y, U_Z\\}, F=\\{f_X,f_Y, f_Z\\} $$\n",
    "\n",
    "$$\n",
    "\\begin{equation}\n",
    "\\begin{aligned}\n",
    "    f_X&: X=U_X \\\\\n",
    "    f_Y&: Y= \\frac{X}{3} + U_Y \\\\\n",
    "    f_Z&: Z= \\frac{Y}{16} + U_Z\n",
    "\\end{aligned}\n",
    "\\end{equation}\n",
    "$$\n",
    "\n"
   ]
  },
  {
   "cell_type": "markdown",
   "metadata": {},
   "source": [
    "### a. \n",
    "\n",
    "Draw the graph that complies with the model.\n",
    "\n",
    "![Compliant graph](img/1.5.3.a.png)"
   ]
  },
  {
   "cell_type": "code",
   "execution_count": 5,
   "metadata": {},
   "outputs": [],
   "source": [
    "u_x = np.random.normal(size=10000)\n",
    "u_y = np.random.normal(size=10000)\n",
    "u_z = np.random.normal(size=10000)\n",
    "\n",
    "x_1_4_1 = u_x\n",
    "y_1_4_1 = x_1_4_1/3 + u_y\n",
    "z_1_4_1 = y_1_4_1/16 + u_z\n",
    "\n",
    "df_1_5_1 = pd.DataFrame({\n",
    "    'x': x_1_4_1,\n",
    "    'y': y_1_4_1,\n",
    "    'z': z_1_4_1\n",
    "})"
   ]
  },
  {
   "cell_type": "markdown",
   "metadata": {},
   "source": [
    "### b.\n",
    "\n",
    "Determine the best guess of the value (expected value) of $Z$, given that we observe $Y=3$.\n",
    "\n",
    "$$\n",
    "\\begin{equation}\n",
    "\\begin{aligned}\n",
    "    E[Z \\mid Y=3] &= R_{ZY} \\cdot 3 \\\\\n",
    "    &= \\frac{ \\sigma_{ZY} }{ \\sigma_Y^2 } \\cdot 3\n",
    "\\end{aligned}\n",
    "\\end{equation}\n",
    "$$\n"
   ]
  },
  {
   "cell_type": "code",
   "execution_count": 6,
   "metadata": {
    "scrolled": true
   },
   "outputs": [
    {
     "name": "stderr",
     "output_type": "stream",
     "text": [
      "Auto-assigning NUTS sampler...\n",
      "Initializing NUTS using jitter+adapt_diag...\n",
      "Multiprocess sampling (4 chains in 4 jobs)\n",
      "NUTS: [sigma_log__, slope_y_1_4_1]\n",
      "100%|██████████| 2500/2500 [00:04<00:00, 578.51it/s]\n",
      "INFO (theano.gof.compilelock): Waiting for existing lock by process '45096' (I am process '45097')\n",
      "INFO (theano.gof.compilelock): To manually release the lock, delete /Users/eddericugaddan/.theano/compiledir_Darwin-17.6.0-x86_64-i386-64bit-i386-3.6.0-64/lock_dir\n",
      "INFO (theano.gof.compilelock): Waiting for existing lock by process '45096' (I am process '45098')\n",
      "INFO (theano.gof.compilelock): To manually release the lock, delete /Users/eddericugaddan/.theano/compiledir_Darwin-17.6.0-x86_64-i386-64bit-i386-3.6.0-64/lock_dir\n",
      "INFO (theano.gof.compilelock): Waiting for existing lock by process '45097' (I am process '45098')\n",
      "INFO (theano.gof.compilelock): To manually release the lock, delete /Users/eddericugaddan/.theano/compiledir_Darwin-17.6.0-x86_64-i386-64bit-i386-3.6.0-64/lock_dir\n"
     ]
    }
   ],
   "source": [
    "with pm.Model() as R_ZY_model:\n",
    "    slope_y_1_4_1 = pm.Normal('slope_y_1_4_1', mu = 0, sd = 5)\n",
    "    mu = pm.Deterministic('mu', slope_y_1_4_1 * y_1_4_1)\n",
    "    sigma = pm.HalfCauchy('sigma', beta=5)\n",
    "    pm.Normal('Z', mu, sigma, observed=z_1_4_1)\n",
    "    \n",
    "    R_ZY_traces = pm.sample(2000)\n",
    "    "
   ]
  },
  {
   "cell_type": "code",
   "execution_count": 7,
   "metadata": {},
   "outputs": [
    {
     "data": {
      "text/plain": [
       "array([[<matplotlib.axes._subplots.AxesSubplot object at 0x1c24f594a8>,\n",
       "        <matplotlib.axes._subplots.AxesSubplot object at 0x1c2849fa90>]], dtype=object)"
      ]
     },
     "execution_count": 7,
     "metadata": {},
     "output_type": "execute_result"
    },
    {
     "data": {
      "image/png": "[encoded data removed]",
      "text/plain": [
       "<matplotlib.figure.Figure at 0x1c24f41d68>"
      ]
     },
     "metadata": {},
     "output_type": "display_data"
    }
   ],
   "source": [
    "pm.traceplot(R_ZY_traces, varnames=['slope_y_1_4_1'])"
   ]
  },
  {
   "cell_type": "code",
   "execution_count": 8,
   "metadata": {},
   "outputs": [
    {
     "data": {
      "text/plain": [
       "0.20742868245073079"
      ]
     },
     "execution_count": 8,
     "metadata": {},
     "output_type": "execute_result"
    }
   ],
   "source": [
    "(R_ZY_traces['slope_y_1_4_1'] * 3).mean()"
   ]
  },
  {
   "cell_type": "code",
   "execution_count": 9,
   "metadata": {},
   "outputs": [
    {
     "data": {
      "text/plain": [
       "0.20721379503403986"
      ]
     },
     "execution_count": 9,
     "metadata": {},
     "output_type": "execute_result"
    }
   ],
   "source": [
    "(np.cov(z_1_4_1,y_1_4_1)[0][1] / np.var(y_1_4_1)) * 3"
   ]
  },
  {
   "cell_type": "markdown",
   "metadata": {},
   "source": [
    "### c.\n",
    "\n",
    "Determine the best guess of the value of $Z$, given that we observe $X=3$.\n",
    "\n",
    "$$\n",
    "\\begin{equation}\n",
    "\\begin{aligned}\n",
    "    E[Z \\mid X=3] &= R_{ZX} \\cdot 3 \\\\\n",
    "    &= \\frac{ \\sigma_{ZX} }{ \\sigma_X^2 } \\cdot 3\n",
    "\\end{aligned}\n",
    "\\end{equation}\n",
    "$$"
   ]
  },
  {
   "cell_type": "code",
   "execution_count": 11,
   "metadata": {
    "scrolled": true
   },
   "outputs": [
    {
     "name": "stderr",
     "output_type": "stream",
     "text": [
      "Auto-assigning NUTS sampler...\n",
      "Initializing NUTS using jitter+adapt_diag...\n",
      "Multiprocess sampling (4 chains in 4 jobs)\n",
      "NUTS: [sigma_log__, slope_X_1_4_1]\n",
      "100%|██████████| 2500/2500 [00:03<00:00, 804.55it/s]\n",
      "The acceptance probability does not match the target. It is 0.883085048399, but should be close to 0.8. Try to increase the number of tuning steps.\n",
      "The acceptance probability does not match the target. It is 0.882973005163, but should be close to 0.8. Try to increase the number of tuning steps.\n"
     ]
    }
   ],
   "source": [
    "with pm.Model() as R_ZX_model:\n",
    "    slope_X_1_4_1 = pm.Normal('slope_X_1_4_1', mu = 0, sd = 5)\n",
    "    mu = pm.Deterministic('mu', slope_X_1_4_1 * x_1_4_1)\n",
    "    sigma = pm.HalfCauchy('sigma', beta=5)\n",
    "    pm.Normal('Z', mu, sigma, observed=z_1_4_1)\n",
    "    \n",
    "    R_ZX_traces = pm.sample(2000)\n",
    "    "
   ]
  },
  {
   "cell_type": "code",
   "execution_count": 12,
   "metadata": {},
   "outputs": [
    {
     "data": {
      "text/plain": [
       "array([[<matplotlib.axes._subplots.AxesSubplot object at 0x1c1d36ae80>,\n",
       "        <matplotlib.axes._subplots.AxesSubplot object at 0x1c1d3cdb00>]], dtype=object)"
      ]
     },
     "execution_count": 12,
     "metadata": {},
     "output_type": "execute_result"
    },
    {
     "data": {
      "image/png": "[encoded data removed]",
      "text/plain": [
       "<matplotlib.figure.Figure at 0x1c1d35ce80>"
      ]
     },
     "metadata": {},
     "output_type": "display_data"
    }
   ],
   "source": [
    "pm.traceplot(R_ZX_traces, varnames=['slope_X_1_4_1'])"
   ]
  },
  {
   "cell_type": "code",
   "execution_count": 13,
   "metadata": {},
   "outputs": [
    {
     "data": {
      "text/plain": [
       "0.060181777896579601"
      ]
     },
     "execution_count": 13,
     "metadata": {},
     "output_type": "execute_result"
    }
   ],
   "source": [
    "(R_ZX_traces['slope_X_1_4_1'] * 3).mean()"
   ]
  },
  {
   "cell_type": "code",
   "execution_count": 14,
   "metadata": {},
   "outputs": [
    {
     "data": {
      "text/plain": [
       "0.060823456648153071"
      ]
     },
     "execution_count": 14,
     "metadata": {},
     "output_type": "execute_result"
    }
   ],
   "source": [
    "(np.cov(z_1_4_1,x_1_4_1)[0][1] / np.var(x_1_4_1)) * 3"
   ]
  },
  {
   "cell_type": "markdown",
   "metadata": {},
   "source": [
    "### d. \n",
    "\n",
    "Determine the best guess of the value of $Z$, given that we observe $X=1$ and $Y=3$.\n",
    "\n",
    "_Should be same as our answer for b. Knowing $X=1$ does not matter to determining $Z$ because we already know $Y$._"
   ]
  },
  {
   "cell_type": "code",
   "execution_count": 15,
   "metadata": {
    "scrolled": true
   },
   "outputs": [
    {
     "name": "stderr",
     "output_type": "stream",
     "text": [
      "Auto-assigning NUTS sampler...\n",
      "Initializing NUTS using jitter+adapt_diag...\n",
      "Multiprocess sampling (4 chains in 4 jobs)\n",
      "NUTS: [sigma_log__, slope_Y_1_4_1, slope_X_1_4_1]\n",
      "100%|█████████▉| 2489/2500 [00:07<00:00, 312.15it/s]\n",
      "100%|██████████| 2500/2500 [00:08<00:00, 311.21it/s]The acceptance probability does not match the target. It is 0.885756443156, but should be close to 0.8. Try to increase the number of tuning steps.\n",
      "The acceptance probability does not match the target. It is 0.882093963105, but should be close to 0.8. Try to increase the number of tuning steps.\n"
     ]
    }
   ],
   "source": [
    "with pm.Model() as full_model_1_4_1:\n",
    "    slope_X_1_4_1 = pm.Normal('slope_X_1_4_1', mu = 0, sd = 5)\n",
    "    slope_Y_1_4_1 = pm.Normal('slope_Y_1_4_1', mu = 0, sd = 5)\n",
    "    mu = pm.Deterministic('mu', slope_X_1_4_1 * x_1_4_1 + slope_Y_1_4_1 * y_1_4_1)\n",
    "    sigma = pm.HalfCauchy('sigma', beta=5)\n",
    "    pm.Normal('Z', mu, sigma, observed=z_1_4_1)\n",
    "    \n",
    "    full_model_traces = pm.sample(2000)\n",
    "    "
   ]
  },
  {
   "cell_type": "code",
   "execution_count": 17,
   "metadata": {},
   "outputs": [
    {
     "data": {
      "text/plain": [
       "0.20694851473341633"
      ]
     },
     "execution_count": 17,
     "metadata": {},
     "output_type": "execute_result"
    }
   ],
   "source": [
    "full_model_traces['slope_X_1_4_1'].mean() * 1 + full_model_traces['slope_Y_1_4_1'].mean() * 3"
   ]
  },
  {
   "cell_type": "code",
   "execution_count": 18,
   "metadata": {},
   "outputs": [
    {
     "data": {
      "text/plain": [
       "0.20742868245073079"
      ]
     },
     "execution_count": 18,
     "metadata": {},
     "output_type": "execute_result"
    }
   ],
   "source": [
    "(R_ZY_traces['slope_y_1_4_1'] * 3).mean()"
   ]
  },
  {
   "cell_type": "markdown",
   "metadata": {},
   "source": [
    "### e.\n",
    "\n",
    "Assume that all exogenous variables are normally distributed with zero means and unit variance, that is, $\\sigma = 1$."
   ]
  },
  {
   "cell_type": "markdown",
   "metadata": {},
   "source": [
    "#### i.\n",
    "\n",
    "Determine the best guess of $X$, given that we observed $Y=2$."
   ]
  },
  {
   "cell_type": "markdown",
   "metadata": {},
   "source": [
    "$$\n",
    "\\begin{equation}\n",
    "\\begin{aligned}\n",
    "    E[X \\mid Y = 2] &= R_{XY} \\cdot 2 \\\\\n",
    "    &= \\frac{\\sigma_{XY}}{\\sigma_Y^2}\n",
    "\\end{aligned}\n",
    "\\end{equation}\n",
    "$$"
   ]
  },
  {
   "cell_type": "code",
   "execution_count": 21,
   "metadata": {},
   "outputs": [
    {
     "data": {
      "text/plain": [
       "0.60426591738658531"
      ]
     },
     "execution_count": 21,
     "metadata": {},
     "output_type": "execute_result"
    }
   ],
   "source": [
    "(np.cov(x_1_4_1,y_1_4_1)[0][1] / np.var(y_1_4_1)) * 2"
   ]
  },
  {
   "cell_type": "markdown",
   "metadata": {},
   "source": [
    "#### ii.\n",
    "\n",
    "(Advanced) Determine the best guess of $Y$, given that we observed $X=1$ and $Z=3$. [Hint: You may wish to use the technique of multiple regression, together with the fact that, for every three normally distributed variables, say $X$, $Y$, and $Z$, we have $E[Y \\mid X=x, Z=z] = R_{YX \\cdot Z}x + R_{YZ \\cdot X}z$.]"
   ]
  },
  {
   "cell_type": "markdown",
   "metadata": {},
   "source": [
    "$$\n",
    "\\begin{equation}\n",
    "\\begin{aligned}\n",
    "    Y &= aX + bZ + \\alpha + \\epsilon \\\\\n",
    "    E[Y] &= a\\cdot E[X] + b \\cdot E[Z] + \\alpha + \\epsilon \\\\\n",
    "    E[Y] -  a\\cdot E[X] - b \\cdot E[Z] &= \\alpha\n",
    "\\end{aligned}\n",
    "\\end{equation}\n",
    "$$\n"
   ]
  },
  {
   "cell_type": "markdown",
   "metadata": {},
   "source": [
    "$$\n",
    "\\begin{equation}\n",
    "\\begin{aligned}\n",
    "    Y &= aX + bZ + \\alpha + \\epsilon \\\\\n",
    "    XY &= aX^2 + bXZ + \\alpha \\cdot X + \\epsilon \\cdot X \\\\\n",
    "    E[XY] &= aE[X^2] + bE[XZ] + \\alpha \\cdot E[X] +  E[\\epsilon \\cdot X] \\\\\n",
    "    &= aE[X^2] + bE[XZ] + (E[Y] -  a\\cdot E[X] - b \\cdot E[Z]) \\cdot E[X] \\\\\n",
    "    \\sigma_{XY} &= a\\cdot \\sigma_{X}^2 + b \\cdot \\sigma_{XZ} \\\\\n",
    "    \\frac{\n",
    "        \\sigma_{XY} - b \\cdot \\sigma_{XZ}\n",
    "    }\n",
    "    {\n",
    "        \\sigma_{X}^2\n",
    "    }\n",
    "    &= a \\\\\n",
    "    \\frac{\n",
    "        \\sigma_{XY} - a \\cdot \\sigma_{X}^2\n",
    "    }\n",
    "    {\n",
    "        \\sigma_{XZ}\n",
    "    }\n",
    "    &= b \\\\\n",
    "\\end{aligned}\n",
    "\\end{equation}\n",
    "$$"
   ]
  },
  {
   "cell_type": "markdown",
   "metadata": {},
   "source": [
    "$$\n",
    "\\begin{equation}\n",
    "\\begin{aligned}\n",
    "    Y &= aX + bZ + \\alpha + \\epsilon \\\\\n",
    "    YZ &= aXZ + bZ^2 + \\alpha \\cdot Z + \\epsilon \\cdot Z \\\\\n",
    "    E[YZ] &= a\\cdot E[XZ] + b \\cdot E[Z^2] + \\alpha E[Z] \\\\\n",
    "    &= a\\cdot E[XZ] + b \\cdot E[Z^2] + (E[Y] -  a\\cdot E[X] - b \\cdot E[Z]) \\cdot E[Z] \\\\\n",
    "    \\sigma_{YZ} &= a \\cdot \\sigma_{XZ} + b \\cdot \\sigma_{Z}^2 \\\\\n",
    "    \\frac\n",
    "    {\n",
    "        \\sigma_{YZ} - a \\cdot \\sigma_{XZ}\n",
    "    }\n",
    "    {\n",
    "        \\sigma_{Z}^2\n",
    "    } &= b \\\\\n",
    "    \\frac\n",
    "    {\n",
    "        \\sigma_{YZ} - b \\cdot \\sigma_{Z}^2\n",
    "    }\n",
    "    {\n",
    "        \\sigma_{XZ}\n",
    "    } &= a \\\\\n",
    "\\end{aligned}\n",
    "\\end{equation}\n",
    "$$"
   ]
  },
  {
   "cell_type": "markdown",
   "metadata": {},
   "source": [
    "$$\n",
    "\\begin{equation}\n",
    "\\begin{aligned}\n",
    "    \\frac{\n",
    "        \\sigma_{XY} - b \\cdot \\sigma_{XZ}\n",
    "    }\n",
    "    {\n",
    "        \\sigma_{X}^2\n",
    "    } &= \\frac\n",
    "    {\n",
    "        \\sigma_{YZ} - b \\cdot \\sigma_{Z}^2\n",
    "    }\n",
    "    {\n",
    "        \\sigma_{XZ}\n",
    "    } \\\\\n",
    "    \\sigma_{XY} \\cdot \\sigma_{XZ} - b \\cdot \\sigma_{XZ}^2 &= \\sigma_{YZ} \\cdot \\sigma_{X}^2 - b \\cdot \\sigma_{Z}^2 \\cdot \\sigma_{X}^2 \\\\\n",
    "    \\sigma_{XY} \\cdot \\sigma_{XZ} - \\sigma_{YZ} \\cdot \\sigma_{X}^2  &=  b \\cdot \\sigma_{XZ}^2 - b \\cdot \\sigma_{Z}^2 \\cdot \\sigma_{X}^2 \\\\\n",
    "    \\frac\n",
    "    {\n",
    "        \\sigma_{XY} \\cdot \\sigma_{XZ} - \\sigma_{YZ} \\cdot \\sigma_{X}^2\n",
    "    }\n",
    "    {\n",
    "        \\sigma_{XZ}^2 - \\sigma_{Z}^2 \\cdot \\sigma_{X}^2\n",
    "    } &= b \\\\\n",
    "    &= R_{YZ \\cdot X}\n",
    "\\end{aligned}\n",
    "\\end{equation}\n",
    "$$"
   ]
  },
  {
   "cell_type": "markdown",
   "metadata": {},
   "source": [
    "$$\n",
    "\\begin{equation}\n",
    "\\begin{aligned}\n",
    "    \\frac{\n",
    "        \\sigma_{XY} - a \\cdot \\sigma_{X}^2\n",
    "    }\n",
    "    {\n",
    "        \\sigma_{XZ}\n",
    "    } &= \\frac\n",
    "    {\n",
    "        \\sigma_{YZ} - a \\cdot \\sigma_{XZ}\n",
    "    }\n",
    "    {\n",
    "        \\sigma_{Z}^2\n",
    "    } \\\\\n",
    "    \\sigma_{XY} \\cdot \\sigma_{Z}^2 - a \\cdot \\sigma_{X}^2 \\cdot \\sigma_{Z}^2 \n",
    "    &= \\sigma_{YZ} \\cdot \\sigma_{XZ} - a \\cdot \\sigma_{XZ} \\cdot \\sigma_{XZ} \\\\\n",
    "    \\sigma_{XY} \\cdot \\sigma_{Z}^2 - \\sigma_{YZ} \\cdot \\sigma_{XZ} \n",
    "    &= a \\cdot \\sigma_{X}^2 \\cdot \\sigma_{Z}^2 - a \\cdot \\sigma_{XZ} \\cdot \\sigma_{XZ} \\\\\n",
    "    \\frac\n",
    "    {\n",
    "        \\sigma_{XY} \\cdot \\sigma_{Z}^2 - \\sigma_{YZ} \\cdot \\sigma_{XZ}\n",
    "    }\n",
    "    {\n",
    "        \\sigma_{X}^2 \\cdot \\sigma_{Z}^2 - \\sigma_{XZ} \\cdot \\sigma_{XZ}\n",
    "    } &= a \\\\\n",
    "    &= R_{YX \\cdot Z}\n",
    "\\end{aligned}\n",
    "\\end{equation}\n",
    "$$"
   ]
  },
  {
   "cell_type": "markdown",
   "metadata": {},
   "source": [
    "$$\n",
    "\\begin{equation}\n",
    "\\begin{aligned}\n",
    "    Y &= R_{YX \\cdot Z} \\cdot X + R_{YZ \\cdot X} \\cdot Z \\\\\n",
    "    &= R_{YX \\cdot Z} \\cdot 1 + R_{YZ \\cdot X} \\cdot 3 \\\\\n",
    "\\end{aligned}\n",
    "\\end{equation}\n",
    "$$"
   ]
  },
  {
   "cell_type": "code",
   "execution_count": 25,
   "metadata": {
    "scrolled": true
   },
   "outputs": [
    {
     "name": "stderr",
     "output_type": "stream",
     "text": [
      "Auto-assigning NUTS sampler...\n",
      "Initializing NUTS using jitter+adapt_diag...\n",
      "Multiprocess sampling (4 chains in 4 jobs)\n",
      "NUTS: [sigma_log__, slope_Z_1_4_1_ii_e, slope_X_1_4_1_ii_e]\n",
      "100%|██████████| 2500/2500 [00:05<00:00, 456.67it/s]\n",
      "The acceptance probability does not match the target. It is 0.883361446446, but should be close to 0.8. Try to increase the number of tuning steps.\n"
     ]
    }
   ],
   "source": [
    "with pm.Model() as full_model_1_4_1_ii_e:\n",
    "    slope_X_1_4_1_ii_e = pm.Normal('slope_X_1_4_1_ii_e', mu = 0, sd = 5)\n",
    "    slope_Z_1_4_1_ii_e = pm.Normal('slope_Z_1_4_1_ii_e', mu = 0, sd = 5)\n",
    "    mu = pm.Deterministic('mu', slope_X_1_4_1_ii_e * x_1_4_1 + slope_Z_1_4_1_ii_e * z_1_4_1)\n",
    "    sigma = pm.HalfCauchy('sigma', beta=5)\n",
    "    pm.Normal('Y', mu, sigma, observed=y_1_4_1)\n",
    "    \n",
    "    full_model_1_4_1_ii_e_traces = pm.sample(2000)\n",
    "    "
   ]
  },
  {
   "cell_type": "code",
   "execution_count": 26,
   "metadata": {},
   "outputs": [
    {
     "data": {
      "text/plain": [
       "0.53882650182745562"
      ]
     },
     "execution_count": 26,
     "metadata": {},
     "output_type": "execute_result"
    }
   ],
   "source": [
    "full_model_1_4_1_ii_e_traces['slope_X_1_4_1_ii_e'].mean() * 1 + full_model_1_4_1_ii_e_traces['slope_Z_1_4_1_ii_e'].mean() * 3"
   ]
  },
  {
   "cell_type": "code",
   "execution_count": 45,
   "metadata": {},
   "outputs": [],
   "source": [
    "# R (YX * Z)\n",
    "\n",
    "def r_yx_dot_z_1_5_1():\n",
    "    return (\n",
    "        np.cov(x_1_4_1, y_1_4_1)[0,1] * np.var(z_1_4_1) - np.cov(z_1_4_1, y_1_4_1)[0,1] * np.cov(x_1_4_1, z_1_4_1)[0,1]\n",
    "    ) / (\n",
    "        np.var(x_1_4_1) * np.var(z_1_4_1) - np.cov(z_1_4_1, x_1_4_1)[0,1]**2\n",
    "    )"
   ]
  },
  {
   "cell_type": "code",
   "execution_count": 46,
   "metadata": {},
   "outputs": [],
   "source": [
    "# R_{YZ * X}\n",
    "\n",
    "def r_yz_dot_x_1_5_1():\n",
    "    return (\n",
    "        np.cov(x_1_4_1, y_1_4_1)[0][1] * np.cov(z_1_4_1, x_1_4_1)[0][1] - np.cov(z_1_4_1, y_1_4_1)[0][1] * np.var(x_1_4_1)\n",
    "    ) / (\n",
    "        np.cov(x_1_4_1, z_1_4_1)[0][1] - np.var(z_1_4_1)* np.var(x_1_4_1)\n",
    "    )"
   ]
  },
  {
   "cell_type": "code",
   "execution_count": 47,
   "metadata": {},
   "outputs": [
    {
     "data": {
      "text/plain": [
       "0.54335513247719058"
      ]
     },
     "execution_count": 47,
     "metadata": {},
     "output_type": "execute_result"
    }
   ],
   "source": [
    "# should be approx. 0.53\n",
    "r_yx_dot_z_1_5_1() * 1 + r_yz_dot_x_1_5_1() * 3"
   ]
  },
  {
   "cell_type": "markdown",
   "metadata": {},
   "source": [
    "### f.\n",
    "\n",
    "Determine the best guess of the value of $Z$, given that we know $X=3$.\n",
    "\n",
    "_See solution to part c._"
   ]
  },
  {
   "cell_type": "code",
   "execution_count": 48,
   "metadata": {},
   "outputs": [
    {
     "data": {
      "text/plain": [
       "0.20721379503403986"
      ]
     },
     "execution_count": 48,
     "metadata": {},
     "output_type": "execute_result"
    }
   ],
   "source": [
    "(np.cov(z_1_4_1,y_1_4_1)[0][1] / np.var(y_1_4_1)) * 3"
   ]
  },
  {
   "cell_type": "markdown",
   "metadata": {},
   "source": [
    "## 1.5.2\n",
    "\n",
    "Assume that a population of patients contains a franction $r$ of individuals who suffer from a certain fatal syndrome $Z$, which simultaneously makes it uncomfortable for them to take a life-prolonging drug $X$ (Figure 1.10). Let $Z=z_1$ and $Z=z_0$ represent, respectively, the presence and absence of the syndrome, $Y=y_1$ and $Y=y_0$ represent death and survival, respectively, and $X=x_1$ and $X=x_0$ represent taking and not taking the drug. Assume that patients not carrying the syndrome, $Z=z_0$, die with probability $p_2$ if they take the drug and with probability $p_1$ if they don't. Patients carrying the syndrome, $Z=z_1$, on the other hand, die with probability $p_3$ if they do not take the drug and with probability $p_4$ if they do take the drug. Further, patients having the syndrome are more likely to avoid the drug, with probabilities $q_1 = P(x_1 \\mid z_0)$ and $q_2 = p(x_1 \\mid z_1)$"
   ]
  },
  {
   "cell_type": "markdown",
   "metadata": {},
   "source": [
    "### a.\n",
    "\n",
    "Based on this model, compute the joint distributions $P(x,y,z)$, $P(x,y)$, $P(x,z)$, and $P(y,z)$ for all values of $x,y,$ and $z$ in terms of the parameters ($r, p_1,p_2,p_3,p_4,q_1,q_2$). [Hint: Use the product decomposition of Section 1.5.2]"
   ]
  },
  {
   "cell_type": "markdown",
   "metadata": {},
   "source": [
    "$$\n",
    "\\begin{equation}\n",
    "\\begin{aligned}\n",
    "    r &= P(z_1) \\\\\n",
    "    p_2 &= P(y_1 \\mid x_1, z_0) \\\\\n",
    "    p_1 &= P(y_1 \\mid x_0, z_0) \\\\\n",
    "    p_3 &= P(y_1 \\mid x_0, z_1) \\\\\n",
    "    p_3 &= P(y_1 \\mid x_1, z_1) \\\\\n",
    "    q_1 &= P(x_1 \\mid z_0) \\\\\n",
    "    q_2 &= P(x_1 \\mid z_1) \\\\\n",
    "\\end{aligned}\n",
    "\\end{equation}\n",
    "$$"
   ]
  },
  {
   "cell_type": "markdown",
   "metadata": {},
   "source": [
    "$$\n",
    "\\begin{equation}\n",
    "\\begin{aligned}\n",
    "    P(x,y,z) &= P(y \\mid x,z) \\cdot P(x \\mid z) \\cdot P(z) \\\\\n",
    "\\end{aligned}\n",
    "\\end{equation}\n",
    "$$"
   ]
  },
  {
   "cell_type": "markdown",
   "metadata": {},
   "source": [
    "$$\n",
    "\\begin{equation}\n",
    "\\begin{aligned}\n",
    "P(x_0,y_0,z_0) &= P(y_0 \\mid x_0,z_0) \\cdot P(x_0 \\mid z_0) \\cdot P(z_0) \\\\\n",
    "    &= (1-p_1)(1-q_1)(1-r)\n",
    "\\end{aligned}\n",
    "\\end{equation}\n",
    "$$"
   ]
  },
  {
   "cell_type": "markdown",
   "metadata": {},
   "source": [
    "$$\n",
    "\\begin{equation}\n",
    "\\begin{aligned}\n",
    "P(x_0,y_1,z_0) &= P(y_1 \\mid x_0,z_0) \\cdot P(x_0 \\mid z_0) \\cdot P(z_0) \\\\\n",
    "    &= (p_1)(1-q_1)(1-r)\n",
    "\\end{aligned}\n",
    "\\end{equation}\n",
    "$$"
   ]
  },
  {
   "cell_type": "markdown",
   "metadata": {},
   "source": [
    "$$\n",
    "\\begin{equation}\n",
    "\\begin{aligned}\n",
    "P(x_1,y_0,z_0) &= P(y_0 \\mid x_1,z_0) \\cdot P(x_1 \\mid z_0) \\cdot P(z_0) \\\\\n",
    "    &= (1-p_2)(q_1)(1-r)\n",
    "\\end{aligned}\n",
    "\\end{equation}\n",
    "$$"
   ]
  },
  {
   "cell_type": "markdown",
   "metadata": {},
   "source": [
    "$$\n",
    "\\begin{equation}\n",
    "\\begin{aligned}\n",
    "P(x_1,y_1,z_0) &= P(y_1 \\mid x_1,z_0) \\cdot P(x_1 \\mid z_0) \\cdot P(z_0) \\\\\n",
    "    &= (p_2)(q_1)(1-r)\n",
    "\\end{aligned}\n",
    "\\end{equation}\n",
    "$$"
   ]
  },
  {
   "cell_type": "markdown",
   "metadata": {},
   "source": [
    "$$\n",
    "\\begin{equation}\n",
    "\\begin{aligned}\n",
    "P(x_0,y_0,z_1) &= P(y_0 \\mid x_0,z_1) \\cdot P(x_0 \\mid z_1) \\cdot P(z_1) \\\\\n",
    "    &= (1-p_3)(1-q_1)(r)\n",
    "\\end{aligned}\n",
    "\\end{equation}\n",
    "$$"
   ]
  },
  {
   "cell_type": "markdown",
   "metadata": {},
   "source": [
    "$$\n",
    "\\begin{equation}\n",
    "\\begin{aligned}\n",
    "P(x_0,y_1,z_1) &= P(y_1 \\mid x_0,z_1) \\cdot P(x_0 \\mid z_1) \\cdot P(z_1) \\\\\n",
    "    &= (p_3)(1-q_1)(r)\n",
    "\\end{aligned}\n",
    "\\end{equation}\n",
    "$$"
   ]
  },
  {
   "cell_type": "markdown",
   "metadata": {},
   "source": [
    "$$\n",
    "\\begin{equation}\n",
    "\\begin{aligned}\n",
    "P(x_1,y_0,z_1) &= P(y_0 \\mid x_1,z_1) \\cdot P(x_1 \\mid z_1) \\cdot P(z_1) \\\\\n",
    "    &= (1-p_4)(q_2)(r)\n",
    "\\end{aligned}\n",
    "\\end{equation}\n",
    "$$"
   ]
  },
  {
   "cell_type": "markdown",
   "metadata": {},
   "source": [
    "$$\n",
    "\\begin{equation}\n",
    "\\begin{aligned}\n",
    "P(x_1,y_1,z_1) &= P(y_1 \\mid x_1,z_1) \\cdot P(x_1 \\mid z_1) \\cdot P(z_1) \\\\\n",
    "    &= (p_4)(q_2)(r)\n",
    "\\end{aligned}\n",
    "\\end{equation}\n",
    "$$"
   ]
  },
  {
   "cell_type": "markdown",
   "metadata": {},
   "source": [
    "### b.\n",
    "\n",
    "Calculate the difference $P(y_1 \\mid x_1) - P(y_1 \\mid x_0)$ for three populations: (1) those carrying the syndrome, (2) those not carrying the syndrome, (3) the population as a whole."
   ]
  },
  {
   "cell_type": "markdown",
   "metadata": {},
   "source": [
    "#### (1)\n",
    "\n",
    "$$\n",
    "\\begin{equation}\n",
    "\\begin{aligned}\n",
    "    P(y_1 \\mid x_1, z_1) - P(y_1 \\mid x_0, z_1) &= p_4-p_3\\\\\n",
    "\\end{aligned}\n",
    "\\end{equation}\n",
    "$$"
   ]
  },
  {
   "cell_type": "markdown",
   "metadata": {},
   "source": [
    "#### (2)\n",
    "\n",
    "$$\n",
    "\\begin{equation}\n",
    "\\begin{aligned}\n",
    "    P(y_1 \\mid x_1, z_0) - P(y_1 \\mid x_0, z_0) &= p_2-p_1\\\\\n",
    "\\end{aligned}\n",
    "\\end{equation}\n",
    "$$"
   ]
  },
  {
   "cell_type": "markdown",
   "metadata": {},
   "source": [
    "$$\n",
    "\\begin{equation}\n",
    "\\begin{aligned}\n",
    "    r &= P(z_1) \\\\\n",
    "    p_2 &= P(y_1 \\mid x_1, z_0) \\\\\n",
    "    p_1 &= P(y_1 \\mid x_0, z_0) \\\\\n",
    "    p_3 &= P(y_1 \\mid x_0, z_1) \\\\\n",
    "    p_4 &= P(y_1 \\mid x_1, z_1) \\\\\n",
    "    q_1 &= P(x_1 \\mid z_0) \\\\\n",
    "    q_2 &= P(x_1 \\mid z_1) \\\\\n",
    "\\end{aligned}\n",
    "\\end{equation}\n",
    "$$"
   ]
  },
  {
   "cell_type": "markdown",
   "metadata": {},
   "source": [
    "#### (3)\n",
    "$$\n",
    "\\begin{equation}\n",
    "\\begin{aligned}\n",
    "    P(y_1 \\mid x_1) &= \\frac{\\sum_z P(y_1, x_1, z)}{P(x_1)} \\\\\n",
    "    &= \\frac{\\sum_z P(y_1 \\mid x_1, z) \\cdot P(x_1, z)}{P(x_1)} \\\\\n",
    "    &= \\frac{\\sum_z P(y_1 \\mid x_1, z) \\cdot P(x_1 \\mid z) \\cdot P(z)}{P(x_1)} \\\\\n",
    "    &= \\frac{\\sum_z P(y_1 \\mid x_1, z) \\cdot P(x_1 \\mid z) \\cdot P(z)}{\\sum_z P(x_1 \\mid z) \\cdot P(z)} \\\\\n",
    "    &= \\frac{P(y_1 \\mid x_1, z_1) \\cdot P(x_1 \\mid z_1) \\cdot P(z_1) +\n",
    "        P(y_1 \\mid x_1, z_0) \\cdot P(x_1 \\mid z_0) \\cdot P(z_0)\n",
    "    }{ P(x_1 \\mid z_1) \\cdot P(z_1) +  P(x_1 \\mid z_0) \\cdot P(z_0)} \\\\\n",
    "    &= \\frac{p_4 \\cdot q_2 \\cdot r + p_2 \\cdot q_1 \\cdot (1-r)}{q_2 \\cdot r + q_1 \\cdot (1-r) } \\\\\n",
    "\\end{aligned}\n",
    "\\end{equation}\n",
    "$$"
   ]
  },
  {
   "cell_type": "markdown",
   "metadata": {},
   "source": [
    "$$\n",
    "\\begin{equation}\n",
    "\\begin{aligned}\n",
    "    r &= P(z_1) \\\\\n",
    "    p_2 &= P(y_1 \\mid x_1, z_0) \\\\\n",
    "    p_1 &= P(y_1 \\mid x_0, z_0) \\\\\n",
    "    p_3 &= P(y_1 \\mid x_0, z_1) \\\\\n",
    "    p_4 &= P(y_1 \\mid x_1, z_1) \\\\\n",
    "    q_1 &= P(x_1 \\mid z_0) \\\\\n",
    "    q_2 &= P(x_1 \\mid z_1) \\\\\n",
    "\\end{aligned}\n",
    "\\end{equation}\n",
    "$$"
   ]
  },
  {
   "cell_type": "markdown",
   "metadata": {},
   "source": [
    "$$\n",
    "\\begin{equation}\n",
    "\\begin{aligned}\n",
    "    P(y_1 \\mid x_0) &= \\frac{\\sum_z P(y_1, x_0, z)}{P(x_0)} \\\\\n",
    "    &= \\frac{\\sum_z P(y_1 \\mid x_0, z) \\cdot P(x_0, z)}{P(x_0)} \\\\\n",
    "    &= \\frac{\\sum_z P(y_1 \\mid x_0, z) \\cdot P(x_0 \\mid z) \\cdot P(z)}{P(x_0)} \\\\\n",
    "    &= \\frac{\\sum_z P(y_1 \\mid x_0, z) \\cdot P(x_0 \\mid z) \\cdot P(z)}{\\sum_z P(x_0 \\mid z) \\cdot P(z)} \\\\\n",
    "    &= \\frac{ P(y_1 \\mid x_0, z_1) \\cdot P(x_0 \\mid z_1) \\cdot P(z_1) + P(y_1 \\mid x_0, z_0) \\cdot P(x_0 \\mid z_0) \\cdot P(z_0) }{ P(x_0 \\mid z_1) \\cdot P(z_1) + P(x_0 \\mid z_0) \\cdot P(z_0) } \\\\\n",
    "    &= \\frac{p_3 \\cdot (1-q_2) \\cdot r + p_1 \\cdot (1-q_1) + (1-r)}{ (1-q_2) \\cdot r + (1-q_1) + (1-r)} \\\\\n",
    "\\end{aligned}\n",
    "\\end{equation}\n",
    "$$"
   ]
  },
  {
   "cell_type": "markdown",
   "metadata": {},
   "source": [
    "\n",
    "$$\n",
    "\\begin{equation}\n",
    "\\begin{aligned}\n",
    "    P(y_1 \\mid x_1) - P(y_1 \\mid x_0) &= \\frac{p_4 \\cdot q_2 \\cdot r + p_2 \\cdot q_1 \\cdot (1-r)}{q_2 \\cdot r + q_1 \\cdot (1-r) } - \\frac{p_3 \\cdot (1-q_2) \\cdot r + p_1 \\cdot (1-q_1) + (1-r)}{ (1-q_2) \\cdot r + (1-q_1) + (1-r)}\n",
    "\\end{aligned}\n",
    "\\end{equation}\n",
    "$$"
   ]
  },
  {
   "cell_type": "markdown",
   "metadata": {},
   "source": [
    "### c.\n",
    "\n",
    "Using your results for (b), find a combination of parameters that exhibits Simpson's reversal.\n",
    "\n"
   ]
  },
  {
   "cell_type": "code",
   "execution_count": 66,
   "metadata": {},
   "outputs": [
    {
     "data": {
      "text/plain": [
       "array([ 0.19151945,  0.62210877,  0.43772774, ...,  0.14655078,\n",
       "        0.70561967,  0.84086351])"
      ]
     },
     "execution_count": 66,
     "metadata": {},
     "output_type": "execute_result"
    }
   ],
   "source": [
    "np.random.seed(1234); np.random.uniform(size=10000)"
   ]
  },
  {
   "cell_type": "code",
   "execution_count": null,
   "metadata": {},
   "outputs": [],
   "source": []
  },
  {
   "cell_type": "code",
   "execution_count": 79,
   "metadata": {},
   "outputs": [],
   "source": [
    "np.random.seed(1)\n",
    "r = np.random.uniform(size=10000)\n",
    "np.random.seed(2)\n",
    "p_2 = np.random.uniform(size=10000)\n",
    "np.random.seed(3)\n",
    "p_1 = np.random.uniform(size=10000)\n",
    "np.random.seed(4)\n",
    "p_3 = np.random.uniform(size=10000)\n",
    "np.random.seed(5)\n",
    "p_4 = np.random.uniform(size=10000)\n",
    "np.random.seed(6)\n",
    "q_1 = np.random.uniform(size=10000)\n",
    "np.random.seed(7)\n",
    "q_2 = np.random.uniform(size=10000)\n",
    "np.random.seed(8)\n",
    "\n",
    "s_df = pd.DataFrame(\n",
    "    {\n",
    "        'P(z_1) = r': r,\n",
    "        'P(y_1 | x_0, z_0) = p_1': p_1,\n",
    "        'P(y_1 | x_1, z_0) = p_2': p_2,\n",
    "        'P(y_1 | x_0, z_1) = p_3': p_3,\n",
    "        'P(y_1 | x_1, z_1) = p_4': p_4,\n",
    "        'P(x_1 | z_0) = q_1': q_1,\n",
    "        'P(x_1 | z_1) = q_2': q_2\n",
    "    }\n",
    ")"
   ]
  },
  {
   "cell_type": "code",
   "execution_count": 80,
   "metadata": {
    "scrolled": true
   },
   "outputs": [],
   "source": [
    "s_df['P(y_1 | x_1, z_1) - P(y_1 | x_0, z_1)'] = \\\n",
    "    s_df['P(y_1 | x_1, z_1) = p_4'] - \\\n",
    "    s_df['P(y_1 | x_0, z_1) = p_3']"
   ]
  },
  {
   "cell_type": "code",
   "execution_count": 81,
   "metadata": {},
   "outputs": [],
   "source": [
    "s_df['P(y_1 | x_1, z_0) - P(y_1 | x_0, z_0)'] = \\\n",
    "    s_df['P(y_1 | x_1, z_0) = p_2'] - \\\n",
    "    s_df['P(y_1 | x_0, z_0) = p_1']"
   ]
  },
  {
   "cell_type": "markdown",
   "metadata": {},
   "source": [
    "#### (3)\n",
    "$$\n",
    "\\begin{equation}\n",
    "\\begin{aligned}\n",
    "    P(y_1 \\mid x_1) &= \\frac{\\sum_z P(y_1, x_1, z)}{P(x_1)} \\\\\n",
    "    &= \\frac{\\sum_z P(y_1 \\mid x_1, z) \\cdot P(x_1, z)}{P(x_1)} \\\\\n",
    "    &= \\frac{\\sum_z P(y_1 \\mid x_1, z) \\cdot P(x_1 \\mid z) \\cdot P(z)}{P(x_1)} \\\\\n",
    "    &= \\frac{\\sum_z P(y_1 \\mid x_1, z) \\cdot P(x_1 \\mid z) \\cdot P(z)}{\\sum_z P(x_1 \\mid z) \\cdot P(z)} \\\\\n",
    "    &= \\frac{(1-p_4) \\cdot q_2 \\cdot r + p_2 \\cdot q_1 \\cdot (1-r)}{q_2 \\cdot r + q_1 \\cdot (1-r) } \\\\\n",
    "\\end{aligned}\n",
    "\\end{equation}\n",
    "$$"
   ]
  },
  {
   "cell_type": "code",
   "execution_count": 121,
   "metadata": {},
   "outputs": [],
   "source": [
    "s_df['P(y_1 | x_1)'] = (\n",
    "    s_df['P(y_1 | x_1, z_1) = p_4'] * \\\n",
    "    s_df['P(x_1 | z_1) = q_2'] * \\\n",
    "    s_df['P(z_1) = r'] + \\\n",
    "    s_df['P(y_1 | x_1, z_0) = p_2'] * \\\n",
    "    s_df['P(x_1 | z_0) = q_1'] * \\\n",
    "    (1 - s_df['P(z_1) = r'])\n",
    ") / \\\n",
    "(\n",
    "    s_df['P(x_1 | z_1) = q_2'] * \\\n",
    "    s_df['P(z_1) = r'] + \\\n",
    "    s_df['P(x_1 | z_0) = q_1'] * \\\n",
    "    (1-s_df['P(z_1) = r'])\n",
    ") \n",
    "            "
   ]
  },
  {
   "cell_type": "markdown",
   "metadata": {},
   "source": [
    "$$\n",
    "\\begin{equation}\n",
    "\\begin{aligned}\n",
    "    P(y_1 \\mid x_0) &= \\frac{\\sum_z P(y_1, x_0, z)}{P(x_0)} \\\\\n",
    "    &= \\frac{\\sum_z P(y_1 \\mid x_0, z) \\cdot P(x_0, z)}{P(x_0)} \\\\\n",
    "    &= \\frac{\\sum_z P(y_1 \\mid x_0, z) \\cdot P(x_0 \\mid z) \\cdot P(z)}{P(x_0)} \\\\\n",
    "    &= \\frac{\\sum_z P(y_1 \\mid x_0, z) \\cdot P(x_0 \\mid z) \\cdot P(z)}{\\sum_z P(x_0 \\mid z) \\cdot P(z)} \\\\\n",
    "    &= \\frac{p_3 \\cdot (1-q_2) \\cdot r + p_1 \\cdot (1-q_1) \\cdot (1-r)}{ (1-q_2) \\cdot r + (1-q_1) \\cdot (1-r)} \\\\\n",
    "\\end{aligned}\n",
    "\\end{equation}\n",
    "$$"
   ]
  },
  {
   "cell_type": "code",
   "execution_count": 122,
   "metadata": {},
   "outputs": [],
   "source": [
    "s_df['P(y_1 | x_0)'] = (\n",
    "    (\n",
    "        s_df['P(y_1 | x_0, z_1) = p_3'] * \\\n",
    "        (1 - s_df['P(x_1 | z_1) = q_2']) * \\\n",
    "        s_df['P(z_1) = r'] + \\\n",
    "        s_df['P(y_1 | x_0, z_0) = p_1'] * \\\n",
    "        (1 - s_df['P(x_1 | z_0) = q_1']) * \\\n",
    "        (1 - s_df['P(z_1) = r'])\n",
    ") / \\\n",
    "    (\n",
    "        (1 - s_df['P(x_1 | z_1) = q_2']) * \\\n",
    "        s_df['P(z_1) = r'] + \\\n",
    "        (1 - s_df['P(x_1 | z_0) = q_1']) * \\\n",
    "        (1-s_df['P(z_1) = r'])\n",
    "    ) \n",
    ")"
   ]
  },
  {
   "cell_type": "markdown",
   "metadata": {},
   "source": [
    "_Simpson's reversal in this scenario happens when_: \n",
    "\n",
    "$$\n",
    "\\begin{equation}\n",
    "\\begin{aligned}\n",
    "    P(y_1 \\mid x_1, z_0) - P(y_1 \\mid x_0, z_0) &< 0 \\\\\n",
    "    P(y_1 \\mid x_1, z_1) - P(y_1 \\mid x_0, z_1) &< 0 \\\\\n",
    "    P(y_1 \\mid x_1) - P(y_1 \\mid x_0) &> 0 \\\\\n",
    "\\end{aligned}\n",
    "\\end{equation}\n",
    "$$"
   ]
  },
  {
   "cell_type": "code",
   "execution_count": 133,
   "metadata": {},
   "outputs": [
    {
     "data": {
      "text/plain": [
       "P(x_1 | z_0) = q_1                       0.776758\n",
       "P(x_1 | z_1) = q_2                       0.155421\n",
       "P(y_1 | x_0, z_0) = p_1                  0.983162\n",
       "P(y_1 | x_0, z_1) = p_3                  0.703130\n",
       "P(y_1 | x_1, z_0) = p_2                  0.880299\n",
       "P(y_1 | x_1, z_1) = p_4                  0.388293\n",
       "P(z_1) = r                               0.610241\n",
       "P(y_1 | x_1, z_1) - P(y_1 | x_0, z_1)   -0.314837\n",
       "P(y_1 | x_1, z_0) - P(y_1 | x_0, z_0)   -0.102863\n",
       "P(y_1 | x_1)                             0.762933\n",
       "P(y_1 | x_0)                             0.743577\n",
       "Name: 347, dtype: float64"
      ]
     },
     "execution_count": 133,
     "metadata": {},
     "output_type": "execute_result"
    }
   ],
   "source": [
    "example_simpson = s_df[\n",
    "    (\n",
    "        s_df['P(y_1 | x_1, z_0) - P(y_1 | x_0, z_0)'] < 0\n",
    "    ) &\n",
    "    (\n",
    "        s_df['P(y_1 | x_1, z_1) - P(y_1 | x_0, z_1)'] < 0\n",
    "    ) & \n",
    "    (\n",
    "        s_df['P(y_1 | x_1)'] - s_df['P(y_1 | x_0)'] > 0\n",
    "    ) & \n",
    "    ( \n",
    "        s_df['P(x_1 | z_0) = q_1'] - s_df['P(x_1 | z_1) = q_2'] > 0 # more likely for people without syndrome to take drug\n",
    "    )\n",
    "].iloc[0]\n",
    "\n",
    "example_simpson"
   ]
  },
  {
   "cell_type": "code",
   "execution_count": 141,
   "metadata": {},
   "outputs": [
    {
     "name": "stdout",
     "output_type": "stream",
     "text": [
      "| Segregation Type | Take Drug | Don't take the drug |\n",
      "|-|-|-|\n",
      "| $z_0$ | $P(y_1 \\mid x_1, z_0) = 0.880298956157$ | $P(y_1 \\mid x_0, z_0) = 0.98316178779$ |\n",
      "| $z_1$ | $P(y_1 \\mid x_1, z_1) = 0.388293149653$ | $P(y_1 \\mid x_0, z_1) = 0.703129880052$ |\n",
      "| Overall | $P(y_1 | x_1) = 0.762933080214$ | $P(y_1 \\mid x_0) = 0.743577146874$ |\n"
     ]
    }
   ],
   "source": [
    "print('| Segregation Type | Take Drug | Don\\'t take the drug |')\n",
    "print('|-|-|-|')\n",
    "print('| $z_0$ | $P(y_1 \\mid x_1, z_0) = ' + str(example_simpson['P(y_1 | x_1, z_0) = p_2']) + '$ | $P(y_1 \\mid x_0, z_0) = ' + str(example_simpson['P(y_1 | x_0, z_0) = p_1']) + '$ |')\n",
    "print('| $z_1$ | $P(y_1 \\mid x_1, z_1) = ' + str(example_simpson['P(y_1 | x_1, z_1) = p_4']) + '$ | $P(y_1 \\mid x_0, z_1) = ' + str(example_simpson['P(y_1 | x_0, z_1) = p_3']) + '$ |')\n",
    "print('| Overall | $P(y_1 | x_1) = ' + str(example_simpson['P(y_1 | x_1)']) + '$ | $P(y_1 \\mid x_0) = ' + str(example_simpson['P(y_1 | x_0)']) + '$ |')"
   ]
  },
  {
   "cell_type": "markdown",
   "metadata": {},
   "source": [
    "| Segregation Type | Take Drug | Don't take the drug |\n",
    "|-|-|-|\n",
    "| $z_0$ | $P(y_1 \\mid x_1, z_0) = 0.880298956157$ | $P(y_1 \\mid x_0, z_0) = 0.98316178779$ |\n",
    "| $z_1$ | $P(y_1 \\mid x_1, z_1) = 0.388293149653$ | $P(y_1 \\mid x_0, z_1) = 0.703129880052$ |\n",
    "| Overall | $P(y_1 | x_1) = 0.762933080214$ | $P(y_1 \\mid x_0) = 0.743577146874$ |"
   ]
  },
  {
   "cell_type": "code",
   "execution_count": 142,
   "metadata": {},
   "outputs": [],
   "source": [
    "def simulate_1_5_2_c(\n",
    "    q_1 = 0.776758,\n",
    "    q_2 = 0.155421,\n",
    "    p_1 = 0.983162,\n",
    "    p_2 = 0.880299,\n",
    "    p_3 = 0.703130,\n",
    "    p_4 =0.388293,\n",
    "    r = 0.610241\n",
    "):\n",
    "    has_syndromes = []\n",
    "    take_treatments = []\n",
    "    deaths = []\n",
    "    \n",
    "    for i in range(10000):\n",
    "        has_syndrome = np.random.binomial(n=1, p=r)\n",
    "        \n",
    "        if has_syndrome:\n",
    "            # P()\n",
    "            take_treatment = np.random.binomial(n=1, p=q_2)\n",
    "            \n",
    "            if take_treatment:\n",
    "                # P(y_1 | x_1, z_1)\n",
    "                death = np.random.binomial(n=1, p=p_4)\n",
    "            else:\n",
    "                # P(y_1 | x_0, z_1)\n",
    "                death = np.random.binomial(n=1, p=p_3)\n",
    "        else:\n",
    "            \n",
    "            take_treatment = np.random.binomial(n=1, p=q_1)\n",
    "            \n",
    "            if take_treatment:\n",
    "                death = np.random.binomial(n=1, p=p_2)\n",
    "            else:\n",
    "                death = np.random.binomial(n=1, p=p_1)\n",
    "                \n",
    "        has_syndromes.append(has_syndrome)\n",
    "        take_treatments.append(take_treatment)\n",
    "        deaths.append(death)\n",
    "        \n",
    "    return pd.DataFrame({\n",
    "        'x = take treatment': take_treatments,\n",
    "        'y = death': deaths,\n",
    "        'z = syndrome': has_syndromes\n",
    "    })"
   ]
  },
  {
   "cell_type": "code",
   "execution_count": 143,
   "metadata": {
    "scrolled": true
   },
   "outputs": [
    {
     "data": {
      "text/html": [
       "<div>\n",
       "<style scoped>\n",
       "    .dataframe tbody tr th:only-of-type {\n",
       "        vertical-align: middle;\n",
       "    }\n",
       "\n",
       "    .dataframe tbody tr th {\n",
       "        vertical-align: top;\n",
       "    }\n",
       "\n",
       "    .dataframe thead th {\n",
       "        text-align: right;\n",
       "    }\n",
       "</style>\n",
       "<table border=\"1\" class=\"dataframe\">\n",
       "  <thead>\n",
       "    <tr style=\"text-align: right;\">\n",
       "      <th></th>\n",
       "      <th>x = take treatment</th>\n",
       "      <th>y = death</th>\n",
       "      <th>z = syndrome</th>\n",
       "    </tr>\n",
       "  </thead>\n",
       "  <tbody>\n",
       "    <tr>\n",
       "      <th>0</th>\n",
       "      <td>0</td>\n",
       "      <td>1</td>\n",
       "      <td>1</td>\n",
       "    </tr>\n",
       "    <tr>\n",
       "      <th>1</th>\n",
       "      <td>1</td>\n",
       "      <td>1</td>\n",
       "      <td>0</td>\n",
       "    </tr>\n",
       "    <tr>\n",
       "      <th>2</th>\n",
       "      <td>0</td>\n",
       "      <td>1</td>\n",
       "      <td>1</td>\n",
       "    </tr>\n",
       "    <tr>\n",
       "      <th>3</th>\n",
       "      <td>1</td>\n",
       "      <td>0</td>\n",
       "      <td>1</td>\n",
       "    </tr>\n",
       "    <tr>\n",
       "      <th>4</th>\n",
       "      <td>1</td>\n",
       "      <td>1</td>\n",
       "      <td>0</td>\n",
       "    </tr>\n",
       "    <tr>\n",
       "      <th>5</th>\n",
       "      <td>0</td>\n",
       "      <td>1</td>\n",
       "      <td>1</td>\n",
       "    </tr>\n",
       "    <tr>\n",
       "      <th>6</th>\n",
       "      <td>1</td>\n",
       "      <td>1</td>\n",
       "      <td>0</td>\n",
       "    </tr>\n",
       "    <tr>\n",
       "      <th>7</th>\n",
       "      <td>0</td>\n",
       "      <td>1</td>\n",
       "      <td>1</td>\n",
       "    </tr>\n",
       "    <tr>\n",
       "      <th>8</th>\n",
       "      <td>0</td>\n",
       "      <td>1</td>\n",
       "      <td>0</td>\n",
       "    </tr>\n",
       "    <tr>\n",
       "      <th>9</th>\n",
       "      <td>0</td>\n",
       "      <td>1</td>\n",
       "      <td>1</td>\n",
       "    </tr>\n",
       "    <tr>\n",
       "      <th>10</th>\n",
       "      <td>0</td>\n",
       "      <td>1</td>\n",
       "      <td>1</td>\n",
       "    </tr>\n",
       "    <tr>\n",
       "      <th>11</th>\n",
       "      <td>0</td>\n",
       "      <td>0</td>\n",
       "      <td>1</td>\n",
       "    </tr>\n",
       "    <tr>\n",
       "      <th>12</th>\n",
       "      <td>0</td>\n",
       "      <td>1</td>\n",
       "      <td>1</td>\n",
       "    </tr>\n",
       "    <tr>\n",
       "      <th>13</th>\n",
       "      <td>0</td>\n",
       "      <td>0</td>\n",
       "      <td>1</td>\n",
       "    </tr>\n",
       "    <tr>\n",
       "      <th>14</th>\n",
       "      <td>0</td>\n",
       "      <td>1</td>\n",
       "      <td>1</td>\n",
       "    </tr>\n",
       "    <tr>\n",
       "      <th>15</th>\n",
       "      <td>0</td>\n",
       "      <td>0</td>\n",
       "      <td>1</td>\n",
       "    </tr>\n",
       "    <tr>\n",
       "      <th>16</th>\n",
       "      <td>0</td>\n",
       "      <td>1</td>\n",
       "      <td>0</td>\n",
       "    </tr>\n",
       "    <tr>\n",
       "      <th>17</th>\n",
       "      <td>1</td>\n",
       "      <td>1</td>\n",
       "      <td>0</td>\n",
       "    </tr>\n",
       "    <tr>\n",
       "      <th>18</th>\n",
       "      <td>0</td>\n",
       "      <td>0</td>\n",
       "      <td>1</td>\n",
       "    </tr>\n",
       "    <tr>\n",
       "      <th>19</th>\n",
       "      <td>0</td>\n",
       "      <td>1</td>\n",
       "      <td>1</td>\n",
       "    </tr>\n",
       "    <tr>\n",
       "      <th>20</th>\n",
       "      <td>1</td>\n",
       "      <td>0</td>\n",
       "      <td>0</td>\n",
       "    </tr>\n",
       "    <tr>\n",
       "      <th>21</th>\n",
       "      <td>0</td>\n",
       "      <td>0</td>\n",
       "      <td>1</td>\n",
       "    </tr>\n",
       "    <tr>\n",
       "      <th>22</th>\n",
       "      <td>0</td>\n",
       "      <td>1</td>\n",
       "      <td>1</td>\n",
       "    </tr>\n",
       "    <tr>\n",
       "      <th>23</th>\n",
       "      <td>0</td>\n",
       "      <td>1</td>\n",
       "      <td>1</td>\n",
       "    </tr>\n",
       "    <tr>\n",
       "      <th>24</th>\n",
       "      <td>0</td>\n",
       "      <td>1</td>\n",
       "      <td>0</td>\n",
       "    </tr>\n",
       "    <tr>\n",
       "      <th>25</th>\n",
       "      <td>0</td>\n",
       "      <td>0</td>\n",
       "      <td>1</td>\n",
       "    </tr>\n",
       "    <tr>\n",
       "      <th>26</th>\n",
       "      <td>1</td>\n",
       "      <td>0</td>\n",
       "      <td>1</td>\n",
       "    </tr>\n",
       "    <tr>\n",
       "      <th>27</th>\n",
       "      <td>0</td>\n",
       "      <td>0</td>\n",
       "      <td>1</td>\n",
       "    </tr>\n",
       "    <tr>\n",
       "      <th>28</th>\n",
       "      <td>0</td>\n",
       "      <td>1</td>\n",
       "      <td>0</td>\n",
       "    </tr>\n",
       "    <tr>\n",
       "      <th>29</th>\n",
       "      <td>0</td>\n",
       "      <td>0</td>\n",
       "      <td>1</td>\n",
       "    </tr>\n",
       "    <tr>\n",
       "      <th>...</th>\n",
       "      <td>...</td>\n",
       "      <td>...</td>\n",
       "      <td>...</td>\n",
       "    </tr>\n",
       "    <tr>\n",
       "      <th>9970</th>\n",
       "      <td>1</td>\n",
       "      <td>1</td>\n",
       "      <td>0</td>\n",
       "    </tr>\n",
       "    <tr>\n",
       "      <th>9971</th>\n",
       "      <td>0</td>\n",
       "      <td>1</td>\n",
       "      <td>1</td>\n",
       "    </tr>\n",
       "    <tr>\n",
       "      <th>9972</th>\n",
       "      <td>1</td>\n",
       "      <td>0</td>\n",
       "      <td>0</td>\n",
       "    </tr>\n",
       "    <tr>\n",
       "      <th>9973</th>\n",
       "      <td>1</td>\n",
       "      <td>1</td>\n",
       "      <td>0</td>\n",
       "    </tr>\n",
       "    <tr>\n",
       "      <th>9974</th>\n",
       "      <td>1</td>\n",
       "      <td>1</td>\n",
       "      <td>0</td>\n",
       "    </tr>\n",
       "    <tr>\n",
       "      <th>9975</th>\n",
       "      <td>0</td>\n",
       "      <td>1</td>\n",
       "      <td>0</td>\n",
       "    </tr>\n",
       "    <tr>\n",
       "      <th>9976</th>\n",
       "      <td>0</td>\n",
       "      <td>1</td>\n",
       "      <td>0</td>\n",
       "    </tr>\n",
       "    <tr>\n",
       "      <th>9977</th>\n",
       "      <td>0</td>\n",
       "      <td>0</td>\n",
       "      <td>1</td>\n",
       "    </tr>\n",
       "    <tr>\n",
       "      <th>9978</th>\n",
       "      <td>1</td>\n",
       "      <td>1</td>\n",
       "      <td>0</td>\n",
       "    </tr>\n",
       "    <tr>\n",
       "      <th>9979</th>\n",
       "      <td>0</td>\n",
       "      <td>1</td>\n",
       "      <td>1</td>\n",
       "    </tr>\n",
       "    <tr>\n",
       "      <th>9980</th>\n",
       "      <td>0</td>\n",
       "      <td>1</td>\n",
       "      <td>1</td>\n",
       "    </tr>\n",
       "    <tr>\n",
       "      <th>9981</th>\n",
       "      <td>0</td>\n",
       "      <td>1</td>\n",
       "      <td>1</td>\n",
       "    </tr>\n",
       "    <tr>\n",
       "      <th>9982</th>\n",
       "      <td>1</td>\n",
       "      <td>0</td>\n",
       "      <td>1</td>\n",
       "    </tr>\n",
       "    <tr>\n",
       "      <th>9983</th>\n",
       "      <td>1</td>\n",
       "      <td>1</td>\n",
       "      <td>0</td>\n",
       "    </tr>\n",
       "    <tr>\n",
       "      <th>9984</th>\n",
       "      <td>0</td>\n",
       "      <td>1</td>\n",
       "      <td>1</td>\n",
       "    </tr>\n",
       "    <tr>\n",
       "      <th>9985</th>\n",
       "      <td>0</td>\n",
       "      <td>1</td>\n",
       "      <td>1</td>\n",
       "    </tr>\n",
       "    <tr>\n",
       "      <th>9986</th>\n",
       "      <td>0</td>\n",
       "      <td>1</td>\n",
       "      <td>1</td>\n",
       "    </tr>\n",
       "    <tr>\n",
       "      <th>9987</th>\n",
       "      <td>0</td>\n",
       "      <td>0</td>\n",
       "      <td>1</td>\n",
       "    </tr>\n",
       "    <tr>\n",
       "      <th>9988</th>\n",
       "      <td>0</td>\n",
       "      <td>1</td>\n",
       "      <td>0</td>\n",
       "    </tr>\n",
       "    <tr>\n",
       "      <th>9989</th>\n",
       "      <td>0</td>\n",
       "      <td>1</td>\n",
       "      <td>1</td>\n",
       "    </tr>\n",
       "    <tr>\n",
       "      <th>9990</th>\n",
       "      <td>1</td>\n",
       "      <td>1</td>\n",
       "      <td>0</td>\n",
       "    </tr>\n",
       "    <tr>\n",
       "      <th>9991</th>\n",
       "      <td>1</td>\n",
       "      <td>1</td>\n",
       "      <td>0</td>\n",
       "    </tr>\n",
       "    <tr>\n",
       "      <th>9992</th>\n",
       "      <td>1</td>\n",
       "      <td>1</td>\n",
       "      <td>0</td>\n",
       "    </tr>\n",
       "    <tr>\n",
       "      <th>9993</th>\n",
       "      <td>0</td>\n",
       "      <td>1</td>\n",
       "      <td>1</td>\n",
       "    </tr>\n",
       "    <tr>\n",
       "      <th>9994</th>\n",
       "      <td>1</td>\n",
       "      <td>1</td>\n",
       "      <td>0</td>\n",
       "    </tr>\n",
       "    <tr>\n",
       "      <th>9995</th>\n",
       "      <td>0</td>\n",
       "      <td>0</td>\n",
       "      <td>1</td>\n",
       "    </tr>\n",
       "    <tr>\n",
       "      <th>9996</th>\n",
       "      <td>0</td>\n",
       "      <td>1</td>\n",
       "      <td>1</td>\n",
       "    </tr>\n",
       "    <tr>\n",
       "      <th>9997</th>\n",
       "      <td>1</td>\n",
       "      <td>0</td>\n",
       "      <td>1</td>\n",
       "    </tr>\n",
       "    <tr>\n",
       "      <th>9998</th>\n",
       "      <td>1</td>\n",
       "      <td>1</td>\n",
       "      <td>1</td>\n",
       "    </tr>\n",
       "    <tr>\n",
       "      <th>9999</th>\n",
       "      <td>0</td>\n",
       "      <td>1</td>\n",
       "      <td>1</td>\n",
       "    </tr>\n",
       "  </tbody>\n",
       "</table>\n",
       "<p>10000 rows × 3 columns</p>\n",
       "</div>"
      ],
      "text/plain": [
       "      x = take treatment  y = death  z = syndrome\n",
       "0                      0          1             1\n",
       "1                      1          1             0\n",
       "2                      0          1             1\n",
       "3                      1          0             1\n",
       "4                      1          1             0\n",
       "5                      0          1             1\n",
       "6                      1          1             0\n",
       "7                      0          1             1\n",
       "8                      0          1             0\n",
       "9                      0          1             1\n",
       "10                     0          1             1\n",
       "11                     0          0             1\n",
       "12                     0          1             1\n",
       "13                     0          0             1\n",
       "14                     0          1             1\n",
       "15                     0          0             1\n",
       "16                     0          1             0\n",
       "17                     1          1             0\n",
       "18                     0          0             1\n",
       "19                     0          1             1\n",
       "20                     1          0             0\n",
       "21                     0          0             1\n",
       "22                     0          1             1\n",
       "23                     0          1             1\n",
       "24                     0          1             0\n",
       "25                     0          0             1\n",
       "26                     1          0             1\n",
       "27                     0          0             1\n",
       "28                     0          1             0\n",
       "29                     0          0             1\n",
       "...                  ...        ...           ...\n",
       "9970                   1          1             0\n",
       "9971                   0          1             1\n",
       "9972                   1          0             0\n",
       "9973                   1          1             0\n",
       "9974                   1          1             0\n",
       "9975                   0          1             0\n",
       "9976                   0          1             0\n",
       "9977                   0          0             1\n",
       "9978                   1          1             0\n",
       "9979                   0          1             1\n",
       "9980                   0          1             1\n",
       "9981                   0          1             1\n",
       "9982                   1          0             1\n",
       "9983                   1          1             0\n",
       "9984                   0          1             1\n",
       "9985                   0          1             1\n",
       "9986                   0          1             1\n",
       "9987                   0          0             1\n",
       "9988                   0          1             0\n",
       "9989                   0          1             1\n",
       "9990                   1          1             0\n",
       "9991                   1          1             0\n",
       "9992                   1          1             0\n",
       "9993                   0          1             1\n",
       "9994                   1          1             0\n",
       "9995                   0          0             1\n",
       "9996                   0          1             1\n",
       "9997                   1          0             1\n",
       "9998                   1          1             1\n",
       "9999                   0          1             1\n",
       "\n",
       "[10000 rows x 3 columns]"
      ]
     },
     "execution_count": 143,
     "metadata": {},
     "output_type": "execute_result"
    }
   ],
   "source": [
    "sim_1_5_2_c_df = simulate_1_5_2_c()\n",
    "sim_1_5_2_c_df"
   ]
  },
  {
   "cell_type": "code",
   "execution_count": 144,
   "metadata": {},
   "outputs": [
    {
     "data": {
      "text/plain": [
       "0.016146453800262695"
      ]
     },
     "execution_count": 144,
     "metadata": {},
     "output_type": "execute_result"
    }
   ],
   "source": [
    "# Higher death rate overall when taking the drug\n",
    "(\n",
    "    (sim_1_5_2_c_df['y = death'] == 1) & \n",
    "    (sim_1_5_2_c_df['x = take treatment'] == 1)\n",
    ").mean() / (sim_1_5_2_c_df['x = take treatment'] == 1).mean() - \\\n",
    "(\n",
    "    (sim_1_5_2_c_df['y = death'] == 1) & \n",
    "    (sim_1_5_2_c_df['x = take treatment'] == 0)\n",
    ").mean() / (sim_1_5_2_c_df['x = take treatment'] == 0).mean()"
   ]
  },
  {
   "cell_type": "code",
   "execution_count": null,
   "metadata": {},
   "outputs": [],
   "source": []
  },
  {
   "cell_type": "code",
   "execution_count": 146,
   "metadata": {},
   "outputs": [
    {
     "data": {
      "text/plain": [
       "-0.32619638489192632"
      ]
     },
     "execution_count": 146,
     "metadata": {},
     "output_type": "execute_result"
    }
   ],
   "source": [
    "# Lower death rate when accounting for those taking the drug and have syndrome\n",
    "(\n",
    "    (sim_1_5_2_c_df['y = death'] == 1) & \n",
    "    (sim_1_5_2_c_df['x = take treatment'] == 1) &\n",
    "    (sim_1_5_2_c_df['z = syndrome'] == 1)\n",
    ").mean() / (\n",
    "    (sim_1_5_2_c_df['x = take treatment'] == 1) &\n",
    "    (sim_1_5_2_c_df['z = syndrome'] == 1)\n",
    ").mean() - \\\n",
    "(\n",
    "    (sim_1_5_2_c_df['y = death'] == 1) & \n",
    "    (sim_1_5_2_c_df['x = take treatment'] == 0) &\n",
    "    (sim_1_5_2_c_df['z = syndrome'] == 1)\n",
    ").mean() / (\n",
    "    (sim_1_5_2_c_df['x = take treatment'] == 0) &\n",
    "    (sim_1_5_2_c_df['z = syndrome'] == 1)\n",
    ").mean()"
   ]
  },
  {
   "cell_type": "code",
   "execution_count": 148,
   "metadata": {},
   "outputs": [
    {
     "data": {
      "text/plain": [
       "-0.099019253764863868"
      ]
     },
     "execution_count": 148,
     "metadata": {},
     "output_type": "execute_result"
    }
   ],
   "source": [
    "# Lower death rates when accounting for those taking the drug and not have syndrome\n",
    "(\n",
    "    (sim_1_5_2_c_df['y = death'] == 1) & \n",
    "    (sim_1_5_2_c_df['x = take treatment'] == 1) &\n",
    "    (sim_1_5_2_c_df['z = syndrome'] == 0)\n",
    ").mean() / (\n",
    "    (sim_1_5_2_c_df['x = take treatment'] == 1) &\n",
    "    (sim_1_5_2_c_df['z = syndrome'] == 0)\n",
    ").mean() - \\\n",
    "(\n",
    "    (sim_1_5_2_c_df['y = death'] == 1) & \n",
    "    (sim_1_5_2_c_df['x = take treatment'] == 0) &\n",
    "    (sim_1_5_2_c_df['z = syndrome'] == 0)\n",
    ").mean() / (\n",
    "    (sim_1_5_2_c_df['x = take treatment'] == 0) &\n",
    "    (sim_1_5_2_c_df['z = syndrome'] == 0)\n",
    ").mean()"
   ]
  },
  {
   "cell_type": "markdown",
   "metadata": {},
   "source": [
    "## 1.5.3\n",
    "\n",
    "Consider a graph $X_1 \\rightarrow X_2 \\rightarrow X_3 \\rightarrow X_4$ of binary random variables, and assume that the conditional probabilities between any two consecutive variables are given by\n",
    "\n",
    "_Simpson's reversal in this scenario happens when_: \n",
    "\n",
    "$$\n",
    "\\begin{equation}\n",
    "\\begin{aligned}\n",
    "    P(X_i = 1 \\mid X_{i-1} = 1) &= p \\\\\n",
    "    P(X_i = 1 \\mid X_{i-1} = 0) &= q \\\\\n",
    "    P(X_i = 1) &= p_0 \\\\\n",
    "\\end{aligned}\n",
    "\\end{equation}\n",
    "$$\n",
    "\n",
    "Compute the following probabilities:\n",
    "\n",
    "$$\n",
    "\\begin{equation}\n",
    "\\begin{aligned}\n",
    "    &P(X_1=1,X_2=0,X_3=1,X_4=0) \\\\\n",
    "    &P(X_4=1\\mid X_1=1) \\\\\n",
    "    &P(X_1=1 \\mid X_4=1) \\\\\n",
    "    &P(X_3=1 \\mid X_1=0, X_4=1)\n",
    "\\end{aligned}\n",
    "\\end{equation}\n",
    "$$"
   ]
  },
  {
   "cell_type": "markdown",
   "metadata": {},
   "source": [
    "$$\n",
    "\\begin{equation}\n",
    "\\begin{aligned}\n",
    "    P(X_1=1,X_2=0,X_3=1,X_4=0) \n",
    "    &= P(X_4=0 \\mid X_3=1) \\cdot \n",
    "    P(X_3=1 \\mid X_2=0) \\cdot P(X_2=0 \\mid X_1 = 1) \\cdot P(X_1=1) \\\\\n",
    "    &= (1-p) \\cdot q \\cdot (1-p) \\cdot p_0\n",
    "\\end{aligned}\n",
    "\\end{equation}\n",
    "$$"
   ]
  },
  {
   "cell_type": "markdown",
   "metadata": {},
   "source": [
    "$$\n",
    "\\begin{equation}\n",
    "\\begin{aligned}\n",
    "    P(X_4=1\\mid X_1=1) &= \\frac{ \n",
    "            \\sum_i \\sum_j P(X_4=1, X_3=i, X_2=j, X_1=1)\n",
    "        }{P(X_1=1)} \\\\\n",
    "    &= \\frac{ \n",
    "            P(X_4=1, X_3=0, X_2=0, X_1=1) + \n",
    "            P(X_4=1, X_3=0, X_2=1, X_1=1) + \n",
    "            P(X_4=1, X_3=1, X_2=0, X_1=1) + \n",
    "            P(X_4=1, X_3=1, X_2=1, X_1=1)\n",
    "        }{P(X_1=1)} \\\\\n",
    "    &= \\frac{ \n",
    "            P(X_4=1 \\mid X_3=0) \\cdot P(X_3=0 \\mid X_2=0) \\cdot P(X_2=0 \\mid X_1=1) \\cdot P(X_1=1) \\\\ + \n",
    "            P(X_4=1 \\mid X_3=0) \\cdot P(X_3=0 \\mid X_2=1) \\cdot P(X_2=1 \\mid X_1=1) \\cdot P(X_1=1) \\\\ + \n",
    "            P(X_4=1 \\mid X_3=1) \\cdot P(X_3=1 \\mid X_2=0) \\cdot P(X_2=0 \\mid X_1=1) \\cdot P(X_1=1) \\\\ +  \n",
    "            P(X_4=1 \\mid X_3=1) \\cdot P(X_3=1 \\mid X_2=1) \\cdot P(X_2=1 \\mid X_1=1) \\cdot P(X_1=1)\n",
    "        }{P(X_1=1)} \\\\\n",
    "    &= q \\cdot (1-q) \\cdot (1-p) + \\\\\n",
    "&\\qquad p \\cdot (1-p) \\cdot p + \\\\\n",
    "&\\qquad p \\cdot q \\cdot (1-p) + \\\\\n",
    "&\\qquad p^3 \\cdot p_0 \\div p_0 \\\\\n",
    "    &=  q \\cdot (1-q) \\cdot (1-p) + \\\\\n",
    "&\\qquad p \\cdot (1-p) \\cdot p + \\\\\n",
    "&\\qquad p \\cdot q \\cdot (1-p) + \\\\\n",
    "&\\qquad p^3 \\\\\n",
    "\\end{aligned}\n",
    "\\end{equation}\n",
    "$$"
   ]
  },
  {
   "cell_type": "markdown",
   "metadata": {},
   "source": [
    "$$\n",
    "\\begin{equation}\n",
    "\\begin{aligned}\n",
    "    P(X_4=1\\mid X_1=1) &= \\frac{ \n",
    "            \\sum_i \\sum_j P(X_4=1, X_3=i, X_2=j, X_1=1)\n",
    "        }{P(X_1=1)} \\\\\n",
    "    &= \\frac{ \n",
    "            P(X_4=1, X_3=0, X_2=0, X_1=1) + \n",
    "            P(X_4=1, X_3=0, X_2=1, X_1=1) + \n",
    "            P(X_4=1, X_3=1, X_2=0, X_1=1) + \n",
    "            P(X_4=1, X_3=1, X_2=1, X_1=1)\n",
    "        }{P(X_1=1)} \\\\\n",
    "    &= \\frac{ \n",
    "            P(X_4=1 \\mid X_3=0) \\cdot P(X_3=0 \\mid X_2=0) \\cdot P(X_2=0 \\mid X_1=1) \\cdot P(X_1=1) \\\\ + \n",
    "            P(X_4=1 \\mid X_3=0) \\cdot P(X_3=0 \\mid X_2=1) \\cdot P(X_2=1 \\mid X_1=1) \\cdot P(X_1=1) \\\\ + \n",
    "            P(X_4=1 \\mid X_3=1) \\cdot P(X_3=1 \\mid X_2=0) \\cdot P(X_2=0 \\mid X_1=1) \\cdot P(X_1=1) \\\\ +  \n",
    "            P(X_4=1 \\mid X_3=1) \\cdot P(X_3=1 \\mid X_2=1) \\cdot P(X_2=1 \\mid X_1=1) \\cdot P(X_1=1)\n",
    "        }{P(X_1=1)} \\\\\n",
    "    &= q \\cdot (1-q) \\cdot (1-p) + \\\\\n",
    "&\\qquad p \\cdot (1-p) \\cdot p + \\\\\n",
    "&\\qquad p \\cdot q \\cdot (1-p) + \\\\\n",
    "&\\qquad p^3 \\cdot p_0 \\div p_0 \\\\\n",
    "    &=  q \\cdot (1-q) \\cdot (1-p) + \\\\\n",
    "&\\qquad p \\cdot (1-p) \\cdot p + \\\\\n",
    "&\\qquad p \\cdot q \\cdot (1-p) + \\\\\n",
    "&\\qquad p^3 \\\\\n",
    "\\end{aligned}\n",
    "\\end{equation}\n",
    "$$"
   ]
  },
  {
   "cell_type": "markdown",
   "metadata": {},
   "source": [
    "$$\n",
    "\\begin{equation}\n",
    "\\begin{aligned}\n",
    "    P(X_1 = 1 \\mid X_4 = 1) &= \\frac {\n",
    "        P(X_4 = 1 \\mid X_1 = 1) P(X_1 = 1)\n",
    "    } {\n",
    "        P(X_4 = 1)\n",
    "    } && \\text{ We can substitute $P(X_4=1 \\mid X_1 = 1)$ }\n",
    "\\end{aligned}\n",
    "\\end{equation}\n",
    "$$"
   ]
  },
  {
   "cell_type": "markdown",
   "metadata": {},
   "source": [
    "$$\n",
    "\\begin{equation}\n",
    "\\begin{aligned}\n",
    "    P(X_4 = 1) &= \n",
    "        q [ (1-p) \\cdot (p \\cdot p_0 + q \\cdot (1-p_0)) + (1-q) \\cdot ((1-p) \\cdot p_0 + (1-q) \\cdot (1-p_0)) ] \\\\\n",
    "        &\\qquad +\n",
    "        p [ p \\cdot (p \\cdot p_0 + q \\cdot (1-p_0)) + q \\cdot ((1-p) \\cdot p_0 + (1-q) \\cdot (1-p_0)) ] \\\\\n",
    "        &= (q-p\\cdot q) \\cdot (p \\cdot p_0 + q \\cdot (1-p_0)) + (q-q^2) \\cdot ((1-p) \\cdot p_0 + (1-q) \\cdot (1-p_0)) ] \\\\\n",
    "        &\\qquad +\n",
    "         p^2 \\cdot (p \\cdot p_0 + q \\cdot (1-p_0)) + pq \\cdot ((1-p) \\cdot p_0 + (1-q) \\cdot (1-p_0))  \\\\\n",
    "        &= (q-p\\cdot q + p^2) \\cdot (p \\cdot p_0 + q \\cdot (1-p_0)) + (q-q^2 +pq) \\cdot ((1-p) \\cdot p_0 + (1-q) \\cdot (1-p_0)) ] \\\\\n",
    "\\end{aligned}\n",
    "\\end{equation}\n",
    "$$"
   ]
  },
  {
   "cell_type": "markdown",
   "metadata": {},
   "source": [
    "$$\n",
    "\\begin{equation}\n",
    "\\begin{aligned}\n",
    "    P(X_3 = 1 \\mid X_1 = 0, X_4 = 1) &= \\frac { \n",
    "        pq\\cdot (1-q)\\cdot (1-p_0) + p^2 \\cdot q \\cdot (1-p_0) \n",
    "    } {\n",
    "        q \\cdot (1-q)^2 \\cdot (1-p_0) \\\\\n",
    "        + pq\\cdot (1-q) \\cdot (1-p_0) \\\\\n",
    "        + q^2 \\cdot(1-p) \\cdot (1-p_0) \\\\\n",
    "        + p^2 \\cdot q \\cdot (1-p_0)\n",
    "    } \\\\\n",
    "     &= \\frac { \n",
    "        pq\\cdot (1-q)\\cdot + p^2 \\cdot q \n",
    "    } {\n",
    "        (q \\cdot (1-q)^2  \\\\\n",
    "        + pq\\cdot (1-q)  \\\\\n",
    "        + q^2 \\cdot(1-p)  \\\\\n",
    "        + p^2 \\cdot q)\n",
    "    }\n",
    "\\end{aligned}\n",
    "\\end{equation}\n",
    "$$"
   ]
  },
  {
   "cell_type": "markdown",
   "metadata": {},
   "source": [
    "## 1.5.4\n",
    "\n",
    "Define the structural model that corresponds to the Monty Hall problem, and use it to describe the joint distribution of all variables.\n",
    "\n",
    "$$\n",
    "\\begin{equation}\n",
    "\\begin{aligned}\n",
    "    V &= \\{C, Y, H\\} \\\\\n",
    "    U &= \\{U_C, U_Y, U_H\\} \\\\\n",
    "    F &= \\{f_C, f_Y, f_H\\}\\\\\n",
    "    f_C: C &= U_C \\\\\n",
    "    f_Y: Y &= U_Y \\\\\n",
    "    f_H: H &= \\\\\n",
    "    &\\qquad \\text{If }C = Y, \\text{then pick any other door} \\\\\n",
    "    &\\qquad \\text{else pick the door that has a goat} \\\\\n",
    "    P(H, C, Y) &= P(H \\mid C, Y) \\cdot P(C, Y) \\\\\n",
    "    &= P(H \\mid C, Y) \\cdot P(C) \\cdot P(Y) \\\\\n",
    "\\end{aligned}\n",
    "\\end{equation}\n",
    "$$"
   ]
  },
  {
   "cell_type": "code",
   "execution_count": null,
   "metadata": {},
   "outputs": [],
   "source": []
  }
 ],
 "metadata": {
  "kernelspec": {
   "display_name": "Python 3",
   "language": "python",
   "name": "python3"
  },
  "language_info": {
   "codemirror_mode": {
    "name": "ipython",
    "version": 3
   },
   "file_extension": ".py",
   "mimetype": "text/x-python",
   "name": "python",
   "nbconvert_exporter": "python",
   "pygments_lexer": "ipython3",
   "version": "3.6.0"
  },
  "toc": {
   "colors": {
    "hover_highlight": "#DAA520",
    "navigate_num": "#000000",
    "navigate_text": "#333333",
    "running_highlight": "#FF0000",
    "selected_highlight": "#FFD700",
    "sidebar_border": "#EEEEEE",
    "wrapper_background": "#FFFFFF"
   },
   "moveMenuLeft": true,
   "nav_menu": {
    "height": "161px",
    "width": "253px"
   },
   "navigate_menu": true,
   "number_sections": false,
   "sideBar": true,
   "threshold": "5",
   "toc_cell": true,
   "toc_position": {
    "height": "844px",
    "left": "0px",
    "right": "1463.33px",
    "top": "44.1px",
    "width": "158px"
   },
   "toc_section_display": "block",
   "toc_window_display": true,
   "widenNotebook": false
  }
 },
 "nbformat": 4,
 "nbformat_minor": 2
}
