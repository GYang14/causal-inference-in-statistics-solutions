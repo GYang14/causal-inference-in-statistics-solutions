{
 "cells": [
  {
   "cell_type": "markdown",
   "metadata": {
    "toc": "true"
   },
   "source": [
    "# Table of Contents\n",
    " <p><div class=\"lev1 toc-item\"><a href=\"#Chapter-1-Study-Questions\" data-toc-modified-id=\"Chapter-1-Study-Questions-1\"><span class=\"toc-item-num\">1&nbsp;&nbsp;</span>Chapter 1 Study Questions</a></div><div class=\"lev2 toc-item\"><a href=\"#Import-statements\" data-toc-modified-id=\"Import-statements-11\"><span class=\"toc-item-num\">1.1&nbsp;&nbsp;</span>Import statements</a></div><div class=\"lev2 toc-item\"><a href=\"#1.2.1\" data-toc-modified-id=\"1.2.1-12\"><span class=\"toc-item-num\">1.2&nbsp;&nbsp;</span>1.2.1</a></div><div class=\"lev3 toc-item\"><a href=\"#a.\" data-toc-modified-id=\"a.-121\"><span class=\"toc-item-num\">1.2.1&nbsp;&nbsp;</span>a.</a></div><div class=\"lev3 toc-item\"><a href=\"#b.\" data-toc-modified-id=\"b.-122\"><span class=\"toc-item-num\">1.2.2&nbsp;&nbsp;</span>b.</a></div><div class=\"lev3 toc-item\"><a href=\"#c.\" data-toc-modified-id=\"c.-123\"><span class=\"toc-item-num\">1.2.3&nbsp;&nbsp;</span>c.</a></div><div class=\"lev2 toc-item\"><a href=\"#1.2.2\" data-toc-modified-id=\"1.2.2-13\"><span class=\"toc-item-num\">1.3&nbsp;&nbsp;</span>1.2.2</a></div><div class=\"lev2 toc-item\"><a href=\"#1.2.3\" data-toc-modified-id=\"1.2.3-14\"><span class=\"toc-item-num\">1.4&nbsp;&nbsp;</span>1.2.3</a></div><div class=\"lev3 toc-item\"><a href=\"#a.\" data-toc-modified-id=\"a.-141\"><span class=\"toc-item-num\">1.4.1&nbsp;&nbsp;</span>a.</a></div><div class=\"lev3 toc-item\"><a href=\"#b.\" data-toc-modified-id=\"b.-142\"><span class=\"toc-item-num\">1.4.2&nbsp;&nbsp;</span>b.</a></div><div class=\"lev2 toc-item\"><a href=\"#1.2.4\" data-toc-modified-id=\"1.2.4-15\"><span class=\"toc-item-num\">1.5&nbsp;&nbsp;</span>1.2.4</a></div><div class=\"lev3 toc-item\"><a href=\"#a.\" data-toc-modified-id=\"a.-151\"><span class=\"toc-item-num\">1.5.1&nbsp;&nbsp;</span>a.</a></div><div class=\"lev3 toc-item\"><a href=\"#b.\" data-toc-modified-id=\"b.-152\"><span class=\"toc-item-num\">1.5.2&nbsp;&nbsp;</span>b.</a></div><div class=\"lev3 toc-item\"><a href=\"#c.\" data-toc-modified-id=\"c.-153\"><span class=\"toc-item-num\">1.5.3&nbsp;&nbsp;</span>c.</a></div><div class=\"lev3 toc-item\"><a href=\"#d.\" data-toc-modified-id=\"d.-154\"><span class=\"toc-item-num\">1.5.4&nbsp;&nbsp;</span>d.</a></div><div class=\"lev3 toc-item\"><a href=\"#e.\" data-toc-modified-id=\"e.-155\"><span class=\"toc-item-num\">1.5.5&nbsp;&nbsp;</span>e.</a></div><div class=\"lev2 toc-item\"><a href=\"#1.3.1\" data-toc-modified-id=\"1.3.1-16\"><span class=\"toc-item-num\">1.6&nbsp;&nbsp;</span>1.3.1</a></div><div class=\"lev2 toc-item\"><a href=\"#1.3.2\" data-toc-modified-id=\"1.3.2-17\"><span class=\"toc-item-num\">1.7&nbsp;&nbsp;</span>1.3.2</a></div><div class=\"lev3 toc-item\"><a href=\"#a.\" data-toc-modified-id=\"a.-171\"><span class=\"toc-item-num\">1.7.1&nbsp;&nbsp;</span>a.</a></div><div class=\"lev3 toc-item\"><a href=\"#b.\" data-toc-modified-id=\"b.-172\"><span class=\"toc-item-num\">1.7.2&nbsp;&nbsp;</span>b.</a></div><div class=\"lev3 toc-item\"><a href=\"#c.\" data-toc-modified-id=\"c.-173\"><span class=\"toc-item-num\">1.7.3&nbsp;&nbsp;</span>c.</a></div><div class=\"lev3 toc-item\"><a href=\"#d.\" data-toc-modified-id=\"d.-174\"><span class=\"toc-item-num\">1.7.4&nbsp;&nbsp;</span>d.</a></div><div class=\"lev2 toc-item\"><a href=\"#1.3.3\" data-toc-modified-id=\"1.3.3-18\"><span class=\"toc-item-num\">1.8&nbsp;&nbsp;</span>1.3.3</a></div><div class=\"lev3 toc-item\"><a href=\"#a.\" data-toc-modified-id=\"a.-181\"><span class=\"toc-item-num\">1.8.1&nbsp;&nbsp;</span>a.</a></div><div class=\"lev3 toc-item\"><a href=\"#b.\" data-toc-modified-id=\"b.-182\"><span class=\"toc-item-num\">1.8.2&nbsp;&nbsp;</span>b.</a></div><div class=\"lev2 toc-item\"><a href=\"#1.3.4\" data-toc-modified-id=\"1.3.4-19\"><span class=\"toc-item-num\">1.9&nbsp;&nbsp;</span>1.3.4</a></div><div class=\"lev3 toc-item\"><a href=\"#a.\" data-toc-modified-id=\"a.-191\"><span class=\"toc-item-num\">1.9.1&nbsp;&nbsp;</span>a.</a></div><div class=\"lev3 toc-item\"><a href=\"#b.\" data-toc-modified-id=\"b.-192\"><span class=\"toc-item-num\">1.9.2&nbsp;&nbsp;</span>b.</a></div><div class=\"lev2 toc-item\"><a href=\"#1.3.5\" data-toc-modified-id=\"1.3.5-110\"><span class=\"toc-item-num\">1.10&nbsp;&nbsp;</span>1.3.5</a></div><div class=\"lev2 toc-item\"><a href=\"#1.3.6\" data-toc-modified-id=\"1.3.6-111\"><span class=\"toc-item-num\">1.11&nbsp;&nbsp;</span>1.3.6</a></div><div class=\"lev3 toc-item\"><a href=\"#a.\" data-toc-modified-id=\"a.-1111\"><span class=\"toc-item-num\">1.11.1&nbsp;&nbsp;</span>a.</a></div><div class=\"lev3 toc-item\"><a href=\"#b.\" data-toc-modified-id=\"b.-1112\"><span class=\"toc-item-num\">1.11.2&nbsp;&nbsp;</span>b.</a></div><div class=\"lev2 toc-item\"><a href=\"#1.3.7\" data-toc-modified-id=\"1.3.7-112\"><span class=\"toc-item-num\">1.12&nbsp;&nbsp;</span>1.3.7</a></div><div class=\"lev3 toc-item\"><a href=\"#a.\" data-toc-modified-id=\"a.-1121\"><span class=\"toc-item-num\">1.12.1&nbsp;&nbsp;</span>a.</a></div><div class=\"lev3 toc-item\"><a href=\"#b.\" data-toc-modified-id=\"b.-1122\"><span class=\"toc-item-num\">1.12.2&nbsp;&nbsp;</span>b.</a></div><div class=\"lev3 toc-item\"><a href=\"#c.\" data-toc-modified-id=\"c.-1123\"><span class=\"toc-item-num\">1.12.3&nbsp;&nbsp;</span>c.</a></div><div class=\"lev3 toc-item\"><a href=\"#d.\" data-toc-modified-id=\"d.-1124\"><span class=\"toc-item-num\">1.12.4&nbsp;&nbsp;</span>d.</a></div><div class=\"lev3 toc-item\"><a href=\"#e.\" data-toc-modified-id=\"e.-1125\"><span class=\"toc-item-num\">1.12.5&nbsp;&nbsp;</span>e.</a></div><div class=\"lev2 toc-item\"><a href=\"#1.3.8\" data-toc-modified-id=\"1.3.8-113\"><span class=\"toc-item-num\">1.13&nbsp;&nbsp;</span>1.3.8</a></div><div class=\"lev3 toc-item\"><a href=\"#a.\" data-toc-modified-id=\"a.-1131\"><span class=\"toc-item-num\">1.13.1&nbsp;&nbsp;</span>a.</a></div><div class=\"lev3 toc-item\"><a href=\"#b.\" data-toc-modified-id=\"b.-1132\"><span class=\"toc-item-num\">1.13.2&nbsp;&nbsp;</span>b.</a></div><div class=\"lev3 toc-item\"><a href=\"#c.\" data-toc-modified-id=\"c.-1133\"><span class=\"toc-item-num\">1.13.3&nbsp;&nbsp;</span>c.</a></div><div class=\"lev3 toc-item\"><a href=\"#d.\" data-toc-modified-id=\"d.-1134\"><span class=\"toc-item-num\">1.13.4&nbsp;&nbsp;</span>d.</a></div><div class=\"lev3 toc-item\"><a href=\"#e.\" data-toc-modified-id=\"e.-1135\"><span class=\"toc-item-num\">1.13.5&nbsp;&nbsp;</span>e.</a></div><div class=\"lev3 toc-item\"><a href=\"#1.3.9\" data-toc-modified-id=\"1.3.9-1136\"><span class=\"toc-item-num\">1.13.6&nbsp;&nbsp;</span>1.3.9</a></div><div class=\"lev4 toc-item\"><a href=\"#a.\" data-toc-modified-id=\"a.-11361\"><span class=\"toc-item-num\">1.13.6.1&nbsp;&nbsp;</span>a.</a></div><div class=\"lev4 toc-item\"><a href=\"#b.\" data-toc-modified-id=\"b.-11362\"><span class=\"toc-item-num\">1.13.6.2&nbsp;&nbsp;</span>b.</a></div>"
   ]
  },
  {
   "cell_type": "markdown",
   "metadata": {},
   "source": [
    "# Chapter 1 Study Questions"
   ]
  },
  {
   "cell_type": "markdown",
   "metadata": {},
   "source": [
    "## Import statements"
   ]
  },
  {
   "cell_type": "code",
   "execution_count": 81,
   "metadata": {},
   "outputs": [],
   "source": [
    "import numpy as np\n",
    "import pandas as pd\n",
    "import pymc3 as pm\n",
    "\n",
    "%matplotlib inline"
   ]
  },
  {
   "cell_type": "markdown",
   "metadata": {},
   "source": [
    "## 1.2.1\n",
    "\n",
    "What is wrong with the following questions?\n",
    "\n",
    "### a. \n",
    "\n",
    "\"Data show that income and marriage have a high positive correlation. Therefore, your earnings will increase if you get married.\"\n",
    "\n",
    "_Correlation does not mean causation. Higher income causes marriage, not the other way around. People prefer mates with high enough incomes, probably because of stability that higher income provides._\n",
    "\n",
    "### b. \n",
    "\n",
    "\"Data show that as the number of fires increase, so does the number of fire fighters. Therefore, to cut down on fires, you should reduce the number of fire fighters.\"\n",
    "\n",
    "_The number of firefighters fluctuates as a result of the number of fires (demand). Changing the number of firefighters would not decrease the number of fires. Decreasing it would probably lead to more damage as a result of lower supply of firefighters._ \n",
    "\n",
    "### c. \n",
    "\n",
    "\"Data show that people who hurry tend to be late to their meetings. Don't hurry, or you'll be late.\"\n",
    "\n",
    "_Lateness causes hurrying, not the other way around. Changing whether or not you're hurrying would not affect lateness._"
   ]
  },
  {
   "cell_type": "markdown",
   "metadata": {},
   "source": [
    "##  1.2.2\n",
    "\n",
    "A baseball batter Tim has a better batting average than his teammate Frank. However, someone notices that Frank has a better batting average than Tim against both right-handed and left-handed pitchers. How can this happen? (Present your answer in a table).\n",
    "\n",
    "|Against | Tim | Frank |\n",
    "|--------|-----|-------|\n",
    "|left    |98/100|979/1000|\n",
    "|right   |5/7   |  4/7   |\n",
    "|total   | 103/107 = 0.962 | 983/1007 = 0.976 |\n"
   ]
  },
  {
   "cell_type": "markdown",
   "metadata": {},
   "source": [
    "## 1.2.3\n",
    "\n",
    "Determine, for each of the following causal stories, whether you should use the aggregate or the segregated data to determine the true effect.\n",
    "\n",
    "### a. \n",
    "\n",
    "There are two treatments used on kidney stones: Treatment $A$ and Treatment $B$. Doctors are more likely to use Treatment $B$ on small stones. Should a patient who doesn't know the size of his or her stone examine the general population data, or the stone size-specific data when determining which treatment will be more effective?\n",
    "\n",
    "_Treatment and effectiveness is confounded by severity (size of kidney stone). In other words, severity impacts both treatment and effectiveness. To decide which treatment is most effective, one should figure out what kidney stone size has before figuring out which treatment to take. Therefore, one should find out the size of one's kidney stone, and then use the segregated data. Using the incorrect operation could be very costly (i.e. loss of human life), so it makes sense to personalize predictions as much as possible (which will use segregated data)._\n",
    "\n",
    "### b. \n",
    "\n",
    "There are two doctors in a small town. Each has performed 100 surgeries in his career, which are of two types: one very difficult surgery and one very easy surgery. The first doctor performs the easy surgery much more often than the difficult surgery and the second doctor performs the difficult surgery more often than the easy surgery. You need surgery, but you do not know whether your case is easy or difficult. Should you consult the success rate of each doctor over all cases, or should you consult their success rates for the easy and difficult cases separately, to maximize the chance of a successful surgery?\n",
    "\n",
    "_I would consult the success rate of each doctor for easy and difficult cases separately. I would probably prefer the doctor who's done more of the difficult cases, even though it might be slightly lower than that of the other doctor who's done more of the easy cases. Easy cases, by definition, are easy, and would probably take a lot less practice to get good at. If possible, I would also look into how recent the doctors' operations have been. If Doctor $A$ had performed the difficult surgery at a higher rate, had a slightly higher rate than Doctor $B$,  but Doctor $A$'s last difficult operation was 20 years ago vs. 2 years ago, I would prefer Doctor $B$. I think using segregated data is useful in this case._"
   ]
  },
  {
   "cell_type": "markdown",
   "metadata": {},
   "source": [
    "## 1.2.4\n",
    "\n",
    "In an attempt to estimate the effectiveness of a new drug, a randomized experiment is conducted. In all, 50% of the patients are assigned to receive the new drug and 50% a placebo. A day before the actual experiment, a nurse hands out lollipos to some patients who show signs of depression, mostly among those who have been assigned to treatment the next day (i.e., the nurse's round happened to take her through the treatment-bound ward). Strangely, the experimental data revealed a Simpson's reversal: Although the drug proved benificial to the population as a whole, drug takers were less likely to recover than non-takers, among both lollipop receivers and lollipop nonreceivers. Assuming that lollipop sucking in itself has no effect whatsover on recovery, answer the following questions:\n",
    "\n",
    "### a. \n",
    "\n",
    "Is the drug beneficial to the population as a whole or harmful?\n",
    "\n",
    "_The drug is beneficial to the population as a whole. Using segregated data would not inform us about the drug's effectiveness on the population as a whole. It only tells us that the drug is less effective on people with depression._\n",
    " \n",
    "### b. \n",
    "\n",
    "Does your answer contradict our gender example, where sex-specific data was deemed more appropriate?\n",
    "\n",
    "_In the gender example, the aggregate success rate was misleading, because more women were more likely to take the drug than men, and women have higher estrogen levels, which we know have an effect on recovery, so the aggregate data is not representative of the population, where, ratio of men and women are more likely to be equal. Thus it made sense to use segregated data to ensure that recovery was due to the drug, and not due to estrogen levels. In this case, we have the opposite problem: we're looking at the sub-population of depressed people; depression is known to have negative effects on recovery, and masks the effectiveness of the drug. Depression generally afflicts a small percentage of the population, and thus is not representative of the population. In this case, it makes sense to use aggregated data instead of segregated data._\n",
    "\n",
    "### c. \n",
    "\n",
    "Draw a graph (informally) that more or less captures the story. (Look ahead to Section 1.4 if you wish.)\n",
    "\n",
    "![Image](./img/lollipop.png)\n",
    "\n",
    "### d. \n",
    "\n",
    "How would you explain the emergence of Simpson's reversal in this story?\n",
    "\n",
    "_Those who got lollipops are depressed and will be treated. We expect that people in the lollipop group would be worse on the drug than those in the non-lollipop group because of depression. However, rate of depression in the population in general is small, so the aggregate would show high success rate._\n",
    "\n",
    "### e. \n",
    "\n",
    "Would your answer change if the lollipops were handed out (by the same criterion) a day after the study?\n",
    "\n",
    "_If taking the drug influences depression rate, then yes._"
   ]
  },
  {
   "cell_type": "markdown",
   "metadata": {},
   "source": [
    " ## 1.3.1\n",
    " \n",
    " Identify the variables and events invoked in the lollipop story of Study question 1.2.4\n",
    " \n",
    " | variables | events |\n",
    " |-----------|----------|\n",
    " | Random    | {T, F}   |\n",
    " | Receive   | {T, F}   |\n",
    " | Take   | {T, F}   |\n",
    " | Recovery   | {T, F}   |\n",
    " | Lollipop   | {T, F}   |\n",
    " | Depression | {T, F}   |\n",
    " "
   ]
  },
  {
   "cell_type": "markdown",
   "metadata": {},
   "source": [
    "## 1.3.2\n",
    "\n",
    "Consider Table 1.5 showing the relationship between gender and education level in the U.S. adult population.\n",
    "\n"
   ]
  },
  {
   "cell_type": "code",
   "execution_count": 30,
   "metadata": {},
   "outputs": [
    {
     "data": {
      "text/html": [
       "<div>\n",
       "<style scoped>\n",
       "    .dataframe tbody tr th:only-of-type {\n",
       "        vertical-align: middle;\n",
       "    }\n",
       "\n",
       "    .dataframe tbody tr th {\n",
       "        vertical-align: top;\n",
       "    }\n",
       "\n",
       "    .dataframe thead th {\n",
       "        text-align: right;\n",
       "    }\n",
       "</style>\n",
       "<table border=\"1\" class=\"dataframe\">\n",
       "  <thead>\n",
       "    <tr style=\"text-align: right;\">\n",
       "      <th></th>\n",
       "      <th>Gender</th>\n",
       "      <th>Highest education achieved</th>\n",
       "      <th>Occurrence</th>\n",
       "    </tr>\n",
       "  </thead>\n",
       "  <tbody>\n",
       "    <tr>\n",
       "      <th>0</th>\n",
       "      <td>Male</td>\n",
       "      <td>0</td>\n",
       "      <td>112</td>\n",
       "    </tr>\n",
       "    <tr>\n",
       "      <th>1</th>\n",
       "      <td>Male</td>\n",
       "      <td>1</td>\n",
       "      <td>231</td>\n",
       "    </tr>\n",
       "    <tr>\n",
       "      <th>2</th>\n",
       "      <td>Male</td>\n",
       "      <td>2</td>\n",
       "      <td>595</td>\n",
       "    </tr>\n",
       "    <tr>\n",
       "      <th>3</th>\n",
       "      <td>Male</td>\n",
       "      <td>3</td>\n",
       "      <td>242</td>\n",
       "    </tr>\n",
       "    <tr>\n",
       "      <th>4</th>\n",
       "      <td>Female</td>\n",
       "      <td>0</td>\n",
       "      <td>136</td>\n",
       "    </tr>\n",
       "    <tr>\n",
       "      <th>5</th>\n",
       "      <td>Female</td>\n",
       "      <td>1</td>\n",
       "      <td>189</td>\n",
       "    </tr>\n",
       "    <tr>\n",
       "      <th>6</th>\n",
       "      <td>Female</td>\n",
       "      <td>2</td>\n",
       "      <td>763</td>\n",
       "    </tr>\n",
       "    <tr>\n",
       "      <th>7</th>\n",
       "      <td>Female</td>\n",
       "      <td>3</td>\n",
       "      <td>172</td>\n",
       "    </tr>\n",
       "  </tbody>\n",
       "</table>\n",
       "</div>"
      ],
      "text/plain": [
       "   Gender  Highest education achieved  Occurrence\n",
       "0    Male                           0         112\n",
       "1    Male                           1         231\n",
       "2    Male                           2         595\n",
       "3    Male                           3         242\n",
       "4  Female                           0         136\n",
       "5  Female                           1         189\n",
       "6  Female                           2         763\n",
       "7  Female                           3         172"
      ]
     },
     "execution_count": 30,
     "metadata": {},
     "output_type": "execute_result"
    }
   ],
   "source": [
    "table_1_point_5_df = pd.DataFrame({\n",
    "    'Gender': ['Male','Male','Male','Male','Female','Female','Female','Female'],\n",
    "    'Highest education achieved': [\n",
    "        0, 1, 2 ,3, 0, 1, 2, 3\n",
    "    ],\n",
    "    'Occurrence': [\n",
    "        112, 231, 595, 242, 136, 189, 763, 172\n",
    "    ]\n",
    "})\n",
    "\n",
    "table_1_point_5_df"
   ]
  },
  {
   "cell_type": "markdown",
   "metadata": {},
   "source": [
    "### a. \n",
    "\n",
    "Estimate $P(\\text{High School})$."
   ]
  },
  {
   "cell_type": "code",
   "execution_count": 17,
   "metadata": {},
   "outputs": [
    {
     "data": {
      "text/plain": [
       "0.1721311475409836"
      ]
     },
     "execution_count": 17,
     "metadata": {},
     "output_type": "execute_result"
    }
   ],
   "source": [
    "table_1_point_5_df[\n",
    "    table_1_point_5_df['Highest education achieved'] == 1\n",
    "]['Occurrence'].sum() / table_1_point_5_df['Occurrence'].sum()"
   ]
  },
  {
   "cell_type": "markdown",
   "metadata": {},
   "source": [
    "### b.\n",
    "\n",
    "Estimate $P(\\text{High School OR Female})$."
   ]
  },
  {
   "cell_type": "code",
   "execution_count": 19,
   "metadata": {},
   "outputs": [
    {
     "data": {
      "text/plain": [
       "0.61106557377049175"
      ]
     },
     "execution_count": 19,
     "metadata": {},
     "output_type": "execute_result"
    }
   ],
   "source": [
    "table_1_point_5_df[\n",
    "    (table_1_point_5_df['Highest education achieved'] == 1) |\n",
    "    (table_1_point_5_df['Gender'] == 'Female')\n",
    "]['Occurrence'].sum() / table_1_point_5_df['Occurrence'].sum()"
   ]
  },
  {
   "cell_type": "markdown",
   "metadata": {},
   "source": [
    "### c. \n",
    "\n",
    "Estimate $P(\\text{High School} \\mid \\text{Female})$."
   ]
  },
  {
   "cell_type": "code",
   "execution_count": 20,
   "metadata": {},
   "outputs": [
    {
     "data": {
      "text/plain": [
       "0.14999999999999999"
      ]
     },
     "execution_count": 20,
     "metadata": {},
     "output_type": "execute_result"
    }
   ],
   "source": [
    "table_1_point_5_df[\n",
    "    (table_1_point_5_df['Highest education achieved'] == 1) &\n",
    "    (table_1_point_5_df['Gender'] == 'Female')\n",
    "]['Occurrence'].sum() / table_1_point_5_df[\n",
    "    (table_1_point_5_df['Gender'] == 'Female')\n",
    "]['Occurrence'].sum()"
   ]
  },
  {
   "cell_type": "markdown",
   "metadata": {},
   "source": [
    "### d. \n",
    "\n",
    "Estimate $P(\\text{Female} \\mid \\text{High School})$."
   ]
  },
  {
   "cell_type": "code",
   "execution_count": 21,
   "metadata": {},
   "outputs": [
    {
     "data": {
      "text/plain": [
       "0.45000000000000001"
      ]
     },
     "execution_count": 21,
     "metadata": {},
     "output_type": "execute_result"
    }
   ],
   "source": [
    "table_1_point_5_df[\n",
    "    (table_1_point_5_df['Highest education achieved'] == 1) &\n",
    "    (table_1_point_5_df['Gender'] == 'Female')\n",
    "]['Occurrence'].sum() / table_1_point_5_df[\n",
    "    (table_1_point_5_df['Highest education achieved'] == 1) \n",
    "]['Occurrence'].sum()"
   ]
  },
  {
   "cell_type": "markdown",
   "metadata": {},
   "source": [
    "## 1.3.3"
   ]
  },
  {
   "cell_type": "markdown",
   "metadata": {},
   "source": [
    "Consider the casino problem described in Section 1.3.6\n",
    "\n",
    "### a. \n",
    "\n",
    "Compute $P(\\text{\"craps\"} \\mid \\text{\"11\"})$ assuming that there are twice as many roulette tables as crap games at the casino."
   ]
  },
  {
   "cell_type": "markdown",
   "metadata": {},
   "source": [
    "$$\n",
    "\\begin{equation}\n",
    "\\begin{aligned}\n",
    "    P(\\text{\"roulette\"}) &= 2P(\\text{\"craps\"}) \\\\\n",
    "    P(\\text{\"roulette\"}) + P(\\text{\"craps\"}) &= 1 \\\\\n",
    "    3P(\\text{\"craps\"}) &= 1 \\\\\n",
    "    P(\\text{\"craps\"}) &= \\frac{1}{3} \\\\\n",
    "    P(\\text{\"roulette\"}) &= \\frac{2}{3} \\\\\n",
    "\\end{aligned}\n",
    "\\end{equation}\n",
    "$$\n",
    "\n",
    "$$\n",
    "\\begin{equation}\n",
    "\\begin{aligned}\n",
    "    P(\\text{\"11\" | \"craps\"}) &= \\frac{2}{36} \\\\\n",
    "    P(\\text{\"11\" | \"roulette\"}) &= \\frac{1}{38} \\\\\n",
    "\\end{aligned}\n",
    "\\end{equation}\n",
    "$$\n",
    "\n",
    "$$\n",
    "\\begin{equation}\n",
    "\\begin{aligned}\n",
    "    P(\\text{\"11\"}) &= P(\\text{\"11\"} \\mid \\text{\"craps\"})P(\\text{\"craps\"}) + P(\\text{\"11\"} \\mid \\text{\"roulette\"})P(\\text{\"roulette\"}) \\\\\n",
    "    &= \\frac{2}{36} \\times \\frac{1}{3} + \\frac{1}{38} \\times \\frac{2}{3} \\\\\n",
    "    &\\approx 0.036062378167641324\n",
    "\\end{aligned}\n",
    "\\end{equation}\n",
    "$$\n",
    "\n",
    "$$\n",
    "\\begin{equation}\n",
    "\\begin{aligned}\n",
    "    P(\\text{\"craps\"} \\mid \\text{\"11\"}) &= \\frac{P(\\text{\"11\"} \\mid \\text{\"craps\"}) P(\\text{\"craps\"})}{P(\\text{\"11\"})} \\\\\n",
    "    &= \\frac{\\frac{2}{36} \\times \\frac{1}{3}}{0.036062378167641324} \\\\\n",
    "    &= 51.3\\%\n",
    "\\end{aligned}\n",
    "\\end{equation}\n",
    "$$"
   ]
  },
  {
   "cell_type": "code",
   "execution_count": 23,
   "metadata": {},
   "outputs": [
    {
     "data": {
      "text/plain": [
       "0.036062378167641324"
      ]
     },
     "execution_count": 23,
     "metadata": {},
     "output_type": "execute_result"
    }
   ],
   "source": [
    "(2.0/36 * 1/3.0 + 1/38.0 * 2/3.0)"
   ]
  },
  {
   "cell_type": "code",
   "execution_count": 24,
   "metadata": {},
   "outputs": [
    {
     "data": {
      "text/plain": [
       "0.5135135135135135"
      ]
     },
     "execution_count": 24,
     "metadata": {},
     "output_type": "execute_result"
    }
   ],
   "source": [
    "2.0/36 * 1/3.0 / (2.0/36 * 1/3.0 + 1/38.0 * 2/3.0)"
   ]
  },
  {
   "cell_type": "markdown",
   "metadata": {},
   "source": [
    "### b. \n",
    "\n",
    "Compute $P(\\text{\"roulette\"} \\mid \\text{\"10\"})$ assuming that there are twice as many craps games as roulette tables at the casino."
   ]
  },
  {
   "cell_type": "markdown",
   "metadata": {},
   "source": [
    "$$\n",
    "\\begin{equation}\n",
    "\\begin{aligned}\n",
    "    2P(\\text{\"roulette\"}) &= P(\\text{\"craps\"}) \\\\\n",
    "    P(\\text{\"roulette\"}) + P(\\text{\"craps\"}) &= 1 \\\\\n",
    "    P(\\text{\"roulette\"}) &= \\frac{1}{3} \\\\\n",
    "    P(\\text{\"craps\"}) &= \\frac{2}{3} \\\\\n",
    "\\end{aligned}\n",
    "\\end{equation}\n",
    "$$\n"
   ]
  },
  {
   "cell_type": "markdown",
   "metadata": {},
   "source": [
    "$$\n",
    "\\begin{equation}\n",
    "\\begin{aligned}\n",
    "    P(\\text{\"10\" | \"craps\"}) &= \\frac{3}{36} \\\\\n",
    "    P(\\text{\"10\" | \"roulette\"}) &= \\frac{1}{38} \\\\\n",
    "\\end{aligned}\n",
    "\\end{equation}\n",
    "$$"
   ]
  },
  {
   "cell_type": "markdown",
   "metadata": {},
   "source": [
    "$$\n",
    "\\begin{equation}\n",
    "\\begin{aligned}\n",
    "    P(\\text{\"10\"}) &= P(\\text{\"10\"} \\mid \\text{\"craps\"})P(\\text{\"craps\"}) + P(\\text{\"10\"} \\mid \\text{\"roulette\"})P(\\text{\"roulette\"}) \\\\\n",
    "    &= \\frac{3}{36} \\times \\frac{2}{3} + \\frac{1}{38} \\times \\frac{1}{3} \\\\\n",
    "    &\\approx 0.06432748538011696\n",
    "\\end{aligned}\n",
    "\\end{equation}\n",
    "$$"
   ]
  },
  {
   "cell_type": "code",
   "execution_count": 27,
   "metadata": {},
   "outputs": [
    {
     "data": {
      "text/plain": [
       "0.06432748538011696"
      ]
     },
     "execution_count": 27,
     "metadata": {},
     "output_type": "execute_result"
    }
   ],
   "source": [
    "3.0/36 * 2.0/3 + 1.0/38 * 1.0/3"
   ]
  },
  {
   "cell_type": "markdown",
   "metadata": {},
   "source": [
    "$$\n",
    "\\begin{equation}\n",
    "\\begin{aligned}\n",
    "    P(\\text{\"roulette\"} \\mid \\text{\"10\"}) &= \\frac{P(\\text{\"10\"} \\mid \\text{\"roulette\"}) P(\\text{\"roulette\"})}{P(\\text{\"10\"})} \\\\\n",
    "    &= \\frac{\\frac{1}{38} \\times \\frac{1}{3}}{0.0004873294346978557} \\\\\n",
    "    &= 13.6\\%\n",
    "\\end{aligned}\n",
    "\\end{equation}\n",
    "$$"
   ]
  },
  {
   "cell_type": "code",
   "execution_count": 28,
   "metadata": {},
   "outputs": [
    {
     "data": {
      "text/plain": [
       "0.13636363636363635"
      ]
     },
     "execution_count": 28,
     "metadata": {},
     "output_type": "execute_result"
    }
   ],
   "source": [
    "(1/38.0*1/3.0) / 0.06432748538011696"
   ]
  },
  {
   "cell_type": "markdown",
   "metadata": {},
   "source": [
    "## 1.3.4\n",
    "\n",
    "Suppose we have three cards. Card 1 has two black faces, one on each side; Card 2 has two white faces; and Card 3 has one white face and one black face. You select a card at random and place it on the table. You find that it is black on the face-up side. What is the probability that the face-down side of the card is also black?"
   ]
  },
  {
   "cell_type": "markdown",
   "metadata": {},
   "source": [
    "### a. \n",
    "\n",
    "Use your intuition to argue that the probability that the face-down side of the card is also black is $\\frac{1}{2}$. Why might it be greater than $\\frac{1}{2}$?"
   ]
  },
  {
   "cell_type": "markdown",
   "metadata": {},
   "source": [
    "_Given you know that one side is black, that limits us to $I=1$ and $I=3$. Out of those, half has other side as black, so intuitively, one could think that the face-down side of the card is also black is $\\frac{1}{2}$. However, it might be greater than $\\frac{1}{2}$ in the case that we are allowed to flip cards when shuffling._"
   ]
  },
  {
   "cell_type": "markdown",
   "metadata": {},
   "source": [
    "### b.\n",
    "\n",
    "Express the probabilities and conditional probabilties that you find easy to estimate (for example, $P(C_D = \\text{Black})$), in terms of the following variables:\n",
    "\n",
    "$$\n",
    "\\begin{equation}\n",
    "\\begin{aligned}\n",
    "    I &= \\text{Identity of the card selected (Card 1, Card 2, or Card 3)} \\\\\n",
    "    C_D &= \\text{Color of the face-down side (Black, White)} \\\\\n",
    "    C_U &= \\text{Color of the face-up side (Black, White)} \\\\\n",
    "\\end{aligned}\n",
    "\\end{equation}\n",
    "$$\n",
    "\n",
    "Find the probability that the face-down side of the selected card is black, using your estimates above."
   ]
  },
  {
   "cell_type": "markdown",
   "metadata": {},
   "source": [
    "* $P(I=1) = \\frac{1}{3}$\n",
    "* $P(I=2) = \\frac{1}{3}$\n",
    "* $P(I=3) = \\frac{1}{3}$\n",
    "* $P(C_D=\\text{Black} \\mid C_U=\\text{Black}, I=1) = 1$\n",
    "* $P(C_D=\\text{Black} \\mid C_U=\\text{Black}, I=2) = 0$\n",
    "* $P(C_D=\\text{Black} \\mid C_U=\\text{Black}, I=3) = 0$"
   ]
  },
  {
   "cell_type": "code",
   "execution_count": 44,
   "metadata": {},
   "outputs": [
    {
     "data": {
      "text/plain": [
       "1"
      ]
     },
     "execution_count": 44,
     "metadata": {},
     "output_type": "execute_result"
    }
   ],
   "source": [
    "np.random.binomial(1, 0.5)"
   ]
  },
  {
   "cell_type": "code",
   "execution_count": 102,
   "metadata": {},
   "outputs": [],
   "source": [
    "class Card():\n",
    "    def __init__(self, side_1=None, side_2=None):\n",
    "        self.side_1 = side_1\n",
    "        self.side_2 = side_2\n",
    "        self.up = self.side_1\n",
    "        self.down = self.side_2\n",
    "        \n",
    "    def flip(self):\n",
    "        if np.random.binomial(1, 0.5):\n",
    "            self.up = self.side_2\n",
    "            self.down = self.side_1\n",
    "        else:\n",
    "            self.up = self.side_1\n",
    "            self.down = self.side_2\n",
    "            \n",
    "    def up(self):\n",
    "        return self.up\n",
    "    \n",
    "    def down(self):\n",
    "        return self.down"
   ]
  },
  {
   "cell_type": "code",
   "execution_count": 103,
   "metadata": {},
   "outputs": [],
   "source": [
    "card = Card(side_1='B', side_2='W')"
   ]
  },
  {
   "cell_type": "code",
   "execution_count": 118,
   "metadata": {},
   "outputs": [],
   "source": [
    "card.flip()"
   ]
  },
  {
   "cell_type": "code",
   "execution_count": 119,
   "metadata": {},
   "outputs": [
    {
     "name": "stdout",
     "output_type": "stream",
     "text": [
      "up W down B\n"
     ]
    }
   ],
   "source": [
    "\n",
    "print('up', card.up, 'down', card.down)"
   ]
  },
  {
   "cell_type": "code",
   "execution_count": 120,
   "metadata": {},
   "outputs": [],
   "source": [
    "card_1 = Card(side_1='B', side_2='B')\n",
    "card_2 = Card(side_1='W', side_2='W')\n",
    "card_3 = Card(side_1='W', side_2='B')\n",
    "\n",
    "cards = [card_1, card_2, card_3]\n",
    "\n",
    "ups = []\n",
    "downs = []\n",
    "\n",
    "for i in range(10000):\n",
    "    card = np.random.choice(cards)\n",
    "    card.flip()\n",
    "    ups.append(card.up)\n",
    "    downs.append(card.down)\n",
    "    "
   ]
  },
  {
   "cell_type": "code",
   "execution_count": 121,
   "metadata": {},
   "outputs": [
    {
     "data": {
      "text/html": [
       "<div>\n",
       "<style scoped>\n",
       "    .dataframe tbody tr th:only-of-type {\n",
       "        vertical-align: middle;\n",
       "    }\n",
       "\n",
       "    .dataframe tbody tr th {\n",
       "        vertical-align: top;\n",
       "    }\n",
       "\n",
       "    .dataframe thead th {\n",
       "        text-align: right;\n",
       "    }\n",
       "</style>\n",
       "<table border=\"1\" class=\"dataframe\">\n",
       "  <thead>\n",
       "    <tr style=\"text-align: right;\">\n",
       "      <th></th>\n",
       "      <th>down</th>\n",
       "      <th>up</th>\n",
       "    </tr>\n",
       "  </thead>\n",
       "  <tbody>\n",
       "    <tr>\n",
       "      <th>0</th>\n",
       "      <td>W</td>\n",
       "      <td>W</td>\n",
       "    </tr>\n",
       "    <tr>\n",
       "      <th>1</th>\n",
       "      <td>W</td>\n",
       "      <td>W</td>\n",
       "    </tr>\n",
       "    <tr>\n",
       "      <th>2</th>\n",
       "      <td>B</td>\n",
       "      <td>W</td>\n",
       "    </tr>\n",
       "    <tr>\n",
       "      <th>3</th>\n",
       "      <td>B</td>\n",
       "      <td>B</td>\n",
       "    </tr>\n",
       "    <tr>\n",
       "      <th>4</th>\n",
       "      <td>B</td>\n",
       "      <td>B</td>\n",
       "    </tr>\n",
       "    <tr>\n",
       "      <th>5</th>\n",
       "      <td>B</td>\n",
       "      <td>B</td>\n",
       "    </tr>\n",
       "    <tr>\n",
       "      <th>6</th>\n",
       "      <td>B</td>\n",
       "      <td>B</td>\n",
       "    </tr>\n",
       "    <tr>\n",
       "      <th>7</th>\n",
       "      <td>W</td>\n",
       "      <td>B</td>\n",
       "    </tr>\n",
       "    <tr>\n",
       "      <th>8</th>\n",
       "      <td>B</td>\n",
       "      <td>B</td>\n",
       "    </tr>\n",
       "    <tr>\n",
       "      <th>9</th>\n",
       "      <td>B</td>\n",
       "      <td>B</td>\n",
       "    </tr>\n",
       "    <tr>\n",
       "      <th>10</th>\n",
       "      <td>W</td>\n",
       "      <td>W</td>\n",
       "    </tr>\n",
       "    <tr>\n",
       "      <th>11</th>\n",
       "      <td>B</td>\n",
       "      <td>B</td>\n",
       "    </tr>\n",
       "    <tr>\n",
       "      <th>12</th>\n",
       "      <td>W</td>\n",
       "      <td>B</td>\n",
       "    </tr>\n",
       "    <tr>\n",
       "      <th>13</th>\n",
       "      <td>B</td>\n",
       "      <td>W</td>\n",
       "    </tr>\n",
       "    <tr>\n",
       "      <th>14</th>\n",
       "      <td>B</td>\n",
       "      <td>B</td>\n",
       "    </tr>\n",
       "    <tr>\n",
       "      <th>15</th>\n",
       "      <td>W</td>\n",
       "      <td>W</td>\n",
       "    </tr>\n",
       "    <tr>\n",
       "      <th>16</th>\n",
       "      <td>W</td>\n",
       "      <td>W</td>\n",
       "    </tr>\n",
       "    <tr>\n",
       "      <th>17</th>\n",
       "      <td>B</td>\n",
       "      <td>W</td>\n",
       "    </tr>\n",
       "    <tr>\n",
       "      <th>18</th>\n",
       "      <td>W</td>\n",
       "      <td>W</td>\n",
       "    </tr>\n",
       "    <tr>\n",
       "      <th>19</th>\n",
       "      <td>W</td>\n",
       "      <td>W</td>\n",
       "    </tr>\n",
       "    <tr>\n",
       "      <th>20</th>\n",
       "      <td>B</td>\n",
       "      <td>W</td>\n",
       "    </tr>\n",
       "    <tr>\n",
       "      <th>21</th>\n",
       "      <td>B</td>\n",
       "      <td>B</td>\n",
       "    </tr>\n",
       "    <tr>\n",
       "      <th>22</th>\n",
       "      <td>W</td>\n",
       "      <td>B</td>\n",
       "    </tr>\n",
       "    <tr>\n",
       "      <th>23</th>\n",
       "      <td>B</td>\n",
       "      <td>B</td>\n",
       "    </tr>\n",
       "    <tr>\n",
       "      <th>24</th>\n",
       "      <td>B</td>\n",
       "      <td>B</td>\n",
       "    </tr>\n",
       "    <tr>\n",
       "      <th>25</th>\n",
       "      <td>W</td>\n",
       "      <td>W</td>\n",
       "    </tr>\n",
       "    <tr>\n",
       "      <th>26</th>\n",
       "      <td>W</td>\n",
       "      <td>B</td>\n",
       "    </tr>\n",
       "    <tr>\n",
       "      <th>27</th>\n",
       "      <td>W</td>\n",
       "      <td>B</td>\n",
       "    </tr>\n",
       "    <tr>\n",
       "      <th>28</th>\n",
       "      <td>W</td>\n",
       "      <td>W</td>\n",
       "    </tr>\n",
       "    <tr>\n",
       "      <th>29</th>\n",
       "      <td>B</td>\n",
       "      <td>W</td>\n",
       "    </tr>\n",
       "    <tr>\n",
       "      <th>...</th>\n",
       "      <td>...</td>\n",
       "      <td>...</td>\n",
       "    </tr>\n",
       "    <tr>\n",
       "      <th>9970</th>\n",
       "      <td>B</td>\n",
       "      <td>B</td>\n",
       "    </tr>\n",
       "    <tr>\n",
       "      <th>9971</th>\n",
       "      <td>W</td>\n",
       "      <td>W</td>\n",
       "    </tr>\n",
       "    <tr>\n",
       "      <th>9972</th>\n",
       "      <td>W</td>\n",
       "      <td>B</td>\n",
       "    </tr>\n",
       "    <tr>\n",
       "      <th>9973</th>\n",
       "      <td>B</td>\n",
       "      <td>B</td>\n",
       "    </tr>\n",
       "    <tr>\n",
       "      <th>9974</th>\n",
       "      <td>W</td>\n",
       "      <td>B</td>\n",
       "    </tr>\n",
       "    <tr>\n",
       "      <th>9975</th>\n",
       "      <td>W</td>\n",
       "      <td>W</td>\n",
       "    </tr>\n",
       "    <tr>\n",
       "      <th>9976</th>\n",
       "      <td>B</td>\n",
       "      <td>W</td>\n",
       "    </tr>\n",
       "    <tr>\n",
       "      <th>9977</th>\n",
       "      <td>W</td>\n",
       "      <td>B</td>\n",
       "    </tr>\n",
       "    <tr>\n",
       "      <th>9978</th>\n",
       "      <td>B</td>\n",
       "      <td>W</td>\n",
       "    </tr>\n",
       "    <tr>\n",
       "      <th>9979</th>\n",
       "      <td>W</td>\n",
       "      <td>W</td>\n",
       "    </tr>\n",
       "    <tr>\n",
       "      <th>9980</th>\n",
       "      <td>W</td>\n",
       "      <td>W</td>\n",
       "    </tr>\n",
       "    <tr>\n",
       "      <th>9981</th>\n",
       "      <td>B</td>\n",
       "      <td>W</td>\n",
       "    </tr>\n",
       "    <tr>\n",
       "      <th>9982</th>\n",
       "      <td>W</td>\n",
       "      <td>B</td>\n",
       "    </tr>\n",
       "    <tr>\n",
       "      <th>9983</th>\n",
       "      <td>B</td>\n",
       "      <td>B</td>\n",
       "    </tr>\n",
       "    <tr>\n",
       "      <th>9984</th>\n",
       "      <td>W</td>\n",
       "      <td>W</td>\n",
       "    </tr>\n",
       "    <tr>\n",
       "      <th>9985</th>\n",
       "      <td>W</td>\n",
       "      <td>B</td>\n",
       "    </tr>\n",
       "    <tr>\n",
       "      <th>9986</th>\n",
       "      <td>B</td>\n",
       "      <td>W</td>\n",
       "    </tr>\n",
       "    <tr>\n",
       "      <th>9987</th>\n",
       "      <td>B</td>\n",
       "      <td>B</td>\n",
       "    </tr>\n",
       "    <tr>\n",
       "      <th>9988</th>\n",
       "      <td>B</td>\n",
       "      <td>B</td>\n",
       "    </tr>\n",
       "    <tr>\n",
       "      <th>9989</th>\n",
       "      <td>B</td>\n",
       "      <td>B</td>\n",
       "    </tr>\n",
       "    <tr>\n",
       "      <th>9990</th>\n",
       "      <td>B</td>\n",
       "      <td>B</td>\n",
       "    </tr>\n",
       "    <tr>\n",
       "      <th>9991</th>\n",
       "      <td>B</td>\n",
       "      <td>W</td>\n",
       "    </tr>\n",
       "    <tr>\n",
       "      <th>9992</th>\n",
       "      <td>W</td>\n",
       "      <td>W</td>\n",
       "    </tr>\n",
       "    <tr>\n",
       "      <th>9993</th>\n",
       "      <td>B</td>\n",
       "      <td>W</td>\n",
       "    </tr>\n",
       "    <tr>\n",
       "      <th>9994</th>\n",
       "      <td>B</td>\n",
       "      <td>B</td>\n",
       "    </tr>\n",
       "    <tr>\n",
       "      <th>9995</th>\n",
       "      <td>B</td>\n",
       "      <td>B</td>\n",
       "    </tr>\n",
       "    <tr>\n",
       "      <th>9996</th>\n",
       "      <td>B</td>\n",
       "      <td>B</td>\n",
       "    </tr>\n",
       "    <tr>\n",
       "      <th>9997</th>\n",
       "      <td>B</td>\n",
       "      <td>B</td>\n",
       "    </tr>\n",
       "    <tr>\n",
       "      <th>9998</th>\n",
       "      <td>W</td>\n",
       "      <td>W</td>\n",
       "    </tr>\n",
       "    <tr>\n",
       "      <th>9999</th>\n",
       "      <td>W</td>\n",
       "      <td>W</td>\n",
       "    </tr>\n",
       "  </tbody>\n",
       "</table>\n",
       "<p>10000 rows × 2 columns</p>\n",
       "</div>"
      ],
      "text/plain": [
       "     down up\n",
       "0       W  W\n",
       "1       W  W\n",
       "2       B  W\n",
       "3       B  B\n",
       "4       B  B\n",
       "5       B  B\n",
       "6       B  B\n",
       "7       W  B\n",
       "8       B  B\n",
       "9       B  B\n",
       "10      W  W\n",
       "11      B  B\n",
       "12      W  B\n",
       "13      B  W\n",
       "14      B  B\n",
       "15      W  W\n",
       "16      W  W\n",
       "17      B  W\n",
       "18      W  W\n",
       "19      W  W\n",
       "20      B  W\n",
       "21      B  B\n",
       "22      W  B\n",
       "23      B  B\n",
       "24      B  B\n",
       "25      W  W\n",
       "26      W  B\n",
       "27      W  B\n",
       "28      W  W\n",
       "29      B  W\n",
       "...   ... ..\n",
       "9970    B  B\n",
       "9971    W  W\n",
       "9972    W  B\n",
       "9973    B  B\n",
       "9974    W  B\n",
       "9975    W  W\n",
       "9976    B  W\n",
       "9977    W  B\n",
       "9978    B  W\n",
       "9979    W  W\n",
       "9980    W  W\n",
       "9981    B  W\n",
       "9982    W  B\n",
       "9983    B  B\n",
       "9984    W  W\n",
       "9985    W  B\n",
       "9986    B  W\n",
       "9987    B  B\n",
       "9988    B  B\n",
       "9989    B  B\n",
       "9990    B  B\n",
       "9991    B  W\n",
       "9992    W  W\n",
       "9993    B  W\n",
       "9994    B  B\n",
       "9995    B  B\n",
       "9996    B  B\n",
       "9997    B  B\n",
       "9998    W  W\n",
       "9999    W  W\n",
       "\n",
       "[10000 rows x 2 columns]"
      ]
     },
     "execution_count": 121,
     "metadata": {},
     "output_type": "execute_result"
    }
   ],
   "source": [
    "card_picks = pd.DataFrame({\n",
    "    'up': ups,\n",
    "    'down': downs\n",
    "})\n",
    "\n",
    "card_picks"
   ]
  },
  {
   "cell_type": "code",
   "execution_count": 122,
   "metadata": {},
   "outputs": [
    {
     "data": {
      "text/plain": [
       "3303"
      ]
     },
     "execution_count": 122,
     "metadata": {},
     "output_type": "execute_result"
    }
   ],
   "source": [
    "card_picks[\n",
    "    (card_picks['up'] == 'B') & \\\n",
    "    (card_picks['down'] == 'B')\n",
    "].shape[0]"
   ]
  },
  {
   "cell_type": "code",
   "execution_count": 123,
   "metadata": {},
   "outputs": [
    {
     "data": {
      "text/plain": [
       "4970"
      ]
     },
     "execution_count": 123,
     "metadata": {},
     "output_type": "execute_result"
    }
   ],
   "source": [
    "card_picks[card_picks['up'] == 'B'].shape[0]"
   ]
  },
  {
   "cell_type": "code",
   "execution_count": 124,
   "metadata": {},
   "outputs": [
    {
     "data": {
      "text/plain": [
       "0.6645875251509055"
      ]
     },
     "execution_count": 124,
     "metadata": {},
     "output_type": "execute_result"
    }
   ],
   "source": [
    "card_picks[\n",
    "    (card_picks['up'] == 'B') & \\\n",
    "    (card_picks['down'] == 'B')\n",
    "].shape[0] / card_picks[card_picks['up'] == 'B'].shape[0]"
   ]
  },
  {
   "cell_type": "markdown",
   "metadata": {},
   "source": [
    "$$\n",
    "\\begin{equation}\n",
    "\\begin{aligned}\n",
    "    P(C_D = \\text{Black} \\mid C_U = \\text{Black}) &= \\frac{P(C_D=\\text{Black}, C_U=\\text{Black})}{P(C_U=\\text{Black})} \\\\\n",
    "    &= \\frac{\\sum_i P(C_D=\\text{Black}, C_U=\\text{Black} \\mid I=i) \\times P(I=i) }{P(C_U=\\text{Black})} \\\\\n",
    "    &= \\frac{1 \\times \\frac{1}{3} + 0 \\times \\frac{1}{3} + 0 \\times \\frac{1}{3}} {P(C_U=\\text{Black})} \\\\\n",
    "    &= \\frac{\\frac{1}{3}}{P(C_U=\\text{Black})} \\\\\n",
    "    &= \\frac{\\frac{1}{3}}{\\sum_i P(C_U=\\text{Black} \\mid I=i) \\times P(I=i)} \\\\\n",
    "    &= \\frac{\\frac{1}{3}}{1\\times\\frac{1}{3} + 0 \\times \\frac{1}{3} + \\frac{1}{2} \\times \\frac{1}{3}} \\\\\n",
    "    &= \\frac{\\frac{1}{3}}{\\frac{1}{2}} \\\\\n",
    "    &= \\frac{2}{3}\n",
    "\\end{aligned}\n",
    "\\end{equation}\n",
    "$$"
   ]
  },
  {
   "cell_type": "markdown",
   "metadata": {},
   "source": [
    "c. Use Bayes' theorem to find the correct probability of a randomly selected card's back being black if you observe that its front is black?\n",
    "\n",
    "_Bayes' Theorem simplifies to the right hand side of the top row above, so I don't think there's any use in calculating it._"
   ]
  },
  {
   "cell_type": "markdown",
   "metadata": {},
   "source": [
    "## 1.3.5\n",
    "\n",
    "Prove, using Bayes' theorem, that switching doors improves your chances of winning the car in the Monty Hall problem."
   ]
  },
  {
   "cell_type": "markdown",
   "metadata": {},
   "source": [
    "_Let $H$ stand for host's choice, $Y$ for your choice, and $L$ for car location. Each variable can take values in the set ${1,2,3}$. We are interested in calculating the probability $P(L=2 \\mid Y=1, H=3)$_.\n",
    "\n",
    "$$\n",
    "\\begin{equation}\n",
    "\\begin{aligned}\n",
    "    P(H=3 \\mid Y=1, L=2) = 1 && \\text{Host will choose the door that has a goat, and hasn't been picked by you}\n",
    "\\end{aligned}\n",
    "\\end{equation}\n",
    "$$\n",
    "\n",
    "$$\n",
    "\\begin{equation}\n",
    "\\begin{aligned}\n",
    "    P(L=2 \\mid Y=1, H=3) &= \\frac{P(H=3, Y=1, L=2)}{P(H=3, Y=1)} \\\\\n",
    "    &= \\frac{P(H=3 \\mid Y=1, L=2) \\times P(Y=1, L=2)}{P(H=3, Y=1)} \\\\\n",
    "    &= \\frac{1.0 \\times P(Y=1)P(L=2)}{P(H=3, Y=1)} \\\\\n",
    "    &= \\frac{\\frac{1}{9}}{P(H=3, Y=1)} \\\\\n",
    "    &= \\frac{\\frac{1}{9}}{\\sum_l P(H=3, Y=1, L=l)} \\\\\n",
    "    &= \\frac{\\frac{1}{9}}{\\sum_l P(H=3 \\mid Y=1, L=l)P(Y=1, L=l)} \\\\\n",
    "    &= \\frac{\\frac{1}{9}}{1 \\times \\frac{1}{9} + \\frac{1}{2} \\times \\frac{1}{9} + 0 \\times \\frac{1}{9}} \\\\\n",
    "    &= \\frac{\\frac{1}{9}}{\\frac{1}{6}} \\\\\n",
    "    &= \\frac{2}{3}\n",
    "\\end{aligned}\n",
    "\\end{equation}\n",
    "$$\n",
    "\n",
    "Thus, switching doors is better than staying with your choice."
   ]
  },
  {
   "cell_type": "markdown",
   "metadata": {},
   "source": [
    "## 1.3.6\n",
    "\n",
    "### a. \n",
    "\n",
    "Prove that, in general, both $\\sigma_{XY}$ and $\\rho_{XY}$ vanish when $X$ and $Y$ are independent. Hint: Use Eqs. (1.16) and (1.17).\n",
    "\n",
    "$$\n",
    "\\begin{equation}\n",
    "\\begin{aligned}\n",
    "    E(XY) &= \\sum_X \\sum_Y xy P(X=x, Y=y) && \\text{Definition}\\\\ \n",
    "    &= \\sum_X \\sum_Y xy P(X=x)P(Y=y) && \\text{Independence assumption}\\\\ \n",
    "    &= \\sum_X xP(X=x) \\sum_Y y P(Y=y) \\\\\n",
    "    &= E(X)E(Y) \\\\\n",
    "\\end{aligned}\n",
    "\\end{equation}\n",
    "$$\n",
    "\n",
    "$$\n",
    "\\begin{equation}\n",
    "\\begin{aligned}\n",
    "    \\sigma_{X,Y} &= E(XY) - E(X)E(Y) \\\\\n",
    "    &= 0 && \\text{Substitution}\n",
    "\\end{aligned}\n",
    "\\end{equation}\n",
    "$$\n",
    "\n",
    "$$\n",
    "\\begin{equation}\n",
    "\\begin{aligned}\n",
    "    \\rho_{X,Y} &= \\frac{\\sigma_{X,Y}}{\\sqrt{Var(X)}\\sqrt{Var(Y)}} \\\\\n",
    "    &= 0 && \\text{Substitution}\n",
    "\\end{aligned}\n",
    "\\end{equation}\n",
    "$$"
   ]
  },
  {
   "cell_type": "markdown",
   "metadata": {},
   "source": [
    "### b.\n",
    "\n",
    "Give an example of two variables that are highly dependent and, yet, their correlation coefficient vanishes. \n",
    "\n",
    "_Ex: $f(x) = x$ and $f(y) = x^2$_."
   ]
  },
  {
   "cell_type": "code",
   "execution_count": 7,
   "metadata": {},
   "outputs": [
    {
     "data": {
      "text/plain": [
       "array([[ 1.        ,  0.00705693],\n",
       "       [ 0.00705693,  1.        ]])"
      ]
     },
     "execution_count": 7,
     "metadata": {},
     "output_type": "execute_result"
    }
   ],
   "source": [
    "x = np.random.uniform(low=-1,high=1, size=10000)\n",
    "x_squared = x**2\n",
    "\n",
    "np.corrcoef(x, x_squared)"
   ]
  },
  {
   "cell_type": "markdown",
   "metadata": {},
   "source": [
    "## 1.3.7"
   ]
  },
  {
   "cell_type": "markdown",
   "metadata": {},
   "source": [
    "Two fair coins are flipped simultaneously to determine the payoffs of two players in the town's casino. Player 1 wins a dollar if and only if at least one coin lands on head. Player 2 receives a dollar if and only if the two coins land on the same face. Let $X$ stand for the payoff of Player 1 and $Y$ for the payoff of Player 2.\n",
    "\n",
    "### a. \n",
    "\n",
    "Find and describe the probability distributions\n",
    "$$\n",
    "\\begin{equation}\n",
    "\\begin{aligned}\n",
    "    P(x), P(y), P(x,y), P(y \\mid x) \\text{ and } P(x \\mid y)\n",
    "\\end{aligned}\n",
    "\\end{equation}\n",
    "$$\n",
    "\n",
    "$$\n",
    "\\begin{equation}\n",
    "\\begin{aligned}\n",
    "    P(x) &= P(C_1=h, C_1=t) + P(C_1=h, C_1=h) + P(C_1=h, C_1=h) \\\\ \n",
    "    &= 3 \\cdot 0.5^2 \\\\ \n",
    "    &= 0.75\n",
    "\\end{aligned}\n",
    "\\end{equation}\n",
    "$$\n",
    "\n",
    "$$\n",
    "\\begin{equation}\n",
    "\\begin{aligned}\n",
    "    P(y) &= P(C_1=t, C_1=t) \\\\\n",
    "    &= 0.25\n",
    "\\end{aligned}\n",
    "\\end{equation}\n",
    "$$\n",
    "\n",
    "$$\n",
    "\\begin{equation}\n",
    "\\begin{aligned}\n",
    "    P(x,y) &= 0 && \\text{Intersection of x,y is empty set}\\\\\n",
    "\\end{aligned}\n",
    "\\end{equation}\n",
    "$$\n",
    "\n",
    "$$\n",
    "\\begin{equation}\n",
    "\\begin{aligned}\n",
    "    P(x \\mid y) &= \\frac{P(x,y)}{P(y)} \\\\\n",
    "    &= 0 && \\text{Substitute } P(x,y) = 0\n",
    "\\end{aligned}\n",
    "\\end{equation}\n",
    "$$\n",
    "\n",
    "$$\n",
    "\\begin{equation}\n",
    "\\begin{aligned}\n",
    "    P(y \\mid x) &= \\frac{P(x,y)}{P(x)} \\\\\n",
    "    &= 0 && \\text{Substitute } P(x,y) = 0\n",
    "\\end{aligned}\n",
    "\\end{equation}\n",
    "$$"
   ]
  },
  {
   "cell_type": "markdown",
   "metadata": {},
   "source": [
    "### b.\n",
    "\n",
    "Using the descriptions in (a), compute the following measures:\n",
    "\n",
    "$$\n",
    "\\begin{equation}\n",
    "\\begin{aligned}\n",
    "    E[X&], E[Y], E[Y \\mid X=x], E[X \\mid Y = y] \\\\\n",
    "    &Var(X), Var(Y), Cov(X,Y), \\rho_{XY}\n",
    "\\end{aligned}\n",
    "\\end{equation}\n",
    "$$\n",
    "\n",
    "$$\n",
    "\\begin{equation}\n",
    "\\begin{aligned}\n",
    "    E[X] &= \\sum_{x=0}^1 xP(X=x) \\\\\n",
    "    &= 0.75\n",
    "\\end{aligned}\n",
    "\\end{equation}\n",
    "$$\n",
    "\n",
    "$$\n",
    "\\begin{equation}\n",
    "\\begin{aligned}\n",
    "    E[Y] &= \\sum_{y=0}^1 yP(Y=y) \\\\\n",
    "    &= 0.25\n",
    "\\end{aligned}\n",
    "\\end{equation}\n",
    "$$\n",
    "\n",
    "$$\n",
    "\\begin{equation}\n",
    "\\begin{aligned}\n",
    "    E[Y \\mid X=x] &= \\sum_{y=0}^1 yP(Y=y \\mid X=x) \\\\\n",
    "    &= 0\n",
    "\\end{aligned}\n",
    "\\end{equation}\n",
    "$$\n",
    "\n",
    "$$\n",
    "\\begin{equation}\n",
    "\\begin{aligned}\n",
    "    E[X \\mid Y=y] &= \\sum_{x=0}^1 xP(X=x \\mid Y=y) \\\\\n",
    "    &= 0\n",
    "\\end{aligned}\n",
    "\\end{equation}\n",
    "$$\n",
    "\n",
    "$$\n",
    "\\begin{equation}\n",
    "\\begin{aligned}\n",
    "    Var(X) &= E((X-E(X))^2) \\\\\n",
    "    &= E(X^2) - E(X)^2 \\\\\n",
    "    &= \\sum_{x} x^2 P(X=x) - 0.75^2\\\\\n",
    "    &= 0.75 - 0.75^2 \\\\\n",
    "    &= 0.1875\n",
    "\\end{aligned}\n",
    "\\end{equation}\n",
    "$$\n",
    "\n",
    "$$\n",
    "\\begin{equation}\n",
    "\\begin{aligned}\n",
    "    Var(Y) &= E((Y-E(Y))^2) \\\\\n",
    "    &= E(Y^2) - E(Y)^2 \\\\\n",
    "    &= \\sum_{y} y^2 P(Y=y) - 0.25^2\\\\\n",
    "    &= 0.25  - 0.25 ^2 \\\\\n",
    "    &= 0.1875\n",
    "\\end{aligned}\n",
    "\\end{equation}\n",
    "$$\n",
    "\n",
    "$$\n",
    "\\begin{equation}\n",
    "\\begin{aligned}\n",
    "    Cov(X,Y) &= 0\n",
    "\\end{aligned}\n",
    "\\end{equation}\n",
    "$$\n",
    "\n",
    "$$\n",
    "\\begin{equation}\n",
    "\\begin{aligned}\n",
    "    \\rho(XY) &= 0 && \\text{because $Cov(X,Y)$ is $0$}\n",
    "\\end{aligned}\n",
    "\\end{equation}\n",
    "$$"
   ]
  },
  {
   "cell_type": "markdown",
   "metadata": {},
   "source": [
    "### c.\n",
    "\n",
    "Given that Player 2 won a dollar, what is your best guess of Player 1's payoff?\n",
    "\n",
    "\n",
    "$$\n",
    "\\begin{equation}\n",
    "\\begin{aligned}\n",
    "    E[X \\mid Y=y] &= \\sum_{x=0}^1 xP(X=x \\mid Y=y) \\\\\n",
    "    &= 0\n",
    "\\end{aligned}\n",
    "\\end{equation}\n",
    "$$"
   ]
  },
  {
   "cell_type": "markdown",
   "metadata": {},
   "source": [
    "### d.\n",
    "\n",
    "Given that Player 1 won a dollar, what is your best guess of Player 2's payoff?\n",
    "\n",
    "\n",
    "$$\n",
    "\\begin{equation}\n",
    "\\begin{aligned}\n",
    "    E[Y \\mid X=x] &= \\sum_{y=0}^1 yP(Y=y \\mid X=x) \\\\\n",
    "    &= 0\n",
    "\\end{aligned}\n",
    "\\end{equation}\n",
    "$$"
   ]
  },
  {
   "cell_type": "markdown",
   "metadata": {},
   "source": [
    "### e.\n",
    "\n",
    "Are there two events, $X=x$ and $Y=y$, that are mutually independent? \n",
    "\n",
    "_No. $X=x$ implies $Y\\neq y$, and vice versa._"
   ]
  },
  {
   "cell_type": "markdown",
   "metadata": {},
   "source": [
    "## 1.3.8\n",
    "\n",
    "Compute the following theoretical measures of the outcome fo a single game of craps (one roll of two independent dice), where $X$ stands for the outcome of Die 1, $Z$ for the outcome of Die 2, and $Y$ for their sum.\n",
    "\n",
    "### a. \n",
    "\n",
    "$$\n",
    "\\begin{equation}\n",
    "\\begin{aligned}\n",
    "    E[X], E[Y], E[&Y \\mid X=x], E[X \\mid Y = y], \\text{ for each value of x and y, and } \\\\\n",
    "    &Var(X), Var(Y), Cov(X,Y), \\rho_{XY}, Cov(X,Z)\n",
    "\\end{aligned}\n",
    "\\end{equation}\n",
    "$$"
   ]
  },
  {
   "cell_type": "markdown",
   "metadata": {},
   "source": [
    "$$\n",
    "\\begin{equation}\n",
    "\\begin{aligned}\n",
    "    E[X] &= 3.5\n",
    "\\end{aligned}\n",
    "\\end{equation}\n",
    "$$"
   ]
  },
  {
   "cell_type": "code",
   "execution_count": 11,
   "metadata": {},
   "outputs": [
    {
     "data": {
      "text/plain": [
       "3.5"
      ]
     },
     "execution_count": 11,
     "metadata": {},
     "output_type": "execute_result"
    }
   ],
   "source": [
    "np.arange(1,7).mean()"
   ]
  },
  {
   "cell_type": "markdown",
   "metadata": {},
   "source": [
    "$$\n",
    "\\begin{equation}\n",
    "\\begin{aligned}\n",
    "    E[Y] &= E[X + Z] \\\\\n",
    "    &= E[X] + E[Z] \\\\\n",
    "    &= 2 \\cdot 3.5 \\\\\n",
    "    &= 7.0\n",
    "\\end{aligned}\n",
    "\\end{equation}\n",
    "$$"
   ]
  },
  {
   "cell_type": "code",
   "execution_count": 28,
   "metadata": {},
   "outputs": [
    {
     "data": {
      "text/plain": [
       "6.9999999999999982"
      ]
     },
     "execution_count": 28,
     "metadata": {},
     "output_type": "execute_result"
    }
   ],
   "source": [
    "(np.array([1, 2, 3, 4, 5, 6, 5, 4, 3, 2, 1]) / 36 * np.arange(2,13)).sum()"
   ]
  },
  {
   "cell_type": "markdown",
   "metadata": {},
   "source": [
    "$$\n",
    "\\begin{equation}\n",
    "\\begin{aligned}\n",
    "    E[Y \\mid X=x] &= E[Z + x \\mid X=x] \\\\\n",
    "    &= E[Z \\mid X=x] + E[x \\mid X=x] \\\\\n",
    "    &= E[Z \\mid X=x] + x && \\text{Expected value of a constant is itself} \\\\\n",
    "    &= \\sum_z z \\cdot P(Z=z \\mid X=x) + x && \\text{Defn.} \\\\\n",
    "    &= \\sum_z z \\cdot P(Z=z) + x && \\text{Unconditionally independent} \\\\\n",
    "    &= 3.5 + x\n",
    "\\end{aligned}\n",
    "\\end{equation}\n",
    "$$"
   ]
  },
  {
   "cell_type": "markdown",
   "metadata": {},
   "source": [
    "$$\n",
    "\\begin{equation}\n",
    "\\begin{aligned}\n",
    "    E[X \\mid Y=y] &= E[y-Z \\mid Y=y] \\\\\n",
    "    &= E[y \\mid Y=y] - E[Z \\mid Y=y] \\\\\n",
    "    &= E[y \\mid Y=y] - E[X \\mid Y=y] \\\\\n",
    "    &= \\frac{E[y \\mid Y=y]}{2} \\\\\n",
    "    &= \\frac{y}{2}\n",
    "\\end{aligned}\n",
    "\\end{equation}\n",
    "$$"
   ]
  },
  {
   "cell_type": "markdown",
   "metadata": {},
   "source": [
    "$$\n",
    "\\begin{equation}\n",
    "\\begin{aligned}\n",
    "    Var(X) &= E(X^2)- E(X)^2 \\\\\n",
    "    &= \\sum_{x=1}^6 x^2 P(X=x) - 3.5^2 \\\\\n",
    "    &= 2.91\\bar{6}\n",
    "\\end{aligned}\n",
    "\\end{equation}\n",
    "$$"
   ]
  },
  {
   "cell_type": "markdown",
   "metadata": {},
   "source": [
    "$$\n",
    "\\begin{equation}\n",
    "\\begin{aligned}\n",
    "    Var(Y) &= E(Y^2)- E(Y)^2 \\\\\n",
    "    &= \\sum_{y=2}^{12} y^2 \\cdot P(Y=y) - 7.0^2 \\\\\n",
    "    &= 54.8\\bar{3} - 49 \\\\\n",
    "    &= 5.8\\bar{3}\n",
    "\\end{aligned}\n",
    "\\end{equation}\n",
    "$$"
   ]
  },
  {
   "cell_type": "code",
   "execution_count": 37,
   "metadata": {},
   "outputs": [
    {
     "data": {
      "text/plain": [
       "5.8333333333333357"
      ]
     },
     "execution_count": 37,
     "metadata": {},
     "output_type": "execute_result"
    }
   ],
   "source": [
    "(np.arange(2,13)**2 * (np.array([1,2,3,4,5,6,5,4,3,2,1]) / 36)).sum() - 49"
   ]
  },
  {
   "cell_type": "code",
   "execution_count": 13,
   "metadata": {},
   "outputs": [
    {
     "data": {
      "text/plain": [
       "2.9166666666666665"
      ]
     },
     "execution_count": 13,
     "metadata": {},
     "output_type": "execute_result"
    }
   ],
   "source": [
    "np.arange(1,7).var()"
   ]
  },
  {
   "cell_type": "code",
   "execution_count": 17,
   "metadata": {},
   "outputs": [
    {
     "data": {
      "text/plain": [
       "2.9166666666666679"
      ]
     },
     "execution_count": 17,
     "metadata": {},
     "output_type": "execute_result"
    }
   ],
   "source": [
    "(np.arange(1,7)**2 / 6).sum() - 3.5**2"
   ]
  },
  {
   "cell_type": "markdown",
   "metadata": {},
   "source": [
    "$$\n",
    "\\begin{equation}\n",
    "\\begin{aligned}\n",
    "    Cov(X,Y) &= E(XY) - E(X)E(Y) \\\\\n",
    "    &= E(X\\cdot(X+Z)) - E(X)E(X+Z) \\\\ \n",
    "    &= E(X\\cdot(X+Z)) - E(X)\\cdot 2 \\cdot E(X) \\\\ \n",
    "    &= E(X\\cdot(X+Z)) - 2 \\cdot 3.5^2 \\\\\n",
    "    &= E(X\\cdot(X+Z)) - 24.5 \\\\\n",
    "    &= E(X^2 + XZ) - 24.5 \\\\\n",
    "    &= E(X^2) + E(XZ) - 24.5 \\\\\n",
    "    &= E(X^2) + E(X)E(Z) - 24.5  && \\text{X is independent of Z} \\\\\n",
    "    &= E(X^2) + 3.5^2 - 24.5 \\\\\n",
    "    &= E(X^2) - 12.25 \\\\\n",
    "    &= \\sum_x x^2 \\cdot P(X=x) - 12.25 \\\\\n",
    "    &= 15.1\\bar{6} - 12.25 \\\\\n",
    "    &= 2.91\\bar{6}\n",
    "\\end{aligned}\n",
    "\\end{equation}\n",
    "$$"
   ]
  },
  {
   "cell_type": "code",
   "execution_count": 39,
   "metadata": {},
   "outputs": [
    {
     "data": {
      "text/plain": [
       "15.166666666666668"
      ]
     },
     "execution_count": 39,
     "metadata": {},
     "output_type": "execute_result"
    }
   ],
   "source": [
    "(np.arange(1,7)**2 / 6).sum()"
   ]
  },
  {
   "cell_type": "code",
   "execution_count": 44,
   "metadata": {},
   "outputs": [
    {
     "data": {
      "text/plain": [
       "array([[ 2.90960941,  2.91747868],\n",
       "       [ 2.91747868,  5.83503492]])"
      ]
     },
     "execution_count": 44,
     "metadata": {},
     "output_type": "execute_result"
    }
   ],
   "source": [
    "x = np.random.choice(np.arange(1,7),size=100000)\n",
    "z = np.random.choice(np.arange(1,7),size=100000)\n",
    "y = x+z\n",
    "\n",
    "np.cov(x, y)"
   ]
  },
  {
   "cell_type": "code",
   "execution_count": 45,
   "metadata": {},
   "outputs": [
    {
     "data": {
      "text/plain": [
       "array([[ 2.90960941,  0.00786928],\n",
       "       [ 0.00786928,  2.90968697]])"
      ]
     },
     "execution_count": 45,
     "metadata": {},
     "output_type": "execute_result"
    }
   ],
   "source": [
    "np.cov(x,z)"
   ]
  },
  {
   "cell_type": "markdown",
   "metadata": {},
   "source": [
    "$$\n",
    "\\begin{equation}\n",
    "\\begin{aligned}\n",
    "    \\rho(X,Y) &= \\frac{Cov(X,Y)}{\\sqrt{Var(X)} \\cdot \\sqrt{Var(Y)}} \\\\\n",
    "    &= \\frac{ 2.91\\bar{6} }{ \\sqrt{2.91\\bar{6}} \\cdot \\sqrt{5.8\\bar{3}}} \\\\\n",
    "    &= \\frac{ \\sqrt{2.91\\bar{6}} }{ \\sqrt{5.8\\bar{3}}} \\\\\n",
    "    &\\approx 0.707\n",
    "\\end{aligned}\n",
    "\\end{equation}\n",
    "$$"
   ]
  },
  {
   "cell_type": "code",
   "execution_count": 47,
   "metadata": {
    "scrolled": true
   },
   "outputs": [
    {
     "data": {
      "text/plain": [
       "0.70710678117866832"
      ]
     },
     "execution_count": 47,
     "metadata": {},
     "output_type": "execute_result"
    }
   ],
   "source": [
    "np.sqrt(2.9166666666) / np.sqrt(5.83333333333)"
   ]
  },
  {
   "cell_type": "code",
   "execution_count": 49,
   "metadata": {},
   "outputs": [
    {
     "data": {
      "text/plain": [
       "array([[ 1.        ,  0.70805764],\n",
       "       [ 0.70805764,  1.        ]])"
      ]
     },
     "execution_count": 49,
     "metadata": {},
     "output_type": "execute_result"
    }
   ],
   "source": [
    "np.corrcoef(x,y)"
   ]
  },
  {
   "cell_type": "markdown",
   "metadata": {},
   "source": [
    "$$\n",
    "\\begin{equation}\n",
    "\\begin{aligned}\n",
    "    Cov(X,Z) &= 0 && \\text{X and Z are independent}\n",
    "\\end{aligned}\n",
    "\\end{equation}\n",
    "$$"
   ]
  },
  {
   "cell_type": "markdown",
   "metadata": {},
   "source": [
    "### b.\n",
    "\n",
    "Find the sample estimates of the measures computed in (a), based on the data from Table 1.6 [Hint: Many software packages are available for doing this computation for you.]"
   ]
  },
  {
   "cell_type": "code",
   "execution_count": 54,
   "metadata": {},
   "outputs": [
    {
     "data": {
      "text/html": [
       "<div>\n",
       "<style scoped>\n",
       "    .dataframe tbody tr th:only-of-type {\n",
       "        vertical-align: middle;\n",
       "    }\n",
       "\n",
       "    .dataframe tbody tr th {\n",
       "        vertical-align: top;\n",
       "    }\n",
       "\n",
       "    .dataframe thead th {\n",
       "        text-align: right;\n",
       "    }\n",
       "</style>\n",
       "<table border=\"1\" class=\"dataframe\">\n",
       "  <thead>\n",
       "    <tr style=\"text-align: right;\">\n",
       "      <th></th>\n",
       "      <th>X</th>\n",
       "      <th>Y</th>\n",
       "      <th>Z</th>\n",
       "    </tr>\n",
       "  </thead>\n",
       "  <tbody>\n",
       "    <tr>\n",
       "      <th>0</th>\n",
       "      <td>3</td>\n",
       "      <td>9</td>\n",
       "      <td>6</td>\n",
       "    </tr>\n",
       "    <tr>\n",
       "      <th>1</th>\n",
       "      <td>4</td>\n",
       "      <td>7</td>\n",
       "      <td>3</td>\n",
       "    </tr>\n",
       "    <tr>\n",
       "      <th>2</th>\n",
       "      <td>6</td>\n",
       "      <td>10</td>\n",
       "      <td>4</td>\n",
       "    </tr>\n",
       "    <tr>\n",
       "      <th>3</th>\n",
       "      <td>2</td>\n",
       "      <td>8</td>\n",
       "      <td>6</td>\n",
       "    </tr>\n",
       "    <tr>\n",
       "      <th>4</th>\n",
       "      <td>4</td>\n",
       "      <td>10</td>\n",
       "      <td>6</td>\n",
       "    </tr>\n",
       "    <tr>\n",
       "      <th>5</th>\n",
       "      <td>3</td>\n",
       "      <td>8</td>\n",
       "      <td>5</td>\n",
       "    </tr>\n",
       "    <tr>\n",
       "      <th>6</th>\n",
       "      <td>5</td>\n",
       "      <td>6</td>\n",
       "      <td>1</td>\n",
       "    </tr>\n",
       "    <tr>\n",
       "      <th>7</th>\n",
       "      <td>5</td>\n",
       "      <td>8</td>\n",
       "      <td>3</td>\n",
       "    </tr>\n",
       "    <tr>\n",
       "      <th>8</th>\n",
       "      <td>5</td>\n",
       "      <td>11</td>\n",
       "      <td>6</td>\n",
       "    </tr>\n",
       "    <tr>\n",
       "      <th>9</th>\n",
       "      <td>5</td>\n",
       "      <td>8</td>\n",
       "      <td>3</td>\n",
       "    </tr>\n",
       "    <tr>\n",
       "      <th>10</th>\n",
       "      <td>3</td>\n",
       "      <td>8</td>\n",
       "      <td>5</td>\n",
       "    </tr>\n",
       "    <tr>\n",
       "      <th>11</th>\n",
       "      <td>5</td>\n",
       "      <td>9</td>\n",
       "      <td>4</td>\n",
       "    </tr>\n",
       "  </tbody>\n",
       "</table>\n",
       "</div>"
      ],
      "text/plain": [
       "    X   Y  Z\n",
       "0   3   9  6\n",
       "1   4   7  3\n",
       "2   6  10  4\n",
       "3   2   8  6\n",
       "4   4  10  6\n",
       "5   3   8  5\n",
       "6   5   6  1\n",
       "7   5   8  3\n",
       "8   5  11  6\n",
       "9   5   8  3\n",
       "10  3   8  5\n",
       "11  5   9  4"
      ]
     },
     "execution_count": 54,
     "metadata": {},
     "output_type": "execute_result"
    }
   ],
   "source": [
    "table_1_point_6 = pd.DataFrame({\n",
    "    'Z': [6,3,4,6,6,5,1,3,6,3,5,4],\n",
    "    'X': [3,4,6,2,4,3,5,5,5,5,3,5],\n",
    "    'Y': [9,7,10,8,10,8,6,8,11,8,8,9]\n",
    "})\n",
    "table_1_point_6"
   ]
  },
  {
   "cell_type": "code",
   "execution_count": 117,
   "metadata": {},
   "outputs": [
    {
     "name": "stdout",
     "output_type": "stream",
     "text": [
      "E(Y|X=1): nan\n",
      "E(Y|X=2): 8.0\n",
      "E(Y|X=3): 8.333333333333334\n",
      "E(Y|X=4): 8.5\n",
      "E(Y|X=5): 8.4\n",
      "E(Y|X=6): 10.0\n"
     ]
    }
   ],
   "source": [
    "for i in range(1,7):\n",
    "    print('E(Y|X=' + str(i) + '):', table_1_point_6[table_1_point_6['X'] == i]['Y'].mean())"
   ]
  },
  {
   "cell_type": "code",
   "execution_count": 126,
   "metadata": {
    "scrolled": true
   },
   "outputs": [
    {
     "name": "stdout",
     "output_type": "stream",
     "text": [
      "sample estimates: \n",
      "E(X):  4.166666666666667\n",
      "E(Y):  8.5\n",
      "E(Y|X=1): nan\n",
      "E(Y|X=2): 8.0\n",
      "E(Y|X=3): 8.333333333333334\n",
      "E(Y|X=4): 8.5\n",
      "E(Y|X=5): 8.4\n",
      "E(Y|X=6): 10.0\n",
      "E(X|Y=2): nan\n",
      "E(X|Y=3): nan\n",
      "E(X|Y=4): nan\n",
      "E(X|Y=5): nan\n",
      "E(X|Y=6): 5.0\n",
      "E(X|Y=7): 4.0\n",
      "E(X|Y=8): 3.6\n",
      "E(X|Y=9): 4.0\n",
      "E(X|Y=10): 5.0\n",
      "E(X|Y=11): 5.0\n",
      "E(X|Y=12): nan\n",
      "Var(X):  1.4242424242424248\n",
      "Var(Y):  1.9090909090909092\n",
      "Cov(X,Y) Matrix:  [[ 1.42424242  0.36363636]\n",
      " [ 0.36363636  1.90909091]]\n",
      "Corr coeff Matrix:  [[ 1.          0.22052714]\n",
      " [ 0.22052714  1.        ]]\n",
      "Cov(X,Z) Matrix:  [[ 1.42424242 -1.06060606]\n",
      " [-1.06060606  2.60606061]]\n"
     ]
    }
   ],
   "source": [
    "print('sample estimates: ')\n",
    "print('E(X): ', table_1_point_6['X'].mean())\n",
    "print('E(Y): ', table_1_point_6['Y'].mean())\n",
    "\n",
    "for i in range(1,7):\n",
    "    print('E(Y|X=' + str(i) + '):', table_1_point_6[table_1_point_6['X'] == i]['Y'].mean())\n",
    "\n",
    "for i in range(2,13):\n",
    "    print('E(X|Y=' + str(i) + '):', table_1_point_6[table_1_point_6['Y'] == i]['X'].mean())\n",
    "    \n",
    "print('Var(X): ', table_1_point_6['X'].var())\n",
    "print('Var(Y): ', table_1_point_6['Y'].var())\n",
    "print('Cov(X,Y) Matrix: ', np.cov(table_1_point_6['X'], table_1_point_6['Y']))\n",
    "print('Corr coeff Matrix: ', np.corrcoef(table_1_point_6['X'], table_1_point_6['Y']))\n",
    "print('Cov(X,Z) Matrix: ', np.cov(table_1_point_6['X'], table_1_point_6['Z']))"
   ]
  },
  {
   "cell_type": "markdown",
   "metadata": {},
   "source": [
    "### c.\n",
    "\n",
    "Use the results in (a) to determine the best estimate of the sum, $Y$, given that we measured X=3.\n",
    "\n",
    "$$\n",
    "\\begin{equation}\n",
    "\\begin{aligned}\n",
    "    E[Y \\mid X=x] &= 3.5 + x \\\\\n",
    "    &= 3.5 + 3 \\\\\n",
    "    &= 6.5\n",
    "\\end{aligned}\n",
    "\\end{equation}\n",
    "$$"
   ]
  },
  {
   "cell_type": "markdown",
   "metadata": {},
   "source": [
    "### d.\n",
    "\n",
    "What is the best estimate of $X$, given that we measured $Y=4$?\n",
    "\n",
    "$$\n",
    "\\begin{equation}\n",
    "\\begin{aligned}\n",
    "    E[X \\mid Y=y] &= \\frac{y}{2} \\\\\n",
    "    &= 2\n",
    "\\end{aligned}\n",
    "\\end{equation}\n",
    "$$"
   ]
  },
  {
   "cell_type": "markdown",
   "metadata": {},
   "source": [
    "### e.\n",
    "\n",
    "What is the best estimate of $X$, given that we measured $Y=4$ and $Z=1$? Explain why it is not the same as in (d).\n",
    "\n",
    "_If we know $Y$ and $Z$, then we can fully determine the value of $X$. In that case, $X$ must be $3$_."
   ]
  },
  {
   "cell_type": "markdown",
   "metadata": {},
   "source": [
    "### 1.3.9\n",
    "\n",
    "#### a.\n",
    "\n",
    "Prove Eq. (1.22) using the orthogonality principle. [Hint: Follow the treatment of Eq. (1.26).]\n",
    "\n",
    "$$\n",
    "\\begin{equation}\n",
    "\\begin{aligned}\n",
    "    Y &= \\alpha + bX + \\epsilon \\\\\n",
    "    E[Y] &= E[\\alpha] + E[bX] && E[\\epsilon] \\text{ is 0 via orthog. princ.}\\\\\n",
    "    &= \\alpha + bE[X] \\\\\n",
    "    E[Y] - bE[X] &= \\alpha\n",
    "\\end{aligned}\n",
    "\\end{equation}\n",
    "$$\n",
    "\n",
    "$$\n",
    "\\begin{equation}\n",
    "\\begin{aligned}\n",
    "    Y &= \\alpha + bX + \\epsilon \\\\\n",
    "    XY &= \\alpha \\cdot X + bX^2 + \\epsilon \\\\\n",
    "    E[XY] &= \\alpha \\cdot E[X] + b\\cdot E[X^2] && E[\\epsilon] \\text{ is 0 via orthog. princ.} \\\\\n",
    "    &= ( E[Y] - bE[X]) \\cdot E[X] + b\\cdot E[X^2] && \\text{Substitute } \\alpha  \\\\\n",
    "    &= E[Y]E[X] - b\\cdot E[X]^2 + b\\cdot E[X^2] \\\\\n",
    "    \\sigma_{XY} &= b\\cdot \\sigma_{X}^2 \\\\\n",
    "    \\frac{ \\sigma_{XY} }{ \\sigma_{X}^2 } &= b \\\\\n",
    "\\end{aligned}\n",
    "\\end{equation}\n",
    "$$"
   ]
  },
  {
   "cell_type": "markdown",
   "metadata": {},
   "source": [
    "#### b.\n",
    "\n",
    "Find all partial regression coefficients\n",
    "\n",
    "$$\n",
    "\\begin{equation}\n",
    "\\begin{aligned}\n",
    "    R_{YX \\cdot Z}, R_{XY \\cdot Z}, R_{YZ \\cdot X}, R_{ZY \\cdot X}, R_{XZ \\cdot Y}, R_{ZX \\cdot Y}\n",
    "\\end{aligned}\n",
    "\\end{equation}\n",
    "$$\n",
    "\n",
    "for the craps game described in Study question 1.3.7. [Hint: Apply Eq. (1.27) and use the variances and covariances computed for part (a) of this question.]"
   ]
  },
  {
   "cell_type": "markdown",
   "metadata": {},
   "source": [
    "$$\n",
    "\\begin{equation}\n",
    "\\begin{aligned}\n",
    "    Y &= aX + bZ + \\alpha + \\epsilon \\\\\n",
    "    E[Y] &= a \\cdot E[X] + b\\cdot E[Z] + \\alpha \\\\\n",
    "    \\alpha &= E[Y] - a \\cdot E[X] - b\\cdot E[Z]\n",
    "\\end{aligned}\n",
    "\\end{equation}\n",
    "$$\n",
    "\n"
   ]
  },
  {
   "cell_type": "markdown",
   "metadata": {},
   "source": [
    "\n",
    "$$\n",
    "\\begin{equation}\n",
    "\\begin{aligned}\n",
    "    Y &= aX + bZ + \\alpha + \\epsilon \\\\\n",
    "    XY &= aX^2 + bZX + \\alpha \\cdot X + \\epsilon \\cdot X \\\\\n",
    "    E[XY] &= aE[X^2] + bE[ZX] + \\alpha \\cdot E[X] \\\\\n",
    "    &= aE[X^2] + bE[ZX] + (E[Y] - a \\cdot E[X] - b\\cdot E[Z]) \\cdot E[X] \\\\\n",
    "    &= aE[X^2] + bE[ZX] + E[Y] \\cdot E[X] - a \\cdot E[X]^2 - b \\cdot E[Z] \\cdot E[X] \\\\\n",
    "    E[XY] - E[Y] \\cdot E[X] &= aE[X^2] + bE[ZX] - a \\cdot E[X]^2 - b \\cdot E[Z] \\cdot E[X] \\\\\n",
    "    \\sigma_{XY} &= aE[X^2] + bE[ZX] - a \\cdot E[X]^2 - b \\cdot E[Z] \\cdot E[X] \\\\\n",
    "    &= a \\cdot \\sigma_{X}^2 + b \\cdot \\sigma_{ZX} \\\\\n",
    "    b &= \\frac{ \\sigma_{XY} - a \\cdot \\sigma_{X}^2 } { \\sigma_{ZX} } \\\\\n",
    "    a &= \\frac{ \\sigma_{XY} - b \\cdot \\sigma_{ZX} } { \\sigma_{X}^2 }\n",
    "\\end{aligned}\n",
    "\\end{equation}\n",
    "$$\n",
    "\n"
   ]
  },
  {
   "cell_type": "markdown",
   "metadata": {},
   "source": [
    "\n",
    "$$\n",
    "\\begin{equation}\n",
    "\\begin{aligned}\n",
    "    Y &= aX + bZ + \\alpha + \\epsilon \\\\\n",
    "    Y^2 &= aXY + bZY + \\alpha \\cdot Y + \\epsilon \\cdot Y \\\\\n",
    "    E[Y^2] &= aE[XY] + bE[ZY] + \\alpha \\cdot E[Y] \\\\\n",
    "    &= aE[XY] + bE[ZY] + (E[Y] - a \\cdot E[X] - b\\cdot E[Z]) \\cdot E[Y] \\\\\n",
    "    &= aE[XY] + bE[ZY] + E[Y]^2 - a \\cdot E[X]E[Y] - b \\cdot E[Z]E[Y] \\\\\n",
    "    E[Y^2] -  E[Y]^2 &= aE[XY] + bE[ZY] - a \\cdot E[X]E[Y] - b \\cdot E[Z]E[Y] \\\\\n",
    "    \\sigma_{Y}^2 &= aE[XY] + bE[ZY] - a \\cdot E[X]E[Y] - b \\cdot E[Z]E[Y] \\\\\n",
    "    &= a\\cdot \\sigma_{XY} + b\\cdot \\sigma_{ZY} \\\\\n",
    "    b &= \\frac{ \\sigma_{Y}^2  - a\\cdot \\sigma_{XY} }{ \\sigma_{ZY} } \\\\\n",
    "    a &= \\frac{ \\sigma_{Y}^2  - b\\cdot \\sigma_{ZY} }{ \\sigma_{XY} } \\\\\n",
    "\\end{aligned}\n",
    "\\end{equation}\n",
    "$$"
   ]
  },
  {
   "cell_type": "markdown",
   "metadata": {},
   "source": [
    "\n",
    "$$\n",
    "\\begin{equation}\n",
    "\\begin{aligned}\n",
    "    \\frac{ \\sigma_{XY} - a \\cdot \\sigma_{X}^2 } { \\sigma_{ZX} } &= \\frac{ \\sigma_{Y}^2  - a\\cdot \\sigma_{XY} }{ \\sigma_{ZY} } \\\\\n",
    "    \\sigma_{ZY} \\cdot \\sigma_{XY} - a \\cdot \\sigma_{ZY} \\cdot \\sigma_{X}^2 &= \\sigma_{ZX} \\cdot \\sigma_{Y}^2  - a\\cdot \\sigma_{XY} \\cdot \\sigma_{ZX} \\\\\n",
    "    \\sigma_{ZY} \\cdot \\sigma_{XY} - a \\cdot \\sigma_{ZY} \\cdot \\sigma_{X}^2 + a\\cdot \\sigma_{XY} \\cdot \\sigma_{ZX} &= \\sigma_{ZX} \\cdot \\sigma_{Y}^2 \\\\\n",
    "    - a \\cdot \\sigma_{ZY} \\cdot \\sigma_{X}^2 + a\\cdot \\sigma_{XY} \\cdot \\sigma_{ZX} &= \\sigma_{ZX} \\cdot \\sigma_{Y}^2 - \\sigma_{ZY} \\cdot \\sigma_{XY} \\\\\n",
    "    a \\cdot (\\sigma_{XY} \\cdot \\sigma_{ZX} - \\sigma_{ZY} \\cdot \\sigma_{X}^2) &= \\sigma_{ZX} \\cdot \\sigma_{Y}^2 - \\sigma_{ZY} \\cdot \\sigma_{XY} \\\\\n",
    "    a &= \\frac{ \\sigma_{ZX} \\cdot \\sigma_{Y}^2 - \\sigma_{ZY} \\cdot \\sigma_{XY} }{ \\sigma_{XY} \\cdot \\sigma_{ZX} - \\sigma_{ZY} \\cdot \\sigma_{X}^2 } \\\\\n",
    "    &= R_{YX \\cdot Z}\n",
    "\\end{aligned}\n",
    "\\end{equation}\n",
    "$$"
   ]
  },
  {
   "cell_type": "markdown",
   "metadata": {},
   "source": [
    "\n",
    "$$\n",
    "\\begin{equation}\n",
    "\\begin{aligned}\n",
    "    \\frac{ \\sigma_{Y}^2  - b\\cdot \\sigma_{ZY} }{ \\sigma_{XY} } &= \\frac{ \\sigma_{XY} - b \\cdot \\sigma_{ZX} } { \\sigma_{X}^2 } \\\\\n",
    "    \\sigma_{X}^2 \\cdot \\sigma_{Y}^2  - b\\cdot \\sigma_{ZY} \\cdot \\sigma_{X}^2  &= \\sigma_{XY}^2 - b \\cdot \\sigma_{ZX} \\cdot \\sigma_{XY}   \\\\\n",
    "    - b\\cdot \\sigma_{ZY} \\cdot \\sigma_{X}^2 + b \\cdot \\sigma_{ZX} \\cdot \\sigma_{XY} &= \\sigma_{XY}^2 - \\sigma_{X}^2 \\cdot \\sigma_{Y}^2  \\\\\n",
    "    b \\cdot (\\sigma_{ZX} \\cdot \\sigma_{XY} - \\sigma_{ZY} \\cdot \\sigma_{X}^2 ) &= \\sigma_{XY}^2 - \\sigma_{X}^2 \\cdot \\sigma_{Y}^2  \\\\\n",
    "    b &= \\frac {\\sigma_{XY}^2 - \\sigma_{X}^2 \\cdot \\sigma_{Y}^2} {\\sigma_{ZX} \\cdot \\sigma_{XY} - \\sigma_{ZY} \\cdot \\sigma_{X}^2 } \\\\\n",
    "    &= R_{YZ \\cdot X}\n",
    "\\end{aligned}\n",
    "\\end{equation}\n",
    "$$"
   ]
  },
  {
   "cell_type": "markdown",
   "metadata": {},
   "source": [
    "\n",
    "\n",
    "$$\n",
    "\\begin{equation}\n",
    "\\begin{aligned}\n",
    "    R_{YX \\cdot Z} &= \n",
    "\\end{aligned}\n",
    "\\end{equation}\n",
    "$$\n",
    "\n",
    "$$\n",
    "\\begin{equation}\n",
    "\\begin{aligned}\n",
    "    R_{YX \\cdot Z}, R_{XY \\cdot Z}, R_{YZ \\cdot X}, R_{ZY \\cdot X}, R_{XZ \\cdot Y}, R_{ZX \\cdot Y}\n",
    "\\end{aligned}\n",
    "\\end{equation}\n",
    "$$\n"
   ]
  },
  {
   "cell_type": "code",
   "execution_count": 106,
   "metadata": {},
   "outputs": [
    {
     "name": "stderr",
     "output_type": "stream",
     "text": [
      "Auto-assigning NUTS sampler...\n",
      "Initializing NUTS using jitter+adapt_diag...\n",
      "Multiprocess sampling (4 chains in 4 jobs)\n",
      "NUTS: [sigma_log__, alpha, x]\n",
      "100%|██████████| 7000/7000 [00:55<00:00, 127.02it/s]\n",
      "There were 3 divergences after tuning. Increase `target_accept` or reparameterize.\n",
      "The acceptance probability does not match the target. It is 0.890030427387, but should be close to 0.8. Try to increase the number of tuning steps.\n"
     ]
    }
   ],
   "source": [
    "with pm.Model() as y_given_x_model_1_3_8_b:\n",
    "    x = pm.Normal('x', mu=0, sd=1)\n",
    "    #z = pm.Normal('z', mu=0, sd=1)\n",
    "    \n",
    "    mu = x * table_1_point_6['X'] + alpha\n",
    "    sigma=pm.HalfCauchy('sigma', 5)\n",
    "    y = pm.Normal('y', mu=mu, sd=sigma, observed=table_1_point_6['Y'])\n",
    "    y_given_x_model_1_3_8_b = pm.sample(2000, tune=5000)"
   ]
  },
  {
   "cell_type": "code",
   "execution_count": 108,
   "metadata": {},
   "outputs": [
    {
     "data": {
      "text/plain": [
       "array([[<matplotlib.axes._subplots.AxesSubplot object at 0x1c195ee6d8>,\n",
       "        <matplotlib.axes._subplots.AxesSubplot object at 0x10d1168d0>],\n",
       "       [<matplotlib.axes._subplots.AxesSubplot object at 0x1c19502438>,\n",
       "        <matplotlib.axes._subplots.AxesSubplot object at 0x1c195cbcc0>],\n",
       "       [<matplotlib.axes._subplots.AxesSubplot object at 0x1c19406550>,\n",
       "        <matplotlib.axes._subplots.AxesSubplot object at 0x1c193afa20>]], dtype=object)"
      ]
     },
     "execution_count": 108,
     "metadata": {},
     "output_type": "execute_result"
    },
    {
     "data": {
      "image/png": "[encoded data removed]",
      "text/plain": [
       "<matplotlib.figure.Figure at 0x1c195e94a8>"
      ]
     },
     "metadata": {},
     "output_type": "display_data"
    }
   ],
   "source": [
    "pm.traceplot(y_given_x_model_1_3_8_b)"
   ]
  },
  {
   "cell_type": "code",
   "execution_count": 97,
   "metadata": {},
   "outputs": [
    {
     "data": {
      "text/plain": [
       "0     3\n",
       "1     4\n",
       "2     6\n",
       "3     2\n",
       "4     4\n",
       "5     3\n",
       "6     5\n",
       "7     5\n",
       "8     5\n",
       "9     5\n",
       "10    3\n",
       "11    5\n",
       "Name: X, dtype: int64"
      ]
     },
     "execution_count": 97,
     "metadata": {},
     "output_type": "execute_result"
    }
   ],
   "source": [
    "table_1_point_6['X']"
   ]
  },
  {
   "cell_type": "code",
   "execution_count": 50,
   "metadata": {},
   "outputs": [
    {
     "data": {
      "text/plain": [
       "3.5063"
      ]
     },
     "execution_count": 50,
     "metadata": {},
     "output_type": "execute_result"
    }
   ],
   "source": [
    "x.mean()"
   ]
  },
  {
   "cell_type": "code",
   "execution_count": 51,
   "metadata": {},
   "outputs": [
    {
     "data": {
      "text/plain": [
       "7.0048399999999997"
      ]
     },
     "execution_count": 51,
     "metadata": {},
     "output_type": "execute_result"
    }
   ],
   "source": [
    "y.mean()"
   ]
  },
  {
   "cell_type": "code",
   "execution_count": 60,
   "metadata": {},
   "outputs": [
    {
     "data": {
      "text/plain": [
       "(6,)"
      ]
     },
     "execution_count": 60,
     "metadata": {},
     "output_type": "execute_result"
    }
   ],
   "source": [
    "np.array([1,2,3,4,5,6]).shape"
   ]
  },
  {
   "cell_type": "code",
   "execution_count": 64,
   "metadata": {},
   "outputs": [
    {
     "data": {
      "text/plain": [
       "array([ 0.16666667,  0.16666667,  0.16666667,  0.16666667,  0.16666667,\n",
       "        0.16666667])"
      ]
     },
     "execution_count": 64,
     "metadata": {},
     "output_type": "execute_result"
    }
   ],
   "source": [
    "np.ones(6) / 6.0"
   ]
  },
  {
   "cell_type": "code",
   "execution_count": 95,
   "metadata": {},
   "outputs": [
    {
     "name": "stderr",
     "output_type": "stream",
     "text": [
      "/Users/eddericugaddan/anaconda3/lib/python3.6/site-packages/theano/tensor/basic.py:2184: UserWarning: theano.tensor.round() changed its default from `half_away_from_zero` to `half_to_even` to have the same default as NumPy. Use the Theano flag `warn.round=False` to disable this warning.\n",
      "  \"theano.tensor.round() changed its default from\"\n"
     ]
    },
    {
     "ename": "ValueError",
     "evalue": "Input dimension mis-match. (input[0].shape[0] = 12, input[1].shape[0] = 6)",
     "output_type": "error",
     "traceback": [
      "\u001b[0;31m---------------------------------------------------------------------------\u001b[0m",
      "\u001b[0;31mValueError\u001b[0m                                Traceback (most recent call last)",
      "\u001b[0;32m<ipython-input-95-568b6d01aeac>\u001b[0m in \u001b[0;36m<module>\u001b[0;34m()\u001b[0m\n\u001b[1;32m      5\u001b[0m         \u001b[0mp\u001b[0m\u001b[0;34m=\u001b[0m\u001b[0mnp\u001b[0m\u001b[0;34m.\u001b[0m\u001b[0mones\u001b[0m\u001b[0;34m(\u001b[0m\u001b[0;36m6\u001b[0m\u001b[0;34m)\u001b[0m\u001b[0;34m/\u001b[0m\u001b[0;36m6.0\u001b[0m\u001b[0;34m,\u001b[0m \u001b[0;31m# should this be a probability? Yes, cuz credible intervals will be tight?\u001b[0m\u001b[0;34m\u001b[0m\u001b[0m\n\u001b[1;32m      6\u001b[0m         \u001b[0mshape\u001b[0m\u001b[0;34m=\u001b[0m\u001b[0;36m6\u001b[0m\u001b[0;34m,\u001b[0m\u001b[0;34m\u001b[0m\u001b[0m\n\u001b[0;32m----> 7\u001b[0;31m         \u001b[0mobserved\u001b[0m\u001b[0;34m=\u001b[0m\u001b[0mtable_1_point_6\u001b[0m\u001b[0;34m[\u001b[0m\u001b[0;34m'X'\u001b[0m\u001b[0;34m]\u001b[0m\u001b[0;34m,\u001b[0m\u001b[0;34m\u001b[0m\u001b[0m\n\u001b[0m\u001b[1;32m      8\u001b[0m     )\n\u001b[1;32m      9\u001b[0m \u001b[0;34m\u001b[0m\u001b[0m\n",
      "\u001b[0;32m~/anaconda3/lib/python3.6/site-packages/pymc3/distributions/distribution.py\u001b[0m in \u001b[0;36m__new__\u001b[0;34m(cls, name, *args, **kwargs)\u001b[0m\n\u001b[1;32m     35\u001b[0m             \u001b[0mtotal_size\u001b[0m \u001b[0;34m=\u001b[0m \u001b[0mkwargs\u001b[0m\u001b[0;34m.\u001b[0m\u001b[0mpop\u001b[0m\u001b[0;34m(\u001b[0m\u001b[0;34m'total_size'\u001b[0m\u001b[0;34m,\u001b[0m \u001b[0;32mNone\u001b[0m\u001b[0;34m)\u001b[0m\u001b[0;34m\u001b[0m\u001b[0m\n\u001b[1;32m     36\u001b[0m             \u001b[0mdist\u001b[0m \u001b[0;34m=\u001b[0m \u001b[0mcls\u001b[0m\u001b[0;34m.\u001b[0m\u001b[0mdist\u001b[0m\u001b[0;34m(\u001b[0m\u001b[0;34m*\u001b[0m\u001b[0margs\u001b[0m\u001b[0;34m,\u001b[0m \u001b[0;34m**\u001b[0m\u001b[0mkwargs\u001b[0m\u001b[0;34m)\u001b[0m\u001b[0;34m\u001b[0m\u001b[0m\n\u001b[0;32m---> 37\u001b[0;31m             \u001b[0;32mreturn\u001b[0m \u001b[0mmodel\u001b[0m\u001b[0;34m.\u001b[0m\u001b[0mVar\u001b[0m\u001b[0;34m(\u001b[0m\u001b[0mname\u001b[0m\u001b[0;34m,\u001b[0m \u001b[0mdist\u001b[0m\u001b[0;34m,\u001b[0m \u001b[0mdata\u001b[0m\u001b[0;34m,\u001b[0m \u001b[0mtotal_size\u001b[0m\u001b[0;34m)\u001b[0m\u001b[0;34m\u001b[0m\u001b[0m\n\u001b[0m\u001b[1;32m     38\u001b[0m         \u001b[0;32melse\u001b[0m\u001b[0;34m:\u001b[0m\u001b[0;34m\u001b[0m\u001b[0m\n\u001b[1;32m     39\u001b[0m             \u001b[0;32mraise\u001b[0m \u001b[0mTypeError\u001b[0m\u001b[0;34m(\u001b[0m\u001b[0;34m\"Name needs to be a string but got: {}\"\u001b[0m\u001b[0;34m.\u001b[0m\u001b[0mformat\u001b[0m\u001b[0;34m(\u001b[0m\u001b[0mname\u001b[0m\u001b[0;34m)\u001b[0m\u001b[0;34m)\u001b[0m\u001b[0;34m\u001b[0m\u001b[0m\n",
      "\u001b[0;32m~/anaconda3/lib/python3.6/site-packages/pymc3/model.py\u001b[0m in \u001b[0;36mVar\u001b[0;34m(self, name, dist, data, total_size)\u001b[0m\n\u001b[1;32m    830\u001b[0m                 var = ObservedRV(name=name, data=data,\n\u001b[1;32m    831\u001b[0m                                  \u001b[0mdistribution\u001b[0m\u001b[0;34m=\u001b[0m\u001b[0mdist\u001b[0m\u001b[0;34m,\u001b[0m\u001b[0;34m\u001b[0m\u001b[0m\n\u001b[0;32m--> 832\u001b[0;31m                                  total_size=total_size, model=self)\n\u001b[0m\u001b[1;32m    833\u001b[0m             \u001b[0mself\u001b[0m\u001b[0;34m.\u001b[0m\u001b[0mobserved_RVs\u001b[0m\u001b[0;34m.\u001b[0m\u001b[0mappend\u001b[0m\u001b[0;34m(\u001b[0m\u001b[0mvar\u001b[0m\u001b[0;34m)\u001b[0m\u001b[0;34m\u001b[0m\u001b[0m\n\u001b[1;32m    834\u001b[0m             \u001b[0;32mif\u001b[0m \u001b[0mvar\u001b[0m\u001b[0;34m.\u001b[0m\u001b[0mmissing_values\u001b[0m\u001b[0;34m:\u001b[0m\u001b[0;34m\u001b[0m\u001b[0m\n",
      "\u001b[0;32m~/anaconda3/lib/python3.6/site-packages/pymc3/model.py\u001b[0m in \u001b[0;36m__init__\u001b[0;34m(self, type, owner, index, name, data, distribution, total_size, model)\u001b[0m\n\u001b[1;32m   1286\u001b[0m \u001b[0;34m\u001b[0m\u001b[0m\n\u001b[1;32m   1287\u001b[0m             \u001b[0mself\u001b[0m\u001b[0;34m.\u001b[0m\u001b[0mmissing_values\u001b[0m \u001b[0;34m=\u001b[0m \u001b[0mdata\u001b[0m\u001b[0;34m.\u001b[0m\u001b[0mmissing_values\u001b[0m\u001b[0;34m\u001b[0m\u001b[0m\n\u001b[0;32m-> 1288\u001b[0;31m             \u001b[0mself\u001b[0m\u001b[0;34m.\u001b[0m\u001b[0mlogp_elemwiset\u001b[0m \u001b[0;34m=\u001b[0m \u001b[0mdistribution\u001b[0m\u001b[0;34m.\u001b[0m\u001b[0mlogp\u001b[0m\u001b[0;34m(\u001b[0m\u001b[0mdata\u001b[0m\u001b[0;34m)\u001b[0m\u001b[0;34m\u001b[0m\u001b[0m\n\u001b[0m\u001b[1;32m   1289\u001b[0m             \u001b[0;31m# The logp might need scaling in minibatches.\u001b[0m\u001b[0;34m\u001b[0m\u001b[0;34m\u001b[0m\u001b[0m\n\u001b[1;32m   1290\u001b[0m             \u001b[0;31m# This is done in `Factor`.\u001b[0m\u001b[0;34m\u001b[0m\u001b[0;34m\u001b[0m\u001b[0m\n",
      "\u001b[0;32m~/anaconda3/lib/python3.6/site-packages/pymc3/distributions/multivariate.py\u001b[0m in \u001b[0;36mlogp\u001b[0;34m(self, x)\u001b[0m\n\u001b[1;32m    557\u001b[0m \u001b[0;34m\u001b[0m\u001b[0m\n\u001b[1;32m    558\u001b[0m         return bound(\n\u001b[0;32m--> 559\u001b[0;31m             \u001b[0mfactln\u001b[0m\u001b[0;34m(\u001b[0m\u001b[0mn\u001b[0m\u001b[0;34m)\u001b[0m \u001b[0;34m+\u001b[0m \u001b[0mtt\u001b[0m\u001b[0;34m.\u001b[0m\u001b[0msum\u001b[0m\u001b[0;34m(\u001b[0m\u001b[0;34m-\u001b[0m\u001b[0mfactln\u001b[0m\u001b[0;34m(\u001b[0m\u001b[0mx\u001b[0m\u001b[0;34m)\u001b[0m \u001b[0;34m+\u001b[0m \u001b[0mx\u001b[0m \u001b[0;34m*\u001b[0m \u001b[0mtt\u001b[0m\u001b[0;34m.\u001b[0m\u001b[0mlog\u001b[0m\u001b[0;34m(\u001b[0m\u001b[0mp\u001b[0m\u001b[0;34m)\u001b[0m\u001b[0;34m,\u001b[0m \u001b[0maxis\u001b[0m\u001b[0;34m=\u001b[0m\u001b[0;34m-\u001b[0m\u001b[0;36m1\u001b[0m\u001b[0;34m,\u001b[0m \u001b[0mkeepdims\u001b[0m\u001b[0;34m=\u001b[0m\u001b[0;32mTrue\u001b[0m\u001b[0;34m)\u001b[0m\u001b[0;34m,\u001b[0m\u001b[0;34m\u001b[0m\u001b[0m\n\u001b[0m\u001b[1;32m    560\u001b[0m             \u001b[0mtt\u001b[0m\u001b[0;34m.\u001b[0m\u001b[0mall\u001b[0m\u001b[0;34m(\u001b[0m\u001b[0mx\u001b[0m \u001b[0;34m>=\u001b[0m \u001b[0;36m0\u001b[0m\u001b[0;34m)\u001b[0m\u001b[0;34m,\u001b[0m\u001b[0;34m\u001b[0m\u001b[0m\n\u001b[1;32m    561\u001b[0m             \u001b[0mtt\u001b[0m\u001b[0;34m.\u001b[0m\u001b[0mall\u001b[0m\u001b[0;34m(\u001b[0m\u001b[0mtt\u001b[0m\u001b[0;34m.\u001b[0m\u001b[0meq\u001b[0m\u001b[0;34m(\u001b[0m\u001b[0mtt\u001b[0m\u001b[0;34m.\u001b[0m\u001b[0msum\u001b[0m\u001b[0;34m(\u001b[0m\u001b[0mx\u001b[0m\u001b[0;34m,\u001b[0m \u001b[0maxis\u001b[0m\u001b[0;34m=\u001b[0m\u001b[0;34m-\u001b[0m\u001b[0;36m1\u001b[0m\u001b[0;34m,\u001b[0m \u001b[0mkeepdims\u001b[0m\u001b[0;34m=\u001b[0m\u001b[0;32mTrue\u001b[0m\u001b[0;34m)\u001b[0m\u001b[0;34m,\u001b[0m \u001b[0mn\u001b[0m\u001b[0;34m)\u001b[0m\u001b[0;34m)\u001b[0m\u001b[0;34m,\u001b[0m\u001b[0;34m\u001b[0m\u001b[0m\n",
      "\u001b[0;32m~/anaconda3/lib/python3.6/site-packages/theano/tensor/var.py\u001b[0m in \u001b[0;36m__mul__\u001b[0;34m(self, other)\u001b[0m\n\u001b[1;32m    153\u001b[0m         \u001b[0;31m# and the return value in that case\u001b[0m\u001b[0;34m\u001b[0m\u001b[0;34m\u001b[0m\u001b[0m\n\u001b[1;32m    154\u001b[0m         \u001b[0;32mtry\u001b[0m\u001b[0;34m:\u001b[0m\u001b[0;34m\u001b[0m\u001b[0m\n\u001b[0;32m--> 155\u001b[0;31m             \u001b[0;32mreturn\u001b[0m \u001b[0mtheano\u001b[0m\u001b[0;34m.\u001b[0m\u001b[0mtensor\u001b[0m\u001b[0;34m.\u001b[0m\u001b[0mmul\u001b[0m\u001b[0;34m(\u001b[0m\u001b[0mself\u001b[0m\u001b[0;34m,\u001b[0m \u001b[0mother\u001b[0m\u001b[0;34m)\u001b[0m\u001b[0;34m\u001b[0m\u001b[0m\n\u001b[0m\u001b[1;32m    156\u001b[0m         \u001b[0;32mexcept\u001b[0m \u001b[0;34m(\u001b[0m\u001b[0mNotImplementedError\u001b[0m\u001b[0;34m,\u001b[0m \u001b[0mAsTensorError\u001b[0m\u001b[0;34m)\u001b[0m\u001b[0;34m:\u001b[0m\u001b[0;34m\u001b[0m\u001b[0m\n\u001b[1;32m    157\u001b[0m             \u001b[0;32mreturn\u001b[0m \u001b[0mNotImplemented\u001b[0m\u001b[0;34m\u001b[0m\u001b[0m\n",
      "\u001b[0;32m~/anaconda3/lib/python3.6/site-packages/theano/gof/op.py\u001b[0m in \u001b[0;36m__call__\u001b[0;34m(self, *inputs, **kwargs)\u001b[0m\n\u001b[1;32m    672\u001b[0m                 \u001b[0mthunk\u001b[0m\u001b[0;34m.\u001b[0m\u001b[0moutputs\u001b[0m \u001b[0;34m=\u001b[0m \u001b[0;34m[\u001b[0m\u001b[0mstorage_map\u001b[0m\u001b[0;34m[\u001b[0m\u001b[0mv\u001b[0m\u001b[0;34m]\u001b[0m \u001b[0;32mfor\u001b[0m \u001b[0mv\u001b[0m \u001b[0;32min\u001b[0m \u001b[0mnode\u001b[0m\u001b[0;34m.\u001b[0m\u001b[0moutputs\u001b[0m\u001b[0;34m]\u001b[0m\u001b[0;34m\u001b[0m\u001b[0m\n\u001b[1;32m    673\u001b[0m \u001b[0;34m\u001b[0m\u001b[0m\n\u001b[0;32m--> 674\u001b[0;31m                 \u001b[0mrequired\u001b[0m \u001b[0;34m=\u001b[0m \u001b[0mthunk\u001b[0m\u001b[0;34m(\u001b[0m\u001b[0;34m)\u001b[0m\u001b[0;34m\u001b[0m\u001b[0m\n\u001b[0m\u001b[1;32m    675\u001b[0m                 \u001b[0;32massert\u001b[0m \u001b[0;32mnot\u001b[0m \u001b[0mrequired\u001b[0m  \u001b[0;31m# We provided all inputs\u001b[0m\u001b[0;34m\u001b[0m\u001b[0m\n\u001b[1;32m    676\u001b[0m \u001b[0;34m\u001b[0m\u001b[0m\n",
      "\u001b[0;32m~/anaconda3/lib/python3.6/site-packages/theano/gof/op.py\u001b[0m in \u001b[0;36mrval\u001b[0;34m()\u001b[0m\n\u001b[1;32m    860\u001b[0m \u001b[0;34m\u001b[0m\u001b[0m\n\u001b[1;32m    861\u001b[0m         \u001b[0;32mdef\u001b[0m \u001b[0mrval\u001b[0m\u001b[0;34m(\u001b[0m\u001b[0;34m)\u001b[0m\u001b[0;34m:\u001b[0m\u001b[0;34m\u001b[0m\u001b[0m\n\u001b[0;32m--> 862\u001b[0;31m             \u001b[0mthunk\u001b[0m\u001b[0;34m(\u001b[0m\u001b[0;34m)\u001b[0m\u001b[0;34m\u001b[0m\u001b[0m\n\u001b[0m\u001b[1;32m    863\u001b[0m             \u001b[0;32mfor\u001b[0m \u001b[0mo\u001b[0m \u001b[0;32min\u001b[0m \u001b[0mnode\u001b[0m\u001b[0;34m.\u001b[0m\u001b[0moutputs\u001b[0m\u001b[0;34m:\u001b[0m\u001b[0;34m\u001b[0m\u001b[0m\n\u001b[1;32m    864\u001b[0m                 \u001b[0mcompute_map\u001b[0m\u001b[0;34m[\u001b[0m\u001b[0mo\u001b[0m\u001b[0;34m]\u001b[0m\u001b[0;34m[\u001b[0m\u001b[0;36m0\u001b[0m\u001b[0;34m]\u001b[0m \u001b[0;34m=\u001b[0m \u001b[0;32mTrue\u001b[0m\u001b[0;34m\u001b[0m\u001b[0m\n",
      "\u001b[0;32m~/anaconda3/lib/python3.6/site-packages/theano/gof/cc.py\u001b[0m in \u001b[0;36m__call__\u001b[0;34m(self)\u001b[0m\n\u001b[1;32m   1733\u001b[0m                 \u001b[0mprint\u001b[0m\u001b[0;34m(\u001b[0m\u001b[0mself\u001b[0m\u001b[0;34m.\u001b[0m\u001b[0merror_storage\u001b[0m\u001b[0;34m,\u001b[0m \u001b[0mfile\u001b[0m\u001b[0;34m=\u001b[0m\u001b[0msys\u001b[0m\u001b[0;34m.\u001b[0m\u001b[0mstderr\u001b[0m\u001b[0;34m)\u001b[0m\u001b[0;34m\u001b[0m\u001b[0m\n\u001b[1;32m   1734\u001b[0m                 \u001b[0;32mraise\u001b[0m\u001b[0;34m\u001b[0m\u001b[0m\n\u001b[0;32m-> 1735\u001b[0;31m             \u001b[0mreraise\u001b[0m\u001b[0;34m(\u001b[0m\u001b[0mexc_type\u001b[0m\u001b[0;34m,\u001b[0m \u001b[0mexc_value\u001b[0m\u001b[0;34m,\u001b[0m \u001b[0mexc_trace\u001b[0m\u001b[0;34m)\u001b[0m\u001b[0;34m\u001b[0m\u001b[0m\n\u001b[0m\u001b[1;32m   1736\u001b[0m \u001b[0;34m\u001b[0m\u001b[0m\n\u001b[1;32m   1737\u001b[0m \u001b[0;34m\u001b[0m\u001b[0m\n",
      "\u001b[0;32m~/anaconda3/lib/python3.6/site-packages/six.py\u001b[0m in \u001b[0;36mreraise\u001b[0;34m(tp, value, tb)\u001b[0m\n\u001b[1;32m    684\u001b[0m         \u001b[0;32mif\u001b[0m \u001b[0mvalue\u001b[0m\u001b[0;34m.\u001b[0m\u001b[0m__traceback__\u001b[0m \u001b[0;32mis\u001b[0m \u001b[0;32mnot\u001b[0m \u001b[0mtb\u001b[0m\u001b[0;34m:\u001b[0m\u001b[0;34m\u001b[0m\u001b[0m\n\u001b[1;32m    685\u001b[0m             \u001b[0;32mraise\u001b[0m \u001b[0mvalue\u001b[0m\u001b[0;34m.\u001b[0m\u001b[0mwith_traceback\u001b[0m\u001b[0;34m(\u001b[0m\u001b[0mtb\u001b[0m\u001b[0;34m)\u001b[0m\u001b[0;34m\u001b[0m\u001b[0m\n\u001b[0;32m--> 686\u001b[0;31m         \u001b[0;32mraise\u001b[0m \u001b[0mvalue\u001b[0m\u001b[0;34m\u001b[0m\u001b[0m\n\u001b[0m\u001b[1;32m    687\u001b[0m \u001b[0;34m\u001b[0m\u001b[0m\n\u001b[1;32m    688\u001b[0m \u001b[0;32melse\u001b[0m\u001b[0;34m:\u001b[0m\u001b[0;34m\u001b[0m\u001b[0m\n",
      "\u001b[0;31mValueError\u001b[0m: Input dimension mis-match. (input[0].shape[0] = 12, input[1].shape[0] = 6)"
     ]
    }
   ],
   "source": [
    "with pm.Model() as sum_dice_rolls_model:\n",
    "    x = pm.Multinomial(\n",
    "        'x', \n",
    "        n=1, \n",
    "        p=np.ones(6)/6.0, # should this be a probability? Yes, cuz credible intervals will be tight?\n",
    "        shape=6,\n",
    "        observed=table_1_point_6['X'],\n",
    "    )\n",
    "    \n",
    "#     z = pm.Multinomial(\n",
    "#         'z', \n",
    "#         n=1, \n",
    "#         p=np.ones(6) / 6.0, # should this be a probability? Yes, cuz credible intervals will be tight?\n",
    "#         #observed=table_1_point_6['Z']\n",
    "#     )\n",
    "    \n",
    "#     y = pm.Deterministic('y', x+z, observed=table_1_point_6['Y'])\n",
    "    \n",
    "    sum_dice_rolls_traces = pm.sample(2000)\n",
    "    "
   ]
  },
  {
   "cell_type": "code",
   "execution_count": 93,
   "metadata": {},
   "outputs": [
    {
     "data": {
      "text/plain": [
       "array([[<matplotlib.axes._subplots.AxesSubplot object at 0x1c145d0be0>,\n",
       "        <matplotlib.axes._subplots.AxesSubplot object at 0x1c137b6c88>]], dtype=object)"
      ]
     },
     "execution_count": 93,
     "metadata": {},
     "output_type": "execute_result"
    },
    {
     "data": {
      "image/png": "[encoded data removed]",
      "text/plain": [
       "<matplotlib.figure.Figure at 0x1c145d0588>"
      ]
     },
     "metadata": {},
     "output_type": "display_data"
    }
   ],
   "source": [
    "pm.traceplot(sum_dice_rolls_traces)"
   ]
  },
  {
   "cell_type": "code",
   "execution_count": 94,
   "metadata": {},
   "outputs": [
    {
     "data": {
      "text/plain": [
       "array([[0, 0, 0, 0, 1, 0],\n",
       "       [0, 0, 0, 0, 1, 0],\n",
       "       [0, 0, 0, 0, 1, 0],\n",
       "       ..., \n",
       "       [0, 0, 1, 0, 0, 0],\n",
       "       [0, 0, 1, 0, 0, 0],\n",
       "       [0, 0, 1, 0, 0, 0]])"
      ]
     },
     "execution_count": 94,
     "metadata": {},
     "output_type": "execute_result"
    }
   ],
   "source": [
    "sum_dice_rolls_traces['x']"
   ]
  },
  {
   "cell_type": "code",
   "execution_count": null,
   "metadata": {},
   "outputs": [],
   "source": []
  }
 ],
 "metadata": {
  "kernelspec": {
   "display_name": "Python 3",
   "language": "python",
   "name": "python3"
  },
  "language_info": {
   "codemirror_mode": {
    "name": "ipython",
    "version": 3
   },
   "file_extension": ".py",
   "mimetype": "text/x-python",
   "name": "python",
   "nbconvert_exporter": "python",
   "pygments_lexer": "ipython3",
   "version": "3.6.0"
  },
  "toc": {
   "colors": {
    "hover_highlight": "#DAA520",
    "navigate_num": "#000000",
    "navigate_text": "#333333",
    "running_highlight": "#FF0000",
    "selected_highlight": "#FFD700",
    "sidebar_border": "#EEEEEE",
    "wrapper_background": "#FFFFFF"
   },
   "moveMenuLeft": true,
   "nav_menu": {
    "height": "161px",
    "width": "253px"
   },
   "navigate_menu": true,
   "number_sections": false,
   "sideBar": true,
   "threshold": "5",
   "toc_cell": true,
   "toc_position": {
    "height": "743px",
    "left": "0px",
    "right": "752.8px",
    "top": "44.35px",
    "width": "158px"
   },
   "toc_section_display": "block",
   "toc_window_display": true,
   "widenNotebook": false
  }
 },
 "nbformat": 4,
 "nbformat_minor": 2
}
